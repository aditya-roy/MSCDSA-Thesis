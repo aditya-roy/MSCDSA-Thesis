{
  "nbformat": 4,
  "nbformat_minor": 0,
  "metadata": {
    "colab": {
      "provenance": [],
      "collapsed_sections": [],
      "machine_shape": "hm"
    },
    "kernelspec": {
      "name": "python3",
      "display_name": "Python 3"
    },
    "language_info": {
      "name": "python"
    },
    "accelerator": "GPU",
    "gpuClass": "standard"
  },
  "cells": [
    {
      "cell_type": "code",
      "execution_count": null,
      "metadata": {
        "colab": {
          "base_uri": "https://localhost:8080/"
        },
        "id": "1kRkv2ZKuenm",
        "outputId": "fbf55d66-0b15-4d73-a6eb-638aa296b8be"
      },
      "outputs": [
        {
          "output_type": "stream",
          "name": "stdout",
          "text": [
            "Mounted at /content/gdrive\n"
          ]
        }
      ],
      "source": [
        "from google.colab import drive\n",
        "drive.mount('/content/gdrive')"
      ]
    },
    {
      "cell_type": "code",
      "source": [
        "! pip install keras-tuner"
      ],
      "metadata": {
        "id": "2AawJWhiugjI"
      },
      "execution_count": null,
      "outputs": []
    },
    {
      "cell_type": "code",
      "source": [
        "from sklearn.model_selection import train_test_split\n",
        "from keras import optimizers\n",
        "from keras.models import Sequential, Model\n",
        "from keras.layers import Dense, LSTM, Dropout\n",
        "from sklearn.metrics import mean_squared_error\n",
        "from keras.callbacks import EarlyStopping\n",
        "import matplotlib.pyplot as plt\n",
        "import numpy as np\n",
        "import pandas as pd\n",
        "import glob\n",
        "from sklearn.preprocessing import MinMaxScaler\n",
        "import matplotlib.cbook as cbook\n",
        "import tensorflow as tf\n",
        "#import kerastuner as kt\n",
        "from tensorflow.keras.losses import MeanAbsoluteError\n",
        "import keras\n",
        "from sklearn.metrics import mean_absolute_error as mae\n",
        "from sklearn.metrics import mean_absolute_percentage_error\n",
        "from sklearn.experimental import enable_iterative_imputer\n",
        "from sklearn.impute import IterativeImputer"
      ],
      "metadata": {
        "id": "RqKECRXwugg3"
      },
      "execution_count": null,
      "outputs": []
    },
    {
      "cell_type": "code",
      "source": [
        "path = r'/content/gdrive/MyDrive/transformed' # use your path\n",
        "bus_all_files = glob.glob(path + \"/bus/*.csv\")\n",
        "car_all_files = glob.glob(path + \"/car/*.csv\")\n",
        "pedestrian_all_files = glob.glob(path + \"/pedestrian/*.csv\")\n",
        "static_all_files = glob.glob(path + \"/static/*.csv\")\n",
        "train_all_files = glob.glob(path + \"/train/*.csv\")  "
      ],
      "metadata": {
        "id": "fcHtdWK2ugem"
      },
      "execution_count": null,
      "outputs": []
    },
    {
      "cell_type": "code",
      "source": [
        "all_files_train=[]\n",
        "all_files_test=[]"
      ],
      "metadata": {
        "id": "Tcq86QDYLtBG"
      },
      "execution_count": null,
      "outputs": []
    },
    {
      "cell_type": "code",
      "source": [
        "bus_all_files.sort()\n",
        "all_files_train = all_files_train + bus_all_files[:-5]\n",
        "all_files_test = all_files_test + bus_all_files[-5:]\n",
        "\n",
        "car_all_files.sort()\n",
        "all_files_train = all_files_train + car_all_files[:-5]\n",
        "all_files_test = all_files_test + car_all_files[-5:]\n",
        "\n",
        "pedestrian_all_files.sort()\n",
        "all_files_train = all_files_train + pedestrian_all_files[:-5]\n",
        "all_files_test = all_files_test + pedestrian_all_files[-5:]\n",
        "\n",
        "static_all_files.sort()\n",
        "all_files_train = all_files_train + static_all_files[:-5]\n",
        "all_files_test = all_files_test + static_all_files[-5:]\n",
        "\n",
        "train_all_files.sort()\n",
        "all_files_train = all_files_train + train_all_files[:-5]\n",
        "all_files_test = all_files_test + train_all_files[-5:]"
      ],
      "metadata": {
        "id": "tmUwwYWMmOtL"
      },
      "execution_count": null,
      "outputs": []
    },
    {
      "cell_type": "code",
      "source": [
        "# Train Dataset\n",
        "li_train = []\n",
        "for filename in all_files_train:\n",
        "    df = pd.read_csv(filename, index_col=None, header=0)\n",
        "    li_train.append(df)\n",
        "frame_train = pd.concat(li_train, axis=0, ignore_index=True)\n",
        "frame_train.head()"
      ],
      "metadata": {
        "colab": {
          "base_uri": "https://localhost:8080/",
          "height": 299
        },
        "id": "bMHrausYugcH",
        "outputId": "3b25efb2-b242-4400-f7f8-d64da9bf3b19"
      },
      "execution_count": null,
      "outputs": [
        {
          "output_type": "execute_result",
          "data": {
            "text/plain": [
              "  CQI-0 CQI-1 CQI-2 CQI-3 CQI-4  DL_bitrate-0  DL_bitrate-1  DL_bitrate-2  \\\n",
              "0     7     7    10     7     7             0             0           310   \n",
              "1     7     7     7    10     7             0             0             0   \n",
              "2     7     7     7     7    10             0             0             0   \n",
              "3     9     7     7     7     7          1757             0             0   \n",
              "4     9     9     7     7     7          4216          1757             0   \n",
              "\n",
              "   DL_bitrate-3  DL_bitrate-4  ... SNR-1 SNR-2 SNR-3 SNR-4 UL_bitrate-0  \\\n",
              "0             3             3  ...   7.0   7.0  10.0  10.0            0   \n",
              "1           310             3  ...   8.0   7.0   7.0  10.0            0   \n",
              "2             0           310  ...   8.0   8.0   7.0   7.0            0   \n",
              "3             0             0  ...  10.0   8.0   8.0   7.0           68   \n",
              "4             0             0  ...  10.0  10.0   8.0   8.0          151   \n",
              "\n",
              "  UL_bitrate-1 UL_bitrate-2 UL_bitrate-3 UL_bitrate-4 DL_bitrate  \n",
              "0            0           14            7            7       1769  \n",
              "1            0            0           14            7       2272  \n",
              "2            0            0            0           14       2549  \n",
              "3            0            0            0            0       2674  \n",
              "4           68            0            0            0       2393  \n",
              "\n",
              "[5 rows x 46 columns]"
            ],
            "text/html": [
              "\n",
              "  <div id=\"df-70f33fb7-69ca-4bda-95df-c59733c88032\">\n",
              "    <div class=\"colab-df-container\">\n",
              "      <div>\n",
              "<style scoped>\n",
              "    .dataframe tbody tr th:only-of-type {\n",
              "        vertical-align: middle;\n",
              "    }\n",
              "\n",
              "    .dataframe tbody tr th {\n",
              "        vertical-align: top;\n",
              "    }\n",
              "\n",
              "    .dataframe thead th {\n",
              "        text-align: right;\n",
              "    }\n",
              "</style>\n",
              "<table border=\"1\" class=\"dataframe\">\n",
              "  <thead>\n",
              "    <tr style=\"text-align: right;\">\n",
              "      <th></th>\n",
              "      <th>CQI-0</th>\n",
              "      <th>CQI-1</th>\n",
              "      <th>CQI-2</th>\n",
              "      <th>CQI-3</th>\n",
              "      <th>CQI-4</th>\n",
              "      <th>DL_bitrate-0</th>\n",
              "      <th>DL_bitrate-1</th>\n",
              "      <th>DL_bitrate-2</th>\n",
              "      <th>DL_bitrate-3</th>\n",
              "      <th>DL_bitrate-4</th>\n",
              "      <th>...</th>\n",
              "      <th>SNR-1</th>\n",
              "      <th>SNR-2</th>\n",
              "      <th>SNR-3</th>\n",
              "      <th>SNR-4</th>\n",
              "      <th>UL_bitrate-0</th>\n",
              "      <th>UL_bitrate-1</th>\n",
              "      <th>UL_bitrate-2</th>\n",
              "      <th>UL_bitrate-3</th>\n",
              "      <th>UL_bitrate-4</th>\n",
              "      <th>DL_bitrate</th>\n",
              "    </tr>\n",
              "  </thead>\n",
              "  <tbody>\n",
              "    <tr>\n",
              "      <th>0</th>\n",
              "      <td>7</td>\n",
              "      <td>7</td>\n",
              "      <td>10</td>\n",
              "      <td>7</td>\n",
              "      <td>7</td>\n",
              "      <td>0</td>\n",
              "      <td>0</td>\n",
              "      <td>310</td>\n",
              "      <td>3</td>\n",
              "      <td>3</td>\n",
              "      <td>...</td>\n",
              "      <td>7.0</td>\n",
              "      <td>7.0</td>\n",
              "      <td>10.0</td>\n",
              "      <td>10.0</td>\n",
              "      <td>0</td>\n",
              "      <td>0</td>\n",
              "      <td>14</td>\n",
              "      <td>7</td>\n",
              "      <td>7</td>\n",
              "      <td>1769</td>\n",
              "    </tr>\n",
              "    <tr>\n",
              "      <th>1</th>\n",
              "      <td>7</td>\n",
              "      <td>7</td>\n",
              "      <td>7</td>\n",
              "      <td>10</td>\n",
              "      <td>7</td>\n",
              "      <td>0</td>\n",
              "      <td>0</td>\n",
              "      <td>0</td>\n",
              "      <td>310</td>\n",
              "      <td>3</td>\n",
              "      <td>...</td>\n",
              "      <td>8.0</td>\n",
              "      <td>7.0</td>\n",
              "      <td>7.0</td>\n",
              "      <td>10.0</td>\n",
              "      <td>0</td>\n",
              "      <td>0</td>\n",
              "      <td>0</td>\n",
              "      <td>14</td>\n",
              "      <td>7</td>\n",
              "      <td>2272</td>\n",
              "    </tr>\n",
              "    <tr>\n",
              "      <th>2</th>\n",
              "      <td>7</td>\n",
              "      <td>7</td>\n",
              "      <td>7</td>\n",
              "      <td>7</td>\n",
              "      <td>10</td>\n",
              "      <td>0</td>\n",
              "      <td>0</td>\n",
              "      <td>0</td>\n",
              "      <td>0</td>\n",
              "      <td>310</td>\n",
              "      <td>...</td>\n",
              "      <td>8.0</td>\n",
              "      <td>8.0</td>\n",
              "      <td>7.0</td>\n",
              "      <td>7.0</td>\n",
              "      <td>0</td>\n",
              "      <td>0</td>\n",
              "      <td>0</td>\n",
              "      <td>0</td>\n",
              "      <td>14</td>\n",
              "      <td>2549</td>\n",
              "    </tr>\n",
              "    <tr>\n",
              "      <th>3</th>\n",
              "      <td>9</td>\n",
              "      <td>7</td>\n",
              "      <td>7</td>\n",
              "      <td>7</td>\n",
              "      <td>7</td>\n",
              "      <td>1757</td>\n",
              "      <td>0</td>\n",
              "      <td>0</td>\n",
              "      <td>0</td>\n",
              "      <td>0</td>\n",
              "      <td>...</td>\n",
              "      <td>10.0</td>\n",
              "      <td>8.0</td>\n",
              "      <td>8.0</td>\n",
              "      <td>7.0</td>\n",
              "      <td>68</td>\n",
              "      <td>0</td>\n",
              "      <td>0</td>\n",
              "      <td>0</td>\n",
              "      <td>0</td>\n",
              "      <td>2674</td>\n",
              "    </tr>\n",
              "    <tr>\n",
              "      <th>4</th>\n",
              "      <td>9</td>\n",
              "      <td>9</td>\n",
              "      <td>7</td>\n",
              "      <td>7</td>\n",
              "      <td>7</td>\n",
              "      <td>4216</td>\n",
              "      <td>1757</td>\n",
              "      <td>0</td>\n",
              "      <td>0</td>\n",
              "      <td>0</td>\n",
              "      <td>...</td>\n",
              "      <td>10.0</td>\n",
              "      <td>10.0</td>\n",
              "      <td>8.0</td>\n",
              "      <td>8.0</td>\n",
              "      <td>151</td>\n",
              "      <td>68</td>\n",
              "      <td>0</td>\n",
              "      <td>0</td>\n",
              "      <td>0</td>\n",
              "      <td>2393</td>\n",
              "    </tr>\n",
              "  </tbody>\n",
              "</table>\n",
              "<p>5 rows × 46 columns</p>\n",
              "</div>\n",
              "      <button class=\"colab-df-convert\" onclick=\"convertToInteractive('df-70f33fb7-69ca-4bda-95df-c59733c88032')\"\n",
              "              title=\"Convert this dataframe to an interactive table.\"\n",
              "              style=\"display:none;\">\n",
              "        \n",
              "  <svg xmlns=\"http://www.w3.org/2000/svg\" height=\"24px\"viewBox=\"0 0 24 24\"\n",
              "       width=\"24px\">\n",
              "    <path d=\"M0 0h24v24H0V0z\" fill=\"none\"/>\n",
              "    <path d=\"M18.56 5.44l.94 2.06.94-2.06 2.06-.94-2.06-.94-.94-2.06-.94 2.06-2.06.94zm-11 1L8.5 8.5l.94-2.06 2.06-.94-2.06-.94L8.5 2.5l-.94 2.06-2.06.94zm10 10l.94 2.06.94-2.06 2.06-.94-2.06-.94-.94-2.06-.94 2.06-2.06.94z\"/><path d=\"M17.41 7.96l-1.37-1.37c-.4-.4-.92-.59-1.43-.59-.52 0-1.04.2-1.43.59L10.3 9.45l-7.72 7.72c-.78.78-.78 2.05 0 2.83L4 21.41c.39.39.9.59 1.41.59.51 0 1.02-.2 1.41-.59l7.78-7.78 2.81-2.81c.8-.78.8-2.07 0-2.86zM5.41 20L4 18.59l7.72-7.72 1.47 1.35L5.41 20z\"/>\n",
              "  </svg>\n",
              "      </button>\n",
              "      \n",
              "  <style>\n",
              "    .colab-df-container {\n",
              "      display:flex;\n",
              "      flex-wrap:wrap;\n",
              "      gap: 12px;\n",
              "    }\n",
              "\n",
              "    .colab-df-convert {\n",
              "      background-color: #E8F0FE;\n",
              "      border: none;\n",
              "      border-radius: 50%;\n",
              "      cursor: pointer;\n",
              "      display: none;\n",
              "      fill: #1967D2;\n",
              "      height: 32px;\n",
              "      padding: 0 0 0 0;\n",
              "      width: 32px;\n",
              "    }\n",
              "\n",
              "    .colab-df-convert:hover {\n",
              "      background-color: #E2EBFA;\n",
              "      box-shadow: 0px 1px 2px rgba(60, 64, 67, 0.3), 0px 1px 3px 1px rgba(60, 64, 67, 0.15);\n",
              "      fill: #174EA6;\n",
              "    }\n",
              "\n",
              "    [theme=dark] .colab-df-convert {\n",
              "      background-color: #3B4455;\n",
              "      fill: #D2E3FC;\n",
              "    }\n",
              "\n",
              "    [theme=dark] .colab-df-convert:hover {\n",
              "      background-color: #434B5C;\n",
              "      box-shadow: 0px 1px 3px 1px rgba(0, 0, 0, 0.15);\n",
              "      filter: drop-shadow(0px 1px 2px rgba(0, 0, 0, 0.3));\n",
              "      fill: #FFFFFF;\n",
              "    }\n",
              "  </style>\n",
              "\n",
              "      <script>\n",
              "        const buttonEl =\n",
              "          document.querySelector('#df-70f33fb7-69ca-4bda-95df-c59733c88032 button.colab-df-convert');\n",
              "        buttonEl.style.display =\n",
              "          google.colab.kernel.accessAllowed ? 'block' : 'none';\n",
              "\n",
              "        async function convertToInteractive(key) {\n",
              "          const element = document.querySelector('#df-70f33fb7-69ca-4bda-95df-c59733c88032');\n",
              "          const dataTable =\n",
              "            await google.colab.kernel.invokeFunction('convertToInteractive',\n",
              "                                                     [key], {});\n",
              "          if (!dataTable) return;\n",
              "\n",
              "          const docLinkHtml = 'Like what you see? Visit the ' +\n",
              "            '<a target=\"_blank\" href=https://colab.research.google.com/notebooks/data_table.ipynb>data table notebook</a>'\n",
              "            + ' to learn more about interactive tables.';\n",
              "          element.innerHTML = '';\n",
              "          dataTable['output_type'] = 'display_data';\n",
              "          await google.colab.output.renderOutput(dataTable, element);\n",
              "          const docLink = document.createElement('div');\n",
              "          docLink.innerHTML = docLinkHtml;\n",
              "          element.appendChild(docLink);\n",
              "        }\n",
              "      </script>\n",
              "    </div>\n",
              "  </div>\n",
              "  "
            ]
          },
          "metadata": {},
          "execution_count": 8
        }
      ]
    },
    {
      "cell_type": "code",
      "source": [
        "frame_train.shape"
      ],
      "metadata": {
        "colab": {
          "base_uri": "https://localhost:8080/"
        },
        "id": "0hluaaI4ugZn",
        "outputId": "c8f6738d-1185-4974-f155-91f125daccad"
      },
      "execution_count": null,
      "outputs": [
        {
          "output_type": "execute_result",
          "data": {
            "text/plain": [
              "(10639, 46)"
            ]
          },
          "metadata": {},
          "execution_count": 8
        }
      ]
    },
    {
      "cell_type": "code",
      "source": [
        "# Test Dataset\n",
        "li_test = []\n",
        "for filename in all_files_test:\n",
        "    df = pd.read_csv(filename, index_col=None, header=0)\n",
        "    li_test.append(df)\n",
        "frame_test = pd.concat(li_test, axis=0, ignore_index=True)\n",
        "frame_test.head()"
      ],
      "metadata": {
        "colab": {
          "base_uri": "https://localhost:8080/",
          "height": 299
        },
        "id": "gCz8qZcTmbYZ",
        "outputId": "66f86751-5235-44f7-a53c-3fa5cff54388"
      },
      "execution_count": null,
      "outputs": [
        {
          "output_type": "execute_result",
          "data": {
            "text/plain": [
              "  CQI-0 CQI-1 CQI-2 CQI-3 CQI-4  DL_bitrate-0  DL_bitrate-1  DL_bitrate-2  \\\n",
              "0     8     8     8     8     8          3657          5413          7795   \n",
              "1     8     8     8     8     8          4719          3657          5413   \n",
              "2     6     8     8     8     8          7280          4719          3657   \n",
              "3     7     6     8     8     8          3813          7280          4719   \n",
              "4     7     7     6     8     8          4742          3813          7280   \n",
              "\n",
              "   DL_bitrate-3  DL_bitrate-4  ... SNR-1 SNR-2 SNR-3 SNR-4 UL_bitrate-0  \\\n",
              "0          7795          6777  ...   6.0   6.0   6.0   7.0          162   \n",
              "1          7795          7795  ...   4.0   6.0   6.0   6.0          155   \n",
              "2          5413          7795  ...   4.0   4.0   6.0   6.0          144   \n",
              "3          3657          5413  ...   3.0   4.0   4.0   6.0           70   \n",
              "4          4719          3657  ...   3.0   3.0   4.0   4.0           86   \n",
              "\n",
              "  UL_bitrate-1 UL_bitrate-2 UL_bitrate-3 UL_bitrate-4 DL_bitrate  \n",
              "0          100          143          143          128       4656  \n",
              "1          162          100          143          143       5294  \n",
              "2          155          162          100          143       6627  \n",
              "3          144          155          162          100       9069  \n",
              "4           70          144          155          162      10859  \n",
              "\n",
              "[5 rows x 46 columns]"
            ],
            "text/html": [
              "\n",
              "  <div id=\"df-61378471-cc73-4b47-af6a-fa6ddc7c7954\">\n",
              "    <div class=\"colab-df-container\">\n",
              "      <div>\n",
              "<style scoped>\n",
              "    .dataframe tbody tr th:only-of-type {\n",
              "        vertical-align: middle;\n",
              "    }\n",
              "\n",
              "    .dataframe tbody tr th {\n",
              "        vertical-align: top;\n",
              "    }\n",
              "\n",
              "    .dataframe thead th {\n",
              "        text-align: right;\n",
              "    }\n",
              "</style>\n",
              "<table border=\"1\" class=\"dataframe\">\n",
              "  <thead>\n",
              "    <tr style=\"text-align: right;\">\n",
              "      <th></th>\n",
              "      <th>CQI-0</th>\n",
              "      <th>CQI-1</th>\n",
              "      <th>CQI-2</th>\n",
              "      <th>CQI-3</th>\n",
              "      <th>CQI-4</th>\n",
              "      <th>DL_bitrate-0</th>\n",
              "      <th>DL_bitrate-1</th>\n",
              "      <th>DL_bitrate-2</th>\n",
              "      <th>DL_bitrate-3</th>\n",
              "      <th>DL_bitrate-4</th>\n",
              "      <th>...</th>\n",
              "      <th>SNR-1</th>\n",
              "      <th>SNR-2</th>\n",
              "      <th>SNR-3</th>\n",
              "      <th>SNR-4</th>\n",
              "      <th>UL_bitrate-0</th>\n",
              "      <th>UL_bitrate-1</th>\n",
              "      <th>UL_bitrate-2</th>\n",
              "      <th>UL_bitrate-3</th>\n",
              "      <th>UL_bitrate-4</th>\n",
              "      <th>DL_bitrate</th>\n",
              "    </tr>\n",
              "  </thead>\n",
              "  <tbody>\n",
              "    <tr>\n",
              "      <th>0</th>\n",
              "      <td>8</td>\n",
              "      <td>8</td>\n",
              "      <td>8</td>\n",
              "      <td>8</td>\n",
              "      <td>8</td>\n",
              "      <td>3657</td>\n",
              "      <td>5413</td>\n",
              "      <td>7795</td>\n",
              "      <td>7795</td>\n",
              "      <td>6777</td>\n",
              "      <td>...</td>\n",
              "      <td>6.0</td>\n",
              "      <td>6.0</td>\n",
              "      <td>6.0</td>\n",
              "      <td>7.0</td>\n",
              "      <td>162</td>\n",
              "      <td>100</td>\n",
              "      <td>143</td>\n",
              "      <td>143</td>\n",
              "      <td>128</td>\n",
              "      <td>4656</td>\n",
              "    </tr>\n",
              "    <tr>\n",
              "      <th>1</th>\n",
              "      <td>8</td>\n",
              "      <td>8</td>\n",
              "      <td>8</td>\n",
              "      <td>8</td>\n",
              "      <td>8</td>\n",
              "      <td>4719</td>\n",
              "      <td>3657</td>\n",
              "      <td>5413</td>\n",
              "      <td>7795</td>\n",
              "      <td>7795</td>\n",
              "      <td>...</td>\n",
              "      <td>4.0</td>\n",
              "      <td>6.0</td>\n",
              "      <td>6.0</td>\n",
              "      <td>6.0</td>\n",
              "      <td>155</td>\n",
              "      <td>162</td>\n",
              "      <td>100</td>\n",
              "      <td>143</td>\n",
              "      <td>143</td>\n",
              "      <td>5294</td>\n",
              "    </tr>\n",
              "    <tr>\n",
              "      <th>2</th>\n",
              "      <td>6</td>\n",
              "      <td>8</td>\n",
              "      <td>8</td>\n",
              "      <td>8</td>\n",
              "      <td>8</td>\n",
              "      <td>7280</td>\n",
              "      <td>4719</td>\n",
              "      <td>3657</td>\n",
              "      <td>5413</td>\n",
              "      <td>7795</td>\n",
              "      <td>...</td>\n",
              "      <td>4.0</td>\n",
              "      <td>4.0</td>\n",
              "      <td>6.0</td>\n",
              "      <td>6.0</td>\n",
              "      <td>144</td>\n",
              "      <td>155</td>\n",
              "      <td>162</td>\n",
              "      <td>100</td>\n",
              "      <td>143</td>\n",
              "      <td>6627</td>\n",
              "    </tr>\n",
              "    <tr>\n",
              "      <th>3</th>\n",
              "      <td>7</td>\n",
              "      <td>6</td>\n",
              "      <td>8</td>\n",
              "      <td>8</td>\n",
              "      <td>8</td>\n",
              "      <td>3813</td>\n",
              "      <td>7280</td>\n",
              "      <td>4719</td>\n",
              "      <td>3657</td>\n",
              "      <td>5413</td>\n",
              "      <td>...</td>\n",
              "      <td>3.0</td>\n",
              "      <td>4.0</td>\n",
              "      <td>4.0</td>\n",
              "      <td>6.0</td>\n",
              "      <td>70</td>\n",
              "      <td>144</td>\n",
              "      <td>155</td>\n",
              "      <td>162</td>\n",
              "      <td>100</td>\n",
              "      <td>9069</td>\n",
              "    </tr>\n",
              "    <tr>\n",
              "      <th>4</th>\n",
              "      <td>7</td>\n",
              "      <td>7</td>\n",
              "      <td>6</td>\n",
              "      <td>8</td>\n",
              "      <td>8</td>\n",
              "      <td>4742</td>\n",
              "      <td>3813</td>\n",
              "      <td>7280</td>\n",
              "      <td>4719</td>\n",
              "      <td>3657</td>\n",
              "      <td>...</td>\n",
              "      <td>3.0</td>\n",
              "      <td>3.0</td>\n",
              "      <td>4.0</td>\n",
              "      <td>4.0</td>\n",
              "      <td>86</td>\n",
              "      <td>70</td>\n",
              "      <td>144</td>\n",
              "      <td>155</td>\n",
              "      <td>162</td>\n",
              "      <td>10859</td>\n",
              "    </tr>\n",
              "  </tbody>\n",
              "</table>\n",
              "<p>5 rows × 46 columns</p>\n",
              "</div>\n",
              "      <button class=\"colab-df-convert\" onclick=\"convertToInteractive('df-61378471-cc73-4b47-af6a-fa6ddc7c7954')\"\n",
              "              title=\"Convert this dataframe to an interactive table.\"\n",
              "              style=\"display:none;\">\n",
              "        \n",
              "  <svg xmlns=\"http://www.w3.org/2000/svg\" height=\"24px\"viewBox=\"0 0 24 24\"\n",
              "       width=\"24px\">\n",
              "    <path d=\"M0 0h24v24H0V0z\" fill=\"none\"/>\n",
              "    <path d=\"M18.56 5.44l.94 2.06.94-2.06 2.06-.94-2.06-.94-.94-2.06-.94 2.06-2.06.94zm-11 1L8.5 8.5l.94-2.06 2.06-.94-2.06-.94L8.5 2.5l-.94 2.06-2.06.94zm10 10l.94 2.06.94-2.06 2.06-.94-2.06-.94-.94-2.06-.94 2.06-2.06.94z\"/><path d=\"M17.41 7.96l-1.37-1.37c-.4-.4-.92-.59-1.43-.59-.52 0-1.04.2-1.43.59L10.3 9.45l-7.72 7.72c-.78.78-.78 2.05 0 2.83L4 21.41c.39.39.9.59 1.41.59.51 0 1.02-.2 1.41-.59l7.78-7.78 2.81-2.81c.8-.78.8-2.07 0-2.86zM5.41 20L4 18.59l7.72-7.72 1.47 1.35L5.41 20z\"/>\n",
              "  </svg>\n",
              "      </button>\n",
              "      \n",
              "  <style>\n",
              "    .colab-df-container {\n",
              "      display:flex;\n",
              "      flex-wrap:wrap;\n",
              "      gap: 12px;\n",
              "    }\n",
              "\n",
              "    .colab-df-convert {\n",
              "      background-color: #E8F0FE;\n",
              "      border: none;\n",
              "      border-radius: 50%;\n",
              "      cursor: pointer;\n",
              "      display: none;\n",
              "      fill: #1967D2;\n",
              "      height: 32px;\n",
              "      padding: 0 0 0 0;\n",
              "      width: 32px;\n",
              "    }\n",
              "\n",
              "    .colab-df-convert:hover {\n",
              "      background-color: #E2EBFA;\n",
              "      box-shadow: 0px 1px 2px rgba(60, 64, 67, 0.3), 0px 1px 3px 1px rgba(60, 64, 67, 0.15);\n",
              "      fill: #174EA6;\n",
              "    }\n",
              "\n",
              "    [theme=dark] .colab-df-convert {\n",
              "      background-color: #3B4455;\n",
              "      fill: #D2E3FC;\n",
              "    }\n",
              "\n",
              "    [theme=dark] .colab-df-convert:hover {\n",
              "      background-color: #434B5C;\n",
              "      box-shadow: 0px 1px 3px 1px rgba(0, 0, 0, 0.15);\n",
              "      filter: drop-shadow(0px 1px 2px rgba(0, 0, 0, 0.3));\n",
              "      fill: #FFFFFF;\n",
              "    }\n",
              "  </style>\n",
              "\n",
              "      <script>\n",
              "        const buttonEl =\n",
              "          document.querySelector('#df-61378471-cc73-4b47-af6a-fa6ddc7c7954 button.colab-df-convert');\n",
              "        buttonEl.style.display =\n",
              "          google.colab.kernel.accessAllowed ? 'block' : 'none';\n",
              "\n",
              "        async function convertToInteractive(key) {\n",
              "          const element = document.querySelector('#df-61378471-cc73-4b47-af6a-fa6ddc7c7954');\n",
              "          const dataTable =\n",
              "            await google.colab.kernel.invokeFunction('convertToInteractive',\n",
              "                                                     [key], {});\n",
              "          if (!dataTable) return;\n",
              "\n",
              "          const docLinkHtml = 'Like what you see? Visit the ' +\n",
              "            '<a target=\"_blank\" href=https://colab.research.google.com/notebooks/data_table.ipynb>data table notebook</a>'\n",
              "            + ' to learn more about interactive tables.';\n",
              "          element.innerHTML = '';\n",
              "          dataTable['output_type'] = 'display_data';\n",
              "          await google.colab.output.renderOutput(dataTable, element);\n",
              "          const docLink = document.createElement('div');\n",
              "          docLink.innerHTML = docLinkHtml;\n",
              "          element.appendChild(docLink);\n",
              "        }\n",
              "      </script>\n",
              "    </div>\n",
              "  </div>\n",
              "  "
            ]
          },
          "metadata": {},
          "execution_count": 9
        }
      ]
    },
    {
      "cell_type": "code",
      "source": [
        "frame_test.shape"
      ],
      "metadata": {
        "colab": {
          "base_uri": "https://localhost:8080/"
        },
        "id": "rFmWFlTpmbWH",
        "outputId": "ca58afcb-c108-4858-b77c-bd7b7453445c"
      },
      "execution_count": null,
      "outputs": [
        {
          "output_type": "execute_result",
          "data": {
            "text/plain": [
              "(2442, 46)"
            ]
          },
          "metadata": {},
          "execution_count": 10
        }
      ]
    },
    {
      "cell_type": "code",
      "source": [],
      "metadata": {
        "id": "y4N3VkWImbTm"
      },
      "execution_count": null,
      "outputs": []
    },
    {
      "cell_type": "markdown",
      "source": [
        "# Dealing with Nan Values"
      ],
      "metadata": {
        "id": "yOB3e8wkIS8O"
      }
    },
    {
      "cell_type": "code",
      "source": [
        "frame_train.replace('-', np.NaN, inplace = True)\n",
        "frame_train.isna().sum().sum()\n",
        "\n",
        "frame_test.replace('-', np.NaN, inplace = True)\n",
        "frame_test.isna().sum().sum()"
      ],
      "metadata": {
        "colab": {
          "base_uri": "https://localhost:8080/"
        },
        "id": "ByD8ORlNugW_",
        "outputId": "2bfb73bf-96c3-423d-ae58-20689b65b64e"
      },
      "execution_count": null,
      "outputs": [
        {
          "output_type": "execute_result",
          "data": {
            "text/plain": [
              "1412508"
            ]
          },
          "metadata": {},
          "execution_count": 9
        }
      ]
    },
    {
      "cell_type": "code",
      "source": [
        "imputer = IterativeImputer(imputation_order='ascending',max_iter=10,random_state=42,n_nearest_features=None)\n",
        "imputed_dataset = imputer.fit_transform(frame_train)\n",
        "frame_train = pd.DataFrame(imputed_dataset,columns = frame_train.columns)\n",
        "frame_train.isna().sum().sum()\n",
        "\n",
        "\n",
        "\n",
        "imputer = IterativeImputer(imputation_order='ascending',max_iter=10,random_state=42,n_nearest_features=None)\n",
        "imputed_dataset = imputer.fit_transform(frame_test)\n",
        "frame_test = pd.DataFrame(imputed_dataset,columns = frame_test.columns)\n",
        "frame_test.isna().sum().sum()"
      ],
      "metadata": {
        "colab": {
          "base_uri": "https://localhost:8080/"
        },
        "id": "pFd12VSsu-C_",
        "outputId": "ad01a913-02f7-461c-c8cc-ab2ae5be373b"
      },
      "execution_count": null,
      "outputs": [
        {
          "output_type": "execute_result",
          "data": {
            "text/plain": [
              "0"
            ]
          },
          "metadata": {},
          "execution_count": 10
        }
      ]
    },
    {
      "cell_type": "code",
      "source": [
        "# LOW - below 1000\n",
        "# MEDIUM - between 1000 and 4000\n",
        "# HIGH - greater than 4000"
      ],
      "metadata": {
        "id": "7aeChI1JvFnf"
      },
      "execution_count": null,
      "outputs": []
    },
    {
      "cell_type": "code",
      "source": [
        "def categorise(row):  \n",
        "    if row['DL_bitrate'] <= 1000:\n",
        "        return 0\n",
        "    elif row['DL_bitrate'] > 1000 and row['DL_bitrate'] <= 4000:\n",
        "        return 1\n",
        "    elif row['DL_bitrate'] > 4000:\n",
        "        return 2\n",
        "    return"
      ],
      "metadata": {
        "id": "VrqMfQwBFd_a"
      },
      "execution_count": null,
      "outputs": []
    },
    {
      "cell_type": "code",
      "source": [
        "frame_train['Class'] = frame_train.apply(lambda row: categorise(row), axis=1)"
      ],
      "metadata": {
        "id": "gdm5G2IZF15F"
      },
      "execution_count": null,
      "outputs": []
    },
    {
      "cell_type": "code",
      "source": [
        "frame_train['Class'].value_counts()"
      ],
      "metadata": {
        "colab": {
          "base_uri": "https://localhost:8080/"
        },
        "id": "0P3hcl9znJw6",
        "outputId": "b1697532-1255-4e69-e0df-5be3b424b39c"
      },
      "execution_count": null,
      "outputs": [
        {
          "output_type": "execute_result",
          "data": {
            "text/plain": [
              "2    69925\n",
              "1    28314\n",
              "0    23077\n",
              "Name: Class, dtype: int64"
            ]
          },
          "metadata": {},
          "execution_count": 14
        }
      ]
    },
    {
      "cell_type": "code",
      "source": [
        "frame_test['Class'] = frame_test.apply(lambda row: categorise(row), axis=1)"
      ],
      "metadata": {
        "id": "AfPC9XatGJoT"
      },
      "execution_count": null,
      "outputs": []
    },
    {
      "cell_type": "code",
      "source": [
        "frame_test['Class'].value_counts()"
      ],
      "metadata": {
        "colab": {
          "base_uri": "https://localhost:8080/"
        },
        "id": "wlbyKu4_nOi5",
        "outputId": "c2508f7e-5b96-4002-e847-49af7a09aa8c"
      },
      "execution_count": null,
      "outputs": [
        {
          "output_type": "execute_result",
          "data": {
            "text/plain": [
              "2    30000\n",
              "1    12199\n",
              "0     9793\n",
              "Name: Class, dtype: int64"
            ]
          },
          "metadata": {},
          "execution_count": 18
        }
      ]
    },
    {
      "cell_type": "code",
      "source": [
        "col_names_scaled =['CQI-0', 'CQI-1', 'CQI-2', 'CQI-3', 'CQI-4', 'DL_bitrate-0',\n",
        "       'DL_bitrate-1', 'DL_bitrate-2', 'DL_bitrate-3', 'DL_bitrate-4', 'SNR-0', 'SNR-1', 'SNR-2', 'SNR-3', 'SNR-4']"
      ],
      "metadata": {
        "id": "eUAzOiKFvgF2"
      },
      "execution_count": null,
      "outputs": []
    },
    {
      "cell_type": "markdown",
      "source": [
        "### With Scaling"
      ],
      "metadata": {
        "id": "7Y4Xk2jDiuAs"
      }
    },
    {
      "cell_type": "markdown",
      "source": [
        "#### MinMax Scaler"
      ],
      "metadata": {
        "id": "FElO8dKKqnC0"
      }
    },
    {
      "cell_type": "code",
      "source": [
        "df = frame_train[col_names_scaled]\n",
        "min_max_scaler = MinMaxScaler()\n",
        "# transform data\n",
        "X = pd.DataFrame(min_max_scaler.fit_transform(df))"
      ],
      "metadata": {
        "id": "VgzFuRJHvf_v"
      },
      "execution_count": null,
      "outputs": []
    },
    {
      "cell_type": "code",
      "source": [
        "Y=frame_train['Class']"
      ],
      "metadata": {
        "id": "yO3OIiSOX6eG"
      },
      "execution_count": null,
      "outputs": []
    },
    {
      "cell_type": "code",
      "source": [
        "from sklearn.model_selection import train_test_split\n",
        "x_train, x_test, y_train, y_test=train_test_split(X,Y,test_size=0.3)"
      ],
      "metadata": {
        "id": "pjFqpaZYcpYS"
      },
      "execution_count": null,
      "outputs": []
    },
    {
      "cell_type": "code",
      "source": [
        "from imblearn.over_sampling import SMOTE\n",
        "oversample = SMOTE()\n",
        "X, Y = oversample.fit_resample(X, Y)"
      ],
      "metadata": {
        "id": "x_XY-YwdRSuy"
      },
      "execution_count": null,
      "outputs": []
    },
    {
      "cell_type": "code",
      "source": [
        "'''n_samples=  10639,  n_classes= 3, n_sample0= 1337, n_samples1= 2660, n_sample2 = 6642\n",
        "\n",
        "w0=  10639/(3*1337) = 2.65\n",
        "w1=  10639/(3*2660) = 1.33\n",
        "w2=  10639/(3*6642) = 0.53'''"
      ],
      "metadata": {
        "id": "WBktEkBiN6B7"
      },
      "execution_count": null,
      "outputs": []
    },
    {
      "cell_type": "code",
      "source": [
        "# Grid search cross validation\n",
        "from sklearn.model_selection import GridSearchCV\n",
        "from sklearn.linear_model import LogisticRegression\n",
        "grid={\"C\":np.logspace(-3,3,7), \"penalty\":[\"l1\",\"l2\"]}# l1 lasso l2 ridge\n",
        "logreg=LogisticRegression(multi_class='multinomial')\n",
        "logreg_cv=GridSearchCV(logreg,grid,cv=10)\n",
        "logreg_cv.fit(X,Y)\n",
        "\n",
        "print(\"tuned hpyerparameters :(best parameters) \",logreg_cv.best_params_)\n",
        "print(\"accuracy :\",logreg_cv.best_score_)"
      ],
      "metadata": {
        "id": "xCVJgq81RcFH"
      },
      "execution_count": null,
      "outputs": []
    },
    {
      "cell_type": "code",
      "source": [
        "print(\"tuned hpyerparameters :(best parameters) \",logreg_cv.best_params_)\n",
        "print(\"accuracy :\",logreg_cv.best_score_)"
      ],
      "metadata": {
        "colab": {
          "base_uri": "https://localhost:8080/"
        },
        "id": "Ptnx5KKlR_uL",
        "outputId": "502cc5a5-049f-4079-c9ca-bd562cc79a7f"
      },
      "execution_count": null,
      "outputs": [
        {
          "output_type": "stream",
          "name": "stdout",
          "text": [
            "tuned hpyerparameters :(best parameters)  {'C': 1000.0, 'penalty': 'l2'}\n",
            "accuracy : 0.823802560971432\n"
          ]
        }
      ]
    },
    {
      "cell_type": "code",
      "source": [
        "# Grid search cross validation\n",
        "from sklearn.model_selection import GridSearchCV\n",
        "from sklearn.linear_model import LogisticRegression\n",
        "grid={\"C\":np.logspace(-3,3,7), \"penalty\":[\"l1\",\"l2\"]}# l1 lasso l2 ridge\n",
        "logreg=LogisticRegression(multi_class='multinomial',class_weight={0:2.65, 1:1.33, 2:0.53})\n",
        "logreg_cv=GridSearchCV(logreg,grid,cv=10)\n",
        "logreg_cv.fit(X,Y)\n",
        "\n",
        "print(\"tuned hpyerparameters :(best parameters) \",logreg_cv.best_params_)\n",
        "print(\"accuracy :\",logreg_cv.best_score_)"
      ],
      "metadata": {
        "id": "vVRUqLj1co6r"
      },
      "execution_count": null,
      "outputs": []
    },
    {
      "cell_type": "code",
      "source": [
        "\n",
        "print(\"tuned hpyerparameters :(best parameters) \",logreg_cv.best_params_)\n",
        "print(\"accuracy :\",logreg_cv.best_score_)"
      ],
      "metadata": {
        "colab": {
          "base_uri": "https://localhost:8080/"
        },
        "id": "Fg_nyS07co3H",
        "outputId": "d75c4ac1-226a-4701-e145-8512cc79aea1"
      },
      "execution_count": null,
      "outputs": [
        {
          "output_type": "stream",
          "name": "stdout",
          "text": [
            "tuned hpyerparameters :(best parameters)  {'C': 1000.0, 'penalty': 'l2'}\n",
            "accuracy : 0.8037441027309573\n"
          ]
        }
      ]
    },
    {
      "cell_type": "code",
      "source": [
        "print(\"tuned hpyerparameters :(best parameters) \",grid_result.best_params_)\n",
        "print(\"accuracy :\",grid_result.best_score_)"
      ],
      "metadata": {
        "colab": {
          "base_uri": "https://localhost:8080/"
        },
        "id": "haLWgyTfQjiy",
        "outputId": "3ac9ccb2-79e2-4160-9bbe-40c8741a8661"
      },
      "execution_count": null,
      "outputs": [
        {
          "output_type": "stream",
          "name": "stdout",
          "text": [
            "tuned hpyerparameters :(best parameters)  {'C': 1.0, 'max_iter': 100, 'penalty': 'l2'}\n",
            "accuracy : 0.772728542088649\n"
          ]
        }
      ]
    },
    {
      "cell_type": "code",
      "source": [
        "logreg=LogisticRegression(multi_class='multinomial', C= 1000, penalty= 'l2')\n",
        "logreg.fit(X,Y)"
      ],
      "metadata": {
        "colab": {
          "base_uri": "https://localhost:8080/"
        },
        "id": "UYUhJz_NQmB6",
        "outputId": "1da4134a-5c98-4266-9ae2-b4fb79b32c30"
      },
      "execution_count": null,
      "outputs": [
        {
          "output_type": "stream",
          "name": "stderr",
          "text": [
            "/usr/local/lib/python3.7/dist-packages/sklearn/linear_model/_logistic.py:818: ConvergenceWarning: lbfgs failed to converge (status=1):\n",
            "STOP: TOTAL NO. of ITERATIONS REACHED LIMIT.\n",
            "\n",
            "Increase the number of iterations (max_iter) or scale the data as shown in:\n",
            "    https://scikit-learn.org/stable/modules/preprocessing.html\n",
            "Please also refer to the documentation for alternative solver options:\n",
            "    https://scikit-learn.org/stable/modules/linear_model.html#logistic-regression\n",
            "  extra_warning_msg=_LOGISTIC_SOLVER_CONVERGENCE_MSG,\n"
          ]
        },
        {
          "output_type": "execute_result",
          "data": {
            "text/plain": [
              "LogisticRegression(C=1000, multi_class='multinomial')"
            ]
          },
          "metadata": {},
          "execution_count": 81
        }
      ]
    },
    {
      "cell_type": "code",
      "source": [
        "logreg"
      ],
      "metadata": {
        "id": "BWw309cWQwSp"
      },
      "execution_count": null,
      "outputs": []
    },
    {
      "cell_type": "code",
      "source": [
        "penalty = ['l1','l2']\n",
        "max_iter=[80, 100,140]\n",
        "C = np.linspace(0.1, 1.0, num=5)\n",
        "param_grid = dict(max_iter=max_iter, C=C, penalty=penalty)\n",
        "lr = LogisticRegression(multi_class='multinomial',class_weight={0:2.65, 1:1.33, 2:0.53})\n",
        "grid = GridSearchCV(estimator=lr, param_grid=param_grid, cv = 5)\n",
        "grid_result = grid.fit(X,Y)\n",
        "# Summarize results\n",
        "print(\"Best: %f using %s\" % (grid_result.best_score_, grid_result.best_params_))"
      ],
      "metadata": {
        "id": "fk9WS5Opco0z"
      },
      "execution_count": null,
      "outputs": []
    },
    {
      "cell_type": "code",
      "source": [
        "model.get_xgb_params()"
      ],
      "metadata": {
        "colab": {
          "base_uri": "https://localhost:8080/"
        },
        "id": "DVh4BtztPc8m",
        "outputId": "eca57f49-725d-4fb0-e966-bd0a16d6c2d5"
      },
      "execution_count": null,
      "outputs": [
        {
          "output_type": "execute_result",
          "data": {
            "text/plain": [
              "{'base_score': 0.5,\n",
              " 'booster': 'gbtree',\n",
              " 'colsample_bylevel': 1,\n",
              " 'colsample_bynode': 1,\n",
              " 'colsample_bytree': 1,\n",
              " 'gamma': 0,\n",
              " 'learning_rate': 0.1,\n",
              " 'max_delta_step': 0,\n",
              " 'max_depth': 3,\n",
              " 'min_child_weight': 1,\n",
              " 'missing': None,\n",
              " 'n_estimators': 100,\n",
              " 'nthread': 1,\n",
              " 'objective': 'multi:softprob',\n",
              " 'reg_alpha': 0,\n",
              " 'reg_lambda': 1,\n",
              " 'scale_pos_weight': 1,\n",
              " 'seed': 0,\n",
              " 'subsample': 1,\n",
              " 'verbosity': 1}"
            ]
          },
          "metadata": {},
          "execution_count": 26
        }
      ]
    },
    {
      "cell_type": "code",
      "source": [
        "from xgboost.sklearn import XGBClassifier\n",
        "from sklearn.model_selection import GridSearchCV\n",
        "base_learners = [5, 10, 50, 100, 200,  500, 1000]\n",
        "depth = [2, 3, 4, 5, 6, 7, 8, 9, 10, 12, 14]\n",
        "#gamma = [0, 0.1,0.2,0.4,0.8,1.6,3.2,6.4,25.6,102.4]\n",
        "learning_rate = [0.01, 0.03, 0.06, 0.1]\n",
        "weights = [1, 10, 25, 50, 99]\n",
        "param_grid = {'n_estimators': base_learners,'max_depth': depth,  'learning_rate': learning_rate, 'scale_pos_weight': weights}\n",
        "XGB = XGBClassifier()\n",
        "model = GridSearchCV(XGB, param_grid, scoring = 'accuracy', cv=5 , n_jobs = -1,pre_dispatch=2)\n",
        "model.fit(X, Y)\n",
        "print(\"Model with best parameters :\\n\",model.best_estimator_)"
      ],
      "metadata": {
        "id": "ROT0wqbxfyQ9"
      },
      "execution_count": null,
      "outputs": []
    },
    {
      "cell_type": "code",
      "source": [
        "print(\"\\n The best parameters across ALL searched params:\\n\",model.best_params_)"
      ],
      "metadata": {
        "colab": {
          "base_uri": "https://localhost:8080/"
        },
        "id": "4bdPxBxM-nQv",
        "outputId": "8a722fff-acc4-4fa5-9eb9-26ebb9dc846c"
      },
      "execution_count": null,
      "outputs": [
        {
          "output_type": "stream",
          "name": "stdout",
          "text": [
            "\n",
            " The best parameters across ALL searched params:\n",
            " {'learning_rate': 0.1, 'max_depth': 3, 'n_estimators': 10, 'scale_pos_weight': 1}\n"
          ]
        }
      ]
    },
    {
      "cell_type": "code",
      "source": [
        "print(\"\\n The best score across ALL searched params:\\n\",model.best_score_)"
      ],
      "metadata": {
        "colab": {
          "base_uri": "https://localhost:8080/"
        },
        "id": "16ZbqYz2_Ixn",
        "outputId": "d70a014e-5fac-43f9-c0f2-fcdfbad68b9c"
      },
      "execution_count": null,
      "outputs": [
        {
          "output_type": "stream",
          "name": "stdout",
          "text": [
            "\n",
            " The best score across ALL searched params:\n",
            " 0.8313738772177268\n"
          ]
        }
      ]
    },
    {
      "cell_type": "code",
      "source": [
        "from xgboost.sklearn import XGBClassifier\n",
        "model = XGBClassifier(learning_rate = 0.1, max_depth = 3, n_estimators =  10, scale_pos_weight = 1, objective='multi:softprob') \n",
        "model.fit(X, Y)"
      ],
      "metadata": {
        "colab": {
          "base_uri": "https://localhost:8080/"
        },
        "id": "gYAZWUgSS27A",
        "outputId": "c4473a86-c855-4dee-bde8-4f5b6502331a"
      },
      "execution_count": null,
      "outputs": [
        {
          "output_type": "execute_result",
          "data": {
            "text/plain": [
              "XGBClassifier(n_estimators=10, objective='multi:softprob')"
            ]
          },
          "metadata": {},
          "execution_count": 24
        }
      ]
    },
    {
      "cell_type": "code",
      "source": [],
      "metadata": {
        "id": "6TlYzzp1TO9a"
      },
      "execution_count": null,
      "outputs": []
    },
    {
      "cell_type": "code",
      "source": [
        "df_test = frame_test[col_names_scaled]\n",
        "scaler = MinMaxScaler()\n",
        "# transform data\n",
        "X_test = pd.DataFrame(scaler.fit_transform(df_test))"
      ],
      "metadata": {
        "id": "BHQKhxeYfyNh"
      },
      "execution_count": null,
      "outputs": []
    },
    {
      "cell_type": "code",
      "source": [
        "y_test = frame_test['Class']"
      ],
      "metadata": {
        "id": "uiqd6qu4jrgK"
      },
      "execution_count": null,
      "outputs": []
    },
    {
      "cell_type": "code",
      "source": [
        "y_pred = model.predict(X_test)"
      ],
      "metadata": {
        "id": "7I5SRDMsQnO6"
      },
      "execution_count": null,
      "outputs": []
    },
    {
      "cell_type": "code",
      "source": [
        "y_pred = model.predict(X_test)\n",
        "y_pred = np.argmax(y_pred,axis=1) "
      ],
      "metadata": {
        "id": "sZE_o6QOj2DT"
      },
      "execution_count": null,
      "outputs": []
    },
    {
      "cell_type": "code",
      "source": [
        "from sklearn.metrics import accuracy_score\n",
        "accuracy = accuracy_score(y_test, y_pred) \n",
        "\n",
        "print(\"Accuracy: %.2f%%\" % (accuracy * 100.0))"
      ],
      "metadata": {
        "colab": {
          "base_uri": "https://localhost:8080/"
        },
        "id": "S3bLutSGfyLb",
        "outputId": "78a3087b-910e-41b7-eca4-ef7afef9420b"
      },
      "execution_count": null,
      "outputs": [
        {
          "output_type": "stream",
          "name": "stdout",
          "text": [
            "Accuracy: 86.46%\n"
          ]
        }
      ]
    },
    {
      "cell_type": "code",
      "source": [
        "model = XGBClassifier(max_depth=2, n_estimators=5, objective='multi:softmax',class_weight='balanced')\n",
        "model.fit(X_train, y_train)"
      ],
      "metadata": {
        "colab": {
          "base_uri": "https://localhost:8080/"
        },
        "id": "nbRLRkbBlwwV",
        "outputId": "445162cd-9e4c-4104-d543-78c22fdeca1c"
      },
      "execution_count": null,
      "outputs": [
        {
          "output_type": "execute_result",
          "data": {
            "text/plain": [
              "XGBClassifier(class_weight='balanced', max_depth=2, n_estimators=5,\n",
              "              objective='multi:softprob')"
            ]
          },
          "metadata": {},
          "execution_count": 68
        }
      ]
    },
    {
      "cell_type": "code",
      "source": [
        "y_pred = model.predict(X_test)"
      ],
      "metadata": {
        "id": "IYaJAb0UmEAi"
      },
      "execution_count": null,
      "outputs": []
    },
    {
      "cell_type": "code",
      "source": [
        "\n",
        "unique, counts = np.unique(y_pred, return_counts=True)\n",
        "\n",
        "result = np.column_stack((unique, counts)) \n",
        "print (result)"
      ],
      "metadata": {
        "colab": {
          "base_uri": "https://localhost:8080/"
        },
        "id": "dCnXjv-qMOIo",
        "outputId": "700ca56a-8b2f-4ad7-a1d9-344e181ed76a"
      },
      "execution_count": null,
      "outputs": [
        {
          "output_type": "stream",
          "name": "stdout",
          "text": [
            "[[   0   53]\n",
            " [   1  464]\n",
            " [   2 1925]]\n"
          ]
        }
      ]
    },
    {
      "cell_type": "code",
      "source": [
        "y_test.value_counts()"
      ],
      "metadata": {
        "colab": {
          "base_uri": "https://localhost:8080/"
        },
        "id": "kP4wkPx5MuK0",
        "outputId": "6c9ddf6a-71d2-4301-ff8e-e7d8b8ae2c66"
      },
      "execution_count": null,
      "outputs": [
        {
          "output_type": "execute_result",
          "data": {
            "text/plain": [
              "2    1295\n",
              "1     727\n",
              "0     420\n",
              "Name: Class, dtype: int64"
            ]
          },
          "metadata": {},
          "execution_count": 41
        }
      ]
    },
    {
      "cell_type": "code",
      "source": [
        "accuracy = accuracy_score(y_test, y_pred) \n",
        "\n",
        "print(\"Accuracy: %.2f%%\" % (accuracy * 100.0))"
      ],
      "metadata": {
        "colab": {
          "base_uri": "https://localhost:8080/"
        },
        "id": "Hl8nscrcmGGO",
        "outputId": "88b5441b-192c-4b8a-a428-f1a9d3545142"
      },
      "execution_count": null,
      "outputs": [
        {
          "output_type": "stream",
          "name": "stdout",
          "text": [
            "Accuracy: 51.52%\n"
          ]
        }
      ]
    },
    {
      "cell_type": "code",
      "source": [
        "model = XGBClassifier() \n",
        "model.fit(X_train, y_train)\n",
        "y_pred = model.predict(X_test) \n",
        "predictions = [round(value) for value in y_pred]\n",
        "accuracy = accuracy_score(y_test, predictions) \n",
        "print(\"Accuracy: %.2f%%\" % (accuracy * 100.0))"
      ],
      "metadata": {
        "id": "mEF8lfgxlwtq"
      },
      "execution_count": null,
      "outputs": []
    },
    {
      "cell_type": "code",
      "source": [
        "x_new = X[X.columns].values"
      ],
      "metadata": {
        "id": "k63SV0nEG32G"
      },
      "execution_count": null,
      "outputs": []
    },
    {
      "cell_type": "code",
      "source": [
        "\n",
        "dummies = pd.get_dummies(frame_train['Class']) # Classification\n",
        "products = dummies.columns\n",
        "Y= dummies.values"
      ],
      "metadata": {
        "id": "-rTALHImH-bE"
      },
      "execution_count": null,
      "outputs": []
    },
    {
      "cell_type": "code",
      "source": [
        "# Classification neural network\n",
        "import numpy as np\n",
        "import tensorflow.keras\n",
        "from tensorflow.keras.models import Sequential\n",
        "from tensorflow.keras.layers import Dense, Activation\n",
        "from tensorflow.keras.callbacks import EarlyStopping\n",
        "from sklearn.model_selection import train_test_split\n",
        "\n",
        "# Split into train/test\n",
        "x_train, x_test, y_train, y_test = train_test_split(    \n",
        "    x_new, Y, test_size=0.25, random_state=42)\n",
        "\n",
        "model = Sequential()\n",
        "model.add(Dense(100, input_dim=x_new.shape[1], activation='relu',\n",
        "                kernel_initializer='random_normal'))\n",
        "model.add(Dense(50,activation='relu',kernel_initializer='random_normal'))\n",
        "model.add(Dense(25,activation='relu',kernel_initializer='random_normal'))\n",
        "model.add(Dense(Y.shape[1],activation='softmax',\n",
        "                kernel_initializer='random_normal'))\n",
        "model.compile(loss='categorical_crossentropy', \n",
        "              optimizer=tensorflow.keras.optimizers.Adam(),\n",
        "              metrics =['accuracy'])\n",
        "monitor = EarlyStopping(monitor='val_loss', min_delta=1e-3, patience=5, \n",
        "                        verbose=1, mode='auto', restore_best_weights=True)\n",
        "model.fit(x_train,y_train,validation_data=(x_test,y_test),\n",
        "          callbacks=[monitor],verbose=2,epochs=1000)"
      ],
      "metadata": {
        "colab": {
          "base_uri": "https://localhost:8080/"
        },
        "id": "xqsY29r5lwrI",
        "outputId": "f522a87e-e8f5-4c18-8435-060630c811ea"
      },
      "execution_count": null,
      "outputs": [
        {
          "output_type": "stream",
          "name": "stdout",
          "text": [
            "Epoch 1/1000\n",
            "250/250 - 4s - loss: 0.7173 - accuracy: 0.6615 - val_loss: 0.4709 - val_accuracy: 0.7703 - 4s/epoch - 15ms/step\n",
            "Epoch 2/1000\n",
            "250/250 - 1s - loss: 0.4275 - accuracy: 0.8194 - val_loss: 0.4158 - val_accuracy: 0.8214 - 802ms/epoch - 3ms/step\n",
            "Epoch 3/1000\n",
            "250/250 - 1s - loss: 0.4027 - accuracy: 0.8344 - val_loss: 0.3927 - val_accuracy: 0.8312 - 792ms/epoch - 3ms/step\n",
            "Epoch 4/1000\n",
            "250/250 - 1s - loss: 0.3961 - accuracy: 0.8289 - val_loss: 0.4344 - val_accuracy: 0.8109 - 788ms/epoch - 3ms/step\n",
            "Epoch 5/1000\n",
            "250/250 - 1s - loss: 0.3915 - accuracy: 0.8357 - val_loss: 0.3841 - val_accuracy: 0.8414 - 784ms/epoch - 3ms/step\n",
            "Epoch 6/1000\n",
            "250/250 - 1s - loss: 0.3841 - accuracy: 0.8401 - val_loss: 0.3837 - val_accuracy: 0.8425 - 784ms/epoch - 3ms/step\n",
            "Epoch 7/1000\n",
            "250/250 - 1s - loss: 0.3818 - accuracy: 0.8427 - val_loss: 0.3939 - val_accuracy: 0.8316 - 778ms/epoch - 3ms/step\n",
            "Epoch 8/1000\n",
            "250/250 - 1s - loss: 0.3774 - accuracy: 0.8432 - val_loss: 0.3776 - val_accuracy: 0.8432 - 787ms/epoch - 3ms/step\n",
            "Epoch 9/1000\n",
            "250/250 - 1s - loss: 0.3806 - accuracy: 0.8415 - val_loss: 0.3925 - val_accuracy: 0.8297 - 779ms/epoch - 3ms/step\n",
            "Epoch 10/1000\n",
            "250/250 - 1s - loss: 0.3751 - accuracy: 0.8436 - val_loss: 0.3782 - val_accuracy: 0.8459 - 781ms/epoch - 3ms/step\n",
            "Epoch 11/1000\n",
            "250/250 - 1s - loss: 0.3760 - accuracy: 0.8437 - val_loss: 0.3974 - val_accuracy: 0.8365 - 776ms/epoch - 3ms/step\n",
            "Epoch 12/1000\n",
            "250/250 - 1s - loss: 0.3752 - accuracy: 0.8442 - val_loss: 0.3815 - val_accuracy: 0.8496 - 773ms/epoch - 3ms/step\n",
            "Epoch 13/1000\n",
            "Restoring model weights from the end of the best epoch: 8.\n",
            "250/250 - 1s - loss: 0.3751 - accuracy: 0.8448 - val_loss: 0.3771 - val_accuracy: 0.8425 - 790ms/epoch - 3ms/step\n",
            "Epoch 13: early stopping\n"
          ]
        },
        {
          "output_type": "execute_result",
          "data": {
            "text/plain": [
              "<keras.callbacks.History at 0x7f3f03763e90>"
            ]
          },
          "metadata": {},
          "execution_count": 117
        }
      ]
    },
    {
      "cell_type": "code",
      "source": [
        "pred = model.predict(x_test)\n",
        "pred = np.argmax(pred,axis=1) "
      ],
      "metadata": {
        "id": "QRar7CADJLlK"
      },
      "execution_count": null,
      "outputs": []
    },
    {
      "cell_type": "code",
      "source": [
        "from sklearn import metrics\n",
        "\n",
        "y_compare = np.argmax(y_test,axis=1) \n",
        "score = metrics.accuracy_score(y_compare, pred)\n",
        "print(\"Accuracy score: {}\".format(score))"
      ],
      "metadata": {
        "colab": {
          "base_uri": "https://localhost:8080/"
        },
        "id": "CyF5QXpyJVMB",
        "outputId": "4678e67b-a100-4ac4-d147-356fc95aaa4c"
      },
      "execution_count": null,
      "outputs": [
        {
          "output_type": "stream",
          "name": "stdout",
          "text": [
            "Accuracy score: 0.8432330827067669\n"
          ]
        }
      ]
    },
    {
      "cell_type": "code",
      "source": [
        "pred"
      ],
      "metadata": {
        "colab": {
          "base_uri": "https://localhost:8080/"
        },
        "id": "-U8JyWyOJYOO",
        "outputId": "a8baecfc-dbd1-4cd5-e0ce-425d9e4f70d4"
      },
      "execution_count": null,
      "outputs": [
        {
          "output_type": "execute_result",
          "data": {
            "text/plain": [
              "array([2, 1, 0, ..., 2, 2, 1])"
            ]
          },
          "metadata": {},
          "execution_count": 120
        }
      ]
    },
    {
      "cell_type": "markdown",
      "source": [
        "# Random Split"
      ],
      "metadata": {
        "id": "ay-SljGMx2iy"
      }
    },
    {
      "cell_type": "markdown",
      "source": [
        "## Medium Throughput"
      ],
      "metadata": {
        "id": "NT64XLa0x4vY"
      }
    },
    {
      "cell_type": "code",
      "source": [
        "frame_medium_train.head()"
      ],
      "metadata": {
        "id": "gSx25-H_6Lan"
      },
      "execution_count": null,
      "outputs": []
    },
    {
      "cell_type": "code",
      "source": [
        "frame_medium_test.head()"
      ],
      "metadata": {
        "id": "kJL5rcn46LYx"
      },
      "execution_count": null,
      "outputs": []
    },
    {
      "cell_type": "markdown",
      "source": [
        "### With Scaling"
      ],
      "metadata": {
        "id": "Wu-N-cLw6Q_2"
      }
    },
    {
      "cell_type": "markdown",
      "source": [
        "#### MinMax Scaler"
      ],
      "metadata": {
        "id": "8_gKVqvY6SWg"
      }
    },
    {
      "cell_type": "code",
      "source": [
        "df = frame_medium_train[col_names_scaled]\n",
        "min_max_scaler = MinMaxScaler()\n",
        "# transform data\n",
        "df_min_max_scaled = pd.DataFrame(min_max_scaler.fit_transform(df))"
      ],
      "metadata": {
        "id": "uTpbfqHu6LV7"
      },
      "execution_count": null,
      "outputs": []
    },
    {
      "cell_type": "code",
      "source": [
        "X_train_min_max_scaler, X_valid_min_max_scaler, Y_train_min_max_scaler, Y_valid_min_max_scaler = train_test_split(df_min_max_scaled.iloc[:,:-1], df_min_max_scaled.iloc[:,-1:], test_size=0.3, random_state=0)\n",
        "print('Train set shape', X_train_min_max_scaler.shape)\n",
        "print('Validation set shape', X_valid_min_max_scaler.shape)\n",
        "X_train_min_max_scaler.head()"
      ],
      "metadata": {
        "id": "cA6puvMn6LTc"
      },
      "execution_count": null,
      "outputs": []
    },
    {
      "cell_type": "code",
      "source": [
        "X_train_min_max_series = X_train_min_max_scaler.values.reshape((X_train_min_max_scaler.shape[0], X_train_min_max_scaler.shape[1], 1))\n",
        "X_valid_min_max_series = X_valid_min_max_scaler.values.reshape((X_valid_min_max_scaler.shape[0], X_valid_min_max_scaler.shape[1], 1))\n",
        "print('Train set shape', X_train_min_max_series.shape)\n",
        "print('Validation set shape', X_valid_min_max_series.shape)"
      ],
      "metadata": {
        "id": "3oTb7zum6LRF"
      },
      "execution_count": null,
      "outputs": []
    },
    {
      "cell_type": "markdown",
      "source": [
        "### Hyper Parameter Tuning using Keras Auto Tuner"
      ],
      "metadata": {
        "id": "FlY9Uut_6Zah"
      }
    },
    {
      "cell_type": "code",
      "source": [
        "mae = MeanAbsoluteError()\n",
        "def model_builder(hp):\n",
        "  model = keras.Sequential()\n",
        "  model.add(keras.layers.Flatten(input_shape=(X_train_min_max_series.shape[1], X_train_min_max_series.shape[2])))\n",
        "\n",
        "  # Tune the number of units in the first Dense layer\n",
        "  # Choose an optimal value between 32-512\n",
        "\n",
        "  hp_units1 = hp.Int('units1', min_value=32, max_value=512, step=32)\n",
        "  hp_units2 = hp.Int('units2', min_value=32, max_value=512, step=32)\n",
        "  hp_units3 = hp.Int('units3', min_value=32, max_value=512, step=32)\n",
        "  model.add(Dense(units=hp_units1, activation='relu'))\n",
        "  model.add(Dropout(rate=hp.Float('dropout_1',min_value=0.0,max_value=0.4,default=0.25,step=0.05)))\n",
        "  model.add(tf.keras.layers.Dense(units=hp_units2, activation='relu'))\n",
        "  model.add(Dropout(rate=hp.Float('dropout_2',min_value=0.0,max_value=0.4,default=0.25,step=0.05)))\n",
        "  model.add(tf.keras.layers.Dense(units=hp_units3, activation='relu'))\n",
        "\n",
        "  model.add(Dropout(rate=hp.Float('dropout_3',min_value=0.0,max_value=0.4,default=0.25,step=0.05)))\n",
        "  model.add(Dense(1, kernel_initializer='normal', activation='linear'))\n",
        "\n",
        "  model = Sequential()\n",
        "model.add(Dense(100, input_dim=x_new.shape[1], activation='relu',\n",
        "                kernel_initializer='random_normal'))\n",
        "model.add(Dense(50,activation='relu',kernel_initializer='random_normal'))\n",
        "model.add(Dense(25,activation='relu',kernel_initializer='random_normal'))\n",
        "model.add(Dense(Y.shape[1],activation='softmax',\n",
        "                kernel_initializer='random_normal'))\n",
        "model.compile(loss='categorical_crossentropy', \n",
        "              optimizer=tensorflow.keras.optimizers.Adam(),\n",
        "              metrics =['accuracy'])\n",
        "monitor = EarlyStopping(monitor='val_loss', min_delta=1e-3, patience=5, \n",
        "                        verbose=1, mode='auto', restore_best_weights=True)\n",
        "model.fit(x_train,y_train,validation_data=(x_test,y_test),\n",
        "          callbacks=[monitor],verbose=2,epochs=1000)\n",
        "\n",
        "  # Tune the learning rate for the optimizer\n",
        "  # Choose an optimal value from 0.01, 0.001, or 0.0001\n",
        "  hp_learning_rate = hp.Choice('learning_rate', values=[1e-2, 1e-3, 1e-4])\n",
        "\n",
        "  model.compile(optimizer=tf.keras.optimizers.Adam(learning_rate=hp_learning_rate),loss=mae,metrics=[mae])\n",
        "\n",
        "  return model\n"
      ],
      "metadata": {
        "id": "jPGZjVa76LO8"
      },
      "execution_count": null,
      "outputs": []
    },
    {
      "cell_type": "code",
      "source": [
        "tuner = kt.Hyperband(model_builder,\n",
        "                     objective='val_mean_absolute_error',\n",
        "                     max_epochs=100,\n",
        "                     factor=3,\n",
        "                     directory='my_dir',\n",
        "                     project_name='intro_to_kt1')\n"
      ],
      "metadata": {
        "id": "94b4gFUT6LMs"
      },
      "execution_count": null,
      "outputs": []
    },
    {
      "cell_type": "code",
      "source": [
        "monitor = EarlyStopping(monitor='val_loss', min_delta=1e-3, patience=50, \n",
        "        verbose=1, mode='auto', restore_best_weights=True)"
      ],
      "metadata": {
        "id": "6y9kqy6w6cch"
      },
      "execution_count": null,
      "outputs": []
    },
    {
      "cell_type": "code",
      "source": [
        "tuner.search(X_train_min_max_series, Y_train_min_max_scaler, validation_data=(X_valid_min_max_series, Y_valid_min_max_scaler), epochs=100, callbacks=[monitor])\n",
        "\n",
        "# Get the optimal hyperparameters\n",
        "best_hps=tuner.get_best_hyperparameters(num_trials=1)[0]\n"
      ],
      "metadata": {
        "id": "eJP_5rNi6caH"
      },
      "execution_count": null,
      "outputs": []
    },
    {
      "cell_type": "code",
      "source": [
        "for h_param in [f\"units{i}\" for i in range(1,4)] + ['learning_rate']:\n",
        "  print(h_param, tuner.get_best_hyperparameters()[0].get(h_param))"
      ],
      "metadata": {
        "id": "gFm1sO3X6cX1"
      },
      "execution_count": null,
      "outputs": []
    },
    {
      "cell_type": "code",
      "source": [
        "best_model = tuner.get_best_models()[0]\n",
        "best_model.build(X_train_min_max_series.shape)\n",
        "best_model.summary()"
      ],
      "metadata": {
        "id": "3QwgnPQS6x0-"
      },
      "execution_count": null,
      "outputs": []
    },
    {
      "cell_type": "code",
      "source": [
        "from keras.models import load_model\n",
        "\n",
        "best_model.save('best_model.h5')  # creates a HDF5 file 'my_model.h5'\n",
        "#model = load_model('my_model.h5')"
      ],
      "metadata": {
        "id": "KKKox0p46xyY"
      },
      "execution_count": null,
      "outputs": []
    },
    {
      "cell_type": "code",
      "source": [
        "kt_train_pred_min_max_scaled = best_model.predict(X_train_min_max_scaler)\n",
        "kt_valid_pred_min_max_scaled = best_model.predict(X_valid_min_max_scaler)\n",
        "print('Train rmse:', np.sqrt(mean_squared_error(Y_train_min_max_scaler, kt_train_pred_min_max_scaled)))\n",
        "print('Validation rmse:', np.sqrt(mean_squared_error(Y_valid_min_max_scaler, kt_valid_pred_min_max_scaled)))"
      ],
      "metadata": {
        "id": "H90dLgsY6xv_"
      },
      "execution_count": null,
      "outputs": []
    },
    {
      "cell_type": "code",
      "source": [
        "df = frame_medium_test[col_names_scaled]\n",
        "df_test_scaled = pd.DataFrame(min_max_scaler.fit_transform(df))\n",
        "X_test_scaled = df_test_scaled.iloc[:,:-1]\n",
        "X_test_scaled.head()"
      ],
      "metadata": {
        "id": "50DW3LPO6cVk"
      },
      "execution_count": null,
      "outputs": []
    },
    {
      "cell_type": "code",
      "source": [
        "Y_test = frame_medium_test.iloc[:,-1:]\n",
        "Y_test.reset_index(drop=True,inplace=True)\n",
        "X_pred_scaled = best_model.predict(X_test_scaled)\n",
        "df_test_scaled[15]=X_pred_scaled\n",
        "#Inverse Transforming the Predicted Values\n",
        "df_test = pd.DataFrame(min_max_scaler.inverse_transform(df_test_scaled))\n",
        "Y_pred = df_test.iloc[:,-1:]"
      ],
      "metadata": {
        "id": "T3zmIzcI68wc"
      },
      "execution_count": null,
      "outputs": []
    },
    {
      "cell_type": "code",
      "source": [
        "fig, axes = plt.subplots(1, 1, sharex=True, sharey=True,figsize=(10,5))\n",
        "ax3 = axes\n",
        "ax3.plot(Y_test, label='Y_test')\n",
        "ax3.plot(Y_pred, label='Y_pred')\n",
        "ax3.legend(loc='best')\n",
        "ax3.set_title('LSTM')\n",
        "ax3.set_xlabel('Data Points')\n",
        "ax3.set_ylabel('Values')\n",
        "plt.show()"
      ],
      "metadata": {
        "id": "U_mYBtFo68ue"
      },
      "execution_count": null,
      "outputs": []
    },
    {
      "cell_type": "code",
      "source": [
        "plt.figure(figsize=(10,10))\n",
        "plt.scatter(Y_test['DL_bitrate'], Y_pred[15], c='crimson')\n",
        "plt.yscale('log')\n",
        "plt.xscale('log')\n",
        "\n",
        "p1 = max(max(Y_pred[15]), max(Y_test['DL_bitrate']))\n",
        "p2 = min(min(Y_pred[15]), min(Y_test['DL_bitrate']))\n",
        "plt.plot([p1, p2], [p1, p2], 'b-')\n",
        "plt.xlabel('True Values', fontsize=15)\n",
        "plt.ylabel('Predictions', fontsize=15)\n",
        "plt.axis('equal')\n",
        "plt.show()"
      ],
      "metadata": {
        "id": "9YUSOCqd68sU"
      },
      "execution_count": null,
      "outputs": []
    },
    {
      "cell_type": "code",
      "source": [
        "import matplotlib.cbook as cbook\n",
        "a=Y_test['DL_bitrate'].subtract(Y_pred[15])\n",
        "stats = {}\n",
        "# Compute the boxplot stats (as in the default matplotlib implementation)\n",
        "stats['A'] = cbook.boxplot_stats(a, labels='A')[0]\n",
        "stats['B'] = cbook.boxplot_stats(a, labels='B')[0]\n",
        "stats['C'] = cbook.boxplot_stats(a, labels='C')[0]\n",
        "\n",
        "# For box A compute the 1st and 99th percentiles\n",
        "stats['A']['q1'], stats['A']['q3'] = np.percentile(a, [5, 95])\n",
        "# For box B compute the 10th and 90th percentiles\n",
        "stats['B']['q1'], stats['B']['q3'] = np.percentile(a, [10, 90])\n",
        "# For box C compute the 25th and 75th percentiles (matplotlib default)\n",
        "stats['C']['q1'], stats['C']['q3'] = np.percentile(a, [25, 75])\n",
        "\n",
        "#fig = plt.figure(figsize =(10, 7))\n",
        "fig, ax = plt.subplots(1, 1, figsize = (10,7))\n",
        "# Plot boxplots from our computed statistics\n",
        "bp = ax.bxp([stats['A'], stats['B'], stats['C']], positions=range(3))\n",
        "\n",
        "# Colour the lines in the boxplot blue\n",
        "for element in bp.keys():\n",
        "    plt.setp(bp[element], color='C0')"
      ],
      "metadata": {
        "id": "jdpr8nrp68p7"
      },
      "execution_count": null,
      "outputs": []
    },
    {
      "cell_type": "code",
      "source": [
        "Y_pred"
      ],
      "metadata": {
        "id": "slUsjOM472oc"
      },
      "execution_count": null,
      "outputs": []
    },
    {
      "cell_type": "code",
      "source": [
        "# calculate MAE\n",
        "error = mae(Y_test, Y_pred)\n",
        "\n",
        "# display\n",
        "print(\"Mean absolute error : \" + str(error))\n",
        "print(f\"Decimal Representation: {error:.20f}\")"
      ],
      "metadata": {
        "id": "WleBCgBK7CLV"
      },
      "execution_count": null,
      "outputs": []
    },
    {
      "cell_type": "code",
      "source": [
        "# Mean Absolute Percentage Error\n",
        "error = mean_absolute_percentage_error(Y_test, Y_pred)\n",
        "print(error)\n",
        "\n",
        "print(f\" {error:.5f}\")"
      ],
      "metadata": {
        "id": "dq0IQafs7CIo"
      },
      "execution_count": null,
      "outputs": []
    },
    {
      "cell_type": "code",
      "source": [
        "# Relative Absolute Error\n",
        "# (|y1-y2|)/(|y1_mean-y1|)\n",
        "def relative_absolute_error(y_true, y_pred):\n",
        "  y1=y_true.to_numpy()\n",
        "  y2=y_pred.to_numpy()\n",
        "  num = np.sum(np.absolute(np.array(y1) - np.array(y2)))\n",
        "  deno = np.sum(np.absolute(y2-np.mean(y1)))\n",
        "  return (num/deno)\n",
        "relative_absolute_error(Y_test, Y_pred)"
      ],
      "metadata": {
        "id": "2kKKN9zD7CGN"
      },
      "execution_count": null,
      "outputs": []
    },
    {
      "cell_type": "code",
      "source": [
        "# Root Relative Squared Error\n",
        "# (|y1-y2|^2)/(|y1_mean-y1|^2)\n",
        "def rrse(y_true, y_pred):\n",
        "  y1=y_true.to_numpy()\n",
        "  y2=y_pred.to_numpy()\n",
        "  num = np.sum(np.square(np.absolute(np.array(y1) - np.array(y2))))\n",
        "  deno = np.sum(np.square(np.absolute(y2-np.mean(y1))))\n",
        "  return (num/deno)\n",
        "rrse(Y_test, Y_pred)"
      ],
      "metadata": {
        "id": "r0taJT1n6LKG"
      },
      "execution_count": null,
      "outputs": []
    },
    {
      "cell_type": "code",
      "source": [],
      "metadata": {
        "id": "zAKrG0bJDM5g"
      },
      "execution_count": null,
      "outputs": []
    },
    {
      "cell_type": "code",
      "source": [],
      "metadata": {
        "id": "IZfc-OcnDM93"
      },
      "execution_count": null,
      "outputs": []
    },
    {
      "cell_type": "markdown",
      "source": [
        "## High Throughput"
      ],
      "metadata": {
        "id": "sIAGvzNhDS8t"
      }
    },
    {
      "cell_type": "code",
      "source": [
        "frame_high_train.head()"
      ],
      "metadata": {
        "id": "hecjbZVsDNZP"
      },
      "execution_count": null,
      "outputs": []
    },
    {
      "cell_type": "code",
      "source": [
        "frame_high_test.head()"
      ],
      "metadata": {
        "id": "PHwBRxmSDNZQ"
      },
      "execution_count": null,
      "outputs": []
    },
    {
      "cell_type": "markdown",
      "source": [
        "### With Scaling"
      ],
      "metadata": {
        "id": "g-eCw2HuDNZQ"
      }
    },
    {
      "cell_type": "markdown",
      "source": [
        "#### MinMax Scaler"
      ],
      "metadata": {
        "id": "6otUKvu3DNZR"
      }
    },
    {
      "cell_type": "code",
      "source": [
        "df = frame_high_train[col_names_scaled]\n",
        "min_max_scaler = MinMaxScaler()\n",
        "# transform data\n",
        "df_min_max_scaled = pd.DataFrame(min_max_scaler.fit_transform(df))"
      ],
      "metadata": {
        "id": "M7X_mF0uDNZR"
      },
      "execution_count": null,
      "outputs": []
    },
    {
      "cell_type": "code",
      "source": [
        "X_train_min_max_scaler, X_valid_min_max_scaler, Y_train_min_max_scaler, Y_valid_min_max_scaler = train_test_split(df_min_max_scaled.iloc[:,:-1], df_min_max_scaled.iloc[:,-1:], test_size=0.3, random_state=0)\n",
        "print('Train set shape', X_train_min_max_scaler.shape)\n",
        "print('Validation set shape', X_valid_min_max_scaler.shape)\n",
        "X_train_min_max_scaler.head()"
      ],
      "metadata": {
        "id": "h4go81QkDNZS"
      },
      "execution_count": null,
      "outputs": []
    },
    {
      "cell_type": "code",
      "source": [
        "X_train_min_max_series = X_train_min_max_scaler.values.reshape((X_train_min_max_scaler.shape[0], X_train_min_max_scaler.shape[1], 1))\n",
        "X_valid_min_max_series = X_valid_min_max_scaler.values.reshape((X_valid_min_max_scaler.shape[0], X_valid_min_max_scaler.shape[1], 1))\n",
        "print('Train set shape', X_train_min_max_series.shape)\n",
        "print('Validation set shape', X_valid_min_max_series.shape)"
      ],
      "metadata": {
        "id": "a4LJ65eoDNZT"
      },
      "execution_count": null,
      "outputs": []
    },
    {
      "cell_type": "markdown",
      "source": [
        "### Hyper Parameter Tuning using Keras Auto Tuner"
      ],
      "metadata": {
        "id": "d4HFDPz9DNZU"
      }
    },
    {
      "cell_type": "code",
      "source": [
        "mae = MeanAbsoluteError()\n",
        "def model_builder(hp):\n",
        "  model = keras.Sequential()\n",
        "  model.add(keras.layers.Flatten(input_shape=(X_train_min_max_series.shape[1], X_train_min_max_series.shape[2])))\n",
        "\n",
        "  # Tune the number of units in the first Dense layer\n",
        "  # Choose an optimal value between 32-512\n",
        "\n",
        "  hp_units1 = hp.Int('units1', min_value=32, max_value=512, step=32)\n",
        "  hp_units2 = hp.Int('units2', min_value=32, max_value=512, step=32)\n",
        "  hp_units3 = hp.Int('units3', min_value=32, max_value=512, step=32)\n",
        "  model.add(Dense(units=hp_units1, activation='relu'))\n",
        "  model.add(Dropout(rate=hp.Float('dropout_1',min_value=0.0,max_value=0.4,default=0.25,step=0.05)))\n",
        "  model.add(tf.keras.layers.Dense(units=hp_units2, activation='relu'))\n",
        "  model.add(Dropout(rate=hp.Float('dropout_2',min_value=0.0,max_value=0.4,default=0.25,step=0.05)))\n",
        "  model.add(tf.keras.layers.Dense(units=hp_units3, activation='relu'))\n",
        "\n",
        "  model.add(Dropout(rate=hp.Float('dropout_3',min_value=0.0,max_value=0.4,default=0.25,step=0.05)))\n",
        "  model.add(Dense(1, kernel_initializer='normal', activation='linear'))\n",
        "\n",
        "  # Tune the learning rate for the optimizer\n",
        "  # Choose an optimal value from 0.01, 0.001, or 0.0001\n",
        "  hp_learning_rate = hp.Choice('learning_rate', values=[1e-2, 1e-3, 1e-4])\n",
        "\n",
        "  model.compile(optimizer=tf.keras.optimizers.Adam(learning_rate=hp_learning_rate),loss=mae,metrics=[mae])\n",
        "\n",
        "  return model\n"
      ],
      "metadata": {
        "id": "aE9XfHlmDNZV"
      },
      "execution_count": null,
      "outputs": []
    },
    {
      "cell_type": "code",
      "source": [
        "tuner = kt.Hyperband(model_builder,\n",
        "                     objective='val_mean_absolute_error',\n",
        "                     max_epochs=100,\n",
        "                     factor=3,\n",
        "                     directory='my_dir',\n",
        "                     project_name='intro_to_kt2')\n"
      ],
      "metadata": {
        "id": "UsXToR_UDNZW"
      },
      "execution_count": null,
      "outputs": []
    },
    {
      "cell_type": "code",
      "source": [
        "monitor = EarlyStopping(monitor='val_loss', min_delta=1e-3, patience=50, \n",
        "        verbose=1, mode='auto', restore_best_weights=True)"
      ],
      "metadata": {
        "id": "1Kv4VovmDNZW"
      },
      "execution_count": null,
      "outputs": []
    },
    {
      "cell_type": "code",
      "source": [
        "tuner.search(X_train_min_max_series, Y_train_min_max_scaler, validation_data=(X_valid_min_max_series, Y_valid_min_max_scaler), epochs=100, callbacks=[monitor])\n",
        "\n",
        "# Get the optimal hyperparameters\n",
        "best_hps=tuner.get_best_hyperparameters(num_trials=1)[0]\n"
      ],
      "metadata": {
        "id": "tIeKn3jgDNZW"
      },
      "execution_count": null,
      "outputs": []
    },
    {
      "cell_type": "code",
      "source": [
        "for h_param in [f\"units{i}\" for i in range(1,4)] + ['learning_rate']:\n",
        "  print(h_param, tuner.get_best_hyperparameters()[0].get(h_param))"
      ],
      "metadata": {
        "id": "yt4_EaLwDNZX"
      },
      "execution_count": null,
      "outputs": []
    },
    {
      "cell_type": "code",
      "source": [
        "best_model = tuner.get_best_models()[0]\n",
        "best_model.build(X_train_min_max_series.shape)\n",
        "best_model.summary()"
      ],
      "metadata": {
        "id": "2SFAxayuDNZY"
      },
      "execution_count": null,
      "outputs": []
    },
    {
      "cell_type": "code",
      "source": [
        "from keras.models import load_model\n",
        "\n",
        "best_model.save('best_model.h5')  # creates a HDF5 file 'my_model.h5'\n",
        "#model = load_model('my_model.h5')"
      ],
      "metadata": {
        "id": "k6-pHIx6DNZY"
      },
      "execution_count": null,
      "outputs": []
    },
    {
      "cell_type": "code",
      "source": [
        "kt_train_pred_min_max_scaled = best_model.predict(X_train_min_max_scaler)\n",
        "kt_valid_pred_min_max_scaled = best_model.predict(X_valid_min_max_scaler)\n",
        "print('Train rmse:', np.sqrt(mean_squared_error(Y_train_min_max_scaler, kt_train_pred_min_max_scaled)))\n",
        "print('Validation rmse:', np.sqrt(mean_squared_error(Y_valid_min_max_scaler, kt_valid_pred_min_max_scaled)))"
      ],
      "metadata": {
        "id": "hv8hve3FDNZd"
      },
      "execution_count": null,
      "outputs": []
    },
    {
      "cell_type": "code",
      "source": [
        "df = frame_high_test[col_names_scaled]\n",
        "df_test_scaled = pd.DataFrame(min_max_scaler.fit_transform(df))\n",
        "X_test_scaled = df_test_scaled.iloc[:,:-1]\n",
        "X_test_scaled.head()"
      ],
      "metadata": {
        "id": "vdY7BZkoDNZd"
      },
      "execution_count": null,
      "outputs": []
    },
    {
      "cell_type": "code",
      "source": [
        "Y_test = frame_high_test.iloc[:,-1:]\n",
        "Y_test.reset_index(drop=True,inplace=True)\n",
        "X_pred_scaled = best_model.predict(X_test_scaled)\n",
        "df_test_scaled[15]=X_pred_scaled\n",
        "#Inverse Transforming the Predicted Values\n",
        "df_test = pd.DataFrame(min_max_scaler.inverse_transform(df_test_scaled))\n",
        "Y_pred = df_test.iloc[:,-1:]"
      ],
      "metadata": {
        "id": "xDTINeHnDNZe"
      },
      "execution_count": null,
      "outputs": []
    },
    {
      "cell_type": "code",
      "source": [
        "fig, axes = plt.subplots(1, 1, sharex=True, sharey=True,figsize=(10,5))\n",
        "ax3 = axes\n",
        "ax3.plot(Y_test, label='Y_test')\n",
        "ax3.plot(Y_pred, label='Y_pred')\n",
        "ax3.legend(loc='best')\n",
        "ax3.set_title('LSTM')\n",
        "ax3.set_xlabel('Data Points')\n",
        "ax3.set_ylabel('Values')\n",
        "plt.show()"
      ],
      "metadata": {
        "id": "-eTvTJ0CDNZe"
      },
      "execution_count": null,
      "outputs": []
    },
    {
      "cell_type": "code",
      "source": [
        "plt.figure(figsize=(10,10))\n",
        "plt.scatter(Y_test['DL_bitrate'], Y_pred[15], c='crimson')\n",
        "plt.yscale('log')\n",
        "plt.xscale('log')\n",
        "\n",
        "p1 = max(max(Y_pred[15]), max(Y_test['DL_bitrate']))\n",
        "p2 = min(min(Y_pred[15]), min(Y_test['DL_bitrate']))\n",
        "plt.plot([p1, p2], [p1, p2], 'b-')\n",
        "plt.xlabel('True Values', fontsize=15)\n",
        "plt.ylabel('Predictions', fontsize=15)\n",
        "plt.axis('equal')\n",
        "plt.show()"
      ],
      "metadata": {
        "id": "alt7iVTeDNZf"
      },
      "execution_count": null,
      "outputs": []
    },
    {
      "cell_type": "code",
      "source": [
        "import matplotlib.cbook as cbook\n",
        "a=Y_test['DL_bitrate'].subtract(Y_pred[15])\n",
        "stats = {}\n",
        "# Compute the boxplot stats (as in the default matplotlib implementation)\n",
        "stats['A'] = cbook.boxplot_stats(a, labels='A')[0]\n",
        "stats['B'] = cbook.boxplot_stats(a, labels='B')[0]\n",
        "stats['C'] = cbook.boxplot_stats(a, labels='C')[0]\n",
        "\n",
        "# For box A compute the 1st and 99th percentiles\n",
        "stats['A']['q1'], stats['A']['q3'] = np.percentile(a, [5, 95])\n",
        "# For box B compute the 10th and 90th percentiles\n",
        "stats['B']['q1'], stats['B']['q3'] = np.percentile(a, [10, 90])\n",
        "# For box C compute the 25th and 75th percentiles (matplotlib default)\n",
        "stats['C']['q1'], stats['C']['q3'] = np.percentile(a, [25, 75])\n",
        "\n",
        "#fig = plt.figure(figsize =(10, 7))\n",
        "fig, ax = plt.subplots(1, 1, figsize = (10,7))\n",
        "# Plot boxplots from our computed statistics\n",
        "bp = ax.bxp([stats['A'], stats['B'], stats['C']], positions=range(3))\n",
        "\n",
        "# Colour the lines in the boxplot blue\n",
        "for element in bp.keys():\n",
        "    plt.setp(bp[element], color='C0')"
      ],
      "metadata": {
        "id": "IimxBHypDNZg"
      },
      "execution_count": null,
      "outputs": []
    },
    {
      "cell_type": "code",
      "source": [
        "Y_pred"
      ],
      "metadata": {
        "id": "ljzKa3ZvDNZg"
      },
      "execution_count": null,
      "outputs": []
    },
    {
      "cell_type": "code",
      "source": [
        "# calculate MAE\n",
        "error = mae(Y_test, Y_pred)\n",
        "\n",
        "# display\n",
        "print(\"Mean absolute error : \" + str(error))\n",
        "print(f\"Decimal Representation: {error:.20f}\")"
      ],
      "metadata": {
        "id": "awyyBVhpDNZh"
      },
      "execution_count": null,
      "outputs": []
    },
    {
      "cell_type": "code",
      "source": [
        "# Mean Absolute Percentage Error\n",
        "error = mean_absolute_percentage_error(Y_test, Y_pred)\n",
        "print(error)\n",
        "\n",
        "print(f\" {error:.5f}\")"
      ],
      "metadata": {
        "id": "NoL0fE5dDNZh"
      },
      "execution_count": null,
      "outputs": []
    },
    {
      "cell_type": "code",
      "source": [
        "# Relative Absolute Error\n",
        "# (|y1-y2|)/(|y1_mean-y1|)\n",
        "def relative_absolute_error(y_true, y_pred):\n",
        "  y1=y_true.to_numpy()\n",
        "  y2=y_pred.to_numpy()\n",
        "  num = np.sum(np.absolute(np.array(y1) - np.array(y2)))\n",
        "  deno = np.sum(np.absolute(y2-np.mean(y1)))\n",
        "  return (num/deno)\n",
        "relative_absolute_error(Y_test, Y_pred)"
      ],
      "metadata": {
        "id": "8GG8FN2cDNZh"
      },
      "execution_count": null,
      "outputs": []
    },
    {
      "cell_type": "code",
      "source": [
        "# Root Relative Squared Error\n",
        "# (|y1-y2|^2)/(|y1_mean-y1|^2)\n",
        "def rrse(y_true, y_pred):\n",
        "  y1=y_true.to_numpy()\n",
        "  y2=y_pred.to_numpy()\n",
        "  num = np.sum(np.square(np.absolute(np.array(y1) - np.array(y2))))\n",
        "  deno = np.sum(np.square(np.absolute(y2-np.mean(y1))))\n",
        "  return (num/deno)\n",
        "rrse(Y_test, Y_pred)"
      ],
      "metadata": {
        "id": "4j0ysLRlDNZi"
      },
      "execution_count": null,
      "outputs": []
    },
    {
      "cell_type": "markdown",
      "source": [
        "# Without Throughput Split"
      ],
      "metadata": {
        "id": "a07oX5JLUUxu"
      }
    },
    {
      "cell_type": "code",
      "source": [
        "frame_train.head()"
      ],
      "metadata": {
        "id": "bH7pvxFHU3yA"
      },
      "execution_count": null,
      "outputs": []
    },
    {
      "cell_type": "code",
      "source": [
        "frame_test.head()"
      ],
      "metadata": {
        "id": "wAMvkxUrU5E9"
      },
      "execution_count": null,
      "outputs": []
    },
    {
      "cell_type": "markdown",
      "source": [
        "## MinMax Scaler"
      ],
      "metadata": {
        "id": "QtKDpR-AVBwb"
      }
    },
    {
      "cell_type": "code",
      "source": [
        "df = frame_train[col_names_scaled]\n",
        "min_max_scaler = MinMaxScaler()\n",
        "# transform data\n",
        "df_min_max_scaled = pd.DataFrame(min_max_scaler.fit_transform(df))"
      ],
      "metadata": {
        "id": "GEt0S9SHqo_3"
      },
      "execution_count": null,
      "outputs": []
    },
    {
      "cell_type": "code",
      "source": [
        "X_train_min_max_scaler, X_valid_min_max_scaler, Y_train_min_max_scaler, Y_valid_min_max_scaler = train_test_split(df_min_max_scaled.iloc[:,:15], df_min_max_scaled.iloc[:,-1:], test_size=0.3, random_state=0)\n",
        "print('Train set shape', X_train_min_max_scaler.shape)\n",
        "print('Validation set shape', X_valid_min_max_scaler.shape)\n",
        "X_train_min_max_scaler.head()"
      ],
      "metadata": {
        "id": "2v0TooZU0c5L"
      },
      "execution_count": null,
      "outputs": []
    },
    {
      "cell_type": "code",
      "source": [
        "X_train_min_max_series = X_train_min_max_scaler.values.reshape((X_train_min_max_scaler.shape[0], X_train_min_max_scaler.shape[1], 1))\n",
        "X_valid_min_max_series = X_valid_min_max_scaler.values.reshape((X_valid_min_max_scaler.shape[0], X_valid_min_max_scaler.shape[1], 1))\n",
        "print('Train set shape', X_train_min_max_series.shape)\n",
        "print('Validation set shape', X_valid_min_max_series.shape)"
      ],
      "metadata": {
        "id": "dLqc8ZQ10cHN"
      },
      "execution_count": null,
      "outputs": []
    },
    {
      "cell_type": "code",
      "source": [],
      "metadata": {
        "id": "07aV5exhVJGI"
      },
      "execution_count": null,
      "outputs": []
    },
    {
      "cell_type": "markdown",
      "source": [
        "### Hyper Parameter Tuning using Keras Auto Tuner"
      ],
      "metadata": {
        "id": "zuFgWch4VOvm"
      }
    },
    {
      "cell_type": "code",
      "source": [
        "mae = MeanAbsoluteError()\n",
        "def model_builder(hp):\n",
        "  model = keras.Sequential()\n",
        "  model.add(keras.layers.Flatten(input_shape=(X_train_min_max_series.shape[1], X_train_min_max_series.shape[2])))\n",
        "\n",
        "  # Tune the number of units in the first Dense layer\n",
        "  # Choose an optimal value between 32-512\n",
        "\n",
        "  hp_units1 = hp.Int('units1', min_value=32, max_value=512, step=32)\n",
        "  hp_units2 = hp.Int('units2', min_value=32, max_value=512, step=32)\n",
        "  hp_units3 = hp.Int('units3', min_value=32, max_value=512, step=32)\n",
        "  model.add(Dense(units=hp_units1, activation='relu'))\n",
        "  model.add(Dropout(rate=hp.Float('dropout_1',min_value=0.0,max_value=0.4,default=0.25,step=0.05)))\n",
        "  model.add(tf.keras.layers.Dense(units=hp_units2, activation='relu'))\n",
        "  model.add(Dropout(rate=hp.Float('dropout_2',min_value=0.0,max_value=0.4,default=0.25,step=0.05)))\n",
        "  model.add(tf.keras.layers.Dense(units=hp_units3, activation='relu'))\n",
        "\n",
        "  model.add(Dropout(rate=hp.Float('dropout_3',min_value=0.0,max_value=0.4,default=0.25,step=0.05)))\n",
        "  model.add(Dense(1, kernel_initializer='normal', activation='linear'))\n",
        "\n",
        "  # Tune the learning rate for the optimizer\n",
        "  # Choose an optimal value from 0.01, 0.001, or 0.0001\n",
        "  hp_learning_rate = hp.Choice('learning_rate', values=[1e-2, 1e-3, 1e-4])\n",
        "\n",
        "  model.compile(optimizer=tf.keras.optimizers.Adam(learning_rate=hp_learning_rate),loss=mae,metrics=[mae])\n",
        "\n",
        "  return model\n"
      ],
      "metadata": {
        "id": "VPQJfMzKVOvn"
      },
      "execution_count": null,
      "outputs": []
    },
    {
      "cell_type": "code",
      "source": [
        "tuner = kt.Hyperband(model_builder,\n",
        "                     objective='val_mean_absolute_error',\n",
        "                     max_epochs=100,\n",
        "                     factor=3,\n",
        "                     directory='my_dir',\n",
        "                     project_name='intro_to_kt3')\n"
      ],
      "metadata": {
        "id": "RaxDmQVgVOvo"
      },
      "execution_count": null,
      "outputs": []
    },
    {
      "cell_type": "code",
      "source": [
        "monitor = EarlyStopping(monitor='val_loss', min_delta=1e-3, patience=50, \n",
        "        verbose=1, mode='auto', restore_best_weights=True)"
      ],
      "metadata": {
        "id": "RP-4xslWVOvp"
      },
      "execution_count": null,
      "outputs": []
    },
    {
      "cell_type": "code",
      "source": [
        "tuner.search(X_train_min_max_series, Y_train_min_max_scaler, validation_data=(X_valid_min_max_series, Y_valid_min_max_scaler), epochs=100, callbacks=[monitor])\n",
        "\n",
        "# Get the optimal hyperparameters\n",
        "best_hps=tuner.get_best_hyperparameters(num_trials=1)[0]\n"
      ],
      "metadata": {
        "id": "eR9CK5EsVOvq"
      },
      "execution_count": null,
      "outputs": []
    },
    {
      "cell_type": "code",
      "source": [
        "for h_param in [f\"units{i}\" for i in range(1,4)] + ['learning_rate']:\n",
        "  print(h_param, tuner.get_best_hyperparameters()[0].get(h_param))"
      ],
      "metadata": {
        "id": "kKOUt-EFVOvr"
      },
      "execution_count": null,
      "outputs": []
    },
    {
      "cell_type": "code",
      "source": [
        "best_model = tuner.get_best_models()[0]\n",
        "best_model.build(X_train_min_max_series.shape)\n",
        "best_model.summary()"
      ],
      "metadata": {
        "id": "WBQ9jbcbVOvr"
      },
      "execution_count": null,
      "outputs": []
    },
    {
      "cell_type": "code",
      "source": [
        "from keras.models import load_model\n",
        "\n",
        "best_model.save('best_model.h5')  # creates a HDF5 file 'my_model.h5'\n",
        "#model = load_model('my_model.h5')"
      ],
      "metadata": {
        "id": "aDOJtBgRVOvr"
      },
      "execution_count": null,
      "outputs": []
    },
    {
      "cell_type": "code",
      "source": [
        "kt_train_pred_min_max_scaled = best_model.predict(X_train_min_max_scaler)\n",
        "kt_valid_pred_min_max_scaled = best_model.predict(X_valid_min_max_scaler)\n",
        "print('Train rmse:', np.sqrt(mean_squared_error(Y_train_min_max_scaler, kt_train_pred_min_max_scaled)))\n",
        "print('Validation rmse:', np.sqrt(mean_squared_error(Y_valid_min_max_scaler, kt_valid_pred_min_max_scaled)))"
      ],
      "metadata": {
        "id": "PVbo83CMVOvs"
      },
      "execution_count": null,
      "outputs": []
    },
    {
      "cell_type": "code",
      "source": [
        "df = frame_test[col_names_scaled]\n",
        "df_test_scaled = pd.DataFrame(min_max_scaler.fit_transform(df))\n",
        "X_test_scaled = df_test_scaled.iloc[:,:-1]\n",
        "X_test_scaled.head()"
      ],
      "metadata": {
        "id": "qnTobjeeVOvs"
      },
      "execution_count": null,
      "outputs": []
    },
    {
      "cell_type": "code",
      "source": [
        "Y_test = frame_test.iloc[:,-1:]\n",
        "Y_test.reset_index(drop=True,inplace=True)\n",
        "X_pred_scaled = best_model.predict(X_test_scaled)\n",
        "df_test_scaled[15]=X_pred_scaled\n",
        "#Inverse Transforming the Predicted Values\n",
        "df_test = pd.DataFrame(min_max_scaler.inverse_transform(df_test_scaled))\n",
        "Y_pred = df_test.iloc[:,-1:]"
      ],
      "metadata": {
        "id": "Vx0k_KJoVOvt"
      },
      "execution_count": null,
      "outputs": []
    },
    {
      "cell_type": "code",
      "source": [
        "fig, axes = plt.subplots(1, 1, sharex=True, sharey=True,figsize=(10,5))\n",
        "ax3 = axes\n",
        "ax3.plot(Y_test, label='Y_test')\n",
        "ax3.plot(Y_pred, label='Y_pred')\n",
        "ax3.legend(loc='best')\n",
        "ax3.set_title('LSTM')\n",
        "ax3.set_xlabel('Data Points')\n",
        "ax3.set_ylabel('Values')\n",
        "plt.show()"
      ],
      "metadata": {
        "id": "8cHwfBOIVOvu"
      },
      "execution_count": null,
      "outputs": []
    },
    {
      "cell_type": "code",
      "source": [
        "plt.figure(figsize=(10,10))\n",
        "plt.scatter(Y_test['DL_bitrate'], Y_pred[15], c='crimson')\n",
        "plt.yscale('log')\n",
        "plt.xscale('log')\n",
        "\n",
        "p1 = max(max(Y_pred[15]), max(Y_test['DL_bitrate']))\n",
        "p2 = min(min(Y_pred[15]), min(Y_test['DL_bitrate']))\n",
        "plt.plot([p1, p2], [p1, p2], 'b-')\n",
        "plt.xlabel('True Values', fontsize=15)\n",
        "plt.ylabel('Predictions', fontsize=15)\n",
        "plt.axis('equal')\n",
        "plt.show()"
      ],
      "metadata": {
        "id": "xy96iPstVOvu"
      },
      "execution_count": null,
      "outputs": []
    },
    {
      "cell_type": "code",
      "source": [
        "import matplotlib.cbook as cbook\n",
        "a=Y_test['DL_bitrate'].subtract(Y_pred[15])\n",
        "stats = {}\n",
        "# Compute the boxplot stats (as in the default matplotlib implementation)\n",
        "stats['A'] = cbook.boxplot_stats(a, labels='A')[0]\n",
        "stats['B'] = cbook.boxplot_stats(a, labels='B')[0]\n",
        "stats['C'] = cbook.boxplot_stats(a, labels='C')[0]\n",
        "\n",
        "# For box A compute the 1st and 99th percentiles\n",
        "stats['A']['q1'], stats['A']['q3'] = np.percentile(a, [5, 95])\n",
        "# For box B compute the 10th and 90th percentiles\n",
        "stats['B']['q1'], stats['B']['q3'] = np.percentile(a, [10, 90])\n",
        "# For box C compute the 25th and 75th percentiles (matplotlib default)\n",
        "stats['C']['q1'], stats['C']['q3'] = np.percentile(a, [25, 75])\n",
        "\n",
        "#fig = plt.figure(figsize =(10, 7))\n",
        "fig, ax = plt.subplots(1, 1, figsize = (10,7))\n",
        "# Plot boxplots from our computed statistics\n",
        "bp = ax.bxp([stats['A'], stats['B'], stats['C']], positions=range(3))\n",
        "\n",
        "# Colour the lines in the boxplot blue\n",
        "for element in bp.keys():\n",
        "    plt.setp(bp[element], color='C0')"
      ],
      "metadata": {
        "id": "sFIWEN39VOvv"
      },
      "execution_count": null,
      "outputs": []
    },
    {
      "cell_type": "code",
      "source": [
        "# calculate MAE\n",
        "error = mae(Y_test, Y_pred)\n",
        "\n",
        "# display\n",
        "print(\"Mean absolute error : \" + str(error))\n",
        "print(f\"Decimal Representation: {error:.20f}\")"
      ],
      "metadata": {
        "id": "Dk2y-vG7VOvw"
      },
      "execution_count": null,
      "outputs": []
    },
    {
      "cell_type": "code",
      "source": [
        "# Mean Absolute Percentage Error\n",
        "error = mean_absolute_percentage_error(Y_test, Y_pred)\n",
        "print(error)\n",
        "\n",
        "print(f\" {error:.5f}\")"
      ],
      "metadata": {
        "id": "Pj08o2GWVOvx"
      },
      "execution_count": null,
      "outputs": []
    },
    {
      "cell_type": "code",
      "source": [
        "# Relative Absolute Error\n",
        "# (|y1-y2|)/(|y1_mean-y1|)\n",
        "def relative_absolute_error(y_true, y_pred):\n",
        "  y1=y_true.to_numpy()\n",
        "  y2=y_pred.to_numpy()\n",
        "  num = np.sum(np.absolute(np.array(y1) - np.array(y2)))\n",
        "  deno = np.sum(np.absolute(y2-np.mean(y1)))\n",
        "  return (num/deno)\n",
        "relative_absolute_error(Y_test, Y_pred)"
      ],
      "metadata": {
        "id": "5k943jVcVOvx"
      },
      "execution_count": null,
      "outputs": []
    },
    {
      "cell_type": "code",
      "source": [
        "# Root Relative Squared Error\n",
        "# (|y1-y2|^2)/(|y1_mean-y1|^2)\n",
        "def rrse(y_true, y_pred):\n",
        "  y1=y_true.to_numpy()\n",
        "  y2=y_pred.to_numpy()\n",
        "  num = np.sum(np.square(np.absolute(np.array(y1) - np.array(y2))))\n",
        "  deno = np.sum(np.square(np.absolute(y2-np.mean(y1))))\n",
        "  return (num/deno)\n",
        "rrse(Y_test, Y_pred)"
      ],
      "metadata": {
        "id": "qwFrCRQ8VOvy"
      },
      "execution_count": null,
      "outputs": []
    },
    {
      "cell_type": "markdown",
      "source": [
        "## Testing on SPlit Throughput"
      ],
      "metadata": {
        "id": "TWqmmpYXfgja"
      }
    },
    {
      "cell_type": "markdown",
      "source": [
        "## Low Throughput"
      ],
      "metadata": {
        "id": "nvGabbylfkYm"
      }
    },
    {
      "cell_type": "code",
      "source": [
        "df = frame_low_test[col_names_scaled]\n",
        "df_test_scaled = pd.DataFrame(min_max_scaler.fit_transform(df))\n",
        "X_test_scaled = df_test_scaled.iloc[:,:-1]\n",
        "X_test_scaled.head()"
      ],
      "metadata": {
        "id": "ht0_AMhEVJD-"
      },
      "execution_count": null,
      "outputs": []
    },
    {
      "cell_type": "code",
      "source": [
        "Y_test = frame_low_test.iloc[:,-1:]\n",
        "Y_test.reset_index(drop=True,inplace=True)\n",
        "X_pred_scaled = best_model.predict(X_test_scaled)\n",
        "df_test_scaled[15]=X_pred_scaled\n",
        "#Inverse Transforming the Predicted Values\n",
        "df_test = pd.DataFrame(min_max_scaler.inverse_transform(df_test_scaled))\n",
        "Y_pred = df_test.iloc[:,-1:]"
      ],
      "metadata": {
        "id": "W2ZV14yZVJBX"
      },
      "execution_count": null,
      "outputs": []
    },
    {
      "cell_type": "code",
      "source": [
        "fig, axes = plt.subplots(1, 1, sharex=True, sharey=True,figsize=(10,5))\n",
        "ax3 = axes\n",
        "ax3.plot(Y_test, label='Y_test')\n",
        "ax3.plot(Y_pred, label='Y_pred')\n",
        "ax3.legend(loc='best')\n",
        "ax3.set_title('LSTM')\n",
        "ax3.set_xlabel('Data Points')\n",
        "ax3.set_ylabel('Values')\n",
        "plt.show()"
      ],
      "metadata": {
        "id": "WbR65sezVI-v"
      },
      "execution_count": null,
      "outputs": []
    },
    {
      "cell_type": "code",
      "source": [
        "plt.figure(figsize=(10,10))\n",
        "plt.scatter(Y_test['DL_bitrate'], Y_pred[15], c='crimson')\n",
        "plt.yscale('log')\n",
        "plt.xscale('log')\n",
        "\n",
        "p1 = max(max(Y_pred[15]), max(Y_test['DL_bitrate']))\n",
        "p2 = min(min(Y_pred[15]), min(Y_test['DL_bitrate']))\n",
        "plt.plot([p1, p2], [p1, p2], 'b-')\n",
        "plt.xlabel('True Values', fontsize=15)\n",
        "plt.ylabel('Predictions', fontsize=15)\n",
        "plt.axis('equal')\n",
        "plt.show()"
      ],
      "metadata": {
        "id": "LT2UF1TIVI8S"
      },
      "execution_count": null,
      "outputs": []
    },
    {
      "cell_type": "code",
      "source": [
        "import matplotlib.cbook as cbook\n",
        "a=Y_test['DL_bitrate'].subtract(Y_pred[15])\n",
        "stats = {}\n",
        "# Compute the boxplot stats (as in the default matplotlib implementation)\n",
        "stats['A'] = cbook.boxplot_stats(a, labels='A')[0]\n",
        "stats['B'] = cbook.boxplot_stats(a, labels='B')[0]\n",
        "stats['C'] = cbook.boxplot_stats(a, labels='C')[0]\n",
        "\n",
        "# For box A compute the 1st and 99th percentiles\n",
        "stats['A']['q1'], stats['A']['q3'] = np.percentile(a, [5, 95])\n",
        "# For box B compute the 10th and 90th percentiles\n",
        "stats['B']['q1'], stats['B']['q3'] = np.percentile(a, [10, 90])\n",
        "# For box C compute the 25th and 75th percentiles (matplotlib default)\n",
        "stats['C']['q1'], stats['C']['q3'] = np.percentile(a, [25, 75])\n",
        "\n",
        "#fig = plt.figure(figsize =(10, 7))\n",
        "fig, ax = plt.subplots(1, 1, figsize = (10,7))\n",
        "# Plot boxplots from our computed statistics\n",
        "bp = ax.bxp([stats['A'], stats['B'], stats['C']], positions=range(3))\n",
        "\n",
        "# Colour the lines in the boxplot blue\n",
        "for element in bp.keys():\n",
        "    plt.setp(bp[element], color='C0')"
      ],
      "metadata": {
        "id": "J_mFHTGuhxaW"
      },
      "execution_count": null,
      "outputs": []
    },
    {
      "cell_type": "code",
      "source": [
        "Y_pred"
      ],
      "metadata": {
        "id": "nOUc-UkHhxaX"
      },
      "execution_count": null,
      "outputs": []
    },
    {
      "cell_type": "code",
      "source": [
        "# calculate MAE\n",
        "error = mae(Y_test, Y_pred)\n",
        "\n",
        "# display\n",
        "print(\"Mean absolute error : \" + str(error))\n",
        "print(f\"Decimal Representation: {error:.20f}\")"
      ],
      "metadata": {
        "id": "NC23MebFhxaY"
      },
      "execution_count": null,
      "outputs": []
    },
    {
      "cell_type": "code",
      "source": [
        "# Mean Absolute Percentage Error\n",
        "error = mean_absolute_percentage_error(Y_test, Y_pred)\n",
        "print(error)\n",
        "\n",
        "print(f\" {error:.5f}\")"
      ],
      "metadata": {
        "id": "OkW-K18lhxaY"
      },
      "execution_count": null,
      "outputs": []
    },
    {
      "cell_type": "code",
      "source": [
        "# Relative Absolute Error\n",
        "# (|y1-y2|)/(|y1_mean-y1|)\n",
        "def relative_absolute_error(y_true, y_pred):\n",
        "  y1=y_true.to_numpy()\n",
        "  y2=y_pred.to_numpy()\n",
        "  num = np.sum(np.absolute(np.array(y1) - np.array(y2)))\n",
        "  deno = np.sum(np.absolute(y2-np.mean(y1)))\n",
        "  return (num/deno)\n",
        "relative_absolute_error(Y_test, Y_pred)"
      ],
      "metadata": {
        "id": "8p2ck8cGhxaZ"
      },
      "execution_count": null,
      "outputs": []
    },
    {
      "cell_type": "code",
      "source": [
        "# Root Relative Squared Error\n",
        "# (|y1-y2|^2)/(|y1_mean-y1|^2)\n",
        "def rrse(y_true, y_pred):\n",
        "  y1=y_true.to_numpy()\n",
        "  y2=y_pred.to_numpy()\n",
        "  num = np.sum(np.square(np.absolute(np.array(y1) - np.array(y2))))\n",
        "  deno = np.sum(np.square(np.absolute(y2-np.mean(y1))))\n",
        "  return (num/deno)\n",
        "rrse(Y_test, Y_pred)"
      ],
      "metadata": {
        "id": "z1N53UuMhxaZ"
      },
      "execution_count": null,
      "outputs": []
    },
    {
      "cell_type": "code",
      "source": [],
      "metadata": {
        "id": "DlKKcrXvh0A3"
      },
      "execution_count": null,
      "outputs": []
    },
    {
      "cell_type": "markdown",
      "source": [
        "## Medium Throughput"
      ],
      "metadata": {
        "id": "TmZIN8gOh0N7"
      }
    },
    {
      "cell_type": "code",
      "source": [
        "df = frame_medium_test[col_names_scaled]\n",
        "df_test_scaled = pd.DataFrame(min_max_scaler.fit_transform(df))\n",
        "X_test_scaled = df_test_scaled.iloc[:,:-1]\n",
        "X_test_scaled.head()"
      ],
      "metadata": {
        "id": "UE76kq1Eh0N8"
      },
      "execution_count": null,
      "outputs": []
    },
    {
      "cell_type": "code",
      "source": [
        "Y_test = frame_medium_test.iloc[:,-1:]\n",
        "Y_test.reset_index(drop=True,inplace=True)\n",
        "X_pred_scaled = best_model.predict(X_test_scaled)\n",
        "df_test_scaled[15]=X_pred_scaled\n",
        "#Inverse Transforming the Predicted Values\n",
        "df_test = pd.DataFrame(min_max_scaler.inverse_transform(df_test_scaled))\n",
        "Y_pred = df_test.iloc[:,-1:]"
      ],
      "metadata": {
        "id": "Sk9FT1Nzh0N-"
      },
      "execution_count": null,
      "outputs": []
    },
    {
      "cell_type": "code",
      "source": [
        "fig, axes = plt.subplots(1, 1, sharex=True, sharey=True,figsize=(10,5))\n",
        "ax3 = axes\n",
        "ax3.plot(Y_test, label='Y_test')\n",
        "ax3.plot(Y_pred, label='Y_pred')\n",
        "ax3.legend(loc='best')\n",
        "ax3.set_title('LSTM')\n",
        "ax3.set_xlabel('Data Points')\n",
        "ax3.set_ylabel('Values')\n",
        "plt.show()"
      ],
      "metadata": {
        "id": "adKed2Ozh0OA"
      },
      "execution_count": null,
      "outputs": []
    },
    {
      "cell_type": "code",
      "source": [
        "plt.figure(figsize=(10,10))\n",
        "plt.scatter(Y_test['DL_bitrate'], Y_pred[15], c='crimson')\n",
        "plt.yscale('log')\n",
        "plt.xscale('log')\n",
        "\n",
        "p1 = max(max(Y_pred[15]), max(Y_test['DL_bitrate']))\n",
        "p2 = min(min(Y_pred[15]), min(Y_test['DL_bitrate']))\n",
        "plt.plot([p1, p2], [p1, p2], 'b-')\n",
        "plt.xlabel('True Values', fontsize=15)\n",
        "plt.ylabel('Predictions', fontsize=15)\n",
        "plt.axis('equal')\n",
        "plt.show()"
      ],
      "metadata": {
        "id": "8OR-jVPEh0OB"
      },
      "execution_count": null,
      "outputs": []
    },
    {
      "cell_type": "code",
      "source": [
        "import matplotlib.cbook as cbook\n",
        "a=Y_test['DL_bitrate'].subtract(Y_pred[15])\n",
        "stats = {}\n",
        "# Compute the boxplot stats (as in the default matplotlib implementation)\n",
        "stats['A'] = cbook.boxplot_stats(a, labels='A')[0]\n",
        "stats['B'] = cbook.boxplot_stats(a, labels='B')[0]\n",
        "stats['C'] = cbook.boxplot_stats(a, labels='C')[0]\n",
        "\n",
        "# For box A compute the 1st and 99th percentiles\n",
        "stats['A']['q1'], stats['A']['q3'] = np.percentile(a, [5, 95])\n",
        "# For box B compute the 10th and 90th percentiles\n",
        "stats['B']['q1'], stats['B']['q3'] = np.percentile(a, [10, 90])\n",
        "# For box C compute the 25th and 75th percentiles (matplotlib default)\n",
        "stats['C']['q1'], stats['C']['q3'] = np.percentile(a, [25, 75])\n",
        "\n",
        "#fig = plt.figure(figsize =(10, 7))\n",
        "fig, ax = plt.subplots(1, 1, figsize = (10,7))\n",
        "# Plot boxplots from our computed statistics\n",
        "bp = ax.bxp([stats['A'], stats['B'], stats['C']], positions=range(3))\n",
        "\n",
        "# Colour the lines in the boxplot blue\n",
        "for element in bp.keys():\n",
        "    plt.setp(bp[element], color='C0')"
      ],
      "metadata": {
        "id": "0ZG4LWewh0OB"
      },
      "execution_count": null,
      "outputs": []
    },
    {
      "cell_type": "code",
      "source": [
        "Y_pred"
      ],
      "metadata": {
        "id": "-BT31ggYh0OC"
      },
      "execution_count": null,
      "outputs": []
    },
    {
      "cell_type": "code",
      "source": [
        "# calculate MAE\n",
        "error = mae(Y_test, Y_pred)\n",
        "\n",
        "# display\n",
        "print(\"Mean absolute error : \" + str(error))\n",
        "print(f\"Decimal Representation: {error:.20f}\")"
      ],
      "metadata": {
        "id": "8RlL1_z3h0OD"
      },
      "execution_count": null,
      "outputs": []
    },
    {
      "cell_type": "code",
      "source": [
        "# Mean Absolute Percentage Error\n",
        "error = mean_absolute_percentage_error(Y_test, Y_pred)\n",
        "print(error)\n",
        "\n",
        "print(f\" {error:.5f}\")"
      ],
      "metadata": {
        "id": "pLLJzo8Xh0OE"
      },
      "execution_count": null,
      "outputs": []
    },
    {
      "cell_type": "code",
      "source": [
        "# Relative Absolute Error\n",
        "# (|y1-y2|)/(|y1_mean-y1|)\n",
        "def relative_absolute_error(y_true, y_pred):\n",
        "  y1=y_true.to_numpy()\n",
        "  y2=y_pred.to_numpy()\n",
        "  num = np.sum(np.absolute(np.array(y1) - np.array(y2)))\n",
        "  deno = np.sum(np.absolute(y2-np.mean(y1)))\n",
        "  return (num/deno)\n",
        "relative_absolute_error(Y_test, Y_pred)"
      ],
      "metadata": {
        "id": "TzHcvTfph0OF"
      },
      "execution_count": null,
      "outputs": []
    },
    {
      "cell_type": "code",
      "source": [
        "# Root Relative Squared Error\n",
        "# (|y1-y2|^2)/(|y1_mean-y1|^2)\n",
        "def rrse(y_true, y_pred):\n",
        "  y1=y_true.to_numpy()\n",
        "  y2=y_pred.to_numpy()\n",
        "  num = np.sum(np.square(np.absolute(np.array(y1) - np.array(y2))))\n",
        "  deno = np.sum(np.square(np.absolute(y2-np.mean(y1))))\n",
        "  return (num/deno)\n",
        "rrse(Y_test, Y_pred)"
      ],
      "metadata": {
        "id": "dmIjqexEh0OF"
      },
      "execution_count": null,
      "outputs": []
    },
    {
      "cell_type": "code",
      "source": [],
      "metadata": {
        "id": "hGMREYWih0vw"
      },
      "execution_count": null,
      "outputs": []
    },
    {
      "cell_type": "markdown",
      "source": [
        "## High Throughput"
      ],
      "metadata": {
        "id": "Dg2IsDvFh02G"
      }
    },
    {
      "cell_type": "code",
      "source": [
        "df = frame_high_test[col_names_scaled]\n",
        "df_test_scaled = pd.DataFrame(min_max_scaler.fit_transform(df))\n",
        "X_test_scaled = df_test_scaled.iloc[:,:-1]\n",
        "X_test_scaled.head()"
      ],
      "metadata": {
        "id": "Q6RPGyxwh02G"
      },
      "execution_count": null,
      "outputs": []
    },
    {
      "cell_type": "code",
      "source": [
        "Y_test = frame_high_test.iloc[:,-1:]\n",
        "Y_test.reset_index(drop=True,inplace=True)\n",
        "X_pred_scaled = best_model.predict(X_test_scaled)\n",
        "df_test_scaled[15]=X_pred_scaled\n",
        "#Inverse Transforming the Predicted Values\n",
        "df_test = pd.DataFrame(min_max_scaler.inverse_transform(df_test_scaled))\n",
        "Y_pred = df_test.iloc[:,-1:]"
      ],
      "metadata": {
        "id": "zi1C3vkJh02H"
      },
      "execution_count": null,
      "outputs": []
    },
    {
      "cell_type": "code",
      "source": [
        "fig, axes = plt.subplots(1, 1, sharex=True, sharey=True,figsize=(10,5))\n",
        "ax3 = axes\n",
        "ax3.plot(Y_test, label='Y_test')\n",
        "ax3.plot(Y_pred, label='Y_pred')\n",
        "ax3.legend(loc='best')\n",
        "ax3.set_title('LSTM')\n",
        "ax3.set_xlabel('Data Points')\n",
        "ax3.set_ylabel('Values')\n",
        "plt.show()"
      ],
      "metadata": {
        "id": "D54mpbSah02H"
      },
      "execution_count": null,
      "outputs": []
    },
    {
      "cell_type": "code",
      "source": [
        "plt.figure(figsize=(10,10))\n",
        "plt.scatter(Y_test['DL_bitrate'], Y_pred[15], c='crimson')\n",
        "plt.yscale('log')\n",
        "plt.xscale('log')\n",
        "\n",
        "p1 = max(max(Y_pred[15]), max(Y_test['DL_bitrate']))\n",
        "p2 = min(min(Y_pred[15]), min(Y_test['DL_bitrate']))\n",
        "plt.plot([p1, p2], [p1, p2], 'b-')\n",
        "plt.xlabel('True Values', fontsize=15)\n",
        "plt.ylabel('Predictions', fontsize=15)\n",
        "plt.axis('equal')\n",
        "plt.show()"
      ],
      "metadata": {
        "id": "dh69LzK3h02I"
      },
      "execution_count": null,
      "outputs": []
    },
    {
      "cell_type": "code",
      "source": [
        "import matplotlib.cbook as cbook\n",
        "a=Y_test['DL_bitrate'].subtract(Y_pred[15])\n",
        "stats = {}\n",
        "# Compute the boxplot stats (as in the default matplotlib implementation)\n",
        "stats['A'] = cbook.boxplot_stats(a, labels='A')[0]\n",
        "stats['B'] = cbook.boxplot_stats(a, labels='B')[0]\n",
        "stats['C'] = cbook.boxplot_stats(a, labels='C')[0]\n",
        "\n",
        "# For box A compute the 1st and 99th percentiles\n",
        "stats['A']['q1'], stats['A']['q3'] = np.percentile(a, [5, 95])\n",
        "# For box B compute the 10th and 90th percentiles\n",
        "stats['B']['q1'], stats['B']['q3'] = np.percentile(a, [10, 90])\n",
        "# For box C compute the 25th and 75th percentiles (matplotlib default)\n",
        "stats['C']['q1'], stats['C']['q3'] = np.percentile(a, [25, 75])\n",
        "\n",
        "#fig = plt.figure(figsize =(10, 7))\n",
        "fig, ax = plt.subplots(1, 1, figsize = (10,7))\n",
        "# Plot boxplots from our computed statistics\n",
        "bp = ax.bxp([stats['A'], stats['B'], stats['C']], positions=range(3))\n",
        "\n",
        "# Colour the lines in the boxplot blue\n",
        "for element in bp.keys():\n",
        "    plt.setp(bp[element], color='C0')"
      ],
      "metadata": {
        "id": "7XNGZp3zh02I"
      },
      "execution_count": null,
      "outputs": []
    },
    {
      "cell_type": "code",
      "source": [
        "Y_pred"
      ],
      "metadata": {
        "id": "9HfoDK9nh02J"
      },
      "execution_count": null,
      "outputs": []
    },
    {
      "cell_type": "code",
      "source": [
        "# calculate MAE\n",
        "error = mae(Y_test, Y_pred)\n",
        "\n",
        "# display\n",
        "print(\"Mean absolute error : \" + str(error))\n",
        "print(f\"Decimal Representation: {error:.20f}\")"
      ],
      "metadata": {
        "id": "eSIRwa4xh02J"
      },
      "execution_count": null,
      "outputs": []
    },
    {
      "cell_type": "code",
      "source": [
        "# Mean Absolute Percentage Error\n",
        "error = mean_absolute_percentage_error(Y_test, Y_pred)\n",
        "print(error)\n",
        "\n",
        "print(f\" {error:.5f}\")"
      ],
      "metadata": {
        "id": "mRRnE5Syh02K"
      },
      "execution_count": null,
      "outputs": []
    },
    {
      "cell_type": "code",
      "source": [
        "# Relative Absolute Error\n",
        "# (|y1-y2|)/(|y1_mean-y1|)\n",
        "def relative_absolute_error(y_true, y_pred):\n",
        "  y1=y_true.to_numpy()\n",
        "  y2=y_pred.to_numpy()\n",
        "  num = np.sum(np.absolute(np.array(y1) - np.array(y2)))\n",
        "  deno = np.sum(np.absolute(y2-np.mean(y1)))\n",
        "  return (num/deno)\n",
        "relative_absolute_error(Y_test, Y_pred)"
      ],
      "metadata": {
        "id": "xj-NkFUEh02K"
      },
      "execution_count": null,
      "outputs": []
    },
    {
      "cell_type": "code",
      "source": [
        "# Root Relative Squared Error\n",
        "# (|y1-y2|^2)/(|y1_mean-y1|^2)\n",
        "def rrse(y_true, y_pred):\n",
        "  y1=y_true.to_numpy()\n",
        "  y2=y_pred.to_numpy()\n",
        "  num = np.sum(np.square(np.absolute(np.array(y1) - np.array(y2))))\n",
        "  deno = np.sum(np.square(np.absolute(y2-np.mean(y1))))\n",
        "  return (num/deno)\n",
        "rrse(Y_test, Y_pred)"
      ],
      "metadata": {
        "id": "JIHAOGB1h02L"
      },
      "execution_count": null,
      "outputs": []
    },
    {
      "cell_type": "markdown",
      "source": [
        "## NEW"
      ],
      "metadata": {
        "id": "8YsIsifBHVG2"
      }
    },
    {
      "cell_type": "code",
      "source": [
        "frame_test"
      ],
      "metadata": {
        "colab": {
          "base_uri": "https://localhost:8080/",
          "height": 488
        },
        "id": "syfMQZhiHV6A",
        "outputId": "4e30b2ec-e238-478b-9ced-e324f6bf2270"
      },
      "execution_count": null,
      "outputs": [
        {
          "output_type": "execute_result",
          "data": {
            "text/plain": [
              "      CQI-0  CQI-1  CQI-2  CQI-3  CQI-4  DL_bitrate-0  DL_bitrate-1  \\\n",
              "0     8.000  8.000  8.000  8.000  8.000      3657.000      5413.000   \n",
              "1     8.000  8.000  8.000  8.000  8.000      4719.000      3657.000   \n",
              "2     6.000  8.000  8.000  8.000  8.000      7280.000      4719.000   \n",
              "3     7.000  6.000  8.000  8.000  8.000      3813.000      7280.000   \n",
              "4     7.000  7.000  6.000  8.000  8.000      4742.000      3813.000   \n",
              "...     ...    ...    ...    ...    ...           ...           ...   \n",
              "2437  6.000  6.000  6.000  6.000  7.000      5849.000      7806.000   \n",
              "2438  6.000  6.000  6.000  6.000  6.000      4965.000      5849.000   \n",
              "2439  6.000  6.000  6.000  6.000  6.000      3019.000      4965.000   \n",
              "2440  9.000  6.000  6.000  6.000  6.000     11676.000      3019.000   \n",
              "2441  7.000  9.000  6.000  6.000  6.000     12268.000     11676.000   \n",
              "\n",
              "      DL_bitrate-2  DL_bitrate-3  DL_bitrate-4  ...  SNR-2  SNR-3  SNR-4  \\\n",
              "0         7795.000      7795.000      6777.000  ...  6.000  6.000  7.000   \n",
              "1         5413.000      7795.000      7795.000  ...  6.000  6.000  6.000   \n",
              "2         3657.000      5413.000      7795.000  ...  4.000  6.000  6.000   \n",
              "3         4719.000      3657.000      5413.000  ...  4.000  4.000  6.000   \n",
              "4         7280.000      4719.000      3657.000  ...  3.000  4.000  4.000   \n",
              "...            ...           ...           ...  ...    ...    ...    ...   \n",
              "2437      7515.000      6408.000      5144.000  ... -3.000 -3.000  0.000   \n",
              "2438      7806.000      7515.000      6408.000  ... -4.000 -3.000 -3.000   \n",
              "2439      5849.000      7806.000      7515.000  ... -4.000 -4.000 -3.000   \n",
              "2440      4965.000      5849.000      7806.000  ... -4.000 -4.000 -4.000   \n",
              "2441      3019.000      4965.000      5849.000  ... -4.000 -4.000 -4.000   \n",
              "\n",
              "      UL_bitrate-0  UL_bitrate-1  UL_bitrate-2  UL_bitrate-3  UL_bitrate-4  \\\n",
              "0          162.000       100.000       143.000       143.000       128.000   \n",
              "1          155.000       162.000       100.000       143.000       143.000   \n",
              "2          144.000       155.000       162.000       100.000       143.000   \n",
              "3           70.000       144.000       155.000       162.000       100.000   \n",
              "4           86.000        70.000       144.000       155.000       162.000   \n",
              "...            ...           ...           ...           ...           ...   \n",
              "2437       108.000       152.000       143.000       126.000       105.000   \n",
              "2438        98.000       108.000       152.000       143.000       126.000   \n",
              "2439        56.000        98.000       108.000       152.000       143.000   \n",
              "2440       220.000        56.000        98.000       108.000       152.000   \n",
              "2441       235.000       220.000        56.000        98.000       108.000   \n",
              "\n",
              "      DL_bitrate  Class  \n",
              "0       4656.000      1  \n",
              "1       5294.000      1  \n",
              "2       6627.000      1  \n",
              "3       9069.000      1  \n",
              "4      10859.000      1  \n",
              "...          ...    ...  \n",
              "2437    8839.000      0  \n",
              "2438    9454.000      0  \n",
              "2439    9852.000      0  \n",
              "2440    8090.000      0  \n",
              "2441    6403.000      0  \n",
              "\n",
              "[2442 rows x 47 columns]"
            ],
            "text/html": [
              "\n",
              "  <div id=\"df-6bd13d87-27d6-48bb-a251-6c57fdceb8b5\">\n",
              "    <div class=\"colab-df-container\">\n",
              "      <div>\n",
              "<style scoped>\n",
              "    .dataframe tbody tr th:only-of-type {\n",
              "        vertical-align: middle;\n",
              "    }\n",
              "\n",
              "    .dataframe tbody tr th {\n",
              "        vertical-align: top;\n",
              "    }\n",
              "\n",
              "    .dataframe thead th {\n",
              "        text-align: right;\n",
              "    }\n",
              "</style>\n",
              "<table border=\"1\" class=\"dataframe\">\n",
              "  <thead>\n",
              "    <tr style=\"text-align: right;\">\n",
              "      <th></th>\n",
              "      <th>CQI-0</th>\n",
              "      <th>CQI-1</th>\n",
              "      <th>CQI-2</th>\n",
              "      <th>CQI-3</th>\n",
              "      <th>CQI-4</th>\n",
              "      <th>DL_bitrate-0</th>\n",
              "      <th>DL_bitrate-1</th>\n",
              "      <th>DL_bitrate-2</th>\n",
              "      <th>DL_bitrate-3</th>\n",
              "      <th>DL_bitrate-4</th>\n",
              "      <th>...</th>\n",
              "      <th>SNR-2</th>\n",
              "      <th>SNR-3</th>\n",
              "      <th>SNR-4</th>\n",
              "      <th>UL_bitrate-0</th>\n",
              "      <th>UL_bitrate-1</th>\n",
              "      <th>UL_bitrate-2</th>\n",
              "      <th>UL_bitrate-3</th>\n",
              "      <th>UL_bitrate-4</th>\n",
              "      <th>DL_bitrate</th>\n",
              "      <th>Class</th>\n",
              "    </tr>\n",
              "  </thead>\n",
              "  <tbody>\n",
              "    <tr>\n",
              "      <th>0</th>\n",
              "      <td>8.000</td>\n",
              "      <td>8.000</td>\n",
              "      <td>8.000</td>\n",
              "      <td>8.000</td>\n",
              "      <td>8.000</td>\n",
              "      <td>3657.000</td>\n",
              "      <td>5413.000</td>\n",
              "      <td>7795.000</td>\n",
              "      <td>7795.000</td>\n",
              "      <td>6777.000</td>\n",
              "      <td>...</td>\n",
              "      <td>6.000</td>\n",
              "      <td>6.000</td>\n",
              "      <td>7.000</td>\n",
              "      <td>162.000</td>\n",
              "      <td>100.000</td>\n",
              "      <td>143.000</td>\n",
              "      <td>143.000</td>\n",
              "      <td>128.000</td>\n",
              "      <td>4656.000</td>\n",
              "      <td>1</td>\n",
              "    </tr>\n",
              "    <tr>\n",
              "      <th>1</th>\n",
              "      <td>8.000</td>\n",
              "      <td>8.000</td>\n",
              "      <td>8.000</td>\n",
              "      <td>8.000</td>\n",
              "      <td>8.000</td>\n",
              "      <td>4719.000</td>\n",
              "      <td>3657.000</td>\n",
              "      <td>5413.000</td>\n",
              "      <td>7795.000</td>\n",
              "      <td>7795.000</td>\n",
              "      <td>...</td>\n",
              "      <td>6.000</td>\n",
              "      <td>6.000</td>\n",
              "      <td>6.000</td>\n",
              "      <td>155.000</td>\n",
              "      <td>162.000</td>\n",
              "      <td>100.000</td>\n",
              "      <td>143.000</td>\n",
              "      <td>143.000</td>\n",
              "      <td>5294.000</td>\n",
              "      <td>1</td>\n",
              "    </tr>\n",
              "    <tr>\n",
              "      <th>2</th>\n",
              "      <td>6.000</td>\n",
              "      <td>8.000</td>\n",
              "      <td>8.000</td>\n",
              "      <td>8.000</td>\n",
              "      <td>8.000</td>\n",
              "      <td>7280.000</td>\n",
              "      <td>4719.000</td>\n",
              "      <td>3657.000</td>\n",
              "      <td>5413.000</td>\n",
              "      <td>7795.000</td>\n",
              "      <td>...</td>\n",
              "      <td>4.000</td>\n",
              "      <td>6.000</td>\n",
              "      <td>6.000</td>\n",
              "      <td>144.000</td>\n",
              "      <td>155.000</td>\n",
              "      <td>162.000</td>\n",
              "      <td>100.000</td>\n",
              "      <td>143.000</td>\n",
              "      <td>6627.000</td>\n",
              "      <td>1</td>\n",
              "    </tr>\n",
              "    <tr>\n",
              "      <th>3</th>\n",
              "      <td>7.000</td>\n",
              "      <td>6.000</td>\n",
              "      <td>8.000</td>\n",
              "      <td>8.000</td>\n",
              "      <td>8.000</td>\n",
              "      <td>3813.000</td>\n",
              "      <td>7280.000</td>\n",
              "      <td>4719.000</td>\n",
              "      <td>3657.000</td>\n",
              "      <td>5413.000</td>\n",
              "      <td>...</td>\n",
              "      <td>4.000</td>\n",
              "      <td>4.000</td>\n",
              "      <td>6.000</td>\n",
              "      <td>70.000</td>\n",
              "      <td>144.000</td>\n",
              "      <td>155.000</td>\n",
              "      <td>162.000</td>\n",
              "      <td>100.000</td>\n",
              "      <td>9069.000</td>\n",
              "      <td>1</td>\n",
              "    </tr>\n",
              "    <tr>\n",
              "      <th>4</th>\n",
              "      <td>7.000</td>\n",
              "      <td>7.000</td>\n",
              "      <td>6.000</td>\n",
              "      <td>8.000</td>\n",
              "      <td>8.000</td>\n",
              "      <td>4742.000</td>\n",
              "      <td>3813.000</td>\n",
              "      <td>7280.000</td>\n",
              "      <td>4719.000</td>\n",
              "      <td>3657.000</td>\n",
              "      <td>...</td>\n",
              "      <td>3.000</td>\n",
              "      <td>4.000</td>\n",
              "      <td>4.000</td>\n",
              "      <td>86.000</td>\n",
              "      <td>70.000</td>\n",
              "      <td>144.000</td>\n",
              "      <td>155.000</td>\n",
              "      <td>162.000</td>\n",
              "      <td>10859.000</td>\n",
              "      <td>1</td>\n",
              "    </tr>\n",
              "    <tr>\n",
              "      <th>...</th>\n",
              "      <td>...</td>\n",
              "      <td>...</td>\n",
              "      <td>...</td>\n",
              "      <td>...</td>\n",
              "      <td>...</td>\n",
              "      <td>...</td>\n",
              "      <td>...</td>\n",
              "      <td>...</td>\n",
              "      <td>...</td>\n",
              "      <td>...</td>\n",
              "      <td>...</td>\n",
              "      <td>...</td>\n",
              "      <td>...</td>\n",
              "      <td>...</td>\n",
              "      <td>...</td>\n",
              "      <td>...</td>\n",
              "      <td>...</td>\n",
              "      <td>...</td>\n",
              "      <td>...</td>\n",
              "      <td>...</td>\n",
              "      <td>...</td>\n",
              "    </tr>\n",
              "    <tr>\n",
              "      <th>2437</th>\n",
              "      <td>6.000</td>\n",
              "      <td>6.000</td>\n",
              "      <td>6.000</td>\n",
              "      <td>6.000</td>\n",
              "      <td>7.000</td>\n",
              "      <td>5849.000</td>\n",
              "      <td>7806.000</td>\n",
              "      <td>7515.000</td>\n",
              "      <td>6408.000</td>\n",
              "      <td>5144.000</td>\n",
              "      <td>...</td>\n",
              "      <td>-3.000</td>\n",
              "      <td>-3.000</td>\n",
              "      <td>0.000</td>\n",
              "      <td>108.000</td>\n",
              "      <td>152.000</td>\n",
              "      <td>143.000</td>\n",
              "      <td>126.000</td>\n",
              "      <td>105.000</td>\n",
              "      <td>8839.000</td>\n",
              "      <td>0</td>\n",
              "    </tr>\n",
              "    <tr>\n",
              "      <th>2438</th>\n",
              "      <td>6.000</td>\n",
              "      <td>6.000</td>\n",
              "      <td>6.000</td>\n",
              "      <td>6.000</td>\n",
              "      <td>6.000</td>\n",
              "      <td>4965.000</td>\n",
              "      <td>5849.000</td>\n",
              "      <td>7806.000</td>\n",
              "      <td>7515.000</td>\n",
              "      <td>6408.000</td>\n",
              "      <td>...</td>\n",
              "      <td>-4.000</td>\n",
              "      <td>-3.000</td>\n",
              "      <td>-3.000</td>\n",
              "      <td>98.000</td>\n",
              "      <td>108.000</td>\n",
              "      <td>152.000</td>\n",
              "      <td>143.000</td>\n",
              "      <td>126.000</td>\n",
              "      <td>9454.000</td>\n",
              "      <td>0</td>\n",
              "    </tr>\n",
              "    <tr>\n",
              "      <th>2439</th>\n",
              "      <td>6.000</td>\n",
              "      <td>6.000</td>\n",
              "      <td>6.000</td>\n",
              "      <td>6.000</td>\n",
              "      <td>6.000</td>\n",
              "      <td>3019.000</td>\n",
              "      <td>4965.000</td>\n",
              "      <td>5849.000</td>\n",
              "      <td>7806.000</td>\n",
              "      <td>7515.000</td>\n",
              "      <td>...</td>\n",
              "      <td>-4.000</td>\n",
              "      <td>-4.000</td>\n",
              "      <td>-3.000</td>\n",
              "      <td>56.000</td>\n",
              "      <td>98.000</td>\n",
              "      <td>108.000</td>\n",
              "      <td>152.000</td>\n",
              "      <td>143.000</td>\n",
              "      <td>9852.000</td>\n",
              "      <td>0</td>\n",
              "    </tr>\n",
              "    <tr>\n",
              "      <th>2440</th>\n",
              "      <td>9.000</td>\n",
              "      <td>6.000</td>\n",
              "      <td>6.000</td>\n",
              "      <td>6.000</td>\n",
              "      <td>6.000</td>\n",
              "      <td>11676.000</td>\n",
              "      <td>3019.000</td>\n",
              "      <td>4965.000</td>\n",
              "      <td>5849.000</td>\n",
              "      <td>7806.000</td>\n",
              "      <td>...</td>\n",
              "      <td>-4.000</td>\n",
              "      <td>-4.000</td>\n",
              "      <td>-4.000</td>\n",
              "      <td>220.000</td>\n",
              "      <td>56.000</td>\n",
              "      <td>98.000</td>\n",
              "      <td>108.000</td>\n",
              "      <td>152.000</td>\n",
              "      <td>8090.000</td>\n",
              "      <td>0</td>\n",
              "    </tr>\n",
              "    <tr>\n",
              "      <th>2441</th>\n",
              "      <td>7.000</td>\n",
              "      <td>9.000</td>\n",
              "      <td>6.000</td>\n",
              "      <td>6.000</td>\n",
              "      <td>6.000</td>\n",
              "      <td>12268.000</td>\n",
              "      <td>11676.000</td>\n",
              "      <td>3019.000</td>\n",
              "      <td>4965.000</td>\n",
              "      <td>5849.000</td>\n",
              "      <td>...</td>\n",
              "      <td>-4.000</td>\n",
              "      <td>-4.000</td>\n",
              "      <td>-4.000</td>\n",
              "      <td>235.000</td>\n",
              "      <td>220.000</td>\n",
              "      <td>56.000</td>\n",
              "      <td>98.000</td>\n",
              "      <td>108.000</td>\n",
              "      <td>6403.000</td>\n",
              "      <td>0</td>\n",
              "    </tr>\n",
              "  </tbody>\n",
              "</table>\n",
              "<p>2442 rows × 47 columns</p>\n",
              "</div>\n",
              "      <button class=\"colab-df-convert\" onclick=\"convertToInteractive('df-6bd13d87-27d6-48bb-a251-6c57fdceb8b5')\"\n",
              "              title=\"Convert this dataframe to an interactive table.\"\n",
              "              style=\"display:none;\">\n",
              "        \n",
              "  <svg xmlns=\"http://www.w3.org/2000/svg\" height=\"24px\"viewBox=\"0 0 24 24\"\n",
              "       width=\"24px\">\n",
              "    <path d=\"M0 0h24v24H0V0z\" fill=\"none\"/>\n",
              "    <path d=\"M18.56 5.44l.94 2.06.94-2.06 2.06-.94-2.06-.94-.94-2.06-.94 2.06-2.06.94zm-11 1L8.5 8.5l.94-2.06 2.06-.94-2.06-.94L8.5 2.5l-.94 2.06-2.06.94zm10 10l.94 2.06.94-2.06 2.06-.94-2.06-.94-.94-2.06-.94 2.06-2.06.94z\"/><path d=\"M17.41 7.96l-1.37-1.37c-.4-.4-.92-.59-1.43-.59-.52 0-1.04.2-1.43.59L10.3 9.45l-7.72 7.72c-.78.78-.78 2.05 0 2.83L4 21.41c.39.39.9.59 1.41.59.51 0 1.02-.2 1.41-.59l7.78-7.78 2.81-2.81c.8-.78.8-2.07 0-2.86zM5.41 20L4 18.59l7.72-7.72 1.47 1.35L5.41 20z\"/>\n",
              "  </svg>\n",
              "      </button>\n",
              "      \n",
              "  <style>\n",
              "    .colab-df-container {\n",
              "      display:flex;\n",
              "      flex-wrap:wrap;\n",
              "      gap: 12px;\n",
              "    }\n",
              "\n",
              "    .colab-df-convert {\n",
              "      background-color: #E8F0FE;\n",
              "      border: none;\n",
              "      border-radius: 50%;\n",
              "      cursor: pointer;\n",
              "      display: none;\n",
              "      fill: #1967D2;\n",
              "      height: 32px;\n",
              "      padding: 0 0 0 0;\n",
              "      width: 32px;\n",
              "    }\n",
              "\n",
              "    .colab-df-convert:hover {\n",
              "      background-color: #E2EBFA;\n",
              "      box-shadow: 0px 1px 2px rgba(60, 64, 67, 0.3), 0px 1px 3px 1px rgba(60, 64, 67, 0.15);\n",
              "      fill: #174EA6;\n",
              "    }\n",
              "\n",
              "    [theme=dark] .colab-df-convert {\n",
              "      background-color: #3B4455;\n",
              "      fill: #D2E3FC;\n",
              "    }\n",
              "\n",
              "    [theme=dark] .colab-df-convert:hover {\n",
              "      background-color: #434B5C;\n",
              "      box-shadow: 0px 1px 3px 1px rgba(0, 0, 0, 0.15);\n",
              "      filter: drop-shadow(0px 1px 2px rgba(0, 0, 0, 0.3));\n",
              "      fill: #FFFFFF;\n",
              "    }\n",
              "  </style>\n",
              "\n",
              "      <script>\n",
              "        const buttonEl =\n",
              "          document.querySelector('#df-6bd13d87-27d6-48bb-a251-6c57fdceb8b5 button.colab-df-convert');\n",
              "        buttonEl.style.display =\n",
              "          google.colab.kernel.accessAllowed ? 'block' : 'none';\n",
              "\n",
              "        async function convertToInteractive(key) {\n",
              "          const element = document.querySelector('#df-6bd13d87-27d6-48bb-a251-6c57fdceb8b5');\n",
              "          const dataTable =\n",
              "            await google.colab.kernel.invokeFunction('convertToInteractive',\n",
              "                                                     [key], {});\n",
              "          if (!dataTable) return;\n",
              "\n",
              "          const docLinkHtml = 'Like what you see? Visit the ' +\n",
              "            '<a target=\"_blank\" href=https://colab.research.google.com/notebooks/data_table.ipynb>data table notebook</a>'\n",
              "            + ' to learn more about interactive tables.';\n",
              "          element.innerHTML = '';\n",
              "          dataTable['output_type'] = 'display_data';\n",
              "          await google.colab.output.renderOutput(dataTable, element);\n",
              "          const docLink = document.createElement('div');\n",
              "          docLink.innerHTML = docLinkHtml;\n",
              "          element.appendChild(docLink);\n",
              "        }\n",
              "      </script>\n",
              "    </div>\n",
              "  </div>\n",
              "  "
            ]
          },
          "metadata": {},
          "execution_count": 33
        }
      ]
    },
    {
      "cell_type": "code",
      "source": [],
      "metadata": {
        "id": "waOvWkBuHUdb"
      },
      "execution_count": null,
      "outputs": []
    }
  ]
}