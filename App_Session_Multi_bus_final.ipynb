{
  "nbformat": 4,
  "nbformat_minor": 0,
  "metadata": {
    "colab": {
      "provenance": [],
      "collapsed_sections": [],
      "machine_shape": "hm"
    },
    "kernelspec": {
      "name": "python3",
      "display_name": "Python 3"
    },
    "language_info": {
      "name": "python"
    },
    "accelerator": "GPU",
    "gpuClass": "standard"
  },
  "cells": [
    {
      "cell_type": "code",
      "execution_count": null,
      "metadata": {
        "colab": {
          "base_uri": "https://localhost:8080/"
        },
        "id": "1kRkv2ZKuenm",
        "outputId": "e51e4eca-0c4e-4c95-f64b-cd61cb379735"
      },
      "outputs": [
        {
          "output_type": "stream",
          "name": "stdout",
          "text": [
            "Mounted at /content/gdrive\n"
          ]
        }
      ],
      "source": [
        "from google.colab import drive\n",
        "drive.mount('/content/gdrive')"
      ]
    },
    {
      "cell_type": "code",
      "source": [
        "! pip install keras-tuner"
      ],
      "metadata": {
        "id": "2AawJWhiugjI"
      },
      "execution_count": null,
      "outputs": []
    },
    {
      "cell_type": "code",
      "source": [
        "from sklearn.model_selection import train_test_split\n",
        "from keras import optimizers\n",
        "from keras.models import Sequential, Model\n",
        "from keras.layers import Dense, LSTM, Dropout\n",
        "from sklearn.metrics import mean_squared_error\n",
        "from keras.callbacks import EarlyStopping\n",
        "import matplotlib.pyplot as plt\n",
        "import numpy as np\n",
        "import pandas as pd\n",
        "import glob\n",
        "from sklearn.preprocessing import MinMaxScaler\n",
        "import matplotlib.cbook as cbook\n",
        "import tensorflow as tf\n",
        "import kerastuner as kt\n",
        "from tensorflow.keras.losses import MeanAbsoluteError\n",
        "import keras\n",
        "from sklearn.metrics import mean_absolute_error as mae\n",
        "from sklearn.metrics import mean_absolute_percentage_error\n",
        "from sklearn.experimental import enable_iterative_imputer\n",
        "from sklearn.impute import IterativeImputer"
      ],
      "metadata": {
        "id": "RqKECRXwugg3",
        "colab": {
          "base_uri": "https://localhost:8080/"
        },
        "outputId": "4cff0070-8d78-43bb-d040-c2077bc540e4"
      },
      "execution_count": null,
      "outputs": [
        {
          "output_type": "stream",
          "name": "stderr",
          "text": [
            "/usr/local/lib/python3.7/dist-packages/ipykernel_launcher.py:14: DeprecationWarning: `import kerastuner` is deprecated, please use `import keras_tuner`.\n",
            "  \n"
          ]
        }
      ]
    },
    {
      "cell_type": "code",
      "source": [
        "path = r'/content/gdrive/MyDrive/bus' # use your path\n",
        "all_files = glob.glob(path + \"/*.csv\")\n",
        "all_files.sort()"
      ],
      "metadata": {
        "id": "fcHtdWK2ugem"
      },
      "execution_count": null,
      "outputs": []
    },
    {
      "cell_type": "code",
      "source": [
        "#Taking the last 3 session files as the TEST dataset\n",
        "all_files.sort()\n",
        "all_files_train = all_files[:-5]\n",
        "all_files_test = all_files[-5:]"
      ],
      "metadata": {
        "id": "tmUwwYWMmOtL"
      },
      "execution_count": null,
      "outputs": []
    },
    {
      "cell_type": "code",
      "source": [
        "li_train = []\n",
        "for filename in all_files:\n",
        "    df = pd.read_csv(filename, index_col=None, header=0)\n",
        "    li_train.append(df)\n",
        "frame_train = pd.concat(li_train, axis=0, ignore_index=True)\n",
        "frame_train.head()"
      ],
      "metadata": {
        "colab": {
          "base_uri": "https://localhost:8080/",
          "height": 236
        },
        "id": "bMHrausYugcH",
        "outputId": "ba9c3b7d-4aa6-43f5-f077-79f0b671755d"
      },
      "execution_count": null,
      "outputs": [
        {
          "output_type": "execute_result",
          "data": {
            "text/plain": [
              "  CQI-0 CQI-1 CQI-2 CQI-3 CQI-4  DL_bitrate-0  DL_bitrate-1  DL_bitrate-2  \\\n",
              "0     7     7    10     7     7             0             0           310   \n",
              "1     7     7     7    10     7             0             0             0   \n",
              "2     7     7     7     7    10             0             0             0   \n",
              "3     9     7     7     7     7          1757             0             0   \n",
              "4     9     9     7     7     7          4216          1757             0   \n",
              "\n",
              "   DL_bitrate-3  DL_bitrate-4  ... SNR-1 SNR-2 SNR-3 SNR-4 UL_bitrate-0  \\\n",
              "0             3             3  ...   7.0   7.0  10.0  10.0            0   \n",
              "1           310             3  ...   8.0   7.0   7.0  10.0            0   \n",
              "2             0           310  ...   8.0   8.0   7.0   7.0            0   \n",
              "3             0             0  ...  10.0   8.0   8.0   7.0           68   \n",
              "4             0             0  ...  10.0  10.0   8.0   8.0          151   \n",
              "\n",
              "  UL_bitrate-1 UL_bitrate-2 UL_bitrate-3 UL_bitrate-4 DL_bitrate  \n",
              "0            0           14            7            7       1769  \n",
              "1            0            0           14            7       2272  \n",
              "2            0            0            0           14       2549  \n",
              "3            0            0            0            0       2674  \n",
              "4           68            0            0            0       2393  \n",
              "\n",
              "[5 rows x 46 columns]"
            ],
            "text/html": [
              "\n",
              "  <div id=\"df-33c7502f-f395-4c88-b2eb-18c8eda4d67a\">\n",
              "    <div class=\"colab-df-container\">\n",
              "      <div>\n",
              "<style scoped>\n",
              "    .dataframe tbody tr th:only-of-type {\n",
              "        vertical-align: middle;\n",
              "    }\n",
              "\n",
              "    .dataframe tbody tr th {\n",
              "        vertical-align: top;\n",
              "    }\n",
              "\n",
              "    .dataframe thead th {\n",
              "        text-align: right;\n",
              "    }\n",
              "</style>\n",
              "<table border=\"1\" class=\"dataframe\">\n",
              "  <thead>\n",
              "    <tr style=\"text-align: right;\">\n",
              "      <th></th>\n",
              "      <th>CQI-0</th>\n",
              "      <th>CQI-1</th>\n",
              "      <th>CQI-2</th>\n",
              "      <th>CQI-3</th>\n",
              "      <th>CQI-4</th>\n",
              "      <th>DL_bitrate-0</th>\n",
              "      <th>DL_bitrate-1</th>\n",
              "      <th>DL_bitrate-2</th>\n",
              "      <th>DL_bitrate-3</th>\n",
              "      <th>DL_bitrate-4</th>\n",
              "      <th>...</th>\n",
              "      <th>SNR-1</th>\n",
              "      <th>SNR-2</th>\n",
              "      <th>SNR-3</th>\n",
              "      <th>SNR-4</th>\n",
              "      <th>UL_bitrate-0</th>\n",
              "      <th>UL_bitrate-1</th>\n",
              "      <th>UL_bitrate-2</th>\n",
              "      <th>UL_bitrate-3</th>\n",
              "      <th>UL_bitrate-4</th>\n",
              "      <th>DL_bitrate</th>\n",
              "    </tr>\n",
              "  </thead>\n",
              "  <tbody>\n",
              "    <tr>\n",
              "      <th>0</th>\n",
              "      <td>7</td>\n",
              "      <td>7</td>\n",
              "      <td>10</td>\n",
              "      <td>7</td>\n",
              "      <td>7</td>\n",
              "      <td>0</td>\n",
              "      <td>0</td>\n",
              "      <td>310</td>\n",
              "      <td>3</td>\n",
              "      <td>3</td>\n",
              "      <td>...</td>\n",
              "      <td>7.0</td>\n",
              "      <td>7.0</td>\n",
              "      <td>10.0</td>\n",
              "      <td>10.0</td>\n",
              "      <td>0</td>\n",
              "      <td>0</td>\n",
              "      <td>14</td>\n",
              "      <td>7</td>\n",
              "      <td>7</td>\n",
              "      <td>1769</td>\n",
              "    </tr>\n",
              "    <tr>\n",
              "      <th>1</th>\n",
              "      <td>7</td>\n",
              "      <td>7</td>\n",
              "      <td>7</td>\n",
              "      <td>10</td>\n",
              "      <td>7</td>\n",
              "      <td>0</td>\n",
              "      <td>0</td>\n",
              "      <td>0</td>\n",
              "      <td>310</td>\n",
              "      <td>3</td>\n",
              "      <td>...</td>\n",
              "      <td>8.0</td>\n",
              "      <td>7.0</td>\n",
              "      <td>7.0</td>\n",
              "      <td>10.0</td>\n",
              "      <td>0</td>\n",
              "      <td>0</td>\n",
              "      <td>0</td>\n",
              "      <td>14</td>\n",
              "      <td>7</td>\n",
              "      <td>2272</td>\n",
              "    </tr>\n",
              "    <tr>\n",
              "      <th>2</th>\n",
              "      <td>7</td>\n",
              "      <td>7</td>\n",
              "      <td>7</td>\n",
              "      <td>7</td>\n",
              "      <td>10</td>\n",
              "      <td>0</td>\n",
              "      <td>0</td>\n",
              "      <td>0</td>\n",
              "      <td>0</td>\n",
              "      <td>310</td>\n",
              "      <td>...</td>\n",
              "      <td>8.0</td>\n",
              "      <td>8.0</td>\n",
              "      <td>7.0</td>\n",
              "      <td>7.0</td>\n",
              "      <td>0</td>\n",
              "      <td>0</td>\n",
              "      <td>0</td>\n",
              "      <td>0</td>\n",
              "      <td>14</td>\n",
              "      <td>2549</td>\n",
              "    </tr>\n",
              "    <tr>\n",
              "      <th>3</th>\n",
              "      <td>9</td>\n",
              "      <td>7</td>\n",
              "      <td>7</td>\n",
              "      <td>7</td>\n",
              "      <td>7</td>\n",
              "      <td>1757</td>\n",
              "      <td>0</td>\n",
              "      <td>0</td>\n",
              "      <td>0</td>\n",
              "      <td>0</td>\n",
              "      <td>...</td>\n",
              "      <td>10.0</td>\n",
              "      <td>8.0</td>\n",
              "      <td>8.0</td>\n",
              "      <td>7.0</td>\n",
              "      <td>68</td>\n",
              "      <td>0</td>\n",
              "      <td>0</td>\n",
              "      <td>0</td>\n",
              "      <td>0</td>\n",
              "      <td>2674</td>\n",
              "    </tr>\n",
              "    <tr>\n",
              "      <th>4</th>\n",
              "      <td>9</td>\n",
              "      <td>9</td>\n",
              "      <td>7</td>\n",
              "      <td>7</td>\n",
              "      <td>7</td>\n",
              "      <td>4216</td>\n",
              "      <td>1757</td>\n",
              "      <td>0</td>\n",
              "      <td>0</td>\n",
              "      <td>0</td>\n",
              "      <td>...</td>\n",
              "      <td>10.0</td>\n",
              "      <td>10.0</td>\n",
              "      <td>8.0</td>\n",
              "      <td>8.0</td>\n",
              "      <td>151</td>\n",
              "      <td>68</td>\n",
              "      <td>0</td>\n",
              "      <td>0</td>\n",
              "      <td>0</td>\n",
              "      <td>2393</td>\n",
              "    </tr>\n",
              "  </tbody>\n",
              "</table>\n",
              "<p>5 rows × 46 columns</p>\n",
              "</div>\n",
              "      <button class=\"colab-df-convert\" onclick=\"convertToInteractive('df-33c7502f-f395-4c88-b2eb-18c8eda4d67a')\"\n",
              "              title=\"Convert this dataframe to an interactive table.\"\n",
              "              style=\"display:none;\">\n",
              "        \n",
              "  <svg xmlns=\"http://www.w3.org/2000/svg\" height=\"24px\"viewBox=\"0 0 24 24\"\n",
              "       width=\"24px\">\n",
              "    <path d=\"M0 0h24v24H0V0z\" fill=\"none\"/>\n",
              "    <path d=\"M18.56 5.44l.94 2.06.94-2.06 2.06-.94-2.06-.94-.94-2.06-.94 2.06-2.06.94zm-11 1L8.5 8.5l.94-2.06 2.06-.94-2.06-.94L8.5 2.5l-.94 2.06-2.06.94zm10 10l.94 2.06.94-2.06 2.06-.94-2.06-.94-.94-2.06-.94 2.06-2.06.94z\"/><path d=\"M17.41 7.96l-1.37-1.37c-.4-.4-.92-.59-1.43-.59-.52 0-1.04.2-1.43.59L10.3 9.45l-7.72 7.72c-.78.78-.78 2.05 0 2.83L4 21.41c.39.39.9.59 1.41.59.51 0 1.02-.2 1.41-.59l7.78-7.78 2.81-2.81c.8-.78.8-2.07 0-2.86zM5.41 20L4 18.59l7.72-7.72 1.47 1.35L5.41 20z\"/>\n",
              "  </svg>\n",
              "      </button>\n",
              "      \n",
              "  <style>\n",
              "    .colab-df-container {\n",
              "      display:flex;\n",
              "      flex-wrap:wrap;\n",
              "      gap: 12px;\n",
              "    }\n",
              "\n",
              "    .colab-df-convert {\n",
              "      background-color: #E8F0FE;\n",
              "      border: none;\n",
              "      border-radius: 50%;\n",
              "      cursor: pointer;\n",
              "      display: none;\n",
              "      fill: #1967D2;\n",
              "      height: 32px;\n",
              "      padding: 0 0 0 0;\n",
              "      width: 32px;\n",
              "    }\n",
              "\n",
              "    .colab-df-convert:hover {\n",
              "      background-color: #E2EBFA;\n",
              "      box-shadow: 0px 1px 2px rgba(60, 64, 67, 0.3), 0px 1px 3px 1px rgba(60, 64, 67, 0.15);\n",
              "      fill: #174EA6;\n",
              "    }\n",
              "\n",
              "    [theme=dark] .colab-df-convert {\n",
              "      background-color: #3B4455;\n",
              "      fill: #D2E3FC;\n",
              "    }\n",
              "\n",
              "    [theme=dark] .colab-df-convert:hover {\n",
              "      background-color: #434B5C;\n",
              "      box-shadow: 0px 1px 3px 1px rgba(0, 0, 0, 0.15);\n",
              "      filter: drop-shadow(0px 1px 2px rgba(0, 0, 0, 0.3));\n",
              "      fill: #FFFFFF;\n",
              "    }\n",
              "  </style>\n",
              "\n",
              "      <script>\n",
              "        const buttonEl =\n",
              "          document.querySelector('#df-33c7502f-f395-4c88-b2eb-18c8eda4d67a button.colab-df-convert');\n",
              "        buttonEl.style.display =\n",
              "          google.colab.kernel.accessAllowed ? 'block' : 'none';\n",
              "\n",
              "        async function convertToInteractive(key) {\n",
              "          const element = document.querySelector('#df-33c7502f-f395-4c88-b2eb-18c8eda4d67a');\n",
              "          const dataTable =\n",
              "            await google.colab.kernel.invokeFunction('convertToInteractive',\n",
              "                                                     [key], {});\n",
              "          if (!dataTable) return;\n",
              "\n",
              "          const docLinkHtml = 'Like what you see? Visit the ' +\n",
              "            '<a target=\"_blank\" href=https://colab.research.google.com/notebooks/data_table.ipynb>data table notebook</a>'\n",
              "            + ' to learn more about interactive tables.';\n",
              "          element.innerHTML = '';\n",
              "          dataTable['output_type'] = 'display_data';\n",
              "          await google.colab.output.renderOutput(dataTable, element);\n",
              "          const docLink = document.createElement('div');\n",
              "          docLink.innerHTML = docLinkHtml;\n",
              "          element.appendChild(docLink);\n",
              "        }\n",
              "      </script>\n",
              "    </div>\n",
              "  </div>\n",
              "  "
            ]
          },
          "metadata": {},
          "execution_count": 6
        }
      ]
    },
    {
      "cell_type": "code",
      "source": [
        "frame_train.shape"
      ],
      "metadata": {
        "colab": {
          "base_uri": "https://localhost:8080/"
        },
        "id": "0hluaaI4ugZn",
        "outputId": "62122aa5-dcdb-4bd0-faab-1357a93e2d97"
      },
      "execution_count": null,
      "outputs": [
        {
          "output_type": "execute_result",
          "data": {
            "text/plain": [
              "(10639, 46)"
            ]
          },
          "metadata": {},
          "execution_count": 7
        }
      ]
    },
    {
      "cell_type": "code",
      "source": [
        "# Test Dataset\n",
        "li_test = []\n",
        "for filename in all_files_test:\n",
        "    df = pd.read_csv(filename, index_col=None, header=0)\n",
        "    li_test.append(df)\n",
        "frame_test = pd.concat(li_test, axis=0, ignore_index=True)\n",
        "frame_test.head()"
      ],
      "metadata": {
        "colab": {
          "base_uri": "https://localhost:8080/",
          "height": 236
        },
        "id": "gCz8qZcTmbYZ",
        "outputId": "9342d1fa-7f19-4be9-f961-3a9c1121bf37"
      },
      "execution_count": null,
      "outputs": [
        {
          "output_type": "execute_result",
          "data": {
            "text/plain": [
              "  CQI-0 CQI-1 CQI-2 CQI-3 CQI-4  DL_bitrate-0  DL_bitrate-1  DL_bitrate-2  \\\n",
              "0     8     8     8     8     8          3657          5413          7795   \n",
              "1     8     8     8     8     8          4719          3657          5413   \n",
              "2     6     8     8     8     8          7280          4719          3657   \n",
              "3     7     6     8     8     8          3813          7280          4719   \n",
              "4     7     7     6     8     8          4742          3813          7280   \n",
              "\n",
              "   DL_bitrate-3  DL_bitrate-4  ... SNR-1 SNR-2 SNR-3 SNR-4 UL_bitrate-0  \\\n",
              "0          7795          6777  ...   6.0   6.0   6.0   7.0          162   \n",
              "1          7795          7795  ...   4.0   6.0   6.0   6.0          155   \n",
              "2          5413          7795  ...   4.0   4.0   6.0   6.0          144   \n",
              "3          3657          5413  ...   3.0   4.0   4.0   6.0           70   \n",
              "4          4719          3657  ...   3.0   3.0   4.0   4.0           86   \n",
              "\n",
              "  UL_bitrate-1 UL_bitrate-2 UL_bitrate-3 UL_bitrate-4 DL_bitrate  \n",
              "0          100          143          143          128       4656  \n",
              "1          162          100          143          143       5294  \n",
              "2          155          162          100          143       6627  \n",
              "3          144          155          162          100       9069  \n",
              "4           70          144          155          162      10859  \n",
              "\n",
              "[5 rows x 46 columns]"
            ],
            "text/html": [
              "\n",
              "  <div id=\"df-b82e9cbb-23a8-452d-b4de-b048f1f61cc8\">\n",
              "    <div class=\"colab-df-container\">\n",
              "      <div>\n",
              "<style scoped>\n",
              "    .dataframe tbody tr th:only-of-type {\n",
              "        vertical-align: middle;\n",
              "    }\n",
              "\n",
              "    .dataframe tbody tr th {\n",
              "        vertical-align: top;\n",
              "    }\n",
              "\n",
              "    .dataframe thead th {\n",
              "        text-align: right;\n",
              "    }\n",
              "</style>\n",
              "<table border=\"1\" class=\"dataframe\">\n",
              "  <thead>\n",
              "    <tr style=\"text-align: right;\">\n",
              "      <th></th>\n",
              "      <th>CQI-0</th>\n",
              "      <th>CQI-1</th>\n",
              "      <th>CQI-2</th>\n",
              "      <th>CQI-3</th>\n",
              "      <th>CQI-4</th>\n",
              "      <th>DL_bitrate-0</th>\n",
              "      <th>DL_bitrate-1</th>\n",
              "      <th>DL_bitrate-2</th>\n",
              "      <th>DL_bitrate-3</th>\n",
              "      <th>DL_bitrate-4</th>\n",
              "      <th>...</th>\n",
              "      <th>SNR-1</th>\n",
              "      <th>SNR-2</th>\n",
              "      <th>SNR-3</th>\n",
              "      <th>SNR-4</th>\n",
              "      <th>UL_bitrate-0</th>\n",
              "      <th>UL_bitrate-1</th>\n",
              "      <th>UL_bitrate-2</th>\n",
              "      <th>UL_bitrate-3</th>\n",
              "      <th>UL_bitrate-4</th>\n",
              "      <th>DL_bitrate</th>\n",
              "    </tr>\n",
              "  </thead>\n",
              "  <tbody>\n",
              "    <tr>\n",
              "      <th>0</th>\n",
              "      <td>8</td>\n",
              "      <td>8</td>\n",
              "      <td>8</td>\n",
              "      <td>8</td>\n",
              "      <td>8</td>\n",
              "      <td>3657</td>\n",
              "      <td>5413</td>\n",
              "      <td>7795</td>\n",
              "      <td>7795</td>\n",
              "      <td>6777</td>\n",
              "      <td>...</td>\n",
              "      <td>6.0</td>\n",
              "      <td>6.0</td>\n",
              "      <td>6.0</td>\n",
              "      <td>7.0</td>\n",
              "      <td>162</td>\n",
              "      <td>100</td>\n",
              "      <td>143</td>\n",
              "      <td>143</td>\n",
              "      <td>128</td>\n",
              "      <td>4656</td>\n",
              "    </tr>\n",
              "    <tr>\n",
              "      <th>1</th>\n",
              "      <td>8</td>\n",
              "      <td>8</td>\n",
              "      <td>8</td>\n",
              "      <td>8</td>\n",
              "      <td>8</td>\n",
              "      <td>4719</td>\n",
              "      <td>3657</td>\n",
              "      <td>5413</td>\n",
              "      <td>7795</td>\n",
              "      <td>7795</td>\n",
              "      <td>...</td>\n",
              "      <td>4.0</td>\n",
              "      <td>6.0</td>\n",
              "      <td>6.0</td>\n",
              "      <td>6.0</td>\n",
              "      <td>155</td>\n",
              "      <td>162</td>\n",
              "      <td>100</td>\n",
              "      <td>143</td>\n",
              "      <td>143</td>\n",
              "      <td>5294</td>\n",
              "    </tr>\n",
              "    <tr>\n",
              "      <th>2</th>\n",
              "      <td>6</td>\n",
              "      <td>8</td>\n",
              "      <td>8</td>\n",
              "      <td>8</td>\n",
              "      <td>8</td>\n",
              "      <td>7280</td>\n",
              "      <td>4719</td>\n",
              "      <td>3657</td>\n",
              "      <td>5413</td>\n",
              "      <td>7795</td>\n",
              "      <td>...</td>\n",
              "      <td>4.0</td>\n",
              "      <td>4.0</td>\n",
              "      <td>6.0</td>\n",
              "      <td>6.0</td>\n",
              "      <td>144</td>\n",
              "      <td>155</td>\n",
              "      <td>162</td>\n",
              "      <td>100</td>\n",
              "      <td>143</td>\n",
              "      <td>6627</td>\n",
              "    </tr>\n",
              "    <tr>\n",
              "      <th>3</th>\n",
              "      <td>7</td>\n",
              "      <td>6</td>\n",
              "      <td>8</td>\n",
              "      <td>8</td>\n",
              "      <td>8</td>\n",
              "      <td>3813</td>\n",
              "      <td>7280</td>\n",
              "      <td>4719</td>\n",
              "      <td>3657</td>\n",
              "      <td>5413</td>\n",
              "      <td>...</td>\n",
              "      <td>3.0</td>\n",
              "      <td>4.0</td>\n",
              "      <td>4.0</td>\n",
              "      <td>6.0</td>\n",
              "      <td>70</td>\n",
              "      <td>144</td>\n",
              "      <td>155</td>\n",
              "      <td>162</td>\n",
              "      <td>100</td>\n",
              "      <td>9069</td>\n",
              "    </tr>\n",
              "    <tr>\n",
              "      <th>4</th>\n",
              "      <td>7</td>\n",
              "      <td>7</td>\n",
              "      <td>6</td>\n",
              "      <td>8</td>\n",
              "      <td>8</td>\n",
              "      <td>4742</td>\n",
              "      <td>3813</td>\n",
              "      <td>7280</td>\n",
              "      <td>4719</td>\n",
              "      <td>3657</td>\n",
              "      <td>...</td>\n",
              "      <td>3.0</td>\n",
              "      <td>3.0</td>\n",
              "      <td>4.0</td>\n",
              "      <td>4.0</td>\n",
              "      <td>86</td>\n",
              "      <td>70</td>\n",
              "      <td>144</td>\n",
              "      <td>155</td>\n",
              "      <td>162</td>\n",
              "      <td>10859</td>\n",
              "    </tr>\n",
              "  </tbody>\n",
              "</table>\n",
              "<p>5 rows × 46 columns</p>\n",
              "</div>\n",
              "      <button class=\"colab-df-convert\" onclick=\"convertToInteractive('df-b82e9cbb-23a8-452d-b4de-b048f1f61cc8')\"\n",
              "              title=\"Convert this dataframe to an interactive table.\"\n",
              "              style=\"display:none;\">\n",
              "        \n",
              "  <svg xmlns=\"http://www.w3.org/2000/svg\" height=\"24px\"viewBox=\"0 0 24 24\"\n",
              "       width=\"24px\">\n",
              "    <path d=\"M0 0h24v24H0V0z\" fill=\"none\"/>\n",
              "    <path d=\"M18.56 5.44l.94 2.06.94-2.06 2.06-.94-2.06-.94-.94-2.06-.94 2.06-2.06.94zm-11 1L8.5 8.5l.94-2.06 2.06-.94-2.06-.94L8.5 2.5l-.94 2.06-2.06.94zm10 10l.94 2.06.94-2.06 2.06-.94-2.06-.94-.94-2.06-.94 2.06-2.06.94z\"/><path d=\"M17.41 7.96l-1.37-1.37c-.4-.4-.92-.59-1.43-.59-.52 0-1.04.2-1.43.59L10.3 9.45l-7.72 7.72c-.78.78-.78 2.05 0 2.83L4 21.41c.39.39.9.59 1.41.59.51 0 1.02-.2 1.41-.59l7.78-7.78 2.81-2.81c.8-.78.8-2.07 0-2.86zM5.41 20L4 18.59l7.72-7.72 1.47 1.35L5.41 20z\"/>\n",
              "  </svg>\n",
              "      </button>\n",
              "      \n",
              "  <style>\n",
              "    .colab-df-container {\n",
              "      display:flex;\n",
              "      flex-wrap:wrap;\n",
              "      gap: 12px;\n",
              "    }\n",
              "\n",
              "    .colab-df-convert {\n",
              "      background-color: #E8F0FE;\n",
              "      border: none;\n",
              "      border-radius: 50%;\n",
              "      cursor: pointer;\n",
              "      display: none;\n",
              "      fill: #1967D2;\n",
              "      height: 32px;\n",
              "      padding: 0 0 0 0;\n",
              "      width: 32px;\n",
              "    }\n",
              "\n",
              "    .colab-df-convert:hover {\n",
              "      background-color: #E2EBFA;\n",
              "      box-shadow: 0px 1px 2px rgba(60, 64, 67, 0.3), 0px 1px 3px 1px rgba(60, 64, 67, 0.15);\n",
              "      fill: #174EA6;\n",
              "    }\n",
              "\n",
              "    [theme=dark] .colab-df-convert {\n",
              "      background-color: #3B4455;\n",
              "      fill: #D2E3FC;\n",
              "    }\n",
              "\n",
              "    [theme=dark] .colab-df-convert:hover {\n",
              "      background-color: #434B5C;\n",
              "      box-shadow: 0px 1px 3px 1px rgba(0, 0, 0, 0.15);\n",
              "      filter: drop-shadow(0px 1px 2px rgba(0, 0, 0, 0.3));\n",
              "      fill: #FFFFFF;\n",
              "    }\n",
              "  </style>\n",
              "\n",
              "      <script>\n",
              "        const buttonEl =\n",
              "          document.querySelector('#df-b82e9cbb-23a8-452d-b4de-b048f1f61cc8 button.colab-df-convert');\n",
              "        buttonEl.style.display =\n",
              "          google.colab.kernel.accessAllowed ? 'block' : 'none';\n",
              "\n",
              "        async function convertToInteractive(key) {\n",
              "          const element = document.querySelector('#df-b82e9cbb-23a8-452d-b4de-b048f1f61cc8');\n",
              "          const dataTable =\n",
              "            await google.colab.kernel.invokeFunction('convertToInteractive',\n",
              "                                                     [key], {});\n",
              "          if (!dataTable) return;\n",
              "\n",
              "          const docLinkHtml = 'Like what you see? Visit the ' +\n",
              "            '<a target=\"_blank\" href=https://colab.research.google.com/notebooks/data_table.ipynb>data table notebook</a>'\n",
              "            + ' to learn more about interactive tables.';\n",
              "          element.innerHTML = '';\n",
              "          dataTable['output_type'] = 'display_data';\n",
              "          await google.colab.output.renderOutput(dataTable, element);\n",
              "          const docLink = document.createElement('div');\n",
              "          docLink.innerHTML = docLinkHtml;\n",
              "          element.appendChild(docLink);\n",
              "        }\n",
              "      </script>\n",
              "    </div>\n",
              "  </div>\n",
              "  "
            ]
          },
          "metadata": {},
          "execution_count": 8
        }
      ]
    },
    {
      "cell_type": "code",
      "source": [
        "frame_test.shape"
      ],
      "metadata": {
        "colab": {
          "base_uri": "https://localhost:8080/"
        },
        "id": "rFmWFlTpmbWH",
        "outputId": "817b33b7-51e8-4a0b-d3bb-2543e762e131"
      },
      "execution_count": null,
      "outputs": [
        {
          "output_type": "execute_result",
          "data": {
            "text/plain": [
              "(2442, 46)"
            ]
          },
          "metadata": {},
          "execution_count": 9
        }
      ]
    },
    {
      "cell_type": "markdown",
      "source": [
        "# Dealing with Nan Values"
      ],
      "metadata": {
        "id": "yOB3e8wkIS8O"
      }
    },
    {
      "cell_type": "code",
      "source": [
        "frame_train.replace('-', np.NaN, inplace = True)\n",
        "frame_train.isna().sum().sum()\n",
        "\n",
        "frame_test.replace('-', np.NaN, inplace = True)\n",
        "frame_test.isna().sum().sum()"
      ],
      "metadata": {
        "colab": {
          "base_uri": "https://localhost:8080/"
        },
        "id": "ByD8ORlNugW_",
        "outputId": "52145474-0415-4809-a4f3-00a1149e936f"
      },
      "execution_count": null,
      "outputs": [
        {
          "output_type": "execute_result",
          "data": {
            "text/plain": [
              "13866"
            ]
          },
          "metadata": {},
          "execution_count": 10
        }
      ]
    },
    {
      "cell_type": "code",
      "source": [
        "imputer = IterativeImputer(imputation_order='ascending',max_iter=10,random_state=42,n_nearest_features=None)\n",
        "imputed_dataset = imputer.fit_transform(frame_train)\n",
        "frame_train = pd.DataFrame(imputed_dataset,columns = frame_train.columns)\n",
        "frame_train.isna().sum().sum()\n",
        "\n",
        "\n",
        "\n",
        "imputer = IterativeImputer(imputation_order='ascending',max_iter=10,random_state=42,n_nearest_features=None)\n",
        "imputed_dataset = imputer.fit_transform(frame_test)\n",
        "frame_test = pd.DataFrame(imputed_dataset,columns = frame_test.columns)\n",
        "frame_test.isna().sum().sum()"
      ],
      "metadata": {
        "colab": {
          "base_uri": "https://localhost:8080/"
        },
        "id": "pFd12VSsu-C_",
        "outputId": "d99f6f90-1751-4069-aeb8-d9aee0cbb036"
      },
      "execution_count": null,
      "outputs": [
        {
          "output_type": "execute_result",
          "data": {
            "text/plain": [
              "0"
            ]
          },
          "metadata": {},
          "execution_count": 11
        }
      ]
    },
    {
      "cell_type": "code",
      "source": [
        "frame_train.describe()"
      ],
      "metadata": {
        "colab": {
          "base_uri": "https://localhost:8080/",
          "height": 394
        },
        "id": "zAoHkET_u-A4",
        "outputId": "59feada6-ab6c-4864-b9ed-038355d5b711"
      },
      "execution_count": null,
      "outputs": [
        {
          "output_type": "execute_result",
          "data": {
            "text/plain": [
              "              CQI-0         CQI-1         CQI-2         CQI-3         CQI-4  \\\n",
              "count  10639.000000  10639.000000  10639.000000  10639.000000  10639.000000   \n",
              "mean       8.231843      8.135143      8.112044      8.099473      8.125009   \n",
              "std        2.435170      2.433365      2.433544      2.433938      2.432950   \n",
              "min        1.000000      1.000000      1.000000      1.000000      1.000000   \n",
              "25%        7.000000      7.000000      7.000000      7.000000      7.000000   \n",
              "50%        8.300539      8.000000      8.000000      7.991939      8.000000   \n",
              "75%        9.000000      9.000000      9.000000      9.000000      9.000000   \n",
              "max       15.000000     15.000000     15.000000     15.000000     15.000000   \n",
              "\n",
              "       DL_bitrate-0  DL_bitrate-1  DL_bitrate-2  DL_bitrate-3  DL_bitrate-4  \\\n",
              "count  10639.000000  10639.000000  10639.000000  10639.000000  10639.000000   \n",
              "mean    9984.639722   9997.879782  10013.591785  10029.786258  10047.591315   \n",
              "std    11372.751571  11397.918230  11422.152569  11448.840285  11484.281792   \n",
              "min        0.000000      0.000000      0.000000      0.000000      0.000000   \n",
              "25%     2124.000000   2124.000000   2124.000000   2124.000000   2124.000000   \n",
              "50%     5972.000000   5972.000000   5972.000000   5983.000000   5994.000000   \n",
              "75%    13946.000000  13951.500000  13980.000000  14002.000000  14018.500000   \n",
              "max    87872.000000  87872.000000  87872.000000  87872.000000  87872.000000   \n",
              "\n",
              "       ...         SNR-1         SNR-2         SNR-3         SNR-4  \\\n",
              "count  ...  10639.000000  10639.000000  10639.000000  10639.000000   \n",
              "mean   ...      5.161243      5.042818      5.007267      5.019343   \n",
              "std    ...      6.734321      6.708077      6.700007      6.703113   \n",
              "min    ...    -15.000000    -15.000000    -15.000000    -15.000000   \n",
              "25%    ...      1.000000      1.000000      1.000000      1.000000   \n",
              "50%    ...      6.590308      6.132278      6.009539      6.000000   \n",
              "75%    ...      7.000000      7.000000      7.000000      7.000000   \n",
              "max    ...     32.000000     32.000000     32.000000     32.000000   \n",
              "\n",
              "       UL_bitrate-0  UL_bitrate-1  UL_bitrate-2  UL_bitrate-3  UL_bitrate-4  \\\n",
              "count  10639.000000  10639.000000  10639.000000  10639.000000  10639.000000   \n",
              "mean     183.025472    183.237710    183.467807    183.705047    183.950841   \n",
              "std      193.709473    194.036344    194.336885    194.660012    195.046340   \n",
              "min        0.000000      0.000000      0.000000      0.000000      0.000000   \n",
              "25%       48.000000     48.000000     48.000000     48.000000     48.000000   \n",
              "50%      122.000000    122.000000    122.000000    123.000000    123.000000   \n",
              "75%      256.000000    256.000000    256.000000    256.000000    257.000000   \n",
              "max     2179.000000   2179.000000   2179.000000   2179.000000   2179.000000   \n",
              "\n",
              "         DL_bitrate  \n",
              "count  10639.000000  \n",
              "mean    9953.147758  \n",
              "std    10744.687079  \n",
              "min        0.000000  \n",
              "25%     2357.000000  \n",
              "50%     6347.000000  \n",
              "75%    13998.500000  \n",
              "max    75533.000000  \n",
              "\n",
              "[8 rows x 46 columns]"
            ],
            "text/html": [
              "\n",
              "  <div id=\"df-15aa9cde-fa3c-4ea2-968e-8126587a92a0\">\n",
              "    <div class=\"colab-df-container\">\n",
              "      <div>\n",
              "<style scoped>\n",
              "    .dataframe tbody tr th:only-of-type {\n",
              "        vertical-align: middle;\n",
              "    }\n",
              "\n",
              "    .dataframe tbody tr th {\n",
              "        vertical-align: top;\n",
              "    }\n",
              "\n",
              "    .dataframe thead th {\n",
              "        text-align: right;\n",
              "    }\n",
              "</style>\n",
              "<table border=\"1\" class=\"dataframe\">\n",
              "  <thead>\n",
              "    <tr style=\"text-align: right;\">\n",
              "      <th></th>\n",
              "      <th>CQI-0</th>\n",
              "      <th>CQI-1</th>\n",
              "      <th>CQI-2</th>\n",
              "      <th>CQI-3</th>\n",
              "      <th>CQI-4</th>\n",
              "      <th>DL_bitrate-0</th>\n",
              "      <th>DL_bitrate-1</th>\n",
              "      <th>DL_bitrate-2</th>\n",
              "      <th>DL_bitrate-3</th>\n",
              "      <th>DL_bitrate-4</th>\n",
              "      <th>...</th>\n",
              "      <th>SNR-1</th>\n",
              "      <th>SNR-2</th>\n",
              "      <th>SNR-3</th>\n",
              "      <th>SNR-4</th>\n",
              "      <th>UL_bitrate-0</th>\n",
              "      <th>UL_bitrate-1</th>\n",
              "      <th>UL_bitrate-2</th>\n",
              "      <th>UL_bitrate-3</th>\n",
              "      <th>UL_bitrate-4</th>\n",
              "      <th>DL_bitrate</th>\n",
              "    </tr>\n",
              "  </thead>\n",
              "  <tbody>\n",
              "    <tr>\n",
              "      <th>count</th>\n",
              "      <td>10639.000000</td>\n",
              "      <td>10639.000000</td>\n",
              "      <td>10639.000000</td>\n",
              "      <td>10639.000000</td>\n",
              "      <td>10639.000000</td>\n",
              "      <td>10639.000000</td>\n",
              "      <td>10639.000000</td>\n",
              "      <td>10639.000000</td>\n",
              "      <td>10639.000000</td>\n",
              "      <td>10639.000000</td>\n",
              "      <td>...</td>\n",
              "      <td>10639.000000</td>\n",
              "      <td>10639.000000</td>\n",
              "      <td>10639.000000</td>\n",
              "      <td>10639.000000</td>\n",
              "      <td>10639.000000</td>\n",
              "      <td>10639.000000</td>\n",
              "      <td>10639.000000</td>\n",
              "      <td>10639.000000</td>\n",
              "      <td>10639.000000</td>\n",
              "      <td>10639.000000</td>\n",
              "    </tr>\n",
              "    <tr>\n",
              "      <th>mean</th>\n",
              "      <td>8.231843</td>\n",
              "      <td>8.135143</td>\n",
              "      <td>8.112044</td>\n",
              "      <td>8.099473</td>\n",
              "      <td>8.125009</td>\n",
              "      <td>9984.639722</td>\n",
              "      <td>9997.879782</td>\n",
              "      <td>10013.591785</td>\n",
              "      <td>10029.786258</td>\n",
              "      <td>10047.591315</td>\n",
              "      <td>...</td>\n",
              "      <td>5.161243</td>\n",
              "      <td>5.042818</td>\n",
              "      <td>5.007267</td>\n",
              "      <td>5.019343</td>\n",
              "      <td>183.025472</td>\n",
              "      <td>183.237710</td>\n",
              "      <td>183.467807</td>\n",
              "      <td>183.705047</td>\n",
              "      <td>183.950841</td>\n",
              "      <td>9953.147758</td>\n",
              "    </tr>\n",
              "    <tr>\n",
              "      <th>std</th>\n",
              "      <td>2.435170</td>\n",
              "      <td>2.433365</td>\n",
              "      <td>2.433544</td>\n",
              "      <td>2.433938</td>\n",
              "      <td>2.432950</td>\n",
              "      <td>11372.751571</td>\n",
              "      <td>11397.918230</td>\n",
              "      <td>11422.152569</td>\n",
              "      <td>11448.840285</td>\n",
              "      <td>11484.281792</td>\n",
              "      <td>...</td>\n",
              "      <td>6.734321</td>\n",
              "      <td>6.708077</td>\n",
              "      <td>6.700007</td>\n",
              "      <td>6.703113</td>\n",
              "      <td>193.709473</td>\n",
              "      <td>194.036344</td>\n",
              "      <td>194.336885</td>\n",
              "      <td>194.660012</td>\n",
              "      <td>195.046340</td>\n",
              "      <td>10744.687079</td>\n",
              "    </tr>\n",
              "    <tr>\n",
              "      <th>min</th>\n",
              "      <td>1.000000</td>\n",
              "      <td>1.000000</td>\n",
              "      <td>1.000000</td>\n",
              "      <td>1.000000</td>\n",
              "      <td>1.000000</td>\n",
              "      <td>0.000000</td>\n",
              "      <td>0.000000</td>\n",
              "      <td>0.000000</td>\n",
              "      <td>0.000000</td>\n",
              "      <td>0.000000</td>\n",
              "      <td>...</td>\n",
              "      <td>-15.000000</td>\n",
              "      <td>-15.000000</td>\n",
              "      <td>-15.000000</td>\n",
              "      <td>-15.000000</td>\n",
              "      <td>0.000000</td>\n",
              "      <td>0.000000</td>\n",
              "      <td>0.000000</td>\n",
              "      <td>0.000000</td>\n",
              "      <td>0.000000</td>\n",
              "      <td>0.000000</td>\n",
              "    </tr>\n",
              "    <tr>\n",
              "      <th>25%</th>\n",
              "      <td>7.000000</td>\n",
              "      <td>7.000000</td>\n",
              "      <td>7.000000</td>\n",
              "      <td>7.000000</td>\n",
              "      <td>7.000000</td>\n",
              "      <td>2124.000000</td>\n",
              "      <td>2124.000000</td>\n",
              "      <td>2124.000000</td>\n",
              "      <td>2124.000000</td>\n",
              "      <td>2124.000000</td>\n",
              "      <td>...</td>\n",
              "      <td>1.000000</td>\n",
              "      <td>1.000000</td>\n",
              "      <td>1.000000</td>\n",
              "      <td>1.000000</td>\n",
              "      <td>48.000000</td>\n",
              "      <td>48.000000</td>\n",
              "      <td>48.000000</td>\n",
              "      <td>48.000000</td>\n",
              "      <td>48.000000</td>\n",
              "      <td>2357.000000</td>\n",
              "    </tr>\n",
              "    <tr>\n",
              "      <th>50%</th>\n",
              "      <td>8.300539</td>\n",
              "      <td>8.000000</td>\n",
              "      <td>8.000000</td>\n",
              "      <td>7.991939</td>\n",
              "      <td>8.000000</td>\n",
              "      <td>5972.000000</td>\n",
              "      <td>5972.000000</td>\n",
              "      <td>5972.000000</td>\n",
              "      <td>5983.000000</td>\n",
              "      <td>5994.000000</td>\n",
              "      <td>...</td>\n",
              "      <td>6.590308</td>\n",
              "      <td>6.132278</td>\n",
              "      <td>6.009539</td>\n",
              "      <td>6.000000</td>\n",
              "      <td>122.000000</td>\n",
              "      <td>122.000000</td>\n",
              "      <td>122.000000</td>\n",
              "      <td>123.000000</td>\n",
              "      <td>123.000000</td>\n",
              "      <td>6347.000000</td>\n",
              "    </tr>\n",
              "    <tr>\n",
              "      <th>75%</th>\n",
              "      <td>9.000000</td>\n",
              "      <td>9.000000</td>\n",
              "      <td>9.000000</td>\n",
              "      <td>9.000000</td>\n",
              "      <td>9.000000</td>\n",
              "      <td>13946.000000</td>\n",
              "      <td>13951.500000</td>\n",
              "      <td>13980.000000</td>\n",
              "      <td>14002.000000</td>\n",
              "      <td>14018.500000</td>\n",
              "      <td>...</td>\n",
              "      <td>7.000000</td>\n",
              "      <td>7.000000</td>\n",
              "      <td>7.000000</td>\n",
              "      <td>7.000000</td>\n",
              "      <td>256.000000</td>\n",
              "      <td>256.000000</td>\n",
              "      <td>256.000000</td>\n",
              "      <td>256.000000</td>\n",
              "      <td>257.000000</td>\n",
              "      <td>13998.500000</td>\n",
              "    </tr>\n",
              "    <tr>\n",
              "      <th>max</th>\n",
              "      <td>15.000000</td>\n",
              "      <td>15.000000</td>\n",
              "      <td>15.000000</td>\n",
              "      <td>15.000000</td>\n",
              "      <td>15.000000</td>\n",
              "      <td>87872.000000</td>\n",
              "      <td>87872.000000</td>\n",
              "      <td>87872.000000</td>\n",
              "      <td>87872.000000</td>\n",
              "      <td>87872.000000</td>\n",
              "      <td>...</td>\n",
              "      <td>32.000000</td>\n",
              "      <td>32.000000</td>\n",
              "      <td>32.000000</td>\n",
              "      <td>32.000000</td>\n",
              "      <td>2179.000000</td>\n",
              "      <td>2179.000000</td>\n",
              "      <td>2179.000000</td>\n",
              "      <td>2179.000000</td>\n",
              "      <td>2179.000000</td>\n",
              "      <td>75533.000000</td>\n",
              "    </tr>\n",
              "  </tbody>\n",
              "</table>\n",
              "<p>8 rows × 46 columns</p>\n",
              "</div>\n",
              "      <button class=\"colab-df-convert\" onclick=\"convertToInteractive('df-15aa9cde-fa3c-4ea2-968e-8126587a92a0')\"\n",
              "              title=\"Convert this dataframe to an interactive table.\"\n",
              "              style=\"display:none;\">\n",
              "        \n",
              "  <svg xmlns=\"http://www.w3.org/2000/svg\" height=\"24px\"viewBox=\"0 0 24 24\"\n",
              "       width=\"24px\">\n",
              "    <path d=\"M0 0h24v24H0V0z\" fill=\"none\"/>\n",
              "    <path d=\"M18.56 5.44l.94 2.06.94-2.06 2.06-.94-2.06-.94-.94-2.06-.94 2.06-2.06.94zm-11 1L8.5 8.5l.94-2.06 2.06-.94-2.06-.94L8.5 2.5l-.94 2.06-2.06.94zm10 10l.94 2.06.94-2.06 2.06-.94-2.06-.94-.94-2.06-.94 2.06-2.06.94z\"/><path d=\"M17.41 7.96l-1.37-1.37c-.4-.4-.92-.59-1.43-.59-.52 0-1.04.2-1.43.59L10.3 9.45l-7.72 7.72c-.78.78-.78 2.05 0 2.83L4 21.41c.39.39.9.59 1.41.59.51 0 1.02-.2 1.41-.59l7.78-7.78 2.81-2.81c.8-.78.8-2.07 0-2.86zM5.41 20L4 18.59l7.72-7.72 1.47 1.35L5.41 20z\"/>\n",
              "  </svg>\n",
              "      </button>\n",
              "      \n",
              "  <style>\n",
              "    .colab-df-container {\n",
              "      display:flex;\n",
              "      flex-wrap:wrap;\n",
              "      gap: 12px;\n",
              "    }\n",
              "\n",
              "    .colab-df-convert {\n",
              "      background-color: #E8F0FE;\n",
              "      border: none;\n",
              "      border-radius: 50%;\n",
              "      cursor: pointer;\n",
              "      display: none;\n",
              "      fill: #1967D2;\n",
              "      height: 32px;\n",
              "      padding: 0 0 0 0;\n",
              "      width: 32px;\n",
              "    }\n",
              "\n",
              "    .colab-df-convert:hover {\n",
              "      background-color: #E2EBFA;\n",
              "      box-shadow: 0px 1px 2px rgba(60, 64, 67, 0.3), 0px 1px 3px 1px rgba(60, 64, 67, 0.15);\n",
              "      fill: #174EA6;\n",
              "    }\n",
              "\n",
              "    [theme=dark] .colab-df-convert {\n",
              "      background-color: #3B4455;\n",
              "      fill: #D2E3FC;\n",
              "    }\n",
              "\n",
              "    [theme=dark] .colab-df-convert:hover {\n",
              "      background-color: #434B5C;\n",
              "      box-shadow: 0px 1px 3px 1px rgba(0, 0, 0, 0.15);\n",
              "      filter: drop-shadow(0px 1px 2px rgba(0, 0, 0, 0.3));\n",
              "      fill: #FFFFFF;\n",
              "    }\n",
              "  </style>\n",
              "\n",
              "      <script>\n",
              "        const buttonEl =\n",
              "          document.querySelector('#df-15aa9cde-fa3c-4ea2-968e-8126587a92a0 button.colab-df-convert');\n",
              "        buttonEl.style.display =\n",
              "          google.colab.kernel.accessAllowed ? 'block' : 'none';\n",
              "\n",
              "        async function convertToInteractive(key) {\n",
              "          const element = document.querySelector('#df-15aa9cde-fa3c-4ea2-968e-8126587a92a0');\n",
              "          const dataTable =\n",
              "            await google.colab.kernel.invokeFunction('convertToInteractive',\n",
              "                                                     [key], {});\n",
              "          if (!dataTable) return;\n",
              "\n",
              "          const docLinkHtml = 'Like what you see? Visit the ' +\n",
              "            '<a target=\"_blank\" href=https://colab.research.google.com/notebooks/data_table.ipynb>data table notebook</a>'\n",
              "            + ' to learn more about interactive tables.';\n",
              "          element.innerHTML = '';\n",
              "          dataTable['output_type'] = 'display_data';\n",
              "          await google.colab.output.renderOutput(dataTable, element);\n",
              "          const docLink = document.createElement('div');\n",
              "          docLink.innerHTML = docLinkHtml;\n",
              "          element.appendChild(docLink);\n",
              "        }\n",
              "      </script>\n",
              "    </div>\n",
              "  </div>\n",
              "  "
            ]
          },
          "metadata": {},
          "execution_count": 12
        }
      ]
    },
    {
      "cell_type": "code",
      "source": [
        "frame_train.isna().sum().sum()"
      ],
      "metadata": {
        "colab": {
          "base_uri": "https://localhost:8080/"
        },
        "id": "dagGWlHYu9-f",
        "outputId": "e113cedf-9bf2-470c-cc2b-c22b7307c267"
      },
      "execution_count": null,
      "outputs": [
        {
          "output_type": "execute_result",
          "data": {
            "text/plain": [
              "0"
            ]
          },
          "metadata": {},
          "execution_count": 13
        }
      ]
    },
    {
      "cell_type": "code",
      "source": [
        "frame_test.isna().sum().sum()"
      ],
      "metadata": {
        "colab": {
          "base_uri": "https://localhost:8080/"
        },
        "id": "ofJOocIjpGLq",
        "outputId": "0b4863cf-bc69-46b6-c619-694f7bee6cec"
      },
      "execution_count": null,
      "outputs": [
        {
          "output_type": "execute_result",
          "data": {
            "text/plain": [
              "0"
            ]
          },
          "metadata": {},
          "execution_count": 14
        }
      ]
    },
    {
      "cell_type": "code",
      "source": [
        "# LOW - below 1000\n",
        "# MEDIUM - between 1000 and 4000\n",
        "# HIGH - greater than 4000"
      ],
      "metadata": {
        "id": "7aeChI1JvFnf"
      },
      "execution_count": null,
      "outputs": []
    },
    {
      "cell_type": "code",
      "source": [
        "frame_low_train = frame_train[frame_train['DL_bitrate']<=1000]\n",
        "frame_medium_train = frame_train[(frame_train['DL_bitrate']>1000) & (frame_train['DL_bitrate']<=4000)]\n",
        "frame_high_train = frame_train[frame_train['DL_bitrate']>4000]"
      ],
      "metadata": {
        "id": "iJg9PP_eu97-"
      },
      "execution_count": null,
      "outputs": []
    },
    {
      "cell_type": "code",
      "source": [
        "frame_low_test = frame_test[frame_test['DL_bitrate']<=1000]\n",
        "frame_medium_test = frame_test[(frame_test['DL_bitrate']>1000) & (frame_test['DL_bitrate']<=4000)]\n",
        "frame_high_test = frame_test[frame_test['DL_bitrate']>4000]"
      ],
      "metadata": {
        "id": "AZOy7__ipRle"
      },
      "execution_count": null,
      "outputs": []
    },
    {
      "cell_type": "code",
      "source": [
        "col_names_scaled =['CQI-0', 'CQI-1', 'CQI-2', 'CQI-3', 'CQI-4', 'DL_bitrate-0',\n",
        "       'DL_bitrate-1', 'DL_bitrate-2', 'DL_bitrate-3', 'DL_bitrate-4', 'SNR-0', 'SNR-1', 'SNR-2', 'SNR-3', 'SNR-4', 'DL_bitrate']"
      ],
      "metadata": {
        "id": "eUAzOiKFvgF2"
      },
      "execution_count": null,
      "outputs": []
    },
    {
      "cell_type": "markdown",
      "source": [
        "# Random Split"
      ],
      "metadata": {
        "id": "TcALbrCocQ4y"
      }
    },
    {
      "cell_type": "markdown",
      "source": [
        "## Low Throughput"
      ],
      "metadata": {
        "id": "OThf6e_PJTqv"
      }
    },
    {
      "cell_type": "code",
      "source": [
        "frame_low_train.head()"
      ],
      "metadata": {
        "colab": {
          "base_uri": "https://localhost:8080/",
          "height": 236
        },
        "id": "tTVvwzWBvgEK",
        "outputId": "f7605f3c-6757-477c-c57d-d11e0e079599"
      },
      "execution_count": null,
      "outputs": [
        {
          "output_type": "execute_result",
          "data": {
            "text/plain": [
              "    CQI-0  CQI-1  CQI-2  CQI-3  CQI-4  DL_bitrate-0  DL_bitrate-1  \\\n",
              "16    9.0    9.0    9.0    7.0    7.0        1543.0        2337.0   \n",
              "17    9.0    9.0    9.0    9.0    7.0        2169.0        1543.0   \n",
              "18    9.0    9.0    9.0    9.0    9.0         156.0        2169.0   \n",
              "19    9.0    9.0    9.0    9.0    9.0        1107.0         156.0   \n",
              "20    9.0    9.0    9.0    9.0    9.0         313.0        1107.0   \n",
              "\n",
              "    DL_bitrate-2  DL_bitrate-3  DL_bitrate-4  ...  SNR-1  SNR-2  SNR-3  SNR-4  \\\n",
              "16        2874.0        2169.0        3824.0  ...    9.0    9.0    8.0    8.0   \n",
              "17        2337.0        2874.0        2169.0  ...   10.0    9.0    9.0    8.0   \n",
              "18        1543.0        2337.0        2874.0  ...   10.0   10.0    9.0    9.0   \n",
              "19        2169.0        1543.0        2337.0  ...    9.0   10.0   10.0    9.0   \n",
              "20         156.0        2169.0        1543.0  ...    9.0    9.0   10.0   10.0   \n",
              "\n",
              "    UL_bitrate-0  UL_bitrate-1  UL_bitrate-2  UL_bitrate-3  UL_bitrate-4  \\\n",
              "16          30.0          46.0          54.0          78.0          75.0   \n",
              "17          69.0          30.0          46.0          54.0          78.0   \n",
              "18           5.0          69.0          30.0          46.0          54.0   \n",
              "19          30.0           5.0          69.0          30.0          46.0   \n",
              "20          12.0          30.0           5.0          69.0          30.0   \n",
              "\n",
              "    DL_bitrate  \n",
              "16       769.0  \n",
              "17       476.0  \n",
              "18       682.0  \n",
              "19       487.0  \n",
              "20       471.0  \n",
              "\n",
              "[5 rows x 46 columns]"
            ],
            "text/html": [
              "\n",
              "  <div id=\"df-6164d8e6-b376-4805-a0f6-e4de7383eab2\">\n",
              "    <div class=\"colab-df-container\">\n",
              "      <div>\n",
              "<style scoped>\n",
              "    .dataframe tbody tr th:only-of-type {\n",
              "        vertical-align: middle;\n",
              "    }\n",
              "\n",
              "    .dataframe tbody tr th {\n",
              "        vertical-align: top;\n",
              "    }\n",
              "\n",
              "    .dataframe thead th {\n",
              "        text-align: right;\n",
              "    }\n",
              "</style>\n",
              "<table border=\"1\" class=\"dataframe\">\n",
              "  <thead>\n",
              "    <tr style=\"text-align: right;\">\n",
              "      <th></th>\n",
              "      <th>CQI-0</th>\n",
              "      <th>CQI-1</th>\n",
              "      <th>CQI-2</th>\n",
              "      <th>CQI-3</th>\n",
              "      <th>CQI-4</th>\n",
              "      <th>DL_bitrate-0</th>\n",
              "      <th>DL_bitrate-1</th>\n",
              "      <th>DL_bitrate-2</th>\n",
              "      <th>DL_bitrate-3</th>\n",
              "      <th>DL_bitrate-4</th>\n",
              "      <th>...</th>\n",
              "      <th>SNR-1</th>\n",
              "      <th>SNR-2</th>\n",
              "      <th>SNR-3</th>\n",
              "      <th>SNR-4</th>\n",
              "      <th>UL_bitrate-0</th>\n",
              "      <th>UL_bitrate-1</th>\n",
              "      <th>UL_bitrate-2</th>\n",
              "      <th>UL_bitrate-3</th>\n",
              "      <th>UL_bitrate-4</th>\n",
              "      <th>DL_bitrate</th>\n",
              "    </tr>\n",
              "  </thead>\n",
              "  <tbody>\n",
              "    <tr>\n",
              "      <th>16</th>\n",
              "      <td>9.0</td>\n",
              "      <td>9.0</td>\n",
              "      <td>9.0</td>\n",
              "      <td>7.0</td>\n",
              "      <td>7.0</td>\n",
              "      <td>1543.0</td>\n",
              "      <td>2337.0</td>\n",
              "      <td>2874.0</td>\n",
              "      <td>2169.0</td>\n",
              "      <td>3824.0</td>\n",
              "      <td>...</td>\n",
              "      <td>9.0</td>\n",
              "      <td>9.0</td>\n",
              "      <td>8.0</td>\n",
              "      <td>8.0</td>\n",
              "      <td>30.0</td>\n",
              "      <td>46.0</td>\n",
              "      <td>54.0</td>\n",
              "      <td>78.0</td>\n",
              "      <td>75.0</td>\n",
              "      <td>769.0</td>\n",
              "    </tr>\n",
              "    <tr>\n",
              "      <th>17</th>\n",
              "      <td>9.0</td>\n",
              "      <td>9.0</td>\n",
              "      <td>9.0</td>\n",
              "      <td>9.0</td>\n",
              "      <td>7.0</td>\n",
              "      <td>2169.0</td>\n",
              "      <td>1543.0</td>\n",
              "      <td>2337.0</td>\n",
              "      <td>2874.0</td>\n",
              "      <td>2169.0</td>\n",
              "      <td>...</td>\n",
              "      <td>10.0</td>\n",
              "      <td>9.0</td>\n",
              "      <td>9.0</td>\n",
              "      <td>8.0</td>\n",
              "      <td>69.0</td>\n",
              "      <td>30.0</td>\n",
              "      <td>46.0</td>\n",
              "      <td>54.0</td>\n",
              "      <td>78.0</td>\n",
              "      <td>476.0</td>\n",
              "    </tr>\n",
              "    <tr>\n",
              "      <th>18</th>\n",
              "      <td>9.0</td>\n",
              "      <td>9.0</td>\n",
              "      <td>9.0</td>\n",
              "      <td>9.0</td>\n",
              "      <td>9.0</td>\n",
              "      <td>156.0</td>\n",
              "      <td>2169.0</td>\n",
              "      <td>1543.0</td>\n",
              "      <td>2337.0</td>\n",
              "      <td>2874.0</td>\n",
              "      <td>...</td>\n",
              "      <td>10.0</td>\n",
              "      <td>10.0</td>\n",
              "      <td>9.0</td>\n",
              "      <td>9.0</td>\n",
              "      <td>5.0</td>\n",
              "      <td>69.0</td>\n",
              "      <td>30.0</td>\n",
              "      <td>46.0</td>\n",
              "      <td>54.0</td>\n",
              "      <td>682.0</td>\n",
              "    </tr>\n",
              "    <tr>\n",
              "      <th>19</th>\n",
              "      <td>9.0</td>\n",
              "      <td>9.0</td>\n",
              "      <td>9.0</td>\n",
              "      <td>9.0</td>\n",
              "      <td>9.0</td>\n",
              "      <td>1107.0</td>\n",
              "      <td>156.0</td>\n",
              "      <td>2169.0</td>\n",
              "      <td>1543.0</td>\n",
              "      <td>2337.0</td>\n",
              "      <td>...</td>\n",
              "      <td>9.0</td>\n",
              "      <td>10.0</td>\n",
              "      <td>10.0</td>\n",
              "      <td>9.0</td>\n",
              "      <td>30.0</td>\n",
              "      <td>5.0</td>\n",
              "      <td>69.0</td>\n",
              "      <td>30.0</td>\n",
              "      <td>46.0</td>\n",
              "      <td>487.0</td>\n",
              "    </tr>\n",
              "    <tr>\n",
              "      <th>20</th>\n",
              "      <td>9.0</td>\n",
              "      <td>9.0</td>\n",
              "      <td>9.0</td>\n",
              "      <td>9.0</td>\n",
              "      <td>9.0</td>\n",
              "      <td>313.0</td>\n",
              "      <td>1107.0</td>\n",
              "      <td>156.0</td>\n",
              "      <td>2169.0</td>\n",
              "      <td>1543.0</td>\n",
              "      <td>...</td>\n",
              "      <td>9.0</td>\n",
              "      <td>9.0</td>\n",
              "      <td>10.0</td>\n",
              "      <td>10.0</td>\n",
              "      <td>12.0</td>\n",
              "      <td>30.0</td>\n",
              "      <td>5.0</td>\n",
              "      <td>69.0</td>\n",
              "      <td>30.0</td>\n",
              "      <td>471.0</td>\n",
              "    </tr>\n",
              "  </tbody>\n",
              "</table>\n",
              "<p>5 rows × 46 columns</p>\n",
              "</div>\n",
              "      <button class=\"colab-df-convert\" onclick=\"convertToInteractive('df-6164d8e6-b376-4805-a0f6-e4de7383eab2')\"\n",
              "              title=\"Convert this dataframe to an interactive table.\"\n",
              "              style=\"display:none;\">\n",
              "        \n",
              "  <svg xmlns=\"http://www.w3.org/2000/svg\" height=\"24px\"viewBox=\"0 0 24 24\"\n",
              "       width=\"24px\">\n",
              "    <path d=\"M0 0h24v24H0V0z\" fill=\"none\"/>\n",
              "    <path d=\"M18.56 5.44l.94 2.06.94-2.06 2.06-.94-2.06-.94-.94-2.06-.94 2.06-2.06.94zm-11 1L8.5 8.5l.94-2.06 2.06-.94-2.06-.94L8.5 2.5l-.94 2.06-2.06.94zm10 10l.94 2.06.94-2.06 2.06-.94-2.06-.94-.94-2.06-.94 2.06-2.06.94z\"/><path d=\"M17.41 7.96l-1.37-1.37c-.4-.4-.92-.59-1.43-.59-.52 0-1.04.2-1.43.59L10.3 9.45l-7.72 7.72c-.78.78-.78 2.05 0 2.83L4 21.41c.39.39.9.59 1.41.59.51 0 1.02-.2 1.41-.59l7.78-7.78 2.81-2.81c.8-.78.8-2.07 0-2.86zM5.41 20L4 18.59l7.72-7.72 1.47 1.35L5.41 20z\"/>\n",
              "  </svg>\n",
              "      </button>\n",
              "      \n",
              "  <style>\n",
              "    .colab-df-container {\n",
              "      display:flex;\n",
              "      flex-wrap:wrap;\n",
              "      gap: 12px;\n",
              "    }\n",
              "\n",
              "    .colab-df-convert {\n",
              "      background-color: #E8F0FE;\n",
              "      border: none;\n",
              "      border-radius: 50%;\n",
              "      cursor: pointer;\n",
              "      display: none;\n",
              "      fill: #1967D2;\n",
              "      height: 32px;\n",
              "      padding: 0 0 0 0;\n",
              "      width: 32px;\n",
              "    }\n",
              "\n",
              "    .colab-df-convert:hover {\n",
              "      background-color: #E2EBFA;\n",
              "      box-shadow: 0px 1px 2px rgba(60, 64, 67, 0.3), 0px 1px 3px 1px rgba(60, 64, 67, 0.15);\n",
              "      fill: #174EA6;\n",
              "    }\n",
              "\n",
              "    [theme=dark] .colab-df-convert {\n",
              "      background-color: #3B4455;\n",
              "      fill: #D2E3FC;\n",
              "    }\n",
              "\n",
              "    [theme=dark] .colab-df-convert:hover {\n",
              "      background-color: #434B5C;\n",
              "      box-shadow: 0px 1px 3px 1px rgba(0, 0, 0, 0.15);\n",
              "      filter: drop-shadow(0px 1px 2px rgba(0, 0, 0, 0.3));\n",
              "      fill: #FFFFFF;\n",
              "    }\n",
              "  </style>\n",
              "\n",
              "      <script>\n",
              "        const buttonEl =\n",
              "          document.querySelector('#df-6164d8e6-b376-4805-a0f6-e4de7383eab2 button.colab-df-convert');\n",
              "        buttonEl.style.display =\n",
              "          google.colab.kernel.accessAllowed ? 'block' : 'none';\n",
              "\n",
              "        async function convertToInteractive(key) {\n",
              "          const element = document.querySelector('#df-6164d8e6-b376-4805-a0f6-e4de7383eab2');\n",
              "          const dataTable =\n",
              "            await google.colab.kernel.invokeFunction('convertToInteractive',\n",
              "                                                     [key], {});\n",
              "          if (!dataTable) return;\n",
              "\n",
              "          const docLinkHtml = 'Like what you see? Visit the ' +\n",
              "            '<a target=\"_blank\" href=https://colab.research.google.com/notebooks/data_table.ipynb>data table notebook</a>'\n",
              "            + ' to learn more about interactive tables.';\n",
              "          element.innerHTML = '';\n",
              "          dataTable['output_type'] = 'display_data';\n",
              "          await google.colab.output.renderOutput(dataTable, element);\n",
              "          const docLink = document.createElement('div');\n",
              "          docLink.innerHTML = docLinkHtml;\n",
              "          element.appendChild(docLink);\n",
              "        }\n",
              "      </script>\n",
              "    </div>\n",
              "  </div>\n",
              "  "
            ]
          },
          "metadata": {},
          "execution_count": 18
        }
      ]
    },
    {
      "cell_type": "code",
      "source": [
        "frame_low_test.head()"
      ],
      "metadata": {
        "colab": {
          "base_uri": "https://localhost:8080/",
          "height": 236
        },
        "id": "SjnjzDbhvgCG",
        "outputId": "224890ef-169d-4887-d74f-588c34b5759b"
      },
      "execution_count": null,
      "outputs": [
        {
          "output_type": "execute_result",
          "data": {
            "text/plain": [
              "     CQI-0  CQI-1  CQI-2  CQI-3  CQI-4  DL_bitrate-0  DL_bitrate-1  \\\n",
              "415    4.0    6.0    7.0    7.0    6.0         548.0        1286.0   \n",
              "416    4.0    4.0    6.0    7.0    7.0         615.0         548.0   \n",
              "417    5.0    4.0    4.0    6.0    7.0         693.0         615.0   \n",
              "418    5.0    5.0    4.0    4.0    6.0        1182.0         693.0   \n",
              "419    5.0    5.0    5.0    4.0    4.0        1017.0        1182.0   \n",
              "\n",
              "     DL_bitrate-2  DL_bitrate-3  DL_bitrate-4  ...  SNR-1  SNR-2  SNR-3  \\\n",
              "415        1498.0        1688.0        1688.0  ...   -1.0   -2.0   -1.0   \n",
              "416        1286.0        1498.0        1688.0  ...   -1.0   -1.0   -2.0   \n",
              "417         548.0        1286.0        1498.0  ...   -3.0   -1.0   -1.0   \n",
              "418         615.0         548.0        1286.0  ...   -3.0   -3.0   -1.0   \n",
              "419         693.0         615.0         548.0  ...   -5.0   -3.0   -3.0   \n",
              "\n",
              "     SNR-4  UL_bitrate-0  UL_bitrate-1  UL_bitrate-2  UL_bitrate-3  \\\n",
              "415   -2.0          20.0          24.0          27.0          31.0   \n",
              "416   -1.0          35.0          20.0          24.0          27.0   \n",
              "417   -2.0          42.0          35.0          20.0          24.0   \n",
              "418   -1.0          48.0          42.0          35.0          20.0   \n",
              "419   -1.0          19.0          48.0          42.0          35.0   \n",
              "\n",
              "     UL_bitrate-4  DL_bitrate  \n",
              "415          31.0       819.0  \n",
              "416          31.0       752.0  \n",
              "417          27.0       725.0  \n",
              "418          24.0       614.0  \n",
              "419          20.0       588.0  \n",
              "\n",
              "[5 rows x 46 columns]"
            ],
            "text/html": [
              "\n",
              "  <div id=\"df-a11cef00-2c38-437f-9779-323ab441a01e\">\n",
              "    <div class=\"colab-df-container\">\n",
              "      <div>\n",
              "<style scoped>\n",
              "    .dataframe tbody tr th:only-of-type {\n",
              "        vertical-align: middle;\n",
              "    }\n",
              "\n",
              "    .dataframe tbody tr th {\n",
              "        vertical-align: top;\n",
              "    }\n",
              "\n",
              "    .dataframe thead th {\n",
              "        text-align: right;\n",
              "    }\n",
              "</style>\n",
              "<table border=\"1\" class=\"dataframe\">\n",
              "  <thead>\n",
              "    <tr style=\"text-align: right;\">\n",
              "      <th></th>\n",
              "      <th>CQI-0</th>\n",
              "      <th>CQI-1</th>\n",
              "      <th>CQI-2</th>\n",
              "      <th>CQI-3</th>\n",
              "      <th>CQI-4</th>\n",
              "      <th>DL_bitrate-0</th>\n",
              "      <th>DL_bitrate-1</th>\n",
              "      <th>DL_bitrate-2</th>\n",
              "      <th>DL_bitrate-3</th>\n",
              "      <th>DL_bitrate-4</th>\n",
              "      <th>...</th>\n",
              "      <th>SNR-1</th>\n",
              "      <th>SNR-2</th>\n",
              "      <th>SNR-3</th>\n",
              "      <th>SNR-4</th>\n",
              "      <th>UL_bitrate-0</th>\n",
              "      <th>UL_bitrate-1</th>\n",
              "      <th>UL_bitrate-2</th>\n",
              "      <th>UL_bitrate-3</th>\n",
              "      <th>UL_bitrate-4</th>\n",
              "      <th>DL_bitrate</th>\n",
              "    </tr>\n",
              "  </thead>\n",
              "  <tbody>\n",
              "    <tr>\n",
              "      <th>415</th>\n",
              "      <td>4.0</td>\n",
              "      <td>6.0</td>\n",
              "      <td>7.0</td>\n",
              "      <td>7.0</td>\n",
              "      <td>6.0</td>\n",
              "      <td>548.0</td>\n",
              "      <td>1286.0</td>\n",
              "      <td>1498.0</td>\n",
              "      <td>1688.0</td>\n",
              "      <td>1688.0</td>\n",
              "      <td>...</td>\n",
              "      <td>-1.0</td>\n",
              "      <td>-2.0</td>\n",
              "      <td>-1.0</td>\n",
              "      <td>-2.0</td>\n",
              "      <td>20.0</td>\n",
              "      <td>24.0</td>\n",
              "      <td>27.0</td>\n",
              "      <td>31.0</td>\n",
              "      <td>31.0</td>\n",
              "      <td>819.0</td>\n",
              "    </tr>\n",
              "    <tr>\n",
              "      <th>416</th>\n",
              "      <td>4.0</td>\n",
              "      <td>4.0</td>\n",
              "      <td>6.0</td>\n",
              "      <td>7.0</td>\n",
              "      <td>7.0</td>\n",
              "      <td>615.0</td>\n",
              "      <td>548.0</td>\n",
              "      <td>1286.0</td>\n",
              "      <td>1498.0</td>\n",
              "      <td>1688.0</td>\n",
              "      <td>...</td>\n",
              "      <td>-1.0</td>\n",
              "      <td>-1.0</td>\n",
              "      <td>-2.0</td>\n",
              "      <td>-1.0</td>\n",
              "      <td>35.0</td>\n",
              "      <td>20.0</td>\n",
              "      <td>24.0</td>\n",
              "      <td>27.0</td>\n",
              "      <td>31.0</td>\n",
              "      <td>752.0</td>\n",
              "    </tr>\n",
              "    <tr>\n",
              "      <th>417</th>\n",
              "      <td>5.0</td>\n",
              "      <td>4.0</td>\n",
              "      <td>4.0</td>\n",
              "      <td>6.0</td>\n",
              "      <td>7.0</td>\n",
              "      <td>693.0</td>\n",
              "      <td>615.0</td>\n",
              "      <td>548.0</td>\n",
              "      <td>1286.0</td>\n",
              "      <td>1498.0</td>\n",
              "      <td>...</td>\n",
              "      <td>-3.0</td>\n",
              "      <td>-1.0</td>\n",
              "      <td>-1.0</td>\n",
              "      <td>-2.0</td>\n",
              "      <td>42.0</td>\n",
              "      <td>35.0</td>\n",
              "      <td>20.0</td>\n",
              "      <td>24.0</td>\n",
              "      <td>27.0</td>\n",
              "      <td>725.0</td>\n",
              "    </tr>\n",
              "    <tr>\n",
              "      <th>418</th>\n",
              "      <td>5.0</td>\n",
              "      <td>5.0</td>\n",
              "      <td>4.0</td>\n",
              "      <td>4.0</td>\n",
              "      <td>6.0</td>\n",
              "      <td>1182.0</td>\n",
              "      <td>693.0</td>\n",
              "      <td>615.0</td>\n",
              "      <td>548.0</td>\n",
              "      <td>1286.0</td>\n",
              "      <td>...</td>\n",
              "      <td>-3.0</td>\n",
              "      <td>-3.0</td>\n",
              "      <td>-1.0</td>\n",
              "      <td>-1.0</td>\n",
              "      <td>48.0</td>\n",
              "      <td>42.0</td>\n",
              "      <td>35.0</td>\n",
              "      <td>20.0</td>\n",
              "      <td>24.0</td>\n",
              "      <td>614.0</td>\n",
              "    </tr>\n",
              "    <tr>\n",
              "      <th>419</th>\n",
              "      <td>5.0</td>\n",
              "      <td>5.0</td>\n",
              "      <td>5.0</td>\n",
              "      <td>4.0</td>\n",
              "      <td>4.0</td>\n",
              "      <td>1017.0</td>\n",
              "      <td>1182.0</td>\n",
              "      <td>693.0</td>\n",
              "      <td>615.0</td>\n",
              "      <td>548.0</td>\n",
              "      <td>...</td>\n",
              "      <td>-5.0</td>\n",
              "      <td>-3.0</td>\n",
              "      <td>-3.0</td>\n",
              "      <td>-1.0</td>\n",
              "      <td>19.0</td>\n",
              "      <td>48.0</td>\n",
              "      <td>42.0</td>\n",
              "      <td>35.0</td>\n",
              "      <td>20.0</td>\n",
              "      <td>588.0</td>\n",
              "    </tr>\n",
              "  </tbody>\n",
              "</table>\n",
              "<p>5 rows × 46 columns</p>\n",
              "</div>\n",
              "      <button class=\"colab-df-convert\" onclick=\"convertToInteractive('df-a11cef00-2c38-437f-9779-323ab441a01e')\"\n",
              "              title=\"Convert this dataframe to an interactive table.\"\n",
              "              style=\"display:none;\">\n",
              "        \n",
              "  <svg xmlns=\"http://www.w3.org/2000/svg\" height=\"24px\"viewBox=\"0 0 24 24\"\n",
              "       width=\"24px\">\n",
              "    <path d=\"M0 0h24v24H0V0z\" fill=\"none\"/>\n",
              "    <path d=\"M18.56 5.44l.94 2.06.94-2.06 2.06-.94-2.06-.94-.94-2.06-.94 2.06-2.06.94zm-11 1L8.5 8.5l.94-2.06 2.06-.94-2.06-.94L8.5 2.5l-.94 2.06-2.06.94zm10 10l.94 2.06.94-2.06 2.06-.94-2.06-.94-.94-2.06-.94 2.06-2.06.94z\"/><path d=\"M17.41 7.96l-1.37-1.37c-.4-.4-.92-.59-1.43-.59-.52 0-1.04.2-1.43.59L10.3 9.45l-7.72 7.72c-.78.78-.78 2.05 0 2.83L4 21.41c.39.39.9.59 1.41.59.51 0 1.02-.2 1.41-.59l7.78-7.78 2.81-2.81c.8-.78.8-2.07 0-2.86zM5.41 20L4 18.59l7.72-7.72 1.47 1.35L5.41 20z\"/>\n",
              "  </svg>\n",
              "      </button>\n",
              "      \n",
              "  <style>\n",
              "    .colab-df-container {\n",
              "      display:flex;\n",
              "      flex-wrap:wrap;\n",
              "      gap: 12px;\n",
              "    }\n",
              "\n",
              "    .colab-df-convert {\n",
              "      background-color: #E8F0FE;\n",
              "      border: none;\n",
              "      border-radius: 50%;\n",
              "      cursor: pointer;\n",
              "      display: none;\n",
              "      fill: #1967D2;\n",
              "      height: 32px;\n",
              "      padding: 0 0 0 0;\n",
              "      width: 32px;\n",
              "    }\n",
              "\n",
              "    .colab-df-convert:hover {\n",
              "      background-color: #E2EBFA;\n",
              "      box-shadow: 0px 1px 2px rgba(60, 64, 67, 0.3), 0px 1px 3px 1px rgba(60, 64, 67, 0.15);\n",
              "      fill: #174EA6;\n",
              "    }\n",
              "\n",
              "    [theme=dark] .colab-df-convert {\n",
              "      background-color: #3B4455;\n",
              "      fill: #D2E3FC;\n",
              "    }\n",
              "\n",
              "    [theme=dark] .colab-df-convert:hover {\n",
              "      background-color: #434B5C;\n",
              "      box-shadow: 0px 1px 3px 1px rgba(0, 0, 0, 0.15);\n",
              "      filter: drop-shadow(0px 1px 2px rgba(0, 0, 0, 0.3));\n",
              "      fill: #FFFFFF;\n",
              "    }\n",
              "  </style>\n",
              "\n",
              "      <script>\n",
              "        const buttonEl =\n",
              "          document.querySelector('#df-a11cef00-2c38-437f-9779-323ab441a01e button.colab-df-convert');\n",
              "        buttonEl.style.display =\n",
              "          google.colab.kernel.accessAllowed ? 'block' : 'none';\n",
              "\n",
              "        async function convertToInteractive(key) {\n",
              "          const element = document.querySelector('#df-a11cef00-2c38-437f-9779-323ab441a01e');\n",
              "          const dataTable =\n",
              "            await google.colab.kernel.invokeFunction('convertToInteractive',\n",
              "                                                     [key], {});\n",
              "          if (!dataTable) return;\n",
              "\n",
              "          const docLinkHtml = 'Like what you see? Visit the ' +\n",
              "            '<a target=\"_blank\" href=https://colab.research.google.com/notebooks/data_table.ipynb>data table notebook</a>'\n",
              "            + ' to learn more about interactive tables.';\n",
              "          element.innerHTML = '';\n",
              "          dataTable['output_type'] = 'display_data';\n",
              "          await google.colab.output.renderOutput(dataTable, element);\n",
              "          const docLink = document.createElement('div');\n",
              "          docLink.innerHTML = docLinkHtml;\n",
              "          element.appendChild(docLink);\n",
              "        }\n",
              "      </script>\n",
              "    </div>\n",
              "  </div>\n",
              "  "
            ]
          },
          "metadata": {},
          "execution_count": 19
        }
      ]
    },
    {
      "cell_type": "code",
      "source": [
        "print(frame_low_train.shape)\n",
        "print(frame_low_test.shape)"
      ],
      "metadata": {
        "colab": {
          "base_uri": "https://localhost:8080/"
        },
        "id": "ydJ1Eupj3edp",
        "outputId": "e09b3393-8c38-4c60-eec9-c7587514155e"
      },
      "execution_count": null,
      "outputs": [
        {
          "output_type": "stream",
          "name": "stdout",
          "text": [
            "(1337, 46)\n",
            "(47, 46)\n"
          ]
        }
      ]
    },
    {
      "cell_type": "markdown",
      "source": [
        "### With Scaling"
      ],
      "metadata": {
        "id": "7Y4Xk2jDiuAs"
      }
    },
    {
      "cell_type": "markdown",
      "source": [
        "#### MinMax Scaler"
      ],
      "metadata": {
        "id": "FElO8dKKqnC0"
      }
    },
    {
      "cell_type": "code",
      "source": [
        "df = frame_low_train[col_names_scaled]\n",
        "min_max_scaler = MinMaxScaler()\n",
        "# transform data\n",
        "df_min_max_scaled = pd.DataFrame(min_max_scaler.fit_transform(df))"
      ],
      "metadata": {
        "id": "VgzFuRJHvf_v"
      },
      "execution_count": null,
      "outputs": []
    },
    {
      "cell_type": "code",
      "source": [
        "X_train_min_max_scaler, X_valid_min_max_scaler, Y_train_min_max_scaler, Y_valid_min_max_scaler = train_test_split(df_min_max_scaled.iloc[:,:-1], df_min_max_scaled.iloc[:,-1:], test_size=0.3, random_state=0)\n",
        "print('Train set shape', X_train_min_max_scaler.shape)\n",
        "print('Validation set shape', X_valid_min_max_scaler.shape)\n",
        "X_train_min_max_scaler.head()"
      ],
      "metadata": {
        "colab": {
          "base_uri": "https://localhost:8080/",
          "height": 242
        },
        "id": "K-1D56AJvf9o",
        "outputId": "f7c4e116-db0e-461d-f529-6c8dc514c600"
      },
      "execution_count": null,
      "outputs": [
        {
          "output_type": "stream",
          "name": "stdout",
          "text": [
            "Train set shape (935, 15)\n",
            "Validation set shape (402, 15)\n"
          ]
        },
        {
          "output_type": "execute_result",
          "data": {
            "text/plain": [
              "            0         1         2         3         4         5         6   \\\n",
              "196   0.602509  0.576587  0.573755  0.524688  0.531905  0.000000  0.033190   \n",
              "1102  0.618344  0.593634  0.591102  0.542747  0.549781  0.014955  0.013788   \n",
              "183   0.666667  0.416667  0.416667  0.384615  0.307692  0.083230  0.132926   \n",
              "1297  0.250000  0.250000  0.250000  0.307692  0.307692  0.057653  0.023035   \n",
              "471   0.750000  0.750000  0.750000  0.692308  0.692308  0.000000  0.000000   \n",
              "\n",
              "            7         8         9         10        11        12        13  \\\n",
              "196   0.059941  0.033068  0.018638  0.805870  0.757596  0.735858  0.738099   \n",
              "1102  0.050776  0.167084  0.115164  0.820315  0.760940  0.752029  0.740313   \n",
              "183   0.069188  0.061054  0.109798  0.384615  0.384615  0.423077  0.423077   \n",
              "1297  0.048877  0.077133  0.085721  0.230769  0.384615  0.384615  0.307692   \n",
              "471   0.000000  0.000000  0.000000  0.846154  0.846154  0.846154  0.846154   \n",
              "\n",
              "            14  \n",
              "196   0.661922  \n",
              "1102  0.673448  \n",
              "183   0.484244  \n",
              "1297  0.276711  \n",
              "471   0.760955  "
            ],
            "text/html": [
              "\n",
              "  <div id=\"df-70ad274a-63aa-4eb1-bc6e-7203e58a5904\">\n",
              "    <div class=\"colab-df-container\">\n",
              "      <div>\n",
              "<style scoped>\n",
              "    .dataframe tbody tr th:only-of-type {\n",
              "        vertical-align: middle;\n",
              "    }\n",
              "\n",
              "    .dataframe tbody tr th {\n",
              "        vertical-align: top;\n",
              "    }\n",
              "\n",
              "    .dataframe thead th {\n",
              "        text-align: right;\n",
              "    }\n",
              "</style>\n",
              "<table border=\"1\" class=\"dataframe\">\n",
              "  <thead>\n",
              "    <tr style=\"text-align: right;\">\n",
              "      <th></th>\n",
              "      <th>0</th>\n",
              "      <th>1</th>\n",
              "      <th>2</th>\n",
              "      <th>3</th>\n",
              "      <th>4</th>\n",
              "      <th>5</th>\n",
              "      <th>6</th>\n",
              "      <th>7</th>\n",
              "      <th>8</th>\n",
              "      <th>9</th>\n",
              "      <th>10</th>\n",
              "      <th>11</th>\n",
              "      <th>12</th>\n",
              "      <th>13</th>\n",
              "      <th>14</th>\n",
              "    </tr>\n",
              "  </thead>\n",
              "  <tbody>\n",
              "    <tr>\n",
              "      <th>196</th>\n",
              "      <td>0.602509</td>\n",
              "      <td>0.576587</td>\n",
              "      <td>0.573755</td>\n",
              "      <td>0.524688</td>\n",
              "      <td>0.531905</td>\n",
              "      <td>0.000000</td>\n",
              "      <td>0.033190</td>\n",
              "      <td>0.059941</td>\n",
              "      <td>0.033068</td>\n",
              "      <td>0.018638</td>\n",
              "      <td>0.805870</td>\n",
              "      <td>0.757596</td>\n",
              "      <td>0.735858</td>\n",
              "      <td>0.738099</td>\n",
              "      <td>0.661922</td>\n",
              "    </tr>\n",
              "    <tr>\n",
              "      <th>1102</th>\n",
              "      <td>0.618344</td>\n",
              "      <td>0.593634</td>\n",
              "      <td>0.591102</td>\n",
              "      <td>0.542747</td>\n",
              "      <td>0.549781</td>\n",
              "      <td>0.014955</td>\n",
              "      <td>0.013788</td>\n",
              "      <td>0.050776</td>\n",
              "      <td>0.167084</td>\n",
              "      <td>0.115164</td>\n",
              "      <td>0.820315</td>\n",
              "      <td>0.760940</td>\n",
              "      <td>0.752029</td>\n",
              "      <td>0.740313</td>\n",
              "      <td>0.673448</td>\n",
              "    </tr>\n",
              "    <tr>\n",
              "      <th>183</th>\n",
              "      <td>0.666667</td>\n",
              "      <td>0.416667</td>\n",
              "      <td>0.416667</td>\n",
              "      <td>0.384615</td>\n",
              "      <td>0.307692</td>\n",
              "      <td>0.083230</td>\n",
              "      <td>0.132926</td>\n",
              "      <td>0.069188</td>\n",
              "      <td>0.061054</td>\n",
              "      <td>0.109798</td>\n",
              "      <td>0.384615</td>\n",
              "      <td>0.384615</td>\n",
              "      <td>0.423077</td>\n",
              "      <td>0.423077</td>\n",
              "      <td>0.484244</td>\n",
              "    </tr>\n",
              "    <tr>\n",
              "      <th>1297</th>\n",
              "      <td>0.250000</td>\n",
              "      <td>0.250000</td>\n",
              "      <td>0.250000</td>\n",
              "      <td>0.307692</td>\n",
              "      <td>0.307692</td>\n",
              "      <td>0.057653</td>\n",
              "      <td>0.023035</td>\n",
              "      <td>0.048877</td>\n",
              "      <td>0.077133</td>\n",
              "      <td>0.085721</td>\n",
              "      <td>0.230769</td>\n",
              "      <td>0.384615</td>\n",
              "      <td>0.384615</td>\n",
              "      <td>0.307692</td>\n",
              "      <td>0.276711</td>\n",
              "    </tr>\n",
              "    <tr>\n",
              "      <th>471</th>\n",
              "      <td>0.750000</td>\n",
              "      <td>0.750000</td>\n",
              "      <td>0.750000</td>\n",
              "      <td>0.692308</td>\n",
              "      <td>0.692308</td>\n",
              "      <td>0.000000</td>\n",
              "      <td>0.000000</td>\n",
              "      <td>0.000000</td>\n",
              "      <td>0.000000</td>\n",
              "      <td>0.000000</td>\n",
              "      <td>0.846154</td>\n",
              "      <td>0.846154</td>\n",
              "      <td>0.846154</td>\n",
              "      <td>0.846154</td>\n",
              "      <td>0.760955</td>\n",
              "    </tr>\n",
              "  </tbody>\n",
              "</table>\n",
              "</div>\n",
              "      <button class=\"colab-df-convert\" onclick=\"convertToInteractive('df-70ad274a-63aa-4eb1-bc6e-7203e58a5904')\"\n",
              "              title=\"Convert this dataframe to an interactive table.\"\n",
              "              style=\"display:none;\">\n",
              "        \n",
              "  <svg xmlns=\"http://www.w3.org/2000/svg\" height=\"24px\"viewBox=\"0 0 24 24\"\n",
              "       width=\"24px\">\n",
              "    <path d=\"M0 0h24v24H0V0z\" fill=\"none\"/>\n",
              "    <path d=\"M18.56 5.44l.94 2.06.94-2.06 2.06-.94-2.06-.94-.94-2.06-.94 2.06-2.06.94zm-11 1L8.5 8.5l.94-2.06 2.06-.94-2.06-.94L8.5 2.5l-.94 2.06-2.06.94zm10 10l.94 2.06.94-2.06 2.06-.94-2.06-.94-.94-2.06-.94 2.06-2.06.94z\"/><path d=\"M17.41 7.96l-1.37-1.37c-.4-.4-.92-.59-1.43-.59-.52 0-1.04.2-1.43.59L10.3 9.45l-7.72 7.72c-.78.78-.78 2.05 0 2.83L4 21.41c.39.39.9.59 1.41.59.51 0 1.02-.2 1.41-.59l7.78-7.78 2.81-2.81c.8-.78.8-2.07 0-2.86zM5.41 20L4 18.59l7.72-7.72 1.47 1.35L5.41 20z\"/>\n",
              "  </svg>\n",
              "      </button>\n",
              "      \n",
              "  <style>\n",
              "    .colab-df-container {\n",
              "      display:flex;\n",
              "      flex-wrap:wrap;\n",
              "      gap: 12px;\n",
              "    }\n",
              "\n",
              "    .colab-df-convert {\n",
              "      background-color: #E8F0FE;\n",
              "      border: none;\n",
              "      border-radius: 50%;\n",
              "      cursor: pointer;\n",
              "      display: none;\n",
              "      fill: #1967D2;\n",
              "      height: 32px;\n",
              "      padding: 0 0 0 0;\n",
              "      width: 32px;\n",
              "    }\n",
              "\n",
              "    .colab-df-convert:hover {\n",
              "      background-color: #E2EBFA;\n",
              "      box-shadow: 0px 1px 2px rgba(60, 64, 67, 0.3), 0px 1px 3px 1px rgba(60, 64, 67, 0.15);\n",
              "      fill: #174EA6;\n",
              "    }\n",
              "\n",
              "    [theme=dark] .colab-df-convert {\n",
              "      background-color: #3B4455;\n",
              "      fill: #D2E3FC;\n",
              "    }\n",
              "\n",
              "    [theme=dark] .colab-df-convert:hover {\n",
              "      background-color: #434B5C;\n",
              "      box-shadow: 0px 1px 3px 1px rgba(0, 0, 0, 0.15);\n",
              "      filter: drop-shadow(0px 1px 2px rgba(0, 0, 0, 0.3));\n",
              "      fill: #FFFFFF;\n",
              "    }\n",
              "  </style>\n",
              "\n",
              "      <script>\n",
              "        const buttonEl =\n",
              "          document.querySelector('#df-70ad274a-63aa-4eb1-bc6e-7203e58a5904 button.colab-df-convert');\n",
              "        buttonEl.style.display =\n",
              "          google.colab.kernel.accessAllowed ? 'block' : 'none';\n",
              "\n",
              "        async function convertToInteractive(key) {\n",
              "          const element = document.querySelector('#df-70ad274a-63aa-4eb1-bc6e-7203e58a5904');\n",
              "          const dataTable =\n",
              "            await google.colab.kernel.invokeFunction('convertToInteractive',\n",
              "                                                     [key], {});\n",
              "          if (!dataTable) return;\n",
              "\n",
              "          const docLinkHtml = 'Like what you see? Visit the ' +\n",
              "            '<a target=\"_blank\" href=https://colab.research.google.com/notebooks/data_table.ipynb>data table notebook</a>'\n",
              "            + ' to learn more about interactive tables.';\n",
              "          element.innerHTML = '';\n",
              "          dataTable['output_type'] = 'display_data';\n",
              "          await google.colab.output.renderOutput(dataTable, element);\n",
              "          const docLink = document.createElement('div');\n",
              "          docLink.innerHTML = docLinkHtml;\n",
              "          element.appendChild(docLink);\n",
              "        }\n",
              "      </script>\n",
              "    </div>\n",
              "  </div>\n",
              "  "
            ]
          },
          "metadata": {},
          "execution_count": 21
        }
      ]
    },
    {
      "cell_type": "code",
      "source": [
        "X_train_min_max_series = X_train_min_max_scaler.values.reshape((X_train_min_max_scaler.shape[0], X_train_min_max_scaler.shape[1], 1))\n",
        "X_valid_min_max_series = X_valid_min_max_scaler.values.reshape((X_valid_min_max_scaler.shape[0], X_valid_min_max_scaler.shape[1], 1))\n",
        "print('Train set shape', X_train_min_max_series.shape)\n",
        "print('Validation set shape', X_valid_min_max_series.shape)"
      ],
      "metadata": {
        "colab": {
          "base_uri": "https://localhost:8080/"
        },
        "id": "N5UdtgDGvf7g",
        "outputId": "db510e3f-a2cb-47df-ac42-b840643c2de0"
      },
      "execution_count": null,
      "outputs": [
        {
          "output_type": "stream",
          "name": "stdout",
          "text": [
            "Train set shape (935, 15, 1)\n",
            "Validation set shape (402, 15, 1)\n"
          ]
        }
      ]
    },
    {
      "cell_type": "markdown",
      "source": [
        "### Hyper Parameter Tuning using Keras Auto Tuner"
      ],
      "metadata": {
        "id": "tMmGMwHsCS9l"
      }
    },
    {
      "cell_type": "code",
      "source": [
        "mae = MeanAbsoluteError()\n",
        "model_high = keras.Sequential()\n",
        "model_high.add(keras.layers.Flatten(input_shape=(X_train_min_max_series.shape[1], X_train_min_max_series.shape[2])))\n",
        "model_high.add(Dense(units=416, activation='relu'))\n",
        "model_high.add(Dropout(rate=0))\n",
        "model_high.add(tf.keras.layers.Dense(units=480, activation='relu'))\n",
        "model_high.add(Dropout(rate=0))\n",
        "model_high.add(tf.keras.layers.Dense(units=192, activation='relu'))\n",
        "model_high.add(Dropout(rate=0))\n",
        "model_high.add(Dense(1, kernel_initializer='normal', activation='linear'))\n",
        "model_high.compile(optimizer=tf.keras.optimizers.Adam(learning_rate=0.001),loss=mae,metrics=[mae])\n",
        "model_high.summary()"
      ],
      "metadata": {
        "id": "kYMuvd24vf5I",
        "colab": {
          "base_uri": "https://localhost:8080/"
        },
        "outputId": "7f9967eb-73ed-4f3b-a212-12fa9a11ca94"
      },
      "execution_count": null,
      "outputs": [
        {
          "output_type": "stream",
          "name": "stdout",
          "text": [
            "Model: \"sequential\"\n",
            "_________________________________________________________________\n",
            " Layer (type)                Output Shape              Param #   \n",
            "=================================================================\n",
            " flatten (Flatten)           (None, 15)                0         \n",
            "                                                                 \n",
            " dense (Dense)               (None, 416)               6656      \n",
            "                                                                 \n",
            " dropout (Dropout)           (None, 416)               0         \n",
            "                                                                 \n",
            " dense_1 (Dense)             (None, 480)               200160    \n",
            "                                                                 \n",
            " dropout_1 (Dropout)         (None, 480)               0         \n",
            "                                                                 \n",
            " dense_2 (Dense)             (None, 192)               92352     \n",
            "                                                                 \n",
            " dropout_2 (Dropout)         (None, 192)               0         \n",
            "                                                                 \n",
            " dense_3 (Dense)             (None, 1)                 193       \n",
            "                                                                 \n",
            "=================================================================\n",
            "Total params: 299,361\n",
            "Trainable params: 299,361\n",
            "Non-trainable params: 0\n",
            "_________________________________________________________________\n"
          ]
        }
      ]
    },
    {
      "cell_type": "code",
      "source": [
        "monitor = EarlyStopping(monitor='val_loss', min_delta=1e-3, patience=30, \n",
        "        verbose=1, mode='auto', restore_best_weights=True)\n",
        "history=model_high.fit(X_train_min_max_series, Y_train_min_max_scaler, validation_data=(X_valid_min_max_series, Y_valid_min_max_scaler),\n",
        "        callbacks=[monitor],verbose=1,epochs=500)"
      ],
      "metadata": {
        "id": "IuQL2PuOvf3C"
      },
      "execution_count": null,
      "outputs": []
    },
    {
      "cell_type": "code",
      "source": [
        "kt_train_pred_min_max_scaled = model_high.predict(X_train_min_max_scaler)\n",
        "kt_valid_pred_min_max_scaled = model_high.predict(X_valid_min_max_scaler)\n",
        "print('Train rmse:', np.sqrt(mean_squared_error(Y_train_min_max_scaler, kt_train_pred_min_max_scaled)))\n",
        "print('Validation rmse:', np.sqrt(mean_squared_error(Y_valid_min_max_scaler, kt_valid_pred_min_max_scaled)))"
      ],
      "metadata": {
        "id": "H-OGvKfuvf0x",
        "colab": {
          "base_uri": "https://localhost:8080/"
        },
        "outputId": "58b25183-8674-453d-81d9-3caceb3990a4"
      },
      "execution_count": null,
      "outputs": [
        {
          "output_type": "stream",
          "name": "stdout",
          "text": [
            "Train rmse: 0.16032584784001738\n",
            "Validation rmse: 0.21226830588915124\n"
          ]
        }
      ]
    },
    {
      "cell_type": "code",
      "source": [
        "kt_train_pred_min_max_scaled = model_high.predict(X_train_min_max_scaler)\n",
        "kt_valid_pred_min_max_scaled = model_high.predict(X_valid_min_max_scaler)\n",
        "print('Train rmse:', np.sqrt(mean_squared_error(Y_train_min_max_scaler, kt_train_pred_min_max_scaled)))\n",
        "print('Validation rmse:', np.sqrt(mean_squared_error(Y_valid_min_max_scaler, kt_valid_pred_min_max_scaled)))"
      ],
      "metadata": {
        "colab": {
          "base_uri": "https://localhost:8080/"
        },
        "id": "DiGilXbCwOoO",
        "outputId": "4f0bb9d5-b840-4e17-f69e-5693999e60a4"
      },
      "execution_count": null,
      "outputs": [
        {
          "output_type": "stream",
          "name": "stdout",
          "text": [
            "Train rmse: 0.16032584784001738\n",
            "Validation rmse: 0.21226830588915124\n"
          ]
        }
      ]
    },
    {
      "cell_type": "code",
      "source": [
        "df = frame_low_test[col_names_scaled]\n",
        "df_test_scaled = pd.DataFrame(min_max_scaler.fit_transform(df))\n",
        "X_test_scaled = df_test_scaled.iloc[:,:-1]\n",
        "X_test_scaled.head()"
      ],
      "metadata": {
        "colab": {
          "base_uri": "https://localhost:8080/",
          "height": 206
        },
        "id": "kVfVHMXZwOlo",
        "outputId": "b8e793ca-c2d5-4c97-cc93-04d921e9535e"
      },
      "execution_count": null,
      "outputs": [
        {
          "output_type": "execute_result",
          "data": {
            "text/plain": [
              "         0         1         2         3         4         5         6   \\\n",
              "0  0.158307  0.502547  0.702830  0.685836  0.472001  0.065355  0.195306   \n",
              "1  0.158307  0.167516  0.527122  0.685836  0.708002  0.081633  0.052172   \n",
              "2  0.316613  0.167516  0.175707  0.457224  0.708002  0.100583  0.065167   \n",
              "3  0.316613  0.335032  0.175707  0.000000  0.472001  0.219388  0.080295   \n",
              "4  0.316613  0.335032  0.351415  0.000000  0.000000  0.179300  0.175136   \n",
              "\n",
              "         7         8         9         10        11        12        13  \\\n",
              "0  0.192575  0.222591  0.122078  0.428121  0.458633  0.368147  0.445529   \n",
              "1  0.159084  0.192575  0.122078  0.321091  0.458633  0.429505  0.381882   \n",
              "2  0.042496  0.159084  0.102684  0.321091  0.343975  0.429505  0.445529   \n",
              "3  0.053081  0.042496  0.081045  0.214061  0.343975  0.306789  0.445529   \n",
              "4  0.065403  0.053081  0.005716  0.214061  0.229316  0.306789  0.318235   \n",
              "\n",
              "         14  \n",
              "0  0.248984  \n",
              "1  0.331979  \n",
              "2  0.248984  \n",
              "3  0.331979  \n",
              "4  0.331979  "
            ],
            "text/html": [
              "\n",
              "  <div id=\"df-6d03a122-2cca-42ec-8bf2-7b34bb8160c2\">\n",
              "    <div class=\"colab-df-container\">\n",
              "      <div>\n",
              "<style scoped>\n",
              "    .dataframe tbody tr th:only-of-type {\n",
              "        vertical-align: middle;\n",
              "    }\n",
              "\n",
              "    .dataframe tbody tr th {\n",
              "        vertical-align: top;\n",
              "    }\n",
              "\n",
              "    .dataframe thead th {\n",
              "        text-align: right;\n",
              "    }\n",
              "</style>\n",
              "<table border=\"1\" class=\"dataframe\">\n",
              "  <thead>\n",
              "    <tr style=\"text-align: right;\">\n",
              "      <th></th>\n",
              "      <th>0</th>\n",
              "      <th>1</th>\n",
              "      <th>2</th>\n",
              "      <th>3</th>\n",
              "      <th>4</th>\n",
              "      <th>5</th>\n",
              "      <th>6</th>\n",
              "      <th>7</th>\n",
              "      <th>8</th>\n",
              "      <th>9</th>\n",
              "      <th>10</th>\n",
              "      <th>11</th>\n",
              "      <th>12</th>\n",
              "      <th>13</th>\n",
              "      <th>14</th>\n",
              "    </tr>\n",
              "  </thead>\n",
              "  <tbody>\n",
              "    <tr>\n",
              "      <th>0</th>\n",
              "      <td>0.158307</td>\n",
              "      <td>0.502547</td>\n",
              "      <td>0.702830</td>\n",
              "      <td>0.685836</td>\n",
              "      <td>0.472001</td>\n",
              "      <td>0.065355</td>\n",
              "      <td>0.195306</td>\n",
              "      <td>0.192575</td>\n",
              "      <td>0.222591</td>\n",
              "      <td>0.122078</td>\n",
              "      <td>0.428121</td>\n",
              "      <td>0.458633</td>\n",
              "      <td>0.368147</td>\n",
              "      <td>0.445529</td>\n",
              "      <td>0.248984</td>\n",
              "    </tr>\n",
              "    <tr>\n",
              "      <th>1</th>\n",
              "      <td>0.158307</td>\n",
              "      <td>0.167516</td>\n",
              "      <td>0.527122</td>\n",
              "      <td>0.685836</td>\n",
              "      <td>0.708002</td>\n",
              "      <td>0.081633</td>\n",
              "      <td>0.052172</td>\n",
              "      <td>0.159084</td>\n",
              "      <td>0.192575</td>\n",
              "      <td>0.122078</td>\n",
              "      <td>0.321091</td>\n",
              "      <td>0.458633</td>\n",
              "      <td>0.429505</td>\n",
              "      <td>0.381882</td>\n",
              "      <td>0.331979</td>\n",
              "    </tr>\n",
              "    <tr>\n",
              "      <th>2</th>\n",
              "      <td>0.316613</td>\n",
              "      <td>0.167516</td>\n",
              "      <td>0.175707</td>\n",
              "      <td>0.457224</td>\n",
              "      <td>0.708002</td>\n",
              "      <td>0.100583</td>\n",
              "      <td>0.065167</td>\n",
              "      <td>0.042496</td>\n",
              "      <td>0.159084</td>\n",
              "      <td>0.102684</td>\n",
              "      <td>0.321091</td>\n",
              "      <td>0.343975</td>\n",
              "      <td>0.429505</td>\n",
              "      <td>0.445529</td>\n",
              "      <td>0.248984</td>\n",
              "    </tr>\n",
              "    <tr>\n",
              "      <th>3</th>\n",
              "      <td>0.316613</td>\n",
              "      <td>0.335032</td>\n",
              "      <td>0.175707</td>\n",
              "      <td>0.000000</td>\n",
              "      <td>0.472001</td>\n",
              "      <td>0.219388</td>\n",
              "      <td>0.080295</td>\n",
              "      <td>0.053081</td>\n",
              "      <td>0.042496</td>\n",
              "      <td>0.081045</td>\n",
              "      <td>0.214061</td>\n",
              "      <td>0.343975</td>\n",
              "      <td>0.306789</td>\n",
              "      <td>0.445529</td>\n",
              "      <td>0.331979</td>\n",
              "    </tr>\n",
              "    <tr>\n",
              "      <th>4</th>\n",
              "      <td>0.316613</td>\n",
              "      <td>0.335032</td>\n",
              "      <td>0.351415</td>\n",
              "      <td>0.000000</td>\n",
              "      <td>0.000000</td>\n",
              "      <td>0.179300</td>\n",
              "      <td>0.175136</td>\n",
              "      <td>0.065403</td>\n",
              "      <td>0.053081</td>\n",
              "      <td>0.005716</td>\n",
              "      <td>0.214061</td>\n",
              "      <td>0.229316</td>\n",
              "      <td>0.306789</td>\n",
              "      <td>0.318235</td>\n",
              "      <td>0.331979</td>\n",
              "    </tr>\n",
              "  </tbody>\n",
              "</table>\n",
              "</div>\n",
              "      <button class=\"colab-df-convert\" onclick=\"convertToInteractive('df-6d03a122-2cca-42ec-8bf2-7b34bb8160c2')\"\n",
              "              title=\"Convert this dataframe to an interactive table.\"\n",
              "              style=\"display:none;\">\n",
              "        \n",
              "  <svg xmlns=\"http://www.w3.org/2000/svg\" height=\"24px\"viewBox=\"0 0 24 24\"\n",
              "       width=\"24px\">\n",
              "    <path d=\"M0 0h24v24H0V0z\" fill=\"none\"/>\n",
              "    <path d=\"M18.56 5.44l.94 2.06.94-2.06 2.06-.94-2.06-.94-.94-2.06-.94 2.06-2.06.94zm-11 1L8.5 8.5l.94-2.06 2.06-.94-2.06-.94L8.5 2.5l-.94 2.06-2.06.94zm10 10l.94 2.06.94-2.06 2.06-.94-2.06-.94-.94-2.06-.94 2.06-2.06.94z\"/><path d=\"M17.41 7.96l-1.37-1.37c-.4-.4-.92-.59-1.43-.59-.52 0-1.04.2-1.43.59L10.3 9.45l-7.72 7.72c-.78.78-.78 2.05 0 2.83L4 21.41c.39.39.9.59 1.41.59.51 0 1.02-.2 1.41-.59l7.78-7.78 2.81-2.81c.8-.78.8-2.07 0-2.86zM5.41 20L4 18.59l7.72-7.72 1.47 1.35L5.41 20z\"/>\n",
              "  </svg>\n",
              "      </button>\n",
              "      \n",
              "  <style>\n",
              "    .colab-df-container {\n",
              "      display:flex;\n",
              "      flex-wrap:wrap;\n",
              "      gap: 12px;\n",
              "    }\n",
              "\n",
              "    .colab-df-convert {\n",
              "      background-color: #E8F0FE;\n",
              "      border: none;\n",
              "      border-radius: 50%;\n",
              "      cursor: pointer;\n",
              "      display: none;\n",
              "      fill: #1967D2;\n",
              "      height: 32px;\n",
              "      padding: 0 0 0 0;\n",
              "      width: 32px;\n",
              "    }\n",
              "\n",
              "    .colab-df-convert:hover {\n",
              "      background-color: #E2EBFA;\n",
              "      box-shadow: 0px 1px 2px rgba(60, 64, 67, 0.3), 0px 1px 3px 1px rgba(60, 64, 67, 0.15);\n",
              "      fill: #174EA6;\n",
              "    }\n",
              "\n",
              "    [theme=dark] .colab-df-convert {\n",
              "      background-color: #3B4455;\n",
              "      fill: #D2E3FC;\n",
              "    }\n",
              "\n",
              "    [theme=dark] .colab-df-convert:hover {\n",
              "      background-color: #434B5C;\n",
              "      box-shadow: 0px 1px 3px 1px rgba(0, 0, 0, 0.15);\n",
              "      filter: drop-shadow(0px 1px 2px rgba(0, 0, 0, 0.3));\n",
              "      fill: #FFFFFF;\n",
              "    }\n",
              "  </style>\n",
              "\n",
              "      <script>\n",
              "        const buttonEl =\n",
              "          document.querySelector('#df-6d03a122-2cca-42ec-8bf2-7b34bb8160c2 button.colab-df-convert');\n",
              "        buttonEl.style.display =\n",
              "          google.colab.kernel.accessAllowed ? 'block' : 'none';\n",
              "\n",
              "        async function convertToInteractive(key) {\n",
              "          const element = document.querySelector('#df-6d03a122-2cca-42ec-8bf2-7b34bb8160c2');\n",
              "          const dataTable =\n",
              "            await google.colab.kernel.invokeFunction('convertToInteractive',\n",
              "                                                     [key], {});\n",
              "          if (!dataTable) return;\n",
              "\n",
              "          const docLinkHtml = 'Like what you see? Visit the ' +\n",
              "            '<a target=\"_blank\" href=https://colab.research.google.com/notebooks/data_table.ipynb>data table notebook</a>'\n",
              "            + ' to learn more about interactive tables.';\n",
              "          element.innerHTML = '';\n",
              "          dataTable['output_type'] = 'display_data';\n",
              "          await google.colab.output.renderOutput(dataTable, element);\n",
              "          const docLink = document.createElement('div');\n",
              "          docLink.innerHTML = docLinkHtml;\n",
              "          element.appendChild(docLink);\n",
              "        }\n",
              "      </script>\n",
              "    </div>\n",
              "  </div>\n",
              "  "
            ]
          },
          "metadata": {},
          "execution_count": 27
        }
      ]
    },
    {
      "cell_type": "code",
      "source": [
        "Y_test = frame_low_test.iloc[:,-1:]\n",
        "Y_test.reset_index(drop=True,inplace=True)\n",
        "X_pred_scaled = model_high.predict(X_test_scaled)\n",
        "df_test_scaled[15]=X_pred_scaled\n",
        "#Inverse Transforming the Predicted Values\n",
        "df_test = pd.DataFrame(min_max_scaler.inverse_transform(df_test_scaled))\n",
        "Y_pred = df_test.iloc[:,-1:]"
      ],
      "metadata": {
        "id": "NzOGaiR6wVT3"
      },
      "execution_count": null,
      "outputs": []
    },
    {
      "cell_type": "code",
      "source": [
        "fig, axes = plt.subplots(1, 1, sharex=True, sharey=True,figsize=(15,5))\n",
        "ax3 = axes\n",
        "ax3.plot(Y_test, label='Y_test')\n",
        "ax3.plot(Y_pred, label='Y_pred')\n",
        "ax3.legend(loc='best')\n",
        "ax3.set_title('Line graph of True Vs Predicted Values')\n",
        "ax3.set_xlabel('Data Points')\n",
        "ax3.set_ylabel('Values')\n",
        "plt.show()"
      ],
      "metadata": {
        "colab": {
          "base_uri": "https://localhost:8080/",
          "height": 350
        },
        "id": "V2Jid4g0wVR2",
        "outputId": "39787af5-c89d-4b08-af29-2a80ed0649af"
      },
      "execution_count": null,
      "outputs": [
        {
          "output_type": "display_data",
          "data": {
            "text/plain": [
              "<Figure size 1080x360 with 1 Axes>"
            ],
            "image/png": "[encoded data removed]"
          },
          "metadata": {
            "needs_background": "light"
          }
        }
      ]
    },
    {
      "cell_type": "code",
      "source": [
        "Y_test=Y_test['DL_bitrate']"
      ],
      "metadata": {
        "id": "nnq248SYLRCU"
      },
      "execution_count": null,
      "outputs": []
    },
    {
      "cell_type": "code",
      "source": [
        "fig, axes = plt.subplots(1, 1, sharex=True, sharey=True,figsize=(15,5))\n",
        "ax3 = axes\n",
        "ax3.scatter(Y_test, Y_pred[15], c='crimson')\n",
        "p1 = max(max(Y_pred[15]), max(Y_test))\n",
        "p2 = min(min(Y_pred[15]), min(Y_test))\n",
        "ax3.plot([p1, p2], [p1, p2], 'b-')\n",
        "ax3.set(xlim=(0, None),ylim=(0, None), title='Scatter Plot of True Vs Predicted Values', xlabel='True Value', ylabel='Predicted Value')\n",
        "plt.show()"
      ],
      "metadata": {
        "colab": {
          "base_uri": "https://localhost:8080/",
          "height": 350
        },
        "id": "lxuGQU4bwVPX",
        "outputId": "42cf38a8-e4c5-4bc8-b7c0-1241ca3f4598"
      },
      "execution_count": null,
      "outputs": [
        {
          "output_type": "display_data",
          "data": {
            "text/plain": [
              "<Figure size 1080x360 with 1 Axes>"
            ],
            "image/png": "[encoded data removed]"
          },
          "metadata": {
            "needs_background": "light"
          }
        }
      ]
    },
    {
      "cell_type": "code",
      "source": [
        "a=Y_test.subtract(Y_pred[15])\n",
        "stats = {}\n",
        "# Compute the boxplot stats (as in the default matplotlib implementation)\n",
        "stats['A'] = cbook.boxplot_stats(a, labels='A')[0]\n",
        "stats['B'] = cbook.boxplot_stats(a, labels='B')[0]\n",
        "stats['C'] = cbook.boxplot_stats(a, labels='C')[0]\n",
        "\n",
        "# For box A compute the 1st and 99th percentiles\n",
        "stats['A']['q1'], stats['A']['q3'] = np.percentile(a, [5, 95])\n",
        "# For box B compute the 10th and 90th percentiles\n",
        "stats['B']['q1'], stats['B']['q3'] = np.percentile(a, [10, 90])\n",
        "# For box C compute the 25th and 75th percentiles (matplotlib default)\n",
        "stats['C']['q1'], stats['C']['q3'] = np.percentile(a, [25, 75])\n",
        "\n",
        "#fig = plt.figure(figsize =(10, 7))\n",
        "fig, ax = plt.subplots(1, 1, figsize = (10,7))\n",
        "# Plot boxplots from our computed statistics\n",
        "bp = ax.bxp([stats['A'], stats['B'], stats['C']], positions=range(3))\n",
        "\n",
        "# Colour the lines in the boxplot blue\n",
        "for element in bp.keys():\n",
        "    plt.setp(bp[element], color='C0')"
      ],
      "metadata": {
        "colab": {
          "base_uri": "https://localhost:8080/",
          "height": 428
        },
        "id": "xDEC7Rp7wVNH",
        "outputId": "c919548a-eb93-4ced-b196-c947dd2950dd"
      },
      "execution_count": null,
      "outputs": [
        {
          "output_type": "display_data",
          "data": {
            "text/plain": [
              "<Figure size 720x504 with 1 Axes>"
            ],
            "image/png": "[encoded data removed]"
          },
          "metadata": {
            "needs_background": "light"
          }
        }
      ]
    },
    {
      "cell_type": "code",
      "source": [
        "Y_pred=Y_pred[15]"
      ],
      "metadata": {
        "id": "P7MLbjhpLnqk"
      },
      "execution_count": null,
      "outputs": []
    },
    {
      "cell_type": "code",
      "source": [
        "# calculate MAE\n",
        "error = mae(Y_test, Y_pred)\n",
        "\n",
        "# display\n",
        "print(\"Mean absolute error : \" + str(error))\n",
        "print(f\"Decimal Representation: {error:.20f}\")"
      ],
      "metadata": {
        "colab": {
          "base_uri": "https://localhost:8080/"
        },
        "id": "2bmUmIhFwfnH",
        "outputId": "8d03302c-714c-47d2-8d55-6528b52d56e2"
      },
      "execution_count": null,
      "outputs": [
        {
          "output_type": "stream",
          "name": "stdout",
          "text": [
            "Mean absolute error : tf.Tensor(175.7848663330078, shape=(), dtype=float64)\n",
            "Decimal Representation: 175.78486633300781250000\n"
          ]
        }
      ]
    },
    {
      "cell_type": "code",
      "source": [
        "# Relative Absolute Error\n",
        "# (|y1-y2|)/(|y1_mean-y1|)\n",
        "def relative_absolute_error(y_true, y_pred):\n",
        "  y1=y_true.to_numpy()\n",
        "  y2=y_pred.to_numpy()\n",
        "  num = np.sum(np.absolute(np.array(y1) - np.array(y2)))\n",
        "  deno = np.sum(np.absolute(y2-np.mean(y1)))\n",
        "  return (num/deno)\n",
        "relative_absolute_error(Y_test, Y_pred)"
      ],
      "metadata": {
        "colab": {
          "base_uri": "https://localhost:8080/"
        },
        "id": "-IFvGYPswfi3",
        "outputId": "a9accdce-6553-48ad-b276-ec88b84dde7e"
      },
      "execution_count": null,
      "outputs": [
        {
          "output_type": "execute_result",
          "data": {
            "text/plain": [
              "0.8275332250397557"
            ]
          },
          "metadata": {},
          "execution_count": 37
        }
      ]
    },
    {
      "cell_type": "code",
      "source": [
        "# Root Relative Squared Error\n",
        "# (|y1-y2|^2)/(|y1_mean-y1|^2)\n",
        "def rrse(y_true, y_pred):\n",
        "  y1=y_true.to_numpy()\n",
        "  y2=y_pred.to_numpy()\n",
        "  num = np.sum(np.square(np.absolute(np.array(y1) - np.array(y2))))\n",
        "  deno = np.sum(np.square(np.absolute(y2-np.mean(y1))))\n",
        "  return (num/deno)\n",
        "rrse(Y_test, Y_pred)"
      ],
      "metadata": {
        "colab": {
          "base_uri": "https://localhost:8080/"
        },
        "id": "HpfRB_QxwfgX",
        "outputId": "eb838e9b-104f-4978-f5e4-269b1cee5897"
      },
      "execution_count": null,
      "outputs": [
        {
          "output_type": "execute_result",
          "data": {
            "text/plain": [
              "0.6259691313941702"
            ]
          },
          "metadata": {},
          "execution_count": 38
        }
      ]
    },
    {
      "cell_type": "markdown",
      "source": [
        "# Random Split"
      ],
      "metadata": {
        "id": "ay-SljGMx2iy"
      }
    },
    {
      "cell_type": "markdown",
      "source": [
        "## Medium Throughput"
      ],
      "metadata": {
        "id": "NT64XLa0x4vY"
      }
    },
    {
      "cell_type": "code",
      "source": [
        "frame_medium_train.head()"
      ],
      "metadata": {
        "colab": {
          "base_uri": "https://localhost:8080/",
          "height": 236
        },
        "id": "gSx25-H_6Lan",
        "outputId": "38393a11-7855-4fc9-eb06-421a24530d58"
      },
      "execution_count": null,
      "outputs": [
        {
          "output_type": "execute_result",
          "data": {
            "text/plain": [
              "   CQI-0  CQI-1  CQI-2  CQI-3  CQI-4  DL_bitrate-0  DL_bitrate-1  \\\n",
              "0    7.0    7.0   10.0    7.0    7.0           0.0           0.0   \n",
              "1    7.0    7.0    7.0   10.0    7.0           0.0           0.0   \n",
              "2    7.0    7.0    7.0    7.0   10.0           0.0           0.0   \n",
              "3    9.0    7.0    7.0    7.0    7.0        1757.0           0.0   \n",
              "4    9.0    9.0    7.0    7.0    7.0        4216.0        1757.0   \n",
              "\n",
              "   DL_bitrate-2  DL_bitrate-3  DL_bitrate-4  ...  SNR-1  SNR-2  SNR-3  SNR-4  \\\n",
              "0         310.0           3.0           3.0  ...    7.0    7.0   10.0   10.0   \n",
              "1           0.0         310.0           3.0  ...    8.0    7.0    7.0   10.0   \n",
              "2           0.0           0.0         310.0  ...    8.0    8.0    7.0    7.0   \n",
              "3           0.0           0.0           0.0  ...   10.0    8.0    8.0    7.0   \n",
              "4           0.0           0.0           0.0  ...   10.0   10.0    8.0    8.0   \n",
              "\n",
              "   UL_bitrate-0  UL_bitrate-1  UL_bitrate-2  UL_bitrate-3  UL_bitrate-4  \\\n",
              "0           0.0           0.0          14.0           7.0           7.0   \n",
              "1           0.0           0.0           0.0          14.0           7.0   \n",
              "2           0.0           0.0           0.0           0.0          14.0   \n",
              "3          68.0           0.0           0.0           0.0           0.0   \n",
              "4         151.0          68.0           0.0           0.0           0.0   \n",
              "\n",
              "   DL_bitrate  \n",
              "0      1769.0  \n",
              "1      2272.0  \n",
              "2      2549.0  \n",
              "3      2674.0  \n",
              "4      2393.0  \n",
              "\n",
              "[5 rows x 46 columns]"
            ],
            "text/html": [
              "\n",
              "  <div id=\"df-7776b797-442b-48ee-87a0-1de2cd9e279e\">\n",
              "    <div class=\"colab-df-container\">\n",
              "      <div>\n",
              "<style scoped>\n",
              "    .dataframe tbody tr th:only-of-type {\n",
              "        vertical-align: middle;\n",
              "    }\n",
              "\n",
              "    .dataframe tbody tr th {\n",
              "        vertical-align: top;\n",
              "    }\n",
              "\n",
              "    .dataframe thead th {\n",
              "        text-align: right;\n",
              "    }\n",
              "</style>\n",
              "<table border=\"1\" class=\"dataframe\">\n",
              "  <thead>\n",
              "    <tr style=\"text-align: right;\">\n",
              "      <th></th>\n",
              "      <th>CQI-0</th>\n",
              "      <th>CQI-1</th>\n",
              "      <th>CQI-2</th>\n",
              "      <th>CQI-3</th>\n",
              "      <th>CQI-4</th>\n",
              "      <th>DL_bitrate-0</th>\n",
              "      <th>DL_bitrate-1</th>\n",
              "      <th>DL_bitrate-2</th>\n",
              "      <th>DL_bitrate-3</th>\n",
              "      <th>DL_bitrate-4</th>\n",
              "      <th>...</th>\n",
              "      <th>SNR-1</th>\n",
              "      <th>SNR-2</th>\n",
              "      <th>SNR-3</th>\n",
              "      <th>SNR-4</th>\n",
              "      <th>UL_bitrate-0</th>\n",
              "      <th>UL_bitrate-1</th>\n",
              "      <th>UL_bitrate-2</th>\n",
              "      <th>UL_bitrate-3</th>\n",
              "      <th>UL_bitrate-4</th>\n",
              "      <th>DL_bitrate</th>\n",
              "    </tr>\n",
              "  </thead>\n",
              "  <tbody>\n",
              "    <tr>\n",
              "      <th>0</th>\n",
              "      <td>7.0</td>\n",
              "      <td>7.0</td>\n",
              "      <td>10.0</td>\n",
              "      <td>7.0</td>\n",
              "      <td>7.0</td>\n",
              "      <td>0.0</td>\n",
              "      <td>0.0</td>\n",
              "      <td>310.0</td>\n",
              "      <td>3.0</td>\n",
              "      <td>3.0</td>\n",
              "      <td>...</td>\n",
              "      <td>7.0</td>\n",
              "      <td>7.0</td>\n",
              "      <td>10.0</td>\n",
              "      <td>10.0</td>\n",
              "      <td>0.0</td>\n",
              "      <td>0.0</td>\n",
              "      <td>14.0</td>\n",
              "      <td>7.0</td>\n",
              "      <td>7.0</td>\n",
              "      <td>1769.0</td>\n",
              "    </tr>\n",
              "    <tr>\n",
              "      <th>1</th>\n",
              "      <td>7.0</td>\n",
              "      <td>7.0</td>\n",
              "      <td>7.0</td>\n",
              "      <td>10.0</td>\n",
              "      <td>7.0</td>\n",
              "      <td>0.0</td>\n",
              "      <td>0.0</td>\n",
              "      <td>0.0</td>\n",
              "      <td>310.0</td>\n",
              "      <td>3.0</td>\n",
              "      <td>...</td>\n",
              "      <td>8.0</td>\n",
              "      <td>7.0</td>\n",
              "      <td>7.0</td>\n",
              "      <td>10.0</td>\n",
              "      <td>0.0</td>\n",
              "      <td>0.0</td>\n",
              "      <td>0.0</td>\n",
              "      <td>14.0</td>\n",
              "      <td>7.0</td>\n",
              "      <td>2272.0</td>\n",
              "    </tr>\n",
              "    <tr>\n",
              "      <th>2</th>\n",
              "      <td>7.0</td>\n",
              "      <td>7.0</td>\n",
              "      <td>7.0</td>\n",
              "      <td>7.0</td>\n",
              "      <td>10.0</td>\n",
              "      <td>0.0</td>\n",
              "      <td>0.0</td>\n",
              "      <td>0.0</td>\n",
              "      <td>0.0</td>\n",
              "      <td>310.0</td>\n",
              "      <td>...</td>\n",
              "      <td>8.0</td>\n",
              "      <td>8.0</td>\n",
              "      <td>7.0</td>\n",
              "      <td>7.0</td>\n",
              "      <td>0.0</td>\n",
              "      <td>0.0</td>\n",
              "      <td>0.0</td>\n",
              "      <td>0.0</td>\n",
              "      <td>14.0</td>\n",
              "      <td>2549.0</td>\n",
              "    </tr>\n",
              "    <tr>\n",
              "      <th>3</th>\n",
              "      <td>9.0</td>\n",
              "      <td>7.0</td>\n",
              "      <td>7.0</td>\n",
              "      <td>7.0</td>\n",
              "      <td>7.0</td>\n",
              "      <td>1757.0</td>\n",
              "      <td>0.0</td>\n",
              "      <td>0.0</td>\n",
              "      <td>0.0</td>\n",
              "      <td>0.0</td>\n",
              "      <td>...</td>\n",
              "      <td>10.0</td>\n",
              "      <td>8.0</td>\n",
              "      <td>8.0</td>\n",
              "      <td>7.0</td>\n",
              "      <td>68.0</td>\n",
              "      <td>0.0</td>\n",
              "      <td>0.0</td>\n",
              "      <td>0.0</td>\n",
              "      <td>0.0</td>\n",
              "      <td>2674.0</td>\n",
              "    </tr>\n",
              "    <tr>\n",
              "      <th>4</th>\n",
              "      <td>9.0</td>\n",
              "      <td>9.0</td>\n",
              "      <td>7.0</td>\n",
              "      <td>7.0</td>\n",
              "      <td>7.0</td>\n",
              "      <td>4216.0</td>\n",
              "      <td>1757.0</td>\n",
              "      <td>0.0</td>\n",
              "      <td>0.0</td>\n",
              "      <td>0.0</td>\n",
              "      <td>...</td>\n",
              "      <td>10.0</td>\n",
              "      <td>10.0</td>\n",
              "      <td>8.0</td>\n",
              "      <td>8.0</td>\n",
              "      <td>151.0</td>\n",
              "      <td>68.0</td>\n",
              "      <td>0.0</td>\n",
              "      <td>0.0</td>\n",
              "      <td>0.0</td>\n",
              "      <td>2393.0</td>\n",
              "    </tr>\n",
              "  </tbody>\n",
              "</table>\n",
              "<p>5 rows × 46 columns</p>\n",
              "</div>\n",
              "      <button class=\"colab-df-convert\" onclick=\"convertToInteractive('df-7776b797-442b-48ee-87a0-1de2cd9e279e')\"\n",
              "              title=\"Convert this dataframe to an interactive table.\"\n",
              "              style=\"display:none;\">\n",
              "        \n",
              "  <svg xmlns=\"http://www.w3.org/2000/svg\" height=\"24px\"viewBox=\"0 0 24 24\"\n",
              "       width=\"24px\">\n",
              "    <path d=\"M0 0h24v24H0V0z\" fill=\"none\"/>\n",
              "    <path d=\"M18.56 5.44l.94 2.06.94-2.06 2.06-.94-2.06-.94-.94-2.06-.94 2.06-2.06.94zm-11 1L8.5 8.5l.94-2.06 2.06-.94-2.06-.94L8.5 2.5l-.94 2.06-2.06.94zm10 10l.94 2.06.94-2.06 2.06-.94-2.06-.94-.94-2.06-.94 2.06-2.06.94z\"/><path d=\"M17.41 7.96l-1.37-1.37c-.4-.4-.92-.59-1.43-.59-.52 0-1.04.2-1.43.59L10.3 9.45l-7.72 7.72c-.78.78-.78 2.05 0 2.83L4 21.41c.39.39.9.59 1.41.59.51 0 1.02-.2 1.41-.59l7.78-7.78 2.81-2.81c.8-.78.8-2.07 0-2.86zM5.41 20L4 18.59l7.72-7.72 1.47 1.35L5.41 20z\"/>\n",
              "  </svg>\n",
              "      </button>\n",
              "      \n",
              "  <style>\n",
              "    .colab-df-container {\n",
              "      display:flex;\n",
              "      flex-wrap:wrap;\n",
              "      gap: 12px;\n",
              "    }\n",
              "\n",
              "    .colab-df-convert {\n",
              "      background-color: #E8F0FE;\n",
              "      border: none;\n",
              "      border-radius: 50%;\n",
              "      cursor: pointer;\n",
              "      display: none;\n",
              "      fill: #1967D2;\n",
              "      height: 32px;\n",
              "      padding: 0 0 0 0;\n",
              "      width: 32px;\n",
              "    }\n",
              "\n",
              "    .colab-df-convert:hover {\n",
              "      background-color: #E2EBFA;\n",
              "      box-shadow: 0px 1px 2px rgba(60, 64, 67, 0.3), 0px 1px 3px 1px rgba(60, 64, 67, 0.15);\n",
              "      fill: #174EA6;\n",
              "    }\n",
              "\n",
              "    [theme=dark] .colab-df-convert {\n",
              "      background-color: #3B4455;\n",
              "      fill: #D2E3FC;\n",
              "    }\n",
              "\n",
              "    [theme=dark] .colab-df-convert:hover {\n",
              "      background-color: #434B5C;\n",
              "      box-shadow: 0px 1px 3px 1px rgba(0, 0, 0, 0.15);\n",
              "      filter: drop-shadow(0px 1px 2px rgba(0, 0, 0, 0.3));\n",
              "      fill: #FFFFFF;\n",
              "    }\n",
              "  </style>\n",
              "\n",
              "      <script>\n",
              "        const buttonEl =\n",
              "          document.querySelector('#df-7776b797-442b-48ee-87a0-1de2cd9e279e button.colab-df-convert');\n",
              "        buttonEl.style.display =\n",
              "          google.colab.kernel.accessAllowed ? 'block' : 'none';\n",
              "\n",
              "        async function convertToInteractive(key) {\n",
              "          const element = document.querySelector('#df-7776b797-442b-48ee-87a0-1de2cd9e279e');\n",
              "          const dataTable =\n",
              "            await google.colab.kernel.invokeFunction('convertToInteractive',\n",
              "                                                     [key], {});\n",
              "          if (!dataTable) return;\n",
              "\n",
              "          const docLinkHtml = 'Like what you see? Visit the ' +\n",
              "            '<a target=\"_blank\" href=https://colab.research.google.com/notebooks/data_table.ipynb>data table notebook</a>'\n",
              "            + ' to learn more about interactive tables.';\n",
              "          element.innerHTML = '';\n",
              "          dataTable['output_type'] = 'display_data';\n",
              "          await google.colab.output.renderOutput(dataTable, element);\n",
              "          const docLink = document.createElement('div');\n",
              "          docLink.innerHTML = docLinkHtml;\n",
              "          element.appendChild(docLink);\n",
              "        }\n",
              "      </script>\n",
              "    </div>\n",
              "  </div>\n",
              "  "
            ]
          },
          "metadata": {},
          "execution_count": 39
        }
      ]
    },
    {
      "cell_type": "code",
      "source": [
        "frame_medium_test.head()"
      ],
      "metadata": {
        "colab": {
          "base_uri": "https://localhost:8080/",
          "height": 236
        },
        "id": "kJL5rcn46LYx",
        "outputId": "61cf23ec-b5be-4734-94ec-9b2a654d773b"
      },
      "execution_count": null,
      "outputs": [
        {
          "output_type": "execute_result",
          "data": {
            "text/plain": [
              "    CQI-0  CQI-1  CQI-2  CQI-3  CQI-4  DL_bitrate-0  DL_bitrate-1  \\\n",
              "44    9.0    9.0    9.0    9.0    9.0        4697.0        8365.0   \n",
              "52   10.0    9.0    9.0    9.0    9.0        5368.0        5513.0   \n",
              "53    8.0   10.0    9.0    9.0    9.0        3612.0        5368.0   \n",
              "54    8.0    8.0   10.0    9.0    9.0        4708.0        3612.0   \n",
              "55    8.0    8.0    8.0   10.0    9.0        2516.0        4708.0   \n",
              "\n",
              "    DL_bitrate-2  DL_bitrate-3  DL_bitrate-4  ...  SNR-1  SNR-2  SNR-3  SNR-4  \\\n",
              "44        8645.0        8459.0        5614.0  ...    7.0    7.0    6.0    6.0   \n",
              "52        6745.0        2751.0        3467.0  ...    9.0    9.0    9.0    9.0   \n",
              "53        5513.0        6745.0        2751.0  ...   10.0    9.0    9.0    9.0   \n",
              "54        5368.0        5513.0        6745.0  ...   10.0   10.0    9.0    9.0   \n",
              "55        3612.0        5368.0        5513.0  ...    9.0   10.0   10.0    9.0   \n",
              "\n",
              "    UL_bitrate-0  UL_bitrate-1  UL_bitrate-2  UL_bitrate-3  UL_bitrate-4  \\\n",
              "44          89.0         224.0         150.0         231.0         230.0   \n",
              "52         101.0         103.0         126.0          51.0          64.0   \n",
              "53          66.0         101.0         103.0         126.0          51.0   \n",
              "54          88.0          66.0         101.0         103.0         126.0   \n",
              "55          96.0          88.0          66.0         101.0         103.0   \n",
              "\n",
              "    DL_bitrate  \n",
              "44      3932.0  \n",
              "52      3799.0  \n",
              "53      3723.0  \n",
              "54      3595.0  \n",
              "55      3884.0  \n",
              "\n",
              "[5 rows x 46 columns]"
            ],
            "text/html": [
              "\n",
              "  <div id=\"df-941829e7-4b5f-4e30-8c6c-a0871ed981a0\">\n",
              "    <div class=\"colab-df-container\">\n",
              "      <div>\n",
              "<style scoped>\n",
              "    .dataframe tbody tr th:only-of-type {\n",
              "        vertical-align: middle;\n",
              "    }\n",
              "\n",
              "    .dataframe tbody tr th {\n",
              "        vertical-align: top;\n",
              "    }\n",
              "\n",
              "    .dataframe thead th {\n",
              "        text-align: right;\n",
              "    }\n",
              "</style>\n",
              "<table border=\"1\" class=\"dataframe\">\n",
              "  <thead>\n",
              "    <tr style=\"text-align: right;\">\n",
              "      <th></th>\n",
              "      <th>CQI-0</th>\n",
              "      <th>CQI-1</th>\n",
              "      <th>CQI-2</th>\n",
              "      <th>CQI-3</th>\n",
              "      <th>CQI-4</th>\n",
              "      <th>DL_bitrate-0</th>\n",
              "      <th>DL_bitrate-1</th>\n",
              "      <th>DL_bitrate-2</th>\n",
              "      <th>DL_bitrate-3</th>\n",
              "      <th>DL_bitrate-4</th>\n",
              "      <th>...</th>\n",
              "      <th>SNR-1</th>\n",
              "      <th>SNR-2</th>\n",
              "      <th>SNR-3</th>\n",
              "      <th>SNR-4</th>\n",
              "      <th>UL_bitrate-0</th>\n",
              "      <th>UL_bitrate-1</th>\n",
              "      <th>UL_bitrate-2</th>\n",
              "      <th>UL_bitrate-3</th>\n",
              "      <th>UL_bitrate-4</th>\n",
              "      <th>DL_bitrate</th>\n",
              "    </tr>\n",
              "  </thead>\n",
              "  <tbody>\n",
              "    <tr>\n",
              "      <th>44</th>\n",
              "      <td>9.0</td>\n",
              "      <td>9.0</td>\n",
              "      <td>9.0</td>\n",
              "      <td>9.0</td>\n",
              "      <td>9.0</td>\n",
              "      <td>4697.0</td>\n",
              "      <td>8365.0</td>\n",
              "      <td>8645.0</td>\n",
              "      <td>8459.0</td>\n",
              "      <td>5614.0</td>\n",
              "      <td>...</td>\n",
              "      <td>7.0</td>\n",
              "      <td>7.0</td>\n",
              "      <td>6.0</td>\n",
              "      <td>6.0</td>\n",
              "      <td>89.0</td>\n",
              "      <td>224.0</td>\n",
              "      <td>150.0</td>\n",
              "      <td>231.0</td>\n",
              "      <td>230.0</td>\n",
              "      <td>3932.0</td>\n",
              "    </tr>\n",
              "    <tr>\n",
              "      <th>52</th>\n",
              "      <td>10.0</td>\n",
              "      <td>9.0</td>\n",
              "      <td>9.0</td>\n",
              "      <td>9.0</td>\n",
              "      <td>9.0</td>\n",
              "      <td>5368.0</td>\n",
              "      <td>5513.0</td>\n",
              "      <td>6745.0</td>\n",
              "      <td>2751.0</td>\n",
              "      <td>3467.0</td>\n",
              "      <td>...</td>\n",
              "      <td>9.0</td>\n",
              "      <td>9.0</td>\n",
              "      <td>9.0</td>\n",
              "      <td>9.0</td>\n",
              "      <td>101.0</td>\n",
              "      <td>103.0</td>\n",
              "      <td>126.0</td>\n",
              "      <td>51.0</td>\n",
              "      <td>64.0</td>\n",
              "      <td>3799.0</td>\n",
              "    </tr>\n",
              "    <tr>\n",
              "      <th>53</th>\n",
              "      <td>8.0</td>\n",
              "      <td>10.0</td>\n",
              "      <td>9.0</td>\n",
              "      <td>9.0</td>\n",
              "      <td>9.0</td>\n",
              "      <td>3612.0</td>\n",
              "      <td>5368.0</td>\n",
              "      <td>5513.0</td>\n",
              "      <td>6745.0</td>\n",
              "      <td>2751.0</td>\n",
              "      <td>...</td>\n",
              "      <td>10.0</td>\n",
              "      <td>9.0</td>\n",
              "      <td>9.0</td>\n",
              "      <td>9.0</td>\n",
              "      <td>66.0</td>\n",
              "      <td>101.0</td>\n",
              "      <td>103.0</td>\n",
              "      <td>126.0</td>\n",
              "      <td>51.0</td>\n",
              "      <td>3723.0</td>\n",
              "    </tr>\n",
              "    <tr>\n",
              "      <th>54</th>\n",
              "      <td>8.0</td>\n",
              "      <td>8.0</td>\n",
              "      <td>10.0</td>\n",
              "      <td>9.0</td>\n",
              "      <td>9.0</td>\n",
              "      <td>4708.0</td>\n",
              "      <td>3612.0</td>\n",
              "      <td>5368.0</td>\n",
              "      <td>5513.0</td>\n",
              "      <td>6745.0</td>\n",
              "      <td>...</td>\n",
              "      <td>10.0</td>\n",
              "      <td>10.0</td>\n",
              "      <td>9.0</td>\n",
              "      <td>9.0</td>\n",
              "      <td>88.0</td>\n",
              "      <td>66.0</td>\n",
              "      <td>101.0</td>\n",
              "      <td>103.0</td>\n",
              "      <td>126.0</td>\n",
              "      <td>3595.0</td>\n",
              "    </tr>\n",
              "    <tr>\n",
              "      <th>55</th>\n",
              "      <td>8.0</td>\n",
              "      <td>8.0</td>\n",
              "      <td>8.0</td>\n",
              "      <td>10.0</td>\n",
              "      <td>9.0</td>\n",
              "      <td>2516.0</td>\n",
              "      <td>4708.0</td>\n",
              "      <td>3612.0</td>\n",
              "      <td>5368.0</td>\n",
              "      <td>5513.0</td>\n",
              "      <td>...</td>\n",
              "      <td>9.0</td>\n",
              "      <td>10.0</td>\n",
              "      <td>10.0</td>\n",
              "      <td>9.0</td>\n",
              "      <td>96.0</td>\n",
              "      <td>88.0</td>\n",
              "      <td>66.0</td>\n",
              "      <td>101.0</td>\n",
              "      <td>103.0</td>\n",
              "      <td>3884.0</td>\n",
              "    </tr>\n",
              "  </tbody>\n",
              "</table>\n",
              "<p>5 rows × 46 columns</p>\n",
              "</div>\n",
              "      <button class=\"colab-df-convert\" onclick=\"convertToInteractive('df-941829e7-4b5f-4e30-8c6c-a0871ed981a0')\"\n",
              "              title=\"Convert this dataframe to an interactive table.\"\n",
              "              style=\"display:none;\">\n",
              "        \n",
              "  <svg xmlns=\"http://www.w3.org/2000/svg\" height=\"24px\"viewBox=\"0 0 24 24\"\n",
              "       width=\"24px\">\n",
              "    <path d=\"M0 0h24v24H0V0z\" fill=\"none\"/>\n",
              "    <path d=\"M18.56 5.44l.94 2.06.94-2.06 2.06-.94-2.06-.94-.94-2.06-.94 2.06-2.06.94zm-11 1L8.5 8.5l.94-2.06 2.06-.94-2.06-.94L8.5 2.5l-.94 2.06-2.06.94zm10 10l.94 2.06.94-2.06 2.06-.94-2.06-.94-.94-2.06-.94 2.06-2.06.94z\"/><path d=\"M17.41 7.96l-1.37-1.37c-.4-.4-.92-.59-1.43-.59-.52 0-1.04.2-1.43.59L10.3 9.45l-7.72 7.72c-.78.78-.78 2.05 0 2.83L4 21.41c.39.39.9.59 1.41.59.51 0 1.02-.2 1.41-.59l7.78-7.78 2.81-2.81c.8-.78.8-2.07 0-2.86zM5.41 20L4 18.59l7.72-7.72 1.47 1.35L5.41 20z\"/>\n",
              "  </svg>\n",
              "      </button>\n",
              "      \n",
              "  <style>\n",
              "    .colab-df-container {\n",
              "      display:flex;\n",
              "      flex-wrap:wrap;\n",
              "      gap: 12px;\n",
              "    }\n",
              "\n",
              "    .colab-df-convert {\n",
              "      background-color: #E8F0FE;\n",
              "      border: none;\n",
              "      border-radius: 50%;\n",
              "      cursor: pointer;\n",
              "      display: none;\n",
              "      fill: #1967D2;\n",
              "      height: 32px;\n",
              "      padding: 0 0 0 0;\n",
              "      width: 32px;\n",
              "    }\n",
              "\n",
              "    .colab-df-convert:hover {\n",
              "      background-color: #E2EBFA;\n",
              "      box-shadow: 0px 1px 2px rgba(60, 64, 67, 0.3), 0px 1px 3px 1px rgba(60, 64, 67, 0.15);\n",
              "      fill: #174EA6;\n",
              "    }\n",
              "\n",
              "    [theme=dark] .colab-df-convert {\n",
              "      background-color: #3B4455;\n",
              "      fill: #D2E3FC;\n",
              "    }\n",
              "\n",
              "    [theme=dark] .colab-df-convert:hover {\n",
              "      background-color: #434B5C;\n",
              "      box-shadow: 0px 1px 3px 1px rgba(0, 0, 0, 0.15);\n",
              "      filter: drop-shadow(0px 1px 2px rgba(0, 0, 0, 0.3));\n",
              "      fill: #FFFFFF;\n",
              "    }\n",
              "  </style>\n",
              "\n",
              "      <script>\n",
              "        const buttonEl =\n",
              "          document.querySelector('#df-941829e7-4b5f-4e30-8c6c-a0871ed981a0 button.colab-df-convert');\n",
              "        buttonEl.style.display =\n",
              "          google.colab.kernel.accessAllowed ? 'block' : 'none';\n",
              "\n",
              "        async function convertToInteractive(key) {\n",
              "          const element = document.querySelector('#df-941829e7-4b5f-4e30-8c6c-a0871ed981a0');\n",
              "          const dataTable =\n",
              "            await google.colab.kernel.invokeFunction('convertToInteractive',\n",
              "                                                     [key], {});\n",
              "          if (!dataTable) return;\n",
              "\n",
              "          const docLinkHtml = 'Like what you see? Visit the ' +\n",
              "            '<a target=\"_blank\" href=https://colab.research.google.com/notebooks/data_table.ipynb>data table notebook</a>'\n",
              "            + ' to learn more about interactive tables.';\n",
              "          element.innerHTML = '';\n",
              "          dataTable['output_type'] = 'display_data';\n",
              "          await google.colab.output.renderOutput(dataTable, element);\n",
              "          const docLink = document.createElement('div');\n",
              "          docLink.innerHTML = docLinkHtml;\n",
              "          element.appendChild(docLink);\n",
              "        }\n",
              "      </script>\n",
              "    </div>\n",
              "  </div>\n",
              "  "
            ]
          },
          "metadata": {},
          "execution_count": 40
        }
      ]
    },
    {
      "cell_type": "markdown",
      "source": [
        "### With Scaling"
      ],
      "metadata": {
        "id": "Wu-N-cLw6Q_2"
      }
    },
    {
      "cell_type": "markdown",
      "source": [
        "#### MinMax Scaler"
      ],
      "metadata": {
        "id": "8_gKVqvY6SWg"
      }
    },
    {
      "cell_type": "code",
      "source": [
        "df = frame_medium_train[col_names_scaled]\n",
        "min_max_scaler = MinMaxScaler()\n",
        "# transform data\n",
        "df_min_max_scaled = pd.DataFrame(min_max_scaler.fit_transform(df))"
      ],
      "metadata": {
        "id": "uTpbfqHu6LV7"
      },
      "execution_count": null,
      "outputs": []
    },
    {
      "cell_type": "code",
      "source": [
        "X_train_min_max_scaler, X_valid_min_max_scaler, Y_train_min_max_scaler, Y_valid_min_max_scaler = train_test_split(df_min_max_scaled.iloc[:,:-1], df_min_max_scaled.iloc[:,-1:], test_size=0.3, random_state=0)\n",
        "print('Train set shape', X_train_min_max_scaler.shape)\n",
        "print('Validation set shape', X_valid_min_max_scaler.shape)\n",
        "X_train_min_max_scaler.head()"
      ],
      "metadata": {
        "colab": {
          "base_uri": "https://localhost:8080/",
          "height": 242
        },
        "id": "cA6puvMn6LTc",
        "outputId": "bf62d9e1-32b3-4684-c1b0-4824fb45ed01"
      },
      "execution_count": null,
      "outputs": [
        {
          "output_type": "stream",
          "name": "stdout",
          "text": [
            "Train set shape (1862, 15)\n",
            "Validation set shape (798, 15)\n"
          ]
        },
        {
          "output_type": "execute_result",
          "data": {
            "text/plain": [
              "            0         1         2         3         4         5         6   \\\n",
              "1217  0.524393  0.503746  0.500430  0.498736  0.505581  0.088071  0.072438   \n",
              "1079  0.529696  0.507158  0.499157  0.497158  0.505440  0.226614  0.176660   \n",
              "1860  0.357143  0.428571  0.500000  0.428571  0.357143  0.201930  0.062801   \n",
              "444   0.571429  0.357143  0.357143  0.357143  0.428571  0.088071  0.030316   \n",
              "161   0.142857  0.285714  0.357143  0.428571  0.428571  0.041875  0.099563   \n",
              "\n",
              "            7         8         9         10        11        12        13  \\\n",
              "1217  0.086352  0.089224  0.100248  0.586074  0.568041  0.545169  0.543535   \n",
              "1079  0.155950  0.169863  0.161782  0.590465  0.567996  0.546030  0.541036   \n",
              "1860  0.089224  0.119539  0.045573  0.307692  0.315789  0.333333  0.333333   \n",
              "444   0.067779  0.032454  0.073284  0.512821  0.526316  0.564103  0.564103   \n",
              "161   0.125251  0.174490  0.296974  0.256410  0.342105  0.333333  0.435897   \n",
              "\n",
              "            14  \n",
              "1217  0.532269  \n",
              "1079  0.533185  \n",
              "1860  0.325000  \n",
              "444   0.550000  \n",
              "161   0.425000  "
            ],
            "text/html": [
              "\n",
              "  <div id=\"df-4be3dd4c-a710-45e2-bdbc-263c03f834ff\">\n",
              "    <div class=\"colab-df-container\">\n",
              "      <div>\n",
              "<style scoped>\n",
              "    .dataframe tbody tr th:only-of-type {\n",
              "        vertical-align: middle;\n",
              "    }\n",
              "\n",
              "    .dataframe tbody tr th {\n",
              "        vertical-align: top;\n",
              "    }\n",
              "\n",
              "    .dataframe thead th {\n",
              "        text-align: right;\n",
              "    }\n",
              "</style>\n",
              "<table border=\"1\" class=\"dataframe\">\n",
              "  <thead>\n",
              "    <tr style=\"text-align: right;\">\n",
              "      <th></th>\n",
              "      <th>0</th>\n",
              "      <th>1</th>\n",
              "      <th>2</th>\n",
              "      <th>3</th>\n",
              "      <th>4</th>\n",
              "      <th>5</th>\n",
              "      <th>6</th>\n",
              "      <th>7</th>\n",
              "      <th>8</th>\n",
              "      <th>9</th>\n",
              "      <th>10</th>\n",
              "      <th>11</th>\n",
              "      <th>12</th>\n",
              "      <th>13</th>\n",
              "      <th>14</th>\n",
              "    </tr>\n",
              "  </thead>\n",
              "  <tbody>\n",
              "    <tr>\n",
              "      <th>1217</th>\n",
              "      <td>0.524393</td>\n",
              "      <td>0.503746</td>\n",
              "      <td>0.500430</td>\n",
              "      <td>0.498736</td>\n",
              "      <td>0.505581</td>\n",
              "      <td>0.088071</td>\n",
              "      <td>0.072438</td>\n",
              "      <td>0.086352</td>\n",
              "      <td>0.089224</td>\n",
              "      <td>0.100248</td>\n",
              "      <td>0.586074</td>\n",
              "      <td>0.568041</td>\n",
              "      <td>0.545169</td>\n",
              "      <td>0.543535</td>\n",
              "      <td>0.532269</td>\n",
              "    </tr>\n",
              "    <tr>\n",
              "      <th>1079</th>\n",
              "      <td>0.529696</td>\n",
              "      <td>0.507158</td>\n",
              "      <td>0.499157</td>\n",
              "      <td>0.497158</td>\n",
              "      <td>0.505440</td>\n",
              "      <td>0.226614</td>\n",
              "      <td>0.176660</td>\n",
              "      <td>0.155950</td>\n",
              "      <td>0.169863</td>\n",
              "      <td>0.161782</td>\n",
              "      <td>0.590465</td>\n",
              "      <td>0.567996</td>\n",
              "      <td>0.546030</td>\n",
              "      <td>0.541036</td>\n",
              "      <td>0.533185</td>\n",
              "    </tr>\n",
              "    <tr>\n",
              "      <th>1860</th>\n",
              "      <td>0.357143</td>\n",
              "      <td>0.428571</td>\n",
              "      <td>0.500000</td>\n",
              "      <td>0.428571</td>\n",
              "      <td>0.357143</td>\n",
              "      <td>0.201930</td>\n",
              "      <td>0.062801</td>\n",
              "      <td>0.089224</td>\n",
              "      <td>0.119539</td>\n",
              "      <td>0.045573</td>\n",
              "      <td>0.307692</td>\n",
              "      <td>0.315789</td>\n",
              "      <td>0.333333</td>\n",
              "      <td>0.333333</td>\n",
              "      <td>0.325000</td>\n",
              "    </tr>\n",
              "    <tr>\n",
              "      <th>444</th>\n",
              "      <td>0.571429</td>\n",
              "      <td>0.357143</td>\n",
              "      <td>0.357143</td>\n",
              "      <td>0.357143</td>\n",
              "      <td>0.428571</td>\n",
              "      <td>0.088071</td>\n",
              "      <td>0.030316</td>\n",
              "      <td>0.067779</td>\n",
              "      <td>0.032454</td>\n",
              "      <td>0.073284</td>\n",
              "      <td>0.512821</td>\n",
              "      <td>0.526316</td>\n",
              "      <td>0.564103</td>\n",
              "      <td>0.564103</td>\n",
              "      <td>0.550000</td>\n",
              "    </tr>\n",
              "    <tr>\n",
              "      <th>161</th>\n",
              "      <td>0.142857</td>\n",
              "      <td>0.285714</td>\n",
              "      <td>0.357143</td>\n",
              "      <td>0.428571</td>\n",
              "      <td>0.428571</td>\n",
              "      <td>0.041875</td>\n",
              "      <td>0.099563</td>\n",
              "      <td>0.125251</td>\n",
              "      <td>0.174490</td>\n",
              "      <td>0.296974</td>\n",
              "      <td>0.256410</td>\n",
              "      <td>0.342105</td>\n",
              "      <td>0.333333</td>\n",
              "      <td>0.435897</td>\n",
              "      <td>0.425000</td>\n",
              "    </tr>\n",
              "  </tbody>\n",
              "</table>\n",
              "</div>\n",
              "      <button class=\"colab-df-convert\" onclick=\"convertToInteractive('df-4be3dd4c-a710-45e2-bdbc-263c03f834ff')\"\n",
              "              title=\"Convert this dataframe to an interactive table.\"\n",
              "              style=\"display:none;\">\n",
              "        \n",
              "  <svg xmlns=\"http://www.w3.org/2000/svg\" height=\"24px\"viewBox=\"0 0 24 24\"\n",
              "       width=\"24px\">\n",
              "    <path d=\"M0 0h24v24H0V0z\" fill=\"none\"/>\n",
              "    <path d=\"M18.56 5.44l.94 2.06.94-2.06 2.06-.94-2.06-.94-.94-2.06-.94 2.06-2.06.94zm-11 1L8.5 8.5l.94-2.06 2.06-.94-2.06-.94L8.5 2.5l-.94 2.06-2.06.94zm10 10l.94 2.06.94-2.06 2.06-.94-2.06-.94-.94-2.06-.94 2.06-2.06.94z\"/><path d=\"M17.41 7.96l-1.37-1.37c-.4-.4-.92-.59-1.43-.59-.52 0-1.04.2-1.43.59L10.3 9.45l-7.72 7.72c-.78.78-.78 2.05 0 2.83L4 21.41c.39.39.9.59 1.41.59.51 0 1.02-.2 1.41-.59l7.78-7.78 2.81-2.81c.8-.78.8-2.07 0-2.86zM5.41 20L4 18.59l7.72-7.72 1.47 1.35L5.41 20z\"/>\n",
              "  </svg>\n",
              "      </button>\n",
              "      \n",
              "  <style>\n",
              "    .colab-df-container {\n",
              "      display:flex;\n",
              "      flex-wrap:wrap;\n",
              "      gap: 12px;\n",
              "    }\n",
              "\n",
              "    .colab-df-convert {\n",
              "      background-color: #E8F0FE;\n",
              "      border: none;\n",
              "      border-radius: 50%;\n",
              "      cursor: pointer;\n",
              "      display: none;\n",
              "      fill: #1967D2;\n",
              "      height: 32px;\n",
              "      padding: 0 0 0 0;\n",
              "      width: 32px;\n",
              "    }\n",
              "\n",
              "    .colab-df-convert:hover {\n",
              "      background-color: #E2EBFA;\n",
              "      box-shadow: 0px 1px 2px rgba(60, 64, 67, 0.3), 0px 1px 3px 1px rgba(60, 64, 67, 0.15);\n",
              "      fill: #174EA6;\n",
              "    }\n",
              "\n",
              "    [theme=dark] .colab-df-convert {\n",
              "      background-color: #3B4455;\n",
              "      fill: #D2E3FC;\n",
              "    }\n",
              "\n",
              "    [theme=dark] .colab-df-convert:hover {\n",
              "      background-color: #434B5C;\n",
              "      box-shadow: 0px 1px 3px 1px rgba(0, 0, 0, 0.15);\n",
              "      filter: drop-shadow(0px 1px 2px rgba(0, 0, 0, 0.3));\n",
              "      fill: #FFFFFF;\n",
              "    }\n",
              "  </style>\n",
              "\n",
              "      <script>\n",
              "        const buttonEl =\n",
              "          document.querySelector('#df-4be3dd4c-a710-45e2-bdbc-263c03f834ff button.colab-df-convert');\n",
              "        buttonEl.style.display =\n",
              "          google.colab.kernel.accessAllowed ? 'block' : 'none';\n",
              "\n",
              "        async function convertToInteractive(key) {\n",
              "          const element = document.querySelector('#df-4be3dd4c-a710-45e2-bdbc-263c03f834ff');\n",
              "          const dataTable =\n",
              "            await google.colab.kernel.invokeFunction('convertToInteractive',\n",
              "                                                     [key], {});\n",
              "          if (!dataTable) return;\n",
              "\n",
              "          const docLinkHtml = 'Like what you see? Visit the ' +\n",
              "            '<a target=\"_blank\" href=https://colab.research.google.com/notebooks/data_table.ipynb>data table notebook</a>'\n",
              "            + ' to learn more about interactive tables.';\n",
              "          element.innerHTML = '';\n",
              "          dataTable['output_type'] = 'display_data';\n",
              "          await google.colab.output.renderOutput(dataTable, element);\n",
              "          const docLink = document.createElement('div');\n",
              "          docLink.innerHTML = docLinkHtml;\n",
              "          element.appendChild(docLink);\n",
              "        }\n",
              "      </script>\n",
              "    </div>\n",
              "  </div>\n",
              "  "
            ]
          },
          "metadata": {},
          "execution_count": 42
        }
      ]
    },
    {
      "cell_type": "code",
      "source": [
        "X_train_min_max_series = X_train_min_max_scaler.values.reshape((X_train_min_max_scaler.shape[0], X_train_min_max_scaler.shape[1], 1))\n",
        "X_valid_min_max_series = X_valid_min_max_scaler.values.reshape((X_valid_min_max_scaler.shape[0], X_valid_min_max_scaler.shape[1], 1))\n",
        "print('Train set shape', X_train_min_max_series.shape)\n",
        "print('Validation set shape', X_valid_min_max_series.shape)"
      ],
      "metadata": {
        "colab": {
          "base_uri": "https://localhost:8080/"
        },
        "id": "3oTb7zum6LRF",
        "outputId": "6564821a-a700-4e58-d63c-04b121982184"
      },
      "execution_count": null,
      "outputs": [
        {
          "output_type": "stream",
          "name": "stdout",
          "text": [
            "Train set shape (1862, 15, 1)\n",
            "Validation set shape (798, 15, 1)\n"
          ]
        }
      ]
    },
    {
      "cell_type": "markdown",
      "source": [
        "### Hyper Parameter Tuning using Keras Auto Tuner"
      ],
      "metadata": {
        "id": "FlY9Uut_6Zah"
      }
    },
    {
      "cell_type": "code",
      "source": [
        "mae = MeanAbsoluteError()\n",
        "model_high = keras.Sequential()\n",
        "model_high.add(keras.layers.Flatten(input_shape=(X_train_min_max_series.shape[1], X_train_min_max_series.shape[2])))\n",
        "model_high.add(Dense(units=384, activation='relu'))\n",
        "model_high.add(Dropout(rate=0))\n",
        "model_high.add(tf.keras.layers.Dense(units=320, activation='relu'))\n",
        "model_high.add(Dropout(rate=0))\n",
        "model_high.add(tf.keras.layers.Dense(units=480, activation='relu'))\n",
        "model_high.add(Dropout(rate=0))\n",
        "model_high.add(Dense(1, kernel_initializer='normal', activation='linear'))\n",
        "model_high.compile(optimizer=tf.keras.optimizers.Adam(learning_rate=0.001),loss=mae,metrics=[mae])\n",
        "model_high.summary()"
      ],
      "metadata": {
        "id": "jPGZjVa76LO8",
        "colab": {
          "base_uri": "https://localhost:8080/"
        },
        "outputId": "fdae37da-c998-4798-e310-164a23bacb94"
      },
      "execution_count": null,
      "outputs": [
        {
          "output_type": "stream",
          "name": "stdout",
          "text": [
            "Model: \"sequential_1\"\n",
            "_________________________________________________________________\n",
            " Layer (type)                Output Shape              Param #   \n",
            "=================================================================\n",
            " flatten_1 (Flatten)         (None, 15)                0         \n",
            "                                                                 \n",
            " dense_4 (Dense)             (None, 384)               6144      \n",
            "                                                                 \n",
            " dropout_3 (Dropout)         (None, 384)               0         \n",
            "                                                                 \n",
            " dense_5 (Dense)             (None, 320)               123200    \n",
            "                                                                 \n",
            " dropout_4 (Dropout)         (None, 320)               0         \n",
            "                                                                 \n",
            " dense_6 (Dense)             (None, 480)               154080    \n",
            "                                                                 \n",
            " dropout_5 (Dropout)         (None, 480)               0         \n",
            "                                                                 \n",
            " dense_7 (Dense)             (None, 1)                 481       \n",
            "                                                                 \n",
            "=================================================================\n",
            "Total params: 283,905\n",
            "Trainable params: 283,905\n",
            "Non-trainable params: 0\n",
            "_________________________________________________________________\n"
          ]
        }
      ]
    },
    {
      "cell_type": "code",
      "source": [
        "monitor = EarlyStopping(monitor='val_loss', min_delta=1e-3, patience=30, \n",
        "        verbose=1, mode='auto', restore_best_weights=True)\n",
        "history=model_high.fit(X_train_min_max_series, Y_train_min_max_scaler, validation_data=(X_valid_min_max_series, Y_valid_min_max_scaler),\n",
        "        callbacks=[monitor],verbose=1,epochs=500)"
      ],
      "metadata": {
        "id": "94b4gFUT6LMs",
        "colab": {
          "base_uri": "https://localhost:8080/"
        },
        "outputId": "4c5c1b84-5217-4b4a-fbd1-759504a8b898"
      },
      "execution_count": null,
      "outputs": [
        {
          "output_type": "stream",
          "name": "stdout",
          "text": [
            "Epoch 1/500\n",
            "59/59 [==============================] - 2s 13ms/step - loss: 0.2335 - mean_absolute_error: 0.2347 - val_loss: 0.2031 - val_mean_absolute_error: 0.2031\n",
            "Epoch 2/500\n",
            "59/59 [==============================] - 0s 8ms/step - loss: 0.2122 - mean_absolute_error: 0.2118 - val_loss: 0.2063 - val_mean_absolute_error: 0.2063\n",
            "Epoch 3/500\n",
            "59/59 [==============================] - 0s 7ms/step - loss: 0.2000 - mean_absolute_error: 0.2009 - val_loss: 0.1850 - val_mean_absolute_error: 0.1850\n",
            "Epoch 4/500\n",
            "59/59 [==============================] - 1s 9ms/step - loss: 0.1891 - mean_absolute_error: 0.1883 - val_loss: 0.1858 - val_mean_absolute_error: 0.1858\n",
            "Epoch 5/500\n",
            "59/59 [==============================] - 0s 8ms/step - loss: 0.1907 - mean_absolute_error: 0.1927 - val_loss: 0.1834 - val_mean_absolute_error: 0.1833\n",
            "Epoch 6/500\n",
            "59/59 [==============================] - 0s 8ms/step - loss: 0.1847 - mean_absolute_error: 0.1848 - val_loss: 0.1835 - val_mean_absolute_error: 0.1835\n",
            "Epoch 7/500\n",
            "59/59 [==============================] - 0s 7ms/step - loss: 0.1871 - mean_absolute_error: 0.1863 - val_loss: 0.1854 - val_mean_absolute_error: 0.1853\n",
            "Epoch 8/500\n",
            "59/59 [==============================] - 0s 6ms/step - loss: 0.1882 - mean_absolute_error: 0.1882 - val_loss: 0.1834 - val_mean_absolute_error: 0.1834\n",
            "Epoch 9/500\n",
            "59/59 [==============================] - 0s 5ms/step - loss: 0.1842 - mean_absolute_error: 0.1841 - val_loss: 0.1891 - val_mean_absolute_error: 0.1891\n",
            "Epoch 10/500\n",
            "59/59 [==============================] - 0s 5ms/step - loss: 0.1861 - mean_absolute_error: 0.1875 - val_loss: 0.1878 - val_mean_absolute_error: 0.1878\n",
            "Epoch 11/500\n",
            "59/59 [==============================] - 0s 6ms/step - loss: 0.1851 - mean_absolute_error: 0.1848 - val_loss: 0.2100 - val_mean_absolute_error: 0.2099\n",
            "Epoch 12/500\n",
            "59/59 [==============================] - 0s 8ms/step - loss: 0.1862 - mean_absolute_error: 0.1863 - val_loss: 0.2052 - val_mean_absolute_error: 0.2051\n",
            "Epoch 13/500\n",
            "59/59 [==============================] - 0s 5ms/step - loss: 0.1861 - mean_absolute_error: 0.1863 - val_loss: 0.1921 - val_mean_absolute_error: 0.1920\n",
            "Epoch 14/500\n",
            "59/59 [==============================] - 0s 4ms/step - loss: 0.1827 - mean_absolute_error: 0.1816 - val_loss: 0.1828 - val_mean_absolute_error: 0.1828\n",
            "Epoch 15/500\n",
            "59/59 [==============================] - 0s 4ms/step - loss: 0.1786 - mean_absolute_error: 0.1787 - val_loss: 0.1816 - val_mean_absolute_error: 0.1816\n",
            "Epoch 16/500\n",
            "59/59 [==============================] - 0s 4ms/step - loss: 0.1810 - mean_absolute_error: 0.1814 - val_loss: 0.1811 - val_mean_absolute_error: 0.1811\n",
            "Epoch 17/500\n",
            "59/59 [==============================] - 0s 4ms/step - loss: 0.1794 - mean_absolute_error: 0.1797 - val_loss: 0.1913 - val_mean_absolute_error: 0.1912\n",
            "Epoch 18/500\n",
            "59/59 [==============================] - 0s 4ms/step - loss: 0.1839 - mean_absolute_error: 0.1834 - val_loss: 0.1921 - val_mean_absolute_error: 0.1920\n",
            "Epoch 19/500\n",
            "59/59 [==============================] - 0s 4ms/step - loss: 0.1794 - mean_absolute_error: 0.1780 - val_loss: 0.1837 - val_mean_absolute_error: 0.1837\n",
            "Epoch 20/500\n",
            "59/59 [==============================] - 0s 4ms/step - loss: 0.1775 - mean_absolute_error: 0.1767 - val_loss: 0.1999 - val_mean_absolute_error: 0.1998\n",
            "Epoch 21/500\n",
            "59/59 [==============================] - 0s 4ms/step - loss: 0.1779 - mean_absolute_error: 0.1765 - val_loss: 0.1893 - val_mean_absolute_error: 0.1892\n",
            "Epoch 22/500\n",
            "59/59 [==============================] - 0s 4ms/step - loss: 0.1801 - mean_absolute_error: 0.1791 - val_loss: 0.1884 - val_mean_absolute_error: 0.1884\n",
            "Epoch 23/500\n",
            "59/59 [==============================] - 0s 4ms/step - loss: 0.1829 - mean_absolute_error: 0.1833 - val_loss: 0.1856 - val_mean_absolute_error: 0.1856\n",
            "Epoch 24/500\n",
            "59/59 [==============================] - 0s 4ms/step - loss: 0.1778 - mean_absolute_error: 0.1785 - val_loss: 0.1821 - val_mean_absolute_error: 0.1821\n",
            "Epoch 25/500\n",
            "59/59 [==============================] - 0s 4ms/step - loss: 0.1753 - mean_absolute_error: 0.1757 - val_loss: 0.1838 - val_mean_absolute_error: 0.1837\n",
            "Epoch 26/500\n",
            "59/59 [==============================] - 0s 4ms/step - loss: 0.1760 - mean_absolute_error: 0.1784 - val_loss: 0.1859 - val_mean_absolute_error: 0.1858\n",
            "Epoch 27/500\n",
            "59/59 [==============================] - 0s 4ms/step - loss: 0.1762 - mean_absolute_error: 0.1769 - val_loss: 0.1810 - val_mean_absolute_error: 0.1809\n",
            "Epoch 28/500\n",
            "59/59 [==============================] - 0s 4ms/step - loss: 0.1741 - mean_absolute_error: 0.1736 - val_loss: 0.1909 - val_mean_absolute_error: 0.1909\n",
            "Epoch 29/500\n",
            "59/59 [==============================] - 0s 4ms/step - loss: 0.1759 - mean_absolute_error: 0.1761 - val_loss: 0.1832 - val_mean_absolute_error: 0.1832\n",
            "Epoch 30/500\n",
            "59/59 [==============================] - 0s 4ms/step - loss: 0.1739 - mean_absolute_error: 0.1745 - val_loss: 0.1873 - val_mean_absolute_error: 0.1873\n",
            "Epoch 31/500\n",
            "59/59 [==============================] - 0s 4ms/step - loss: 0.1739 - mean_absolute_error: 0.1731 - val_loss: 0.1884 - val_mean_absolute_error: 0.1884\n",
            "Epoch 32/500\n",
            "59/59 [==============================] - 0s 4ms/step - loss: 0.1751 - mean_absolute_error: 0.1747 - val_loss: 0.1846 - val_mean_absolute_error: 0.1846\n",
            "Epoch 33/500\n",
            "59/59 [==============================] - 0s 4ms/step - loss: 0.1740 - mean_absolute_error: 0.1745 - val_loss: 0.1922 - val_mean_absolute_error: 0.1922\n",
            "Epoch 34/500\n",
            "59/59 [==============================] - 0s 4ms/step - loss: 0.1737 - mean_absolute_error: 0.1747 - val_loss: 0.1822 - val_mean_absolute_error: 0.1822\n",
            "Epoch 35/500\n",
            "59/59 [==============================] - 0s 4ms/step - loss: 0.1711 - mean_absolute_error: 0.1711 - val_loss: 0.1857 - val_mean_absolute_error: 0.1857\n",
            "Epoch 36/500\n",
            "59/59 [==============================] - 0s 4ms/step - loss: 0.1716 - mean_absolute_error: 0.1711 - val_loss: 0.1847 - val_mean_absolute_error: 0.1846\n",
            "Epoch 37/500\n",
            "59/59 [==============================] - 0s 4ms/step - loss: 0.1737 - mean_absolute_error: 0.1732 - val_loss: 0.1939 - val_mean_absolute_error: 0.1939\n",
            "Epoch 38/500\n",
            "59/59 [==============================] - 0s 4ms/step - loss: 0.1777 - mean_absolute_error: 0.1766 - val_loss: 0.1839 - val_mean_absolute_error: 0.1838\n",
            "Epoch 39/500\n",
            "59/59 [==============================] - 0s 4ms/step - loss: 0.1715 - mean_absolute_error: 0.1710 - val_loss: 0.1853 - val_mean_absolute_error: 0.1853\n",
            "Epoch 40/500\n",
            "59/59 [==============================] - 0s 4ms/step - loss: 0.1748 - mean_absolute_error: 0.1746 - val_loss: 0.1837 - val_mean_absolute_error: 0.1836\n",
            "Epoch 41/500\n",
            "59/59 [==============================] - 0s 4ms/step - loss: 0.1768 - mean_absolute_error: 0.1759 - val_loss: 0.1836 - val_mean_absolute_error: 0.1835\n",
            "Epoch 42/500\n",
            "59/59 [==============================] - 0s 6ms/step - loss: 0.1706 - mean_absolute_error: 0.1702 - val_loss: 0.1874 - val_mean_absolute_error: 0.1874\n",
            "Epoch 43/500\n",
            "59/59 [==============================] - 0s 6ms/step - loss: 0.1746 - mean_absolute_error: 0.1753 - val_loss: 0.2105 - val_mean_absolute_error: 0.2104\n",
            "Epoch 44/500\n",
            "59/59 [==============================] - 0s 6ms/step - loss: 0.1706 - mean_absolute_error: 0.1705 - val_loss: 0.1897 - val_mean_absolute_error: 0.1896\n",
            "Epoch 45/500\n",
            "47/59 [======================>.......] - ETA: 0s - loss: 0.1674 - mean_absolute_error: 0.1674Restoring model weights from the end of the best epoch: 15.\n",
            "59/59 [==============================] - 0s 5ms/step - loss: 0.1693 - mean_absolute_error: 0.1695 - val_loss: 0.1878 - val_mean_absolute_error: 0.1877\n",
            "Epoch 45: early stopping\n"
          ]
        }
      ]
    },
    {
      "cell_type": "code",
      "source": [
        "kt_train_pred_min_max_scaled = model_high.predict(X_train_min_max_scaler)\n",
        "kt_valid_pred_min_max_scaled = model_high.predict(X_valid_min_max_scaler)\n",
        "print('Train rmse:', np.sqrt(mean_squared_error(Y_train_min_max_scaler, kt_train_pred_min_max_scaled)))\n",
        "print('Validation rmse:', np.sqrt(mean_squared_error(Y_valid_min_max_scaler, kt_valid_pred_min_max_scaled)))"
      ],
      "metadata": {
        "id": "6y9kqy6w6cch",
        "colab": {
          "base_uri": "https://localhost:8080/"
        },
        "outputId": "fd5a56da-8737-4b8e-acd7-24a83b41bd9b"
      },
      "execution_count": null,
      "outputs": [
        {
          "output_type": "stream",
          "name": "stdout",
          "text": [
            "Train rmse: 0.22757227437774125\n",
            "Validation rmse: 0.23082483179584962\n"
          ]
        }
      ]
    },
    {
      "cell_type": "code",
      "source": [
        "df = frame_medium_test[col_names_scaled]\n",
        "df_test_scaled = pd.DataFrame(min_max_scaler.fit_transform(df))\n",
        "X_test_scaled = df_test_scaled.iloc[:,:-1]\n",
        "X_test_scaled.head()"
      ],
      "metadata": {
        "colab": {
          "base_uri": "https://localhost:8080/",
          "height": 206
        },
        "id": "eJP_5rNi6caH",
        "outputId": "cfbfa824-858b-4391-8481-6cb81c88720e"
      },
      "execution_count": null,
      "outputs": [
        {
          "output_type": "execute_result",
          "data": {
            "text/plain": [
              "         0         1         2         3    4         5         6         7   \\\n",
              "0  0.500000  0.500000  0.500000  0.500000  0.5  0.242351  0.266937  0.273554   \n",
              "1  0.583333  0.500000  0.500000  0.500000  0.5  0.276972  0.175926  0.212728   \n",
              "2  0.416667  0.583333  0.500000  0.500000  0.5  0.186368  0.171299  0.173288   \n",
              "3  0.416667  0.416667  0.583333  0.500000  0.5  0.242918  0.115263  0.168646   \n",
              "4  0.416667  0.416667  0.416667  0.583333  0.5  0.129818  0.150238  0.112431   \n",
              "\n",
              "         8         9         10        11        12        13        14  \n",
              "0  0.267599  0.228465  0.580645  0.612903  0.612903  0.535714  0.518519  \n",
              "1  0.084867  0.139507  0.709677  0.677419  0.677419  0.642857  0.629630  \n",
              "2  0.212728  0.109840  0.709677  0.709677  0.677419  0.642857  0.629630  \n",
              "3  0.173288  0.275326  0.677419  0.709677  0.709677  0.642857  0.629630  \n",
              "4  0.168646  0.224280  0.677419  0.677419  0.709677  0.678571  0.629630  "
            ],
            "text/html": [
              "\n",
              "  <div id=\"df-7f9b76e1-6168-4334-ad52-e74851a41591\">\n",
              "    <div class=\"colab-df-container\">\n",
              "      <div>\n",
              "<style scoped>\n",
              "    .dataframe tbody tr th:only-of-type {\n",
              "        vertical-align: middle;\n",
              "    }\n",
              "\n",
              "    .dataframe tbody tr th {\n",
              "        vertical-align: top;\n",
              "    }\n",
              "\n",
              "    .dataframe thead th {\n",
              "        text-align: right;\n",
              "    }\n",
              "</style>\n",
              "<table border=\"1\" class=\"dataframe\">\n",
              "  <thead>\n",
              "    <tr style=\"text-align: right;\">\n",
              "      <th></th>\n",
              "      <th>0</th>\n",
              "      <th>1</th>\n",
              "      <th>2</th>\n",
              "      <th>3</th>\n",
              "      <th>4</th>\n",
              "      <th>5</th>\n",
              "      <th>6</th>\n",
              "      <th>7</th>\n",
              "      <th>8</th>\n",
              "      <th>9</th>\n",
              "      <th>10</th>\n",
              "      <th>11</th>\n",
              "      <th>12</th>\n",
              "      <th>13</th>\n",
              "      <th>14</th>\n",
              "    </tr>\n",
              "  </thead>\n",
              "  <tbody>\n",
              "    <tr>\n",
              "      <th>0</th>\n",
              "      <td>0.500000</td>\n",
              "      <td>0.500000</td>\n",
              "      <td>0.500000</td>\n",
              "      <td>0.500000</td>\n",
              "      <td>0.5</td>\n",
              "      <td>0.242351</td>\n",
              "      <td>0.266937</td>\n",
              "      <td>0.273554</td>\n",
              "      <td>0.267599</td>\n",
              "      <td>0.228465</td>\n",
              "      <td>0.580645</td>\n",
              "      <td>0.612903</td>\n",
              "      <td>0.612903</td>\n",
              "      <td>0.535714</td>\n",
              "      <td>0.518519</td>\n",
              "    </tr>\n",
              "    <tr>\n",
              "      <th>1</th>\n",
              "      <td>0.583333</td>\n",
              "      <td>0.500000</td>\n",
              "      <td>0.500000</td>\n",
              "      <td>0.500000</td>\n",
              "      <td>0.5</td>\n",
              "      <td>0.276972</td>\n",
              "      <td>0.175926</td>\n",
              "      <td>0.212728</td>\n",
              "      <td>0.084867</td>\n",
              "      <td>0.139507</td>\n",
              "      <td>0.709677</td>\n",
              "      <td>0.677419</td>\n",
              "      <td>0.677419</td>\n",
              "      <td>0.642857</td>\n",
              "      <td>0.629630</td>\n",
              "    </tr>\n",
              "    <tr>\n",
              "      <th>2</th>\n",
              "      <td>0.416667</td>\n",
              "      <td>0.583333</td>\n",
              "      <td>0.500000</td>\n",
              "      <td>0.500000</td>\n",
              "      <td>0.5</td>\n",
              "      <td>0.186368</td>\n",
              "      <td>0.171299</td>\n",
              "      <td>0.173288</td>\n",
              "      <td>0.212728</td>\n",
              "      <td>0.109840</td>\n",
              "      <td>0.709677</td>\n",
              "      <td>0.709677</td>\n",
              "      <td>0.677419</td>\n",
              "      <td>0.642857</td>\n",
              "      <td>0.629630</td>\n",
              "    </tr>\n",
              "    <tr>\n",
              "      <th>3</th>\n",
              "      <td>0.416667</td>\n",
              "      <td>0.416667</td>\n",
              "      <td>0.583333</td>\n",
              "      <td>0.500000</td>\n",
              "      <td>0.5</td>\n",
              "      <td>0.242918</td>\n",
              "      <td>0.115263</td>\n",
              "      <td>0.168646</td>\n",
              "      <td>0.173288</td>\n",
              "      <td>0.275326</td>\n",
              "      <td>0.677419</td>\n",
              "      <td>0.709677</td>\n",
              "      <td>0.709677</td>\n",
              "      <td>0.642857</td>\n",
              "      <td>0.629630</td>\n",
              "    </tr>\n",
              "    <tr>\n",
              "      <th>4</th>\n",
              "      <td>0.416667</td>\n",
              "      <td>0.416667</td>\n",
              "      <td>0.416667</td>\n",
              "      <td>0.583333</td>\n",
              "      <td>0.5</td>\n",
              "      <td>0.129818</td>\n",
              "      <td>0.150238</td>\n",
              "      <td>0.112431</td>\n",
              "      <td>0.168646</td>\n",
              "      <td>0.224280</td>\n",
              "      <td>0.677419</td>\n",
              "      <td>0.677419</td>\n",
              "      <td>0.709677</td>\n",
              "      <td>0.678571</td>\n",
              "      <td>0.629630</td>\n",
              "    </tr>\n",
              "  </tbody>\n",
              "</table>\n",
              "</div>\n",
              "      <button class=\"colab-df-convert\" onclick=\"convertToInteractive('df-7f9b76e1-6168-4334-ad52-e74851a41591')\"\n",
              "              title=\"Convert this dataframe to an interactive table.\"\n",
              "              style=\"display:none;\">\n",
              "        \n",
              "  <svg xmlns=\"http://www.w3.org/2000/svg\" height=\"24px\"viewBox=\"0 0 24 24\"\n",
              "       width=\"24px\">\n",
              "    <path d=\"M0 0h24v24H0V0z\" fill=\"none\"/>\n",
              "    <path d=\"M18.56 5.44l.94 2.06.94-2.06 2.06-.94-2.06-.94-.94-2.06-.94 2.06-2.06.94zm-11 1L8.5 8.5l.94-2.06 2.06-.94-2.06-.94L8.5 2.5l-.94 2.06-2.06.94zm10 10l.94 2.06.94-2.06 2.06-.94-2.06-.94-.94-2.06-.94 2.06-2.06.94z\"/><path d=\"M17.41 7.96l-1.37-1.37c-.4-.4-.92-.59-1.43-.59-.52 0-1.04.2-1.43.59L10.3 9.45l-7.72 7.72c-.78.78-.78 2.05 0 2.83L4 21.41c.39.39.9.59 1.41.59.51 0 1.02-.2 1.41-.59l7.78-7.78 2.81-2.81c.8-.78.8-2.07 0-2.86zM5.41 20L4 18.59l7.72-7.72 1.47 1.35L5.41 20z\"/>\n",
              "  </svg>\n",
              "      </button>\n",
              "      \n",
              "  <style>\n",
              "    .colab-df-container {\n",
              "      display:flex;\n",
              "      flex-wrap:wrap;\n",
              "      gap: 12px;\n",
              "    }\n",
              "\n",
              "    .colab-df-convert {\n",
              "      background-color: #E8F0FE;\n",
              "      border: none;\n",
              "      border-radius: 50%;\n",
              "      cursor: pointer;\n",
              "      display: none;\n",
              "      fill: #1967D2;\n",
              "      height: 32px;\n",
              "      padding: 0 0 0 0;\n",
              "      width: 32px;\n",
              "    }\n",
              "\n",
              "    .colab-df-convert:hover {\n",
              "      background-color: #E2EBFA;\n",
              "      box-shadow: 0px 1px 2px rgba(60, 64, 67, 0.3), 0px 1px 3px 1px rgba(60, 64, 67, 0.15);\n",
              "      fill: #174EA6;\n",
              "    }\n",
              "\n",
              "    [theme=dark] .colab-df-convert {\n",
              "      background-color: #3B4455;\n",
              "      fill: #D2E3FC;\n",
              "    }\n",
              "\n",
              "    [theme=dark] .colab-df-convert:hover {\n",
              "      background-color: #434B5C;\n",
              "      box-shadow: 0px 1px 3px 1px rgba(0, 0, 0, 0.15);\n",
              "      filter: drop-shadow(0px 1px 2px rgba(0, 0, 0, 0.3));\n",
              "      fill: #FFFFFF;\n",
              "    }\n",
              "  </style>\n",
              "\n",
              "      <script>\n",
              "        const buttonEl =\n",
              "          document.querySelector('#df-7f9b76e1-6168-4334-ad52-e74851a41591 button.colab-df-convert');\n",
              "        buttonEl.style.display =\n",
              "          google.colab.kernel.accessAllowed ? 'block' : 'none';\n",
              "\n",
              "        async function convertToInteractive(key) {\n",
              "          const element = document.querySelector('#df-7f9b76e1-6168-4334-ad52-e74851a41591');\n",
              "          const dataTable =\n",
              "            await google.colab.kernel.invokeFunction('convertToInteractive',\n",
              "                                                     [key], {});\n",
              "          if (!dataTable) return;\n",
              "\n",
              "          const docLinkHtml = 'Like what you see? Visit the ' +\n",
              "            '<a target=\"_blank\" href=https://colab.research.google.com/notebooks/data_table.ipynb>data table notebook</a>'\n",
              "            + ' to learn more about interactive tables.';\n",
              "          element.innerHTML = '';\n",
              "          dataTable['output_type'] = 'display_data';\n",
              "          await google.colab.output.renderOutput(dataTable, element);\n",
              "          const docLink = document.createElement('div');\n",
              "          docLink.innerHTML = docLinkHtml;\n",
              "          element.appendChild(docLink);\n",
              "        }\n",
              "      </script>\n",
              "    </div>\n",
              "  </div>\n",
              "  "
            ]
          },
          "metadata": {},
          "execution_count": 48
        }
      ]
    },
    {
      "cell_type": "code",
      "source": [
        "Y_test = frame_medium_test.iloc[:,-1:]\n",
        "Y_test.reset_index(drop=True,inplace=True)\n",
        "X_pred_scaled = model_high.predict(X_test_scaled)\n",
        "df_test_scaled[15]=X_pred_scaled\n",
        "#Inverse Transforming the Predicted Values\n",
        "df_test = pd.DataFrame(min_max_scaler.inverse_transform(df_test_scaled))\n",
        "Y_pred = df_test.iloc[:,-1:]"
      ],
      "metadata": {
        "id": "gFm1sO3X6cX1"
      },
      "execution_count": null,
      "outputs": []
    },
    {
      "cell_type": "code",
      "source": [
        "fig, axes = plt.subplots(1, 1, sharex=True, sharey=True,figsize=(15,5))\n",
        "ax3 = axes\n",
        "ax3.plot(Y_test, label='Y_test')\n",
        "ax3.plot(Y_pred, label='Y_pred')\n",
        "ax3.legend(loc='best')\n",
        "ax3.set_title('Line graph of True Vs Predicted Values')\n",
        "ax3.set_xlabel('Data Points')\n",
        "ax3.set_ylabel('Values')\n",
        "plt.show()"
      ],
      "metadata": {
        "colab": {
          "base_uri": "https://localhost:8080/",
          "height": 350
        },
        "id": "3QwgnPQS6x0-",
        "outputId": "1c24bec0-5fce-443e-d684-3139a05974b6"
      },
      "execution_count": null,
      "outputs": [
        {
          "output_type": "display_data",
          "data": {
            "text/plain": [
              "<Figure size 1080x360 with 1 Axes>"
            ],
            "image/png": "[encoded data removed]"
          },
          "metadata": {
            "needs_background": "light"
          }
        }
      ]
    },
    {
      "cell_type": "code",
      "source": [
        "Y_test=Y_test['DL_bitrate']"
      ],
      "metadata": {
        "id": "lWvfmJd7Mq9x"
      },
      "execution_count": null,
      "outputs": []
    },
    {
      "cell_type": "code",
      "source": [
        "fig, axes = plt.subplots(1, 1, sharex=True, sharey=True,figsize=(15,5))\n",
        "ax3 = axes\n",
        "ax3.scatter(Y_test, Y_pred[15], c='crimson')\n",
        "p1 = max(max(Y_pred[15]), max(Y_test))\n",
        "p2 = min(min(Y_pred[15]), min(Y_test))\n",
        "ax3.plot([p1, p2], [p1, p2], 'b-')\n",
        "ax3.set(xlim=(1000, None),ylim=(1000, None), title='Scatter Plot of True Vs Predicted Values', xlabel='True Value', ylabel='Predicted Value')\n",
        "plt.show()"
      ],
      "metadata": {
        "colab": {
          "base_uri": "https://localhost:8080/",
          "height": 350
        },
        "id": "JWgd34lGMts2",
        "outputId": "e3e07a84-40f5-441a-d846-8c2d17b3ae15"
      },
      "execution_count": null,
      "outputs": [
        {
          "output_type": "display_data",
          "data": {
            "text/plain": [
              "<Figure size 1080x360 with 1 Axes>"
            ],
            "image/png": "[encoded data removed]"
          },
          "metadata": {
            "needs_background": "light"
          }
        }
      ]
    },
    {
      "cell_type": "code",
      "source": [
        "a=Y_test.subtract(Y_pred[15])\n",
        "stats = {}\n",
        "# Compute the boxplot stats (as in the default matplotlib implementation)\n",
        "stats['A'] = cbook.boxplot_stats(a, labels='A')[0]\n",
        "stats['B'] = cbook.boxplot_stats(a, labels='B')[0]\n",
        "stats['C'] = cbook.boxplot_stats(a, labels='C')[0]\n",
        "\n",
        "# For box A compute the 1st and 99th percentiles\n",
        "stats['A']['q1'], stats['A']['q3'] = np.percentile(a, [5, 95])\n",
        "# For box B compute the 10th and 90th percentiles\n",
        "stats['B']['q1'], stats['B']['q3'] = np.percentile(a, [10, 90])\n",
        "# For box C compute the 25th and 75th percentiles (matplotlib default)\n",
        "stats['C']['q1'], stats['C']['q3'] = np.percentile(a, [25, 75])\n",
        "\n",
        "#fig = plt.figure(figsize =(10, 7))\n",
        "fig, ax = plt.subplots(1, 1, figsize = (10,7))\n",
        "# Plot boxplots from our computed statistics\n",
        "bp = ax.bxp([stats['A'], stats['B'], stats['C']], positions=range(3))\n",
        "\n",
        "# Colour the lines in the boxplot blue\n",
        "for element in bp.keys():\n",
        "    plt.setp(bp[element], color='C0')"
      ],
      "metadata": {
        "colab": {
          "base_uri": "https://localhost:8080/",
          "height": 428
        },
        "id": "jdpr8nrp68p7",
        "outputId": "6736e3d2-abaf-4c3b-84de-edbff0782ea6"
      },
      "execution_count": null,
      "outputs": [
        {
          "output_type": "display_data",
          "data": {
            "text/plain": [
              "<Figure size 720x504 with 1 Axes>"
            ],
            "image/png": "[encoded data removed]"
          },
          "metadata": {
            "needs_background": "light"
          }
        }
      ]
    },
    {
      "cell_type": "code",
      "source": [
        "Y_pred=Y_pred[15]"
      ],
      "metadata": {
        "id": "slUsjOM472oc"
      },
      "execution_count": null,
      "outputs": []
    },
    {
      "cell_type": "code",
      "source": [
        "# calculate MAE\n",
        "error = mae(Y_test, Y_pred)\n",
        "\n",
        "# display\n",
        "print(\"Mean absolute error : \" + str(error))\n",
        "print(f\"Decimal Representation: {error:.20f}\")"
      ],
      "metadata": {
        "colab": {
          "base_uri": "https://localhost:8080/"
        },
        "id": "WleBCgBK7CLV",
        "outputId": "a26e41a0-d5ac-4c15-a0ae-dd8cc2245388"
      },
      "execution_count": null,
      "outputs": [
        {
          "output_type": "stream",
          "name": "stdout",
          "text": [
            "Mean absolute error : tf.Tensor(604.901123046875, shape=(), dtype=float64)\n",
            "Decimal Representation: 604.90112304687500000000\n"
          ]
        }
      ]
    },
    {
      "cell_type": "code",
      "source": [
        "# Mean Absolute Percentage Error\n",
        "error = mean_absolute_percentage_error(Y_test, Y_pred)\n",
        "print(error)\n",
        "\n",
        "print(f\" {error:.5f}\")"
      ],
      "metadata": {
        "colab": {
          "base_uri": "https://localhost:8080/"
        },
        "id": "dq0IQafs7CIo",
        "outputId": "31f8b859-c1a1-4fb9-8478-df826a244279"
      },
      "execution_count": null,
      "outputs": [
        {
          "output_type": "stream",
          "name": "stdout",
          "text": [
            "0.2435530764508578\n",
            " 0.24355\n"
          ]
        }
      ]
    },
    {
      "cell_type": "code",
      "source": [
        "# Relative Absolute Error\n",
        "# (|y1-y2|)/(|y1_mean-y1|)\n",
        "def relative_absolute_error(y_true, y_pred):\n",
        "  y1=y_true.to_numpy()\n",
        "  y2=y_pred.to_numpy()\n",
        "  num = np.sum(np.absolute(np.array(y1) - np.array(y2)))\n",
        "  deno = np.sum(np.absolute(y2-np.mean(y1)))\n",
        "  return (num/deno)\n",
        "relative_absolute_error(Y_test, Y_pred)"
      ],
      "metadata": {
        "colab": {
          "base_uri": "https://localhost:8080/"
        },
        "id": "2kKKN9zD7CGN",
        "outputId": "e0e9e9ff-7b2b-4793-8894-dda7cf9f2e21"
      },
      "execution_count": null,
      "outputs": [
        {
          "output_type": "execute_result",
          "data": {
            "text/plain": [
              "1.0464384732771108"
            ]
          },
          "metadata": {},
          "execution_count": 59
        }
      ]
    },
    {
      "cell_type": "code",
      "source": [
        "# Root Relative Squared Error\n",
        "# (|y1-y2|^2)/(|y1_mean-y1|^2)\n",
        "def rrse(y_true, y_pred):\n",
        "  y1=y_true.to_numpy()\n",
        "  y2=y_pred.to_numpy()\n",
        "  num = np.sum(np.square(np.absolute(np.array(y1) - np.array(y2))))\n",
        "  deno = np.sum(np.square(np.absolute(y2-np.mean(y1))))\n",
        "  return (num/deno)\n",
        "rrse(Y_test, Y_pred)"
      ],
      "metadata": {
        "colab": {
          "base_uri": "https://localhost:8080/"
        },
        "id": "r0taJT1n6LKG",
        "outputId": "556fcb30-7d4c-47f6-b468-31dfcc8c8e8b"
      },
      "execution_count": null,
      "outputs": [
        {
          "output_type": "execute_result",
          "data": {
            "text/plain": [
              "1.2913614466688312"
            ]
          },
          "metadata": {},
          "execution_count": 65
        }
      ]
    },
    {
      "cell_type": "code",
      "source": [],
      "metadata": {
        "id": "zAKrG0bJDM5g"
      },
      "execution_count": null,
      "outputs": []
    },
    {
      "cell_type": "code",
      "source": [],
      "metadata": {
        "id": "IZfc-OcnDM93"
      },
      "execution_count": null,
      "outputs": []
    },
    {
      "cell_type": "markdown",
      "source": [
        "## High Throughput"
      ],
      "metadata": {
        "id": "sIAGvzNhDS8t"
      }
    },
    {
      "cell_type": "code",
      "source": [
        "frame_high_train.head()"
      ],
      "metadata": {
        "colab": {
          "base_uri": "https://localhost:8080/",
          "height": 236
        },
        "outputId": "3ed2cd54-124d-4688-cda6-9c66567b2e5d",
        "id": "hecjbZVsDNZP"
      },
      "execution_count": null,
      "outputs": [
        {
          "output_type": "execute_result",
          "data": {
            "text/plain": [
              "     CQI-0  CQI-1  CQI-2  CQI-3  CQI-4  DL_bitrate-0  DL_bitrate-1  \\\n",
              "247    9.0    9.0    9.0    6.0    6.0        1644.0        1308.0   \n",
              "248    9.0    9.0    9.0    9.0    6.0        1532.0        1644.0   \n",
              "249    9.0    9.0    9.0    9.0    9.0        3836.0        1532.0   \n",
              "250    8.0    9.0    9.0    9.0    9.0        6542.0        3836.0   \n",
              "251    8.0    8.0    9.0    9.0    9.0        5334.0        6542.0   \n",
              "\n",
              "     DL_bitrate-2  DL_bitrate-3  DL_bitrate-4  ...  SNR-1  SNR-2  SNR-3  \\\n",
              "247        1151.0         973.0         794.0  ...    2.0    2.0    1.0   \n",
              "248        1308.0        1151.0         973.0  ...    4.0    2.0    2.0   \n",
              "249        1644.0        1308.0        1151.0  ...    4.0    4.0    2.0   \n",
              "250        1532.0        1644.0        1308.0  ...    4.0    4.0    4.0   \n",
              "251        3836.0        1532.0        1644.0  ...    4.0    4.0    4.0   \n",
              "\n",
              "     SNR-4  UL_bitrate-0  UL_bitrate-1  UL_bitrate-2  UL_bitrate-3  \\\n",
              "247    1.0          31.0          25.0          21.0          18.0   \n",
              "248    1.0          29.0          31.0          25.0          21.0   \n",
              "249    2.0          71.0          29.0          31.0          25.0   \n",
              "250    2.0         121.0          71.0          29.0          31.0   \n",
              "251    4.0          99.0         121.0          71.0          29.0   \n",
              "\n",
              "     UL_bitrate-4  DL_bitrate  \n",
              "247          22.0      4515.0  \n",
              "248          18.0      5540.0  \n",
              "249          21.0      6305.0  \n",
              "250          25.0      6519.0  \n",
              "251          31.0      7343.0  \n",
              "\n",
              "[5 rows x 46 columns]"
            ],
            "text/html": [
              "\n",
              "  <div id=\"df-4bf799a2-68c6-4343-85d9-79e3e75542ee\">\n",
              "    <div class=\"colab-df-container\">\n",
              "      <div>\n",
              "<style scoped>\n",
              "    .dataframe tbody tr th:only-of-type {\n",
              "        vertical-align: middle;\n",
              "    }\n",
              "\n",
              "    .dataframe tbody tr th {\n",
              "        vertical-align: top;\n",
              "    }\n",
              "\n",
              "    .dataframe thead th {\n",
              "        text-align: right;\n",
              "    }\n",
              "</style>\n",
              "<table border=\"1\" class=\"dataframe\">\n",
              "  <thead>\n",
              "    <tr style=\"text-align: right;\">\n",
              "      <th></th>\n",
              "      <th>CQI-0</th>\n",
              "      <th>CQI-1</th>\n",
              "      <th>CQI-2</th>\n",
              "      <th>CQI-3</th>\n",
              "      <th>CQI-4</th>\n",
              "      <th>DL_bitrate-0</th>\n",
              "      <th>DL_bitrate-1</th>\n",
              "      <th>DL_bitrate-2</th>\n",
              "      <th>DL_bitrate-3</th>\n",
              "      <th>DL_bitrate-4</th>\n",
              "      <th>...</th>\n",
              "      <th>SNR-1</th>\n",
              "      <th>SNR-2</th>\n",
              "      <th>SNR-3</th>\n",
              "      <th>SNR-4</th>\n",
              "      <th>UL_bitrate-0</th>\n",
              "      <th>UL_bitrate-1</th>\n",
              "      <th>UL_bitrate-2</th>\n",
              "      <th>UL_bitrate-3</th>\n",
              "      <th>UL_bitrate-4</th>\n",
              "      <th>DL_bitrate</th>\n",
              "    </tr>\n",
              "  </thead>\n",
              "  <tbody>\n",
              "    <tr>\n",
              "      <th>247</th>\n",
              "      <td>9.0</td>\n",
              "      <td>9.0</td>\n",
              "      <td>9.0</td>\n",
              "      <td>6.0</td>\n",
              "      <td>6.0</td>\n",
              "      <td>1644.0</td>\n",
              "      <td>1308.0</td>\n",
              "      <td>1151.0</td>\n",
              "      <td>973.0</td>\n",
              "      <td>794.0</td>\n",
              "      <td>...</td>\n",
              "      <td>2.0</td>\n",
              "      <td>2.0</td>\n",
              "      <td>1.0</td>\n",
              "      <td>1.0</td>\n",
              "      <td>31.0</td>\n",
              "      <td>25.0</td>\n",
              "      <td>21.0</td>\n",
              "      <td>18.0</td>\n",
              "      <td>22.0</td>\n",
              "      <td>4515.0</td>\n",
              "    </tr>\n",
              "    <tr>\n",
              "      <th>248</th>\n",
              "      <td>9.0</td>\n",
              "      <td>9.0</td>\n",
              "      <td>9.0</td>\n",
              "      <td>9.0</td>\n",
              "      <td>6.0</td>\n",
              "      <td>1532.0</td>\n",
              "      <td>1644.0</td>\n",
              "      <td>1308.0</td>\n",
              "      <td>1151.0</td>\n",
              "      <td>973.0</td>\n",
              "      <td>...</td>\n",
              "      <td>4.0</td>\n",
              "      <td>2.0</td>\n",
              "      <td>2.0</td>\n",
              "      <td>1.0</td>\n",
              "      <td>29.0</td>\n",
              "      <td>31.0</td>\n",
              "      <td>25.0</td>\n",
              "      <td>21.0</td>\n",
              "      <td>18.0</td>\n",
              "      <td>5540.0</td>\n",
              "    </tr>\n",
              "    <tr>\n",
              "      <th>249</th>\n",
              "      <td>9.0</td>\n",
              "      <td>9.0</td>\n",
              "      <td>9.0</td>\n",
              "      <td>9.0</td>\n",
              "      <td>9.0</td>\n",
              "      <td>3836.0</td>\n",
              "      <td>1532.0</td>\n",
              "      <td>1644.0</td>\n",
              "      <td>1308.0</td>\n",
              "      <td>1151.0</td>\n",
              "      <td>...</td>\n",
              "      <td>4.0</td>\n",
              "      <td>4.0</td>\n",
              "      <td>2.0</td>\n",
              "      <td>2.0</td>\n",
              "      <td>71.0</td>\n",
              "      <td>29.0</td>\n",
              "      <td>31.0</td>\n",
              "      <td>25.0</td>\n",
              "      <td>21.0</td>\n",
              "      <td>6305.0</td>\n",
              "    </tr>\n",
              "    <tr>\n",
              "      <th>250</th>\n",
              "      <td>8.0</td>\n",
              "      <td>9.0</td>\n",
              "      <td>9.0</td>\n",
              "      <td>9.0</td>\n",
              "      <td>9.0</td>\n",
              "      <td>6542.0</td>\n",
              "      <td>3836.0</td>\n",
              "      <td>1532.0</td>\n",
              "      <td>1644.0</td>\n",
              "      <td>1308.0</td>\n",
              "      <td>...</td>\n",
              "      <td>4.0</td>\n",
              "      <td>4.0</td>\n",
              "      <td>4.0</td>\n",
              "      <td>2.0</td>\n",
              "      <td>121.0</td>\n",
              "      <td>71.0</td>\n",
              "      <td>29.0</td>\n",
              "      <td>31.0</td>\n",
              "      <td>25.0</td>\n",
              "      <td>6519.0</td>\n",
              "    </tr>\n",
              "    <tr>\n",
              "      <th>251</th>\n",
              "      <td>8.0</td>\n",
              "      <td>8.0</td>\n",
              "      <td>9.0</td>\n",
              "      <td>9.0</td>\n",
              "      <td>9.0</td>\n",
              "      <td>5334.0</td>\n",
              "      <td>6542.0</td>\n",
              "      <td>3836.0</td>\n",
              "      <td>1532.0</td>\n",
              "      <td>1644.0</td>\n",
              "      <td>...</td>\n",
              "      <td>4.0</td>\n",
              "      <td>4.0</td>\n",
              "      <td>4.0</td>\n",
              "      <td>4.0</td>\n",
              "      <td>99.0</td>\n",
              "      <td>121.0</td>\n",
              "      <td>71.0</td>\n",
              "      <td>29.0</td>\n",
              "      <td>31.0</td>\n",
              "      <td>7343.0</td>\n",
              "    </tr>\n",
              "  </tbody>\n",
              "</table>\n",
              "<p>5 rows × 46 columns</p>\n",
              "</div>\n",
              "      <button class=\"colab-df-convert\" onclick=\"convertToInteractive('df-4bf799a2-68c6-4343-85d9-79e3e75542ee')\"\n",
              "              title=\"Convert this dataframe to an interactive table.\"\n",
              "              style=\"display:none;\">\n",
              "        \n",
              "  <svg xmlns=\"http://www.w3.org/2000/svg\" height=\"24px\"viewBox=\"0 0 24 24\"\n",
              "       width=\"24px\">\n",
              "    <path d=\"M0 0h24v24H0V0z\" fill=\"none\"/>\n",
              "    <path d=\"M18.56 5.44l.94 2.06.94-2.06 2.06-.94-2.06-.94-.94-2.06-.94 2.06-2.06.94zm-11 1L8.5 8.5l.94-2.06 2.06-.94-2.06-.94L8.5 2.5l-.94 2.06-2.06.94zm10 10l.94 2.06.94-2.06 2.06-.94-2.06-.94-.94-2.06-.94 2.06-2.06.94z\"/><path d=\"M17.41 7.96l-1.37-1.37c-.4-.4-.92-.59-1.43-.59-.52 0-1.04.2-1.43.59L10.3 9.45l-7.72 7.72c-.78.78-.78 2.05 0 2.83L4 21.41c.39.39.9.59 1.41.59.51 0 1.02-.2 1.41-.59l7.78-7.78 2.81-2.81c.8-.78.8-2.07 0-2.86zM5.41 20L4 18.59l7.72-7.72 1.47 1.35L5.41 20z\"/>\n",
              "  </svg>\n",
              "      </button>\n",
              "      \n",
              "  <style>\n",
              "    .colab-df-container {\n",
              "      display:flex;\n",
              "      flex-wrap:wrap;\n",
              "      gap: 12px;\n",
              "    }\n",
              "\n",
              "    .colab-df-convert {\n",
              "      background-color: #E8F0FE;\n",
              "      border: none;\n",
              "      border-radius: 50%;\n",
              "      cursor: pointer;\n",
              "      display: none;\n",
              "      fill: #1967D2;\n",
              "      height: 32px;\n",
              "      padding: 0 0 0 0;\n",
              "      width: 32px;\n",
              "    }\n",
              "\n",
              "    .colab-df-convert:hover {\n",
              "      background-color: #E2EBFA;\n",
              "      box-shadow: 0px 1px 2px rgba(60, 64, 67, 0.3), 0px 1px 3px 1px rgba(60, 64, 67, 0.15);\n",
              "      fill: #174EA6;\n",
              "    }\n",
              "\n",
              "    [theme=dark] .colab-df-convert {\n",
              "      background-color: #3B4455;\n",
              "      fill: #D2E3FC;\n",
              "    }\n",
              "\n",
              "    [theme=dark] .colab-df-convert:hover {\n",
              "      background-color: #434B5C;\n",
              "      box-shadow: 0px 1px 3px 1px rgba(0, 0, 0, 0.15);\n",
              "      filter: drop-shadow(0px 1px 2px rgba(0, 0, 0, 0.3));\n",
              "      fill: #FFFFFF;\n",
              "    }\n",
              "  </style>\n",
              "\n",
              "      <script>\n",
              "        const buttonEl =\n",
              "          document.querySelector('#df-4bf799a2-68c6-4343-85d9-79e3e75542ee button.colab-df-convert');\n",
              "        buttonEl.style.display =\n",
              "          google.colab.kernel.accessAllowed ? 'block' : 'none';\n",
              "\n",
              "        async function convertToInteractive(key) {\n",
              "          const element = document.querySelector('#df-4bf799a2-68c6-4343-85d9-79e3e75542ee');\n",
              "          const dataTable =\n",
              "            await google.colab.kernel.invokeFunction('convertToInteractive',\n",
              "                                                     [key], {});\n",
              "          if (!dataTable) return;\n",
              "\n",
              "          const docLinkHtml = 'Like what you see? Visit the ' +\n",
              "            '<a target=\"_blank\" href=https://colab.research.google.com/notebooks/data_table.ipynb>data table notebook</a>'\n",
              "            + ' to learn more about interactive tables.';\n",
              "          element.innerHTML = '';\n",
              "          dataTable['output_type'] = 'display_data';\n",
              "          await google.colab.output.renderOutput(dataTable, element);\n",
              "          const docLink = document.createElement('div');\n",
              "          docLink.innerHTML = docLinkHtml;\n",
              "          element.appendChild(docLink);\n",
              "        }\n",
              "      </script>\n",
              "    </div>\n",
              "  </div>\n",
              "  "
            ]
          },
          "metadata": {},
          "execution_count": 60
        }
      ]
    },
    {
      "cell_type": "code",
      "source": [
        "frame_high_test.head()"
      ],
      "metadata": {
        "colab": {
          "base_uri": "https://localhost:8080/",
          "height": 236
        },
        "outputId": "ebb53bad-5699-430c-feca-1ce75d433a78",
        "id": "PHwBRxmSDNZQ"
      },
      "execution_count": null,
      "outputs": [
        {
          "output_type": "execute_result",
          "data": {
            "text/plain": [
              "   CQI-0  CQI-1  CQI-2  CQI-3  CQI-4  DL_bitrate-0  DL_bitrate-1  \\\n",
              "0    8.0    8.0    8.0    8.0    8.0        3657.0        5413.0   \n",
              "1    8.0    8.0    8.0    8.0    8.0        4719.0        3657.0   \n",
              "2    6.0    8.0    8.0    8.0    8.0        7280.0        4719.0   \n",
              "3    7.0    6.0    8.0    8.0    8.0        3813.0        7280.0   \n",
              "4    7.0    7.0    6.0    8.0    8.0        4742.0        3813.0   \n",
              "\n",
              "   DL_bitrate-2  DL_bitrate-3  DL_bitrate-4  ...  SNR-1  SNR-2  SNR-3  SNR-4  \\\n",
              "0        7795.0        7795.0        6777.0  ...    6.0    6.0    6.0    7.0   \n",
              "1        5413.0        7795.0        7795.0  ...    4.0    6.0    6.0    6.0   \n",
              "2        3657.0        5413.0        7795.0  ...    4.0    4.0    6.0    6.0   \n",
              "3        4719.0        3657.0        5413.0  ...    3.0    4.0    4.0    6.0   \n",
              "4        7280.0        4719.0        3657.0  ...    3.0    3.0    4.0    4.0   \n",
              "\n",
              "   UL_bitrate-0  UL_bitrate-1  UL_bitrate-2  UL_bitrate-3  UL_bitrate-4  \\\n",
              "0         162.0         100.0         143.0         143.0         128.0   \n",
              "1         155.0         162.0         100.0         143.0         143.0   \n",
              "2         144.0         155.0         162.0         100.0         143.0   \n",
              "3          70.0         144.0         155.0         162.0         100.0   \n",
              "4          86.0          70.0         144.0         155.0         162.0   \n",
              "\n",
              "   DL_bitrate  \n",
              "0      4656.0  \n",
              "1      5294.0  \n",
              "2      6627.0  \n",
              "3      9069.0  \n",
              "4     10859.0  \n",
              "\n",
              "[5 rows x 46 columns]"
            ],
            "text/html": [
              "\n",
              "  <div id=\"df-3a617618-ad81-4957-a957-a30740ab5036\">\n",
              "    <div class=\"colab-df-container\">\n",
              "      <div>\n",
              "<style scoped>\n",
              "    .dataframe tbody tr th:only-of-type {\n",
              "        vertical-align: middle;\n",
              "    }\n",
              "\n",
              "    .dataframe tbody tr th {\n",
              "        vertical-align: top;\n",
              "    }\n",
              "\n",
              "    .dataframe thead th {\n",
              "        text-align: right;\n",
              "    }\n",
              "</style>\n",
              "<table border=\"1\" class=\"dataframe\">\n",
              "  <thead>\n",
              "    <tr style=\"text-align: right;\">\n",
              "      <th></th>\n",
              "      <th>CQI-0</th>\n",
              "      <th>CQI-1</th>\n",
              "      <th>CQI-2</th>\n",
              "      <th>CQI-3</th>\n",
              "      <th>CQI-4</th>\n",
              "      <th>DL_bitrate-0</th>\n",
              "      <th>DL_bitrate-1</th>\n",
              "      <th>DL_bitrate-2</th>\n",
              "      <th>DL_bitrate-3</th>\n",
              "      <th>DL_bitrate-4</th>\n",
              "      <th>...</th>\n",
              "      <th>SNR-1</th>\n",
              "      <th>SNR-2</th>\n",
              "      <th>SNR-3</th>\n",
              "      <th>SNR-4</th>\n",
              "      <th>UL_bitrate-0</th>\n",
              "      <th>UL_bitrate-1</th>\n",
              "      <th>UL_bitrate-2</th>\n",
              "      <th>UL_bitrate-3</th>\n",
              "      <th>UL_bitrate-4</th>\n",
              "      <th>DL_bitrate</th>\n",
              "    </tr>\n",
              "  </thead>\n",
              "  <tbody>\n",
              "    <tr>\n",
              "      <th>0</th>\n",
              "      <td>8.0</td>\n",
              "      <td>8.0</td>\n",
              "      <td>8.0</td>\n",
              "      <td>8.0</td>\n",
              "      <td>8.0</td>\n",
              "      <td>3657.0</td>\n",
              "      <td>5413.0</td>\n",
              "      <td>7795.0</td>\n",
              "      <td>7795.0</td>\n",
              "      <td>6777.0</td>\n",
              "      <td>...</td>\n",
              "      <td>6.0</td>\n",
              "      <td>6.0</td>\n",
              "      <td>6.0</td>\n",
              "      <td>7.0</td>\n",
              "      <td>162.0</td>\n",
              "      <td>100.0</td>\n",
              "      <td>143.0</td>\n",
              "      <td>143.0</td>\n",
              "      <td>128.0</td>\n",
              "      <td>4656.0</td>\n",
              "    </tr>\n",
              "    <tr>\n",
              "      <th>1</th>\n",
              "      <td>8.0</td>\n",
              "      <td>8.0</td>\n",
              "      <td>8.0</td>\n",
              "      <td>8.0</td>\n",
              "      <td>8.0</td>\n",
              "      <td>4719.0</td>\n",
              "      <td>3657.0</td>\n",
              "      <td>5413.0</td>\n",
              "      <td>7795.0</td>\n",
              "      <td>7795.0</td>\n",
              "      <td>...</td>\n",
              "      <td>4.0</td>\n",
              "      <td>6.0</td>\n",
              "      <td>6.0</td>\n",
              "      <td>6.0</td>\n",
              "      <td>155.0</td>\n",
              "      <td>162.0</td>\n",
              "      <td>100.0</td>\n",
              "      <td>143.0</td>\n",
              "      <td>143.0</td>\n",
              "      <td>5294.0</td>\n",
              "    </tr>\n",
              "    <tr>\n",
              "      <th>2</th>\n",
              "      <td>6.0</td>\n",
              "      <td>8.0</td>\n",
              "      <td>8.0</td>\n",
              "      <td>8.0</td>\n",
              "      <td>8.0</td>\n",
              "      <td>7280.0</td>\n",
              "      <td>4719.0</td>\n",
              "      <td>3657.0</td>\n",
              "      <td>5413.0</td>\n",
              "      <td>7795.0</td>\n",
              "      <td>...</td>\n",
              "      <td>4.0</td>\n",
              "      <td>4.0</td>\n",
              "      <td>6.0</td>\n",
              "      <td>6.0</td>\n",
              "      <td>144.0</td>\n",
              "      <td>155.0</td>\n",
              "      <td>162.0</td>\n",
              "      <td>100.0</td>\n",
              "      <td>143.0</td>\n",
              "      <td>6627.0</td>\n",
              "    </tr>\n",
              "    <tr>\n",
              "      <th>3</th>\n",
              "      <td>7.0</td>\n",
              "      <td>6.0</td>\n",
              "      <td>8.0</td>\n",
              "      <td>8.0</td>\n",
              "      <td>8.0</td>\n",
              "      <td>3813.0</td>\n",
              "      <td>7280.0</td>\n",
              "      <td>4719.0</td>\n",
              "      <td>3657.0</td>\n",
              "      <td>5413.0</td>\n",
              "      <td>...</td>\n",
              "      <td>3.0</td>\n",
              "      <td>4.0</td>\n",
              "      <td>4.0</td>\n",
              "      <td>6.0</td>\n",
              "      <td>70.0</td>\n",
              "      <td>144.0</td>\n",
              "      <td>155.0</td>\n",
              "      <td>162.0</td>\n",
              "      <td>100.0</td>\n",
              "      <td>9069.0</td>\n",
              "    </tr>\n",
              "    <tr>\n",
              "      <th>4</th>\n",
              "      <td>7.0</td>\n",
              "      <td>7.0</td>\n",
              "      <td>6.0</td>\n",
              "      <td>8.0</td>\n",
              "      <td>8.0</td>\n",
              "      <td>4742.0</td>\n",
              "      <td>3813.0</td>\n",
              "      <td>7280.0</td>\n",
              "      <td>4719.0</td>\n",
              "      <td>3657.0</td>\n",
              "      <td>...</td>\n",
              "      <td>3.0</td>\n",
              "      <td>3.0</td>\n",
              "      <td>4.0</td>\n",
              "      <td>4.0</td>\n",
              "      <td>86.0</td>\n",
              "      <td>70.0</td>\n",
              "      <td>144.0</td>\n",
              "      <td>155.0</td>\n",
              "      <td>162.0</td>\n",
              "      <td>10859.0</td>\n",
              "    </tr>\n",
              "  </tbody>\n",
              "</table>\n",
              "<p>5 rows × 46 columns</p>\n",
              "</div>\n",
              "      <button class=\"colab-df-convert\" onclick=\"convertToInteractive('df-3a617618-ad81-4957-a957-a30740ab5036')\"\n",
              "              title=\"Convert this dataframe to an interactive table.\"\n",
              "              style=\"display:none;\">\n",
              "        \n",
              "  <svg xmlns=\"http://www.w3.org/2000/svg\" height=\"24px\"viewBox=\"0 0 24 24\"\n",
              "       width=\"24px\">\n",
              "    <path d=\"M0 0h24v24H0V0z\" fill=\"none\"/>\n",
              "    <path d=\"M18.56 5.44l.94 2.06.94-2.06 2.06-.94-2.06-.94-.94-2.06-.94 2.06-2.06.94zm-11 1L8.5 8.5l.94-2.06 2.06-.94-2.06-.94L8.5 2.5l-.94 2.06-2.06.94zm10 10l.94 2.06.94-2.06 2.06-.94-2.06-.94-.94-2.06-.94 2.06-2.06.94z\"/><path d=\"M17.41 7.96l-1.37-1.37c-.4-.4-.92-.59-1.43-.59-.52 0-1.04.2-1.43.59L10.3 9.45l-7.72 7.72c-.78.78-.78 2.05 0 2.83L4 21.41c.39.39.9.59 1.41.59.51 0 1.02-.2 1.41-.59l7.78-7.78 2.81-2.81c.8-.78.8-2.07 0-2.86zM5.41 20L4 18.59l7.72-7.72 1.47 1.35L5.41 20z\"/>\n",
              "  </svg>\n",
              "      </button>\n",
              "      \n",
              "  <style>\n",
              "    .colab-df-container {\n",
              "      display:flex;\n",
              "      flex-wrap:wrap;\n",
              "      gap: 12px;\n",
              "    }\n",
              "\n",
              "    .colab-df-convert {\n",
              "      background-color: #E8F0FE;\n",
              "      border: none;\n",
              "      border-radius: 50%;\n",
              "      cursor: pointer;\n",
              "      display: none;\n",
              "      fill: #1967D2;\n",
              "      height: 32px;\n",
              "      padding: 0 0 0 0;\n",
              "      width: 32px;\n",
              "    }\n",
              "\n",
              "    .colab-df-convert:hover {\n",
              "      background-color: #E2EBFA;\n",
              "      box-shadow: 0px 1px 2px rgba(60, 64, 67, 0.3), 0px 1px 3px 1px rgba(60, 64, 67, 0.15);\n",
              "      fill: #174EA6;\n",
              "    }\n",
              "\n",
              "    [theme=dark] .colab-df-convert {\n",
              "      background-color: #3B4455;\n",
              "      fill: #D2E3FC;\n",
              "    }\n",
              "\n",
              "    [theme=dark] .colab-df-convert:hover {\n",
              "      background-color: #434B5C;\n",
              "      box-shadow: 0px 1px 3px 1px rgba(0, 0, 0, 0.15);\n",
              "      filter: drop-shadow(0px 1px 2px rgba(0, 0, 0, 0.3));\n",
              "      fill: #FFFFFF;\n",
              "    }\n",
              "  </style>\n",
              "\n",
              "      <script>\n",
              "        const buttonEl =\n",
              "          document.querySelector('#df-3a617618-ad81-4957-a957-a30740ab5036 button.colab-df-convert');\n",
              "        buttonEl.style.display =\n",
              "          google.colab.kernel.accessAllowed ? 'block' : 'none';\n",
              "\n",
              "        async function convertToInteractive(key) {\n",
              "          const element = document.querySelector('#df-3a617618-ad81-4957-a957-a30740ab5036');\n",
              "          const dataTable =\n",
              "            await google.colab.kernel.invokeFunction('convertToInteractive',\n",
              "                                                     [key], {});\n",
              "          if (!dataTable) return;\n",
              "\n",
              "          const docLinkHtml = 'Like what you see? Visit the ' +\n",
              "            '<a target=\"_blank\" href=https://colab.research.google.com/notebooks/data_table.ipynb>data table notebook</a>'\n",
              "            + ' to learn more about interactive tables.';\n",
              "          element.innerHTML = '';\n",
              "          dataTable['output_type'] = 'display_data';\n",
              "          await google.colab.output.renderOutput(dataTable, element);\n",
              "          const docLink = document.createElement('div');\n",
              "          docLink.innerHTML = docLinkHtml;\n",
              "          element.appendChild(docLink);\n",
              "        }\n",
              "      </script>\n",
              "    </div>\n",
              "  </div>\n",
              "  "
            ]
          },
          "metadata": {},
          "execution_count": 61
        }
      ]
    },
    {
      "cell_type": "markdown",
      "source": [
        "### With Scaling"
      ],
      "metadata": {
        "id": "g-eCw2HuDNZQ"
      }
    },
    {
      "cell_type": "markdown",
      "source": [
        "#### MinMax Scaler"
      ],
      "metadata": {
        "id": "6otUKvu3DNZR"
      }
    },
    {
      "cell_type": "code",
      "source": [
        "df = frame_high_train[col_names_scaled]\n",
        "min_max_scaler = MinMaxScaler()\n",
        "# transform data\n",
        "df_min_max_scaled = pd.DataFrame(min_max_scaler.fit_transform(df))"
      ],
      "metadata": {
        "id": "M7X_mF0uDNZR"
      },
      "execution_count": null,
      "outputs": []
    },
    {
      "cell_type": "code",
      "source": [
        "X_train_min_max_scaler, X_valid_min_max_scaler, Y_train_min_max_scaler, Y_valid_min_max_scaler = train_test_split(df_min_max_scaled.iloc[:,:-1], df_min_max_scaled.iloc[:,-1:], test_size=0.3, random_state=0)\n",
        "print('Train set shape', X_train_min_max_scaler.shape)\n",
        "print('Validation set shape', X_valid_min_max_scaler.shape)\n",
        "X_train_min_max_scaler.head()"
      ],
      "metadata": {
        "colab": {
          "base_uri": "https://localhost:8080/",
          "height": 242
        },
        "outputId": "489e1884-c6b2-4a7f-d4c6-bae4bdf41eb1",
        "id": "h4go81QkDNZS"
      },
      "execution_count": null,
      "outputs": [
        {
          "output_type": "stream",
          "name": "stdout",
          "text": [
            "Train set shape (4649, 15)\n",
            "Validation set shape (1993, 15)\n"
          ]
        },
        {
          "output_type": "execute_result",
          "data": {
            "text/plain": [
              "            0         1         2         3         4         5         6   \\\n",
              "3319  0.785714  0.785714  0.357143  0.357143  0.357143  0.436294  0.347710   \n",
              "1087  0.357143  0.357143  0.500000  0.571429  0.642857  0.082472  0.031819   \n",
              "5760  0.785714  0.785714  1.000000  1.000000  1.000000  0.068463  0.085647   \n",
              "1569  0.357143  0.500000  0.500000  0.500000  0.357143  0.041481  0.050141   \n",
              "218   0.428571  0.428571  0.357143  0.071429  0.071429  0.038681  0.128926   \n",
              "\n",
              "            7         8         9         10        11        12        13  \\\n",
              "3319  0.312329  0.378391  0.503243  0.456522  0.425532  0.425532  0.361702   \n",
              "1087  0.087810  0.102581  0.081710  0.369565  0.468085  0.468085  0.468085   \n",
              "5760  0.051291  0.073812  0.073812  0.695652  0.702128  0.702128  0.723404   \n",
              "1569  0.041356  0.043654  0.030920  0.304348  0.276596  0.276596  0.234043   \n",
              "218   0.116579  0.116579  0.037031  0.326087  0.212766  0.297872  0.212766   \n",
              "\n",
              "            14  \n",
              "3319  0.361702  \n",
              "1087  0.468085  \n",
              "5760  0.723404  \n",
              "1569  0.234043  \n",
              "218   0.191489  "
            ],
            "text/html": [
              "\n",
              "  <div id=\"df-84d3df19-240f-4f01-9689-c502d4ec240c\">\n",
              "    <div class=\"colab-df-container\">\n",
              "      <div>\n",
              "<style scoped>\n",
              "    .dataframe tbody tr th:only-of-type {\n",
              "        vertical-align: middle;\n",
              "    }\n",
              "\n",
              "    .dataframe tbody tr th {\n",
              "        vertical-align: top;\n",
              "    }\n",
              "\n",
              "    .dataframe thead th {\n",
              "        text-align: right;\n",
              "    }\n",
              "</style>\n",
              "<table border=\"1\" class=\"dataframe\">\n",
              "  <thead>\n",
              "    <tr style=\"text-align: right;\">\n",
              "      <th></th>\n",
              "      <th>0</th>\n",
              "      <th>1</th>\n",
              "      <th>2</th>\n",
              "      <th>3</th>\n",
              "      <th>4</th>\n",
              "      <th>5</th>\n",
              "      <th>6</th>\n",
              "      <th>7</th>\n",
              "      <th>8</th>\n",
              "      <th>9</th>\n",
              "      <th>10</th>\n",
              "      <th>11</th>\n",
              "      <th>12</th>\n",
              "      <th>13</th>\n",
              "      <th>14</th>\n",
              "    </tr>\n",
              "  </thead>\n",
              "  <tbody>\n",
              "    <tr>\n",
              "      <th>3319</th>\n",
              "      <td>0.785714</td>\n",
              "      <td>0.785714</td>\n",
              "      <td>0.357143</td>\n",
              "      <td>0.357143</td>\n",
              "      <td>0.357143</td>\n",
              "      <td>0.436294</td>\n",
              "      <td>0.347710</td>\n",
              "      <td>0.312329</td>\n",
              "      <td>0.378391</td>\n",
              "      <td>0.503243</td>\n",
              "      <td>0.456522</td>\n",
              "      <td>0.425532</td>\n",
              "      <td>0.425532</td>\n",
              "      <td>0.361702</td>\n",
              "      <td>0.361702</td>\n",
              "    </tr>\n",
              "    <tr>\n",
              "      <th>1087</th>\n",
              "      <td>0.357143</td>\n",
              "      <td>0.357143</td>\n",
              "      <td>0.500000</td>\n",
              "      <td>0.571429</td>\n",
              "      <td>0.642857</td>\n",
              "      <td>0.082472</td>\n",
              "      <td>0.031819</td>\n",
              "      <td>0.087810</td>\n",
              "      <td>0.102581</td>\n",
              "      <td>0.081710</td>\n",
              "      <td>0.369565</td>\n",
              "      <td>0.468085</td>\n",
              "      <td>0.468085</td>\n",
              "      <td>0.468085</td>\n",
              "      <td>0.468085</td>\n",
              "    </tr>\n",
              "    <tr>\n",
              "      <th>5760</th>\n",
              "      <td>0.785714</td>\n",
              "      <td>0.785714</td>\n",
              "      <td>1.000000</td>\n",
              "      <td>1.000000</td>\n",
              "      <td>1.000000</td>\n",
              "      <td>0.068463</td>\n",
              "      <td>0.085647</td>\n",
              "      <td>0.051291</td>\n",
              "      <td>0.073812</td>\n",
              "      <td>0.073812</td>\n",
              "      <td>0.695652</td>\n",
              "      <td>0.702128</td>\n",
              "      <td>0.702128</td>\n",
              "      <td>0.723404</td>\n",
              "      <td>0.723404</td>\n",
              "    </tr>\n",
              "    <tr>\n",
              "      <th>1569</th>\n",
              "      <td>0.357143</td>\n",
              "      <td>0.500000</td>\n",
              "      <td>0.500000</td>\n",
              "      <td>0.500000</td>\n",
              "      <td>0.357143</td>\n",
              "      <td>0.041481</td>\n",
              "      <td>0.050141</td>\n",
              "      <td>0.041356</td>\n",
              "      <td>0.043654</td>\n",
              "      <td>0.030920</td>\n",
              "      <td>0.304348</td>\n",
              "      <td>0.276596</td>\n",
              "      <td>0.276596</td>\n",
              "      <td>0.234043</td>\n",
              "      <td>0.234043</td>\n",
              "    </tr>\n",
              "    <tr>\n",
              "      <th>218</th>\n",
              "      <td>0.428571</td>\n",
              "      <td>0.428571</td>\n",
              "      <td>0.357143</td>\n",
              "      <td>0.071429</td>\n",
              "      <td>0.071429</td>\n",
              "      <td>0.038681</td>\n",
              "      <td>0.128926</td>\n",
              "      <td>0.116579</td>\n",
              "      <td>0.116579</td>\n",
              "      <td>0.037031</td>\n",
              "      <td>0.326087</td>\n",
              "      <td>0.212766</td>\n",
              "      <td>0.297872</td>\n",
              "      <td>0.212766</td>\n",
              "      <td>0.191489</td>\n",
              "    </tr>\n",
              "  </tbody>\n",
              "</table>\n",
              "</div>\n",
              "      <button class=\"colab-df-convert\" onclick=\"convertToInteractive('df-84d3df19-240f-4f01-9689-c502d4ec240c')\"\n",
              "              title=\"Convert this dataframe to an interactive table.\"\n",
              "              style=\"display:none;\">\n",
              "        \n",
              "  <svg xmlns=\"http://www.w3.org/2000/svg\" height=\"24px\"viewBox=\"0 0 24 24\"\n",
              "       width=\"24px\">\n",
              "    <path d=\"M0 0h24v24H0V0z\" fill=\"none\"/>\n",
              "    <path d=\"M18.56 5.44l.94 2.06.94-2.06 2.06-.94-2.06-.94-.94-2.06-.94 2.06-2.06.94zm-11 1L8.5 8.5l.94-2.06 2.06-.94-2.06-.94L8.5 2.5l-.94 2.06-2.06.94zm10 10l.94 2.06.94-2.06 2.06-.94-2.06-.94-.94-2.06-.94 2.06-2.06.94z\"/><path d=\"M17.41 7.96l-1.37-1.37c-.4-.4-.92-.59-1.43-.59-.52 0-1.04.2-1.43.59L10.3 9.45l-7.72 7.72c-.78.78-.78 2.05 0 2.83L4 21.41c.39.39.9.59 1.41.59.51 0 1.02-.2 1.41-.59l7.78-7.78 2.81-2.81c.8-.78.8-2.07 0-2.86zM5.41 20L4 18.59l7.72-7.72 1.47 1.35L5.41 20z\"/>\n",
              "  </svg>\n",
              "      </button>\n",
              "      \n",
              "  <style>\n",
              "    .colab-df-container {\n",
              "      display:flex;\n",
              "      flex-wrap:wrap;\n",
              "      gap: 12px;\n",
              "    }\n",
              "\n",
              "    .colab-df-convert {\n",
              "      background-color: #E8F0FE;\n",
              "      border: none;\n",
              "      border-radius: 50%;\n",
              "      cursor: pointer;\n",
              "      display: none;\n",
              "      fill: #1967D2;\n",
              "      height: 32px;\n",
              "      padding: 0 0 0 0;\n",
              "      width: 32px;\n",
              "    }\n",
              "\n",
              "    .colab-df-convert:hover {\n",
              "      background-color: #E2EBFA;\n",
              "      box-shadow: 0px 1px 2px rgba(60, 64, 67, 0.3), 0px 1px 3px 1px rgba(60, 64, 67, 0.15);\n",
              "      fill: #174EA6;\n",
              "    }\n",
              "\n",
              "    [theme=dark] .colab-df-convert {\n",
              "      background-color: #3B4455;\n",
              "      fill: #D2E3FC;\n",
              "    }\n",
              "\n",
              "    [theme=dark] .colab-df-convert:hover {\n",
              "      background-color: #434B5C;\n",
              "      box-shadow: 0px 1px 3px 1px rgba(0, 0, 0, 0.15);\n",
              "      filter: drop-shadow(0px 1px 2px rgba(0, 0, 0, 0.3));\n",
              "      fill: #FFFFFF;\n",
              "    }\n",
              "  </style>\n",
              "\n",
              "      <script>\n",
              "        const buttonEl =\n",
              "          document.querySelector('#df-84d3df19-240f-4f01-9689-c502d4ec240c button.colab-df-convert');\n",
              "        buttonEl.style.display =\n",
              "          google.colab.kernel.accessAllowed ? 'block' : 'none';\n",
              "\n",
              "        async function convertToInteractive(key) {\n",
              "          const element = document.querySelector('#df-84d3df19-240f-4f01-9689-c502d4ec240c');\n",
              "          const dataTable =\n",
              "            await google.colab.kernel.invokeFunction('convertToInteractive',\n",
              "                                                     [key], {});\n",
              "          if (!dataTable) return;\n",
              "\n",
              "          const docLinkHtml = 'Like what you see? Visit the ' +\n",
              "            '<a target=\"_blank\" href=https://colab.research.google.com/notebooks/data_table.ipynb>data table notebook</a>'\n",
              "            + ' to learn more about interactive tables.';\n",
              "          element.innerHTML = '';\n",
              "          dataTable['output_type'] = 'display_data';\n",
              "          await google.colab.output.renderOutput(dataTable, element);\n",
              "          const docLink = document.createElement('div');\n",
              "          docLink.innerHTML = docLinkHtml;\n",
              "          element.appendChild(docLink);\n",
              "        }\n",
              "      </script>\n",
              "    </div>\n",
              "  </div>\n",
              "  "
            ]
          },
          "metadata": {},
          "execution_count": 63
        }
      ]
    },
    {
      "cell_type": "code",
      "source": [
        "X_train_min_max_series = X_train_min_max_scaler.values.reshape((X_train_min_max_scaler.shape[0], X_train_min_max_scaler.shape[1], 1))\n",
        "X_valid_min_max_series = X_valid_min_max_scaler.values.reshape((X_valid_min_max_scaler.shape[0], X_valid_min_max_scaler.shape[1], 1))\n",
        "print('Train set shape', X_train_min_max_series.shape)\n",
        "print('Validation set shape', X_valid_min_max_series.shape)"
      ],
      "metadata": {
        "colab": {
          "base_uri": "https://localhost:8080/"
        },
        "outputId": "d4c05d53-caa3-40c1-b98c-1e77c5b7e51b",
        "id": "a4LJ65eoDNZT"
      },
      "execution_count": null,
      "outputs": [
        {
          "output_type": "stream",
          "name": "stdout",
          "text": [
            "Train set shape (4649, 15, 1)\n",
            "Validation set shape (1993, 15, 1)\n"
          ]
        }
      ]
    },
    {
      "cell_type": "markdown",
      "source": [
        "### Hyper Parameter Tuning using Keras Auto Tuner"
      ],
      "metadata": {
        "id": "d4HFDPz9DNZU"
      }
    },
    {
      "cell_type": "code",
      "source": [
        "mae = MeanAbsoluteError()\n",
        "def model_builder(hp):\n",
        "  model = keras.Sequential()\n",
        "  model.add(keras.layers.Flatten(input_shape=(X_train_min_max_series.shape[1], X_train_min_max_series.shape[2])))\n",
        "\n",
        "  # Tune the number of units in the first Dense layer\n",
        "  # Choose an optimal value between 32-512\n",
        "\n",
        "  hp_units1 = hp.Int('units1', min_value=32, max_value=512, step=32)\n",
        "  hp_units2 = hp.Int('units2', min_value=32, max_value=512, step=32)\n",
        "  hp_units3 = hp.Int('units3', min_value=32, max_value=512, step=32)\n",
        "  model.add(Dense(units=hp_units1, activation='relu'))\n",
        "  model.add(Dropout(rate=hp.Float('dropout_1',min_value=0.0,max_value=0.4,default=0.25,step=0.05)))\n",
        "  model.add(tf.keras.layers.Dense(units=hp_units2, activation='relu'))\n",
        "  model.add(Dropout(rate=hp.Float('dropout_2',min_value=0.0,max_value=0.4,default=0.25,step=0.05)))\n",
        "  model.add(tf.keras.layers.Dense(units=hp_units3, activation='relu'))\n",
        "\n",
        "  model.add(Dropout(rate=hp.Float('dropout_3',min_value=0.0,max_value=0.4,default=0.25,step=0.05)))\n",
        "  model.add(Dense(1, kernel_initializer='normal', activation='linear'))\n",
        "\n",
        "  # Tune the learning rate for the optimizer\n",
        "  # Choose an optimal value from 0.01, 0.001, or 0.0001\n",
        "  hp_learning_rate = hp.Choice('learning_rate', values=[1e-2, 1e-3, 1e-4])\n",
        "\n",
        "  model.compile(optimizer=tf.keras.optimizers.Adam(learning_rate=hp_learning_rate),loss=mae,metrics=[mae])\n",
        "\n",
        "  return model\n"
      ],
      "metadata": {
        "id": "aE9XfHlmDNZV"
      },
      "execution_count": null,
      "outputs": []
    },
    {
      "cell_type": "code",
      "source": [
        "tuner = kt.Hyperband(model_builder,\n",
        "                     objective='val_mean_absolute_error',\n",
        "                     max_epochs=100,\n",
        "                     factor=3,\n",
        "                     directory='my_dir',\n",
        "                     project_name='intro_to_kt2')\n"
      ],
      "metadata": {
        "id": "UsXToR_UDNZW"
      },
      "execution_count": null,
      "outputs": []
    },
    {
      "cell_type": "code",
      "source": [
        "monitor = EarlyStopping(monitor='val_loss', min_delta=1e-3, patience=50, \n",
        "        verbose=1, mode='auto', restore_best_weights=True)"
      ],
      "metadata": {
        "id": "1Kv4VovmDNZW"
      },
      "execution_count": null,
      "outputs": []
    },
    {
      "cell_type": "code",
      "source": [
        "tuner.search(X_train_min_max_series, Y_train_min_max_scaler, validation_data=(X_valid_min_max_series, Y_valid_min_max_scaler), epochs=100, callbacks=[monitor])\n",
        "\n",
        "# Get the optimal hyperparameters\n",
        "best_hps=tuner.get_best_hyperparameters(num_trials=1)[0]\n"
      ],
      "metadata": {
        "colab": {
          "base_uri": "https://localhost:8080/"
        },
        "outputId": "afca2c76-1ab3-47d8-fd38-aa0de7794b59",
        "id": "tIeKn3jgDNZW"
      },
      "execution_count": null,
      "outputs": [
        {
          "output_type": "stream",
          "name": "stdout",
          "text": [
            "Trial 76 Complete [00h 00m 03s]\n",
            "val_mean_absolute_error: 0.05606857314705849\n",
            "\n",
            "Best val_mean_absolute_error So Far: 0.05453694239258766\n",
            "Total elapsed time: 00h 03m 25s\n",
            "\n",
            "Search: Running Trial #77\n",
            "\n",
            "Value             |Best Value So Far |Hyperparameter\n",
            "320               |320               |units1\n",
            "32                |480               |units2\n",
            "480               |512               |units3\n",
            "0.3               |0.3               |dropout_1\n",
            "0.05              |0.15              |dropout_2\n",
            "0.15              |0.1               |dropout_3\n",
            "0.01              |0.001             |learning_rate\n",
            "2                 |2                 |tuner/epochs\n",
            "0                 |0                 |tuner/initial_epoch\n",
            "4                 |4                 |tuner/bracket\n",
            "0                 |0                 |tuner/round\n",
            "\n"
          ]
        }
      ]
    },
    {
      "cell_type": "code",
      "source": [
        "for h_param in [f\"units{i}\" for i in range(1,4)] + ['learning_rate']:\n",
        "  print(h_param, tuner.get_best_hyperparameters()[0].get(h_param))"
      ],
      "metadata": {
        "id": "yt4_EaLwDNZX"
      },
      "execution_count": null,
      "outputs": []
    },
    {
      "cell_type": "code",
      "source": [
        "best_model = tuner.get_best_models()[0]\n",
        "best_model.build(X_train_min_max_series.shape)\n",
        "best_model.summary()"
      ],
      "metadata": {
        "id": "2SFAxayuDNZY"
      },
      "execution_count": null,
      "outputs": []
    },
    {
      "cell_type": "code",
      "source": [
        "from keras.models import load_model\n",
        "\n",
        "best_model.save('best_model.h5')  # creates a HDF5 file 'my_model.h5'\n",
        "#model = load_model('my_model.h5')"
      ],
      "metadata": {
        "id": "k6-pHIx6DNZY"
      },
      "execution_count": null,
      "outputs": []
    },
    {
      "cell_type": "code",
      "source": [
        "kt_train_pred_min_max_scaled = best_model.predict(X_train_min_max_scaler)\n",
        "kt_valid_pred_min_max_scaled = best_model.predict(X_valid_min_max_scaler)\n",
        "print('Train rmse:', np.sqrt(mean_squared_error(Y_train_min_max_scaler, kt_train_pred_min_max_scaled)))\n",
        "print('Validation rmse:', np.sqrt(mean_squared_error(Y_valid_min_max_scaler, kt_valid_pred_min_max_scaled)))"
      ],
      "metadata": {
        "id": "hv8hve3FDNZd"
      },
      "execution_count": null,
      "outputs": []
    },
    {
      "cell_type": "code",
      "source": [
        "df = frame_high_test[col_names_scaled]\n",
        "df_test_scaled = pd.DataFrame(min_max_scaler.fit_transform(df))\n",
        "X_test_scaled = df_test_scaled.iloc[:,:-1]\n",
        "X_test_scaled.head()"
      ],
      "metadata": {
        "id": "vdY7BZkoDNZd"
      },
      "execution_count": null,
      "outputs": []
    },
    {
      "cell_type": "code",
      "source": [
        "Y_test = frame_high_test.iloc[:,-1:]\n",
        "Y_test.reset_index(drop=True,inplace=True)\n",
        "X_pred_scaled = best_model.predict(X_test_scaled)\n",
        "df_test_scaled[15]=X_pred_scaled\n",
        "#Inverse Transforming the Predicted Values\n",
        "df_test = pd.DataFrame(min_max_scaler.inverse_transform(df_test_scaled))\n",
        "Y_pred = df_test.iloc[:,-1:]"
      ],
      "metadata": {
        "id": "xDTINeHnDNZe"
      },
      "execution_count": null,
      "outputs": []
    },
    {
      "cell_type": "code",
      "source": [
        "fig, axes = plt.subplots(1, 1, sharex=True, sharey=True,figsize=(10,5))\n",
        "ax3 = axes\n",
        "ax3.plot(Y_test, label='Y_test')\n",
        "ax3.plot(Y_pred, label='Y_pred')\n",
        "ax3.legend(loc='best')\n",
        "ax3.set_title('LSTM')\n",
        "ax3.set_xlabel('Data Points')\n",
        "ax3.set_ylabel('Values')\n",
        "plt.show()"
      ],
      "metadata": {
        "id": "-eTvTJ0CDNZe"
      },
      "execution_count": null,
      "outputs": []
    },
    {
      "cell_type": "code",
      "source": [
        "plt.figure(figsize=(10,10))\n",
        "plt.scatter(Y_test['DL_bitrate'], Y_pred[15], c='crimson')\n",
        "plt.yscale('log')\n",
        "plt.xscale('log')\n",
        "\n",
        "p1 = max(max(Y_pred[15]), max(Y_test['DL_bitrate']))\n",
        "p2 = min(min(Y_pred[15]), min(Y_test['DL_bitrate']))\n",
        "plt.plot([p1, p2], [p1, p2], 'b-')\n",
        "plt.xlabel('True Values', fontsize=15)\n",
        "plt.ylabel('Predictions', fontsize=15)\n",
        "plt.axis('equal')\n",
        "plt.show()"
      ],
      "metadata": {
        "id": "alt7iVTeDNZf"
      },
      "execution_count": null,
      "outputs": []
    },
    {
      "cell_type": "code",
      "source": [
        "import matplotlib.cbook as cbook\n",
        "a=Y_test['DL_bitrate'].subtract(Y_pred[15])\n",
        "stats = {}\n",
        "# Compute the boxplot stats (as in the default matplotlib implementation)\n",
        "stats['A'] = cbook.boxplot_stats(a, labels='A')[0]\n",
        "stats['B'] = cbook.boxplot_stats(a, labels='B')[0]\n",
        "stats['C'] = cbook.boxplot_stats(a, labels='C')[0]\n",
        "\n",
        "# For box A compute the 1st and 99th percentiles\n",
        "stats['A']['q1'], stats['A']['q3'] = np.percentile(a, [5, 95])\n",
        "# For box B compute the 10th and 90th percentiles\n",
        "stats['B']['q1'], stats['B']['q3'] = np.percentile(a, [10, 90])\n",
        "# For box C compute the 25th and 75th percentiles (matplotlib default)\n",
        "stats['C']['q1'], stats['C']['q3'] = np.percentile(a, [25, 75])\n",
        "\n",
        "#fig = plt.figure(figsize =(10, 7))\n",
        "fig, ax = plt.subplots(1, 1, figsize = (10,7))\n",
        "# Plot boxplots from our computed statistics\n",
        "bp = ax.bxp([stats['A'], stats['B'], stats['C']], positions=range(3))\n",
        "\n",
        "# Colour the lines in the boxplot blue\n",
        "for element in bp.keys():\n",
        "    plt.setp(bp[element], color='C0')"
      ],
      "metadata": {
        "id": "IimxBHypDNZg"
      },
      "execution_count": null,
      "outputs": []
    },
    {
      "cell_type": "code",
      "source": [
        "Y_pred"
      ],
      "metadata": {
        "id": "ljzKa3ZvDNZg"
      },
      "execution_count": null,
      "outputs": []
    },
    {
      "cell_type": "code",
      "source": [
        "# calculate MAE\n",
        "error = mae(Y_test, Y_pred)\n",
        "\n",
        "# display\n",
        "print(\"Mean absolute error : \" + str(error))\n",
        "print(f\"Decimal Representation: {error:.20f}\")"
      ],
      "metadata": {
        "id": "awyyBVhpDNZh"
      },
      "execution_count": null,
      "outputs": []
    },
    {
      "cell_type": "code",
      "source": [
        "# Mean Absolute Percentage Error\n",
        "error = mean_absolute_percentage_error(Y_test, Y_pred)\n",
        "print(error)\n",
        "\n",
        "print(f\" {error:.5f}\")"
      ],
      "metadata": {
        "id": "NoL0fE5dDNZh"
      },
      "execution_count": null,
      "outputs": []
    },
    {
      "cell_type": "code",
      "source": [
        "# Relative Absolute Error\n",
        "# (|y1-y2|)/(|y1_mean-y1|)\n",
        "def relative_absolute_error(y_true, y_pred):\n",
        "  y1=y_true.to_numpy()\n",
        "  y2=y_pred.to_numpy()\n",
        "  num = np.sum(np.absolute(np.array(y1) - np.array(y2)))\n",
        "  deno = np.sum(np.absolute(y2-np.mean(y1)))\n",
        "  return (num/deno)\n",
        "relative_absolute_error(Y_test, Y_pred)"
      ],
      "metadata": {
        "id": "8GG8FN2cDNZh"
      },
      "execution_count": null,
      "outputs": []
    },
    {
      "cell_type": "code",
      "source": [
        "# Root Relative Squared Error\n",
        "# (|y1-y2|^2)/(|y1_mean-y1|^2)\n",
        "def rrse(y_true, y_pred):\n",
        "  y1=y_true.to_numpy()\n",
        "  y2=y_pred.to_numpy()\n",
        "  num = np.sum(np.square(np.absolute(np.array(y1) - np.array(y2))))\n",
        "  deno = np.sum(np.square(np.absolute(y2-np.mean(y1))))\n",
        "  return (num/deno)\n",
        "rrse(Y_test, Y_pred)"
      ],
      "metadata": {
        "id": "4j0ysLRlDNZi"
      },
      "execution_count": null,
      "outputs": []
    },
    {
      "cell_type": "markdown",
      "source": [
        "# Without Throughput Split"
      ],
      "metadata": {
        "id": "a07oX5JLUUxu"
      }
    },
    {
      "cell_type": "code",
      "source": [
        "frame_train.head()"
      ],
      "metadata": {
        "id": "bH7pvxFHU3yA"
      },
      "execution_count": null,
      "outputs": []
    },
    {
      "cell_type": "code",
      "source": [
        "frame_test.head()"
      ],
      "metadata": {
        "id": "wAMvkxUrU5E9"
      },
      "execution_count": null,
      "outputs": []
    },
    {
      "cell_type": "markdown",
      "source": [
        "## MinMax Scaler"
      ],
      "metadata": {
        "id": "QtKDpR-AVBwb"
      }
    },
    {
      "cell_type": "code",
      "source": [
        "df = frame_train[col_names_scaled]\n",
        "min_max_scaler = MinMaxScaler()\n",
        "# transform data\n",
        "df_min_max_scaled = pd.DataFrame(min_max_scaler.fit_transform(df))"
      ],
      "metadata": {
        "id": "GEt0S9SHqo_3"
      },
      "execution_count": null,
      "outputs": []
    },
    {
      "cell_type": "code",
      "source": [
        "X_train_min_max_scaler, X_valid_min_max_scaler, Y_train_min_max_scaler, Y_valid_min_max_scaler = train_test_split(df_min_max_scaled.iloc[:,:15], df_min_max_scaled.iloc[:,-1:], test_size=0.3, random_state=0)\n",
        "print('Train set shape', X_train_min_max_scaler.shape)\n",
        "print('Validation set shape', X_valid_min_max_scaler.shape)\n",
        "X_train_min_max_scaler.head()"
      ],
      "metadata": {
        "id": "2v0TooZU0c5L"
      },
      "execution_count": null,
      "outputs": []
    },
    {
      "cell_type": "code",
      "source": [
        "X_train_min_max_series = X_train_min_max_scaler.values.reshape((X_train_min_max_scaler.shape[0], X_train_min_max_scaler.shape[1], 1))\n",
        "X_valid_min_max_series = X_valid_min_max_scaler.values.reshape((X_valid_min_max_scaler.shape[0], X_valid_min_max_scaler.shape[1], 1))\n",
        "print('Train set shape', X_train_min_max_series.shape)\n",
        "print('Validation set shape', X_valid_min_max_series.shape)"
      ],
      "metadata": {
        "id": "dLqc8ZQ10cHN"
      },
      "execution_count": null,
      "outputs": []
    },
    {
      "cell_type": "code",
      "source": [],
      "metadata": {
        "id": "07aV5exhVJGI"
      },
      "execution_count": null,
      "outputs": []
    },
    {
      "cell_type": "markdown",
      "source": [
        "### Hyper Parameter Tuning using Keras Auto Tuner"
      ],
      "metadata": {
        "id": "zuFgWch4VOvm"
      }
    },
    {
      "cell_type": "code",
      "source": [
        "mae = MeanAbsoluteError()\n",
        "def model_builder(hp):\n",
        "  model = keras.Sequential()\n",
        "  model.add(keras.layers.Flatten(input_shape=(X_train_min_max_series.shape[1], X_train_min_max_series.shape[2])))\n",
        "\n",
        "  # Tune the number of units in the first Dense layer\n",
        "  # Choose an optimal value between 32-512\n",
        "\n",
        "  hp_units1 = hp.Int('units1', min_value=32, max_value=512, step=32)\n",
        "  hp_units2 = hp.Int('units2', min_value=32, max_value=512, step=32)\n",
        "  hp_units3 = hp.Int('units3', min_value=32, max_value=512, step=32)\n",
        "  model.add(Dense(units=hp_units1, activation='relu'))\n",
        "  model.add(Dropout(rate=hp.Float('dropout_1',min_value=0.0,max_value=0.4,default=0.25,step=0.05)))\n",
        "  model.add(tf.keras.layers.Dense(units=hp_units2, activation='relu'))\n",
        "  model.add(Dropout(rate=hp.Float('dropout_2',min_value=0.0,max_value=0.4,default=0.25,step=0.05)))\n",
        "  model.add(tf.keras.layers.Dense(units=hp_units3, activation='relu'))\n",
        "\n",
        "  model.add(Dropout(rate=hp.Float('dropout_3',min_value=0.0,max_value=0.4,default=0.25,step=0.05)))\n",
        "  model.add(Dense(1, kernel_initializer='normal', activation='linear'))\n",
        "\n",
        "  # Tune the learning rate for the optimizer\n",
        "  # Choose an optimal value from 0.01, 0.001, or 0.0001\n",
        "  hp_learning_rate = hp.Choice('learning_rate', values=[1e-2, 1e-3, 1e-4])\n",
        "\n",
        "  model.compile(optimizer=tf.keras.optimizers.Adam(learning_rate=hp_learning_rate),loss=mae,metrics=[mae])\n",
        "\n",
        "  return model\n"
      ],
      "metadata": {
        "id": "VPQJfMzKVOvn"
      },
      "execution_count": null,
      "outputs": []
    },
    {
      "cell_type": "code",
      "source": [
        "tuner = kt.Hyperband(model_builder,\n",
        "                     objective='val_mean_absolute_error',\n",
        "                     max_epochs=100,\n",
        "                     factor=3,\n",
        "                     directory='my_dir',\n",
        "                     project_name='intro_to_kt3')\n"
      ],
      "metadata": {
        "id": "RaxDmQVgVOvo"
      },
      "execution_count": null,
      "outputs": []
    },
    {
      "cell_type": "code",
      "source": [
        "monitor = EarlyStopping(monitor='val_loss', min_delta=1e-3, patience=50, \n",
        "        verbose=1, mode='auto', restore_best_weights=True)"
      ],
      "metadata": {
        "id": "RP-4xslWVOvp"
      },
      "execution_count": null,
      "outputs": []
    },
    {
      "cell_type": "code",
      "source": [
        "tuner.search(X_train_min_max_series, Y_train_min_max_scaler, validation_data=(X_valid_min_max_series, Y_valid_min_max_scaler), epochs=100, callbacks=[monitor])\n",
        "\n",
        "# Get the optimal hyperparameters\n",
        "best_hps=tuner.get_best_hyperparameters(num_trials=1)[0]\n"
      ],
      "metadata": {
        "id": "eR9CK5EsVOvq"
      },
      "execution_count": null,
      "outputs": []
    },
    {
      "cell_type": "code",
      "source": [
        "for h_param in [f\"units{i}\" for i in range(1,4)] + ['learning_rate']:\n",
        "  print(h_param, tuner.get_best_hyperparameters()[0].get(h_param))"
      ],
      "metadata": {
        "id": "kKOUt-EFVOvr"
      },
      "execution_count": null,
      "outputs": []
    },
    {
      "cell_type": "code",
      "source": [
        "best_model = tuner.get_best_models()[0]\n",
        "best_model.build(X_train_min_max_series.shape)\n",
        "best_model.summary()"
      ],
      "metadata": {
        "id": "WBQ9jbcbVOvr"
      },
      "execution_count": null,
      "outputs": []
    },
    {
      "cell_type": "code",
      "source": [
        "from keras.models import load_model\n",
        "\n",
        "best_model.save('best_model.h5')  # creates a HDF5 file 'my_model.h5'\n",
        "#model = load_model('my_model.h5')"
      ],
      "metadata": {
        "id": "aDOJtBgRVOvr"
      },
      "execution_count": null,
      "outputs": []
    },
    {
      "cell_type": "code",
      "source": [
        "kt_train_pred_min_max_scaled = best_model.predict(X_train_min_max_scaler)\n",
        "kt_valid_pred_min_max_scaled = best_model.predict(X_valid_min_max_scaler)\n",
        "print('Train rmse:', np.sqrt(mean_squared_error(Y_train_min_max_scaler, kt_train_pred_min_max_scaled)))\n",
        "print('Validation rmse:', np.sqrt(mean_squared_error(Y_valid_min_max_scaler, kt_valid_pred_min_max_scaled)))"
      ],
      "metadata": {
        "id": "PVbo83CMVOvs"
      },
      "execution_count": null,
      "outputs": []
    },
    {
      "cell_type": "code",
      "source": [
        "df = frame_test[col_names_scaled]\n",
        "df_test_scaled = pd.DataFrame(min_max_scaler.fit_transform(df))\n",
        "X_test_scaled = df_test_scaled.iloc[:,:-1]\n",
        "X_test_scaled.head()"
      ],
      "metadata": {
        "id": "qnTobjeeVOvs"
      },
      "execution_count": null,
      "outputs": []
    },
    {
      "cell_type": "code",
      "source": [
        "Y_test = frame_test.iloc[:,-1:]\n",
        "Y_test.reset_index(drop=True,inplace=True)\n",
        "X_pred_scaled = best_model.predict(X_test_scaled)\n",
        "df_test_scaled[15]=X_pred_scaled\n",
        "#Inverse Transforming the Predicted Values\n",
        "df_test = pd.DataFrame(min_max_scaler.inverse_transform(df_test_scaled))\n",
        "Y_pred = df_test.iloc[:,-1:]"
      ],
      "metadata": {
        "id": "Vx0k_KJoVOvt"
      },
      "execution_count": null,
      "outputs": []
    },
    {
      "cell_type": "code",
      "source": [
        "fig, axes = plt.subplots(1, 1, sharex=True, sharey=True,figsize=(10,5))\n",
        "ax3 = axes\n",
        "ax3.plot(Y_test, label='Y_test')\n",
        "ax3.plot(Y_pred, label='Y_pred')\n",
        "ax3.legend(loc='best')\n",
        "ax3.set_title('LSTM')\n",
        "ax3.set_xlabel('Data Points')\n",
        "ax3.set_ylabel('Values')\n",
        "plt.show()"
      ],
      "metadata": {
        "id": "8cHwfBOIVOvu"
      },
      "execution_count": null,
      "outputs": []
    },
    {
      "cell_type": "code",
      "source": [
        "plt.figure(figsize=(10,10))\n",
        "plt.scatter(Y_test['DL_bitrate'], Y_pred[15], c='crimson')\n",
        "plt.yscale('log')\n",
        "plt.xscale('log')\n",
        "\n",
        "p1 = max(max(Y_pred[15]), max(Y_test['DL_bitrate']))\n",
        "p2 = min(min(Y_pred[15]), min(Y_test['DL_bitrate']))\n",
        "plt.plot([p1, p2], [p1, p2], 'b-')\n",
        "plt.xlabel('True Values', fontsize=15)\n",
        "plt.ylabel('Predictions', fontsize=15)\n",
        "plt.axis('equal')\n",
        "plt.show()"
      ],
      "metadata": {
        "id": "xy96iPstVOvu"
      },
      "execution_count": null,
      "outputs": []
    },
    {
      "cell_type": "code",
      "source": [
        "import matplotlib.cbook as cbook\n",
        "a=Y_test['DL_bitrate'].subtract(Y_pred[15])\n",
        "stats = {}\n",
        "# Compute the boxplot stats (as in the default matplotlib implementation)\n",
        "stats['A'] = cbook.boxplot_stats(a, labels='A')[0]\n",
        "stats['B'] = cbook.boxplot_stats(a, labels='B')[0]\n",
        "stats['C'] = cbook.boxplot_stats(a, labels='C')[0]\n",
        "\n",
        "# For box A compute the 1st and 99th percentiles\n",
        "stats['A']['q1'], stats['A']['q3'] = np.percentile(a, [5, 95])\n",
        "# For box B compute the 10th and 90th percentiles\n",
        "stats['B']['q1'], stats['B']['q3'] = np.percentile(a, [10, 90])\n",
        "# For box C compute the 25th and 75th percentiles (matplotlib default)\n",
        "stats['C']['q1'], stats['C']['q3'] = np.percentile(a, [25, 75])\n",
        "\n",
        "#fig = plt.figure(figsize =(10, 7))\n",
        "fig, ax = plt.subplots(1, 1, figsize = (10,7))\n",
        "# Plot boxplots from our computed statistics\n",
        "bp = ax.bxp([stats['A'], stats['B'], stats['C']], positions=range(3))\n",
        "\n",
        "# Colour the lines in the boxplot blue\n",
        "for element in bp.keys():\n",
        "    plt.setp(bp[element], color='C0')"
      ],
      "metadata": {
        "id": "sFIWEN39VOvv"
      },
      "execution_count": null,
      "outputs": []
    },
    {
      "cell_type": "code",
      "source": [
        "# calculate MAE\n",
        "error = mae(Y_test, Y_pred)\n",
        "\n",
        "# display\n",
        "print(\"Mean absolute error : \" + str(error))\n",
        "print(f\"Decimal Representation: {error:.20f}\")"
      ],
      "metadata": {
        "id": "Dk2y-vG7VOvw"
      },
      "execution_count": null,
      "outputs": []
    },
    {
      "cell_type": "code",
      "source": [
        "# Mean Absolute Percentage Error\n",
        "error = mean_absolute_percentage_error(Y_test, Y_pred)\n",
        "print(error)\n",
        "\n",
        "print(f\" {error:.5f}\")"
      ],
      "metadata": {
        "id": "Pj08o2GWVOvx"
      },
      "execution_count": null,
      "outputs": []
    },
    {
      "cell_type": "code",
      "source": [
        "# Relative Absolute Error\n",
        "# (|y1-y2|)/(|y1_mean-y1|)\n",
        "def relative_absolute_error(y_true, y_pred):\n",
        "  y1=y_true.to_numpy()\n",
        "  y2=y_pred.to_numpy()\n",
        "  num = np.sum(np.absolute(np.array(y1) - np.array(y2)))\n",
        "  deno = np.sum(np.absolute(y2-np.mean(y1)))\n",
        "  return (num/deno)\n",
        "relative_absolute_error(Y_test, Y_pred)"
      ],
      "metadata": {
        "id": "5k943jVcVOvx"
      },
      "execution_count": null,
      "outputs": []
    },
    {
      "cell_type": "code",
      "source": [
        "# Root Relative Squared Error\n",
        "# (|y1-y2|^2)/(|y1_mean-y1|^2)\n",
        "def rrse(y_true, y_pred):\n",
        "  y1=y_true.to_numpy()\n",
        "  y2=y_pred.to_numpy()\n",
        "  num = np.sum(np.square(np.absolute(np.array(y1) - np.array(y2))))\n",
        "  deno = np.sum(np.square(np.absolute(y2-np.mean(y1))))\n",
        "  return (num/deno)\n",
        "rrse(Y_test, Y_pred)"
      ],
      "metadata": {
        "id": "qwFrCRQ8VOvy"
      },
      "execution_count": null,
      "outputs": []
    },
    {
      "cell_type": "markdown",
      "source": [
        "## Testing on SPlit Throughput"
      ],
      "metadata": {
        "id": "TWqmmpYXfgja"
      }
    },
    {
      "cell_type": "markdown",
      "source": [
        "## Low Throughput"
      ],
      "metadata": {
        "id": "nvGabbylfkYm"
      }
    },
    {
      "cell_type": "code",
      "source": [
        "df = frame_low_test[col_names_scaled]\n",
        "df_test_scaled = pd.DataFrame(min_max_scaler.fit_transform(df))\n",
        "X_test_scaled = df_test_scaled.iloc[:,:-1]\n",
        "X_test_scaled.head()"
      ],
      "metadata": {
        "id": "ht0_AMhEVJD-"
      },
      "execution_count": null,
      "outputs": []
    },
    {
      "cell_type": "code",
      "source": [
        "Y_test = frame_low_test.iloc[:,-1:]\n",
        "Y_test.reset_index(drop=True,inplace=True)\n",
        "X_pred_scaled = best_model.predict(X_test_scaled)\n",
        "df_test_scaled[15]=X_pred_scaled\n",
        "#Inverse Transforming the Predicted Values\n",
        "df_test = pd.DataFrame(min_max_scaler.inverse_transform(df_test_scaled))\n",
        "Y_pred = df_test.iloc[:,-1:]"
      ],
      "metadata": {
        "id": "W2ZV14yZVJBX"
      },
      "execution_count": null,
      "outputs": []
    },
    {
      "cell_type": "code",
      "source": [
        "fig, axes = plt.subplots(1, 1, sharex=True, sharey=True,figsize=(10,5))\n",
        "ax3 = axes\n",
        "ax3.plot(Y_test, label='Y_test')\n",
        "ax3.plot(Y_pred, label='Y_pred')\n",
        "ax3.legend(loc='best')\n",
        "ax3.set_title('LSTM')\n",
        "ax3.set_xlabel('Data Points')\n",
        "ax3.set_ylabel('Values')\n",
        "plt.show()"
      ],
      "metadata": {
        "id": "WbR65sezVI-v"
      },
      "execution_count": null,
      "outputs": []
    },
    {
      "cell_type": "code",
      "source": [
        "plt.figure(figsize=(10,10))\n",
        "plt.scatter(Y_test['DL_bitrate'], Y_pred[15], c='crimson')\n",
        "plt.yscale('log')\n",
        "plt.xscale('log')\n",
        "\n",
        "p1 = max(max(Y_pred[15]), max(Y_test['DL_bitrate']))\n",
        "p2 = min(min(Y_pred[15]), min(Y_test['DL_bitrate']))\n",
        "plt.plot([p1, p2], [p1, p2], 'b-')\n",
        "plt.xlabel('True Values', fontsize=15)\n",
        "plt.ylabel('Predictions', fontsize=15)\n",
        "plt.axis('equal')\n",
        "plt.show()"
      ],
      "metadata": {
        "id": "LT2UF1TIVI8S"
      },
      "execution_count": null,
      "outputs": []
    },
    {
      "cell_type": "code",
      "source": [
        "import matplotlib.cbook as cbook\n",
        "a=Y_test['DL_bitrate'].subtract(Y_pred[15])\n",
        "stats = {}\n",
        "# Compute the boxplot stats (as in the default matplotlib implementation)\n",
        "stats['A'] = cbook.boxplot_stats(a, labels='A')[0]\n",
        "stats['B'] = cbook.boxplot_stats(a, labels='B')[0]\n",
        "stats['C'] = cbook.boxplot_stats(a, labels='C')[0]\n",
        "\n",
        "# For box A compute the 1st and 99th percentiles\n",
        "stats['A']['q1'], stats['A']['q3'] = np.percentile(a, [5, 95])\n",
        "# For box B compute the 10th and 90th percentiles\n",
        "stats['B']['q1'], stats['B']['q3'] = np.percentile(a, [10, 90])\n",
        "# For box C compute the 25th and 75th percentiles (matplotlib default)\n",
        "stats['C']['q1'], stats['C']['q3'] = np.percentile(a, [25, 75])\n",
        "\n",
        "#fig = plt.figure(figsize =(10, 7))\n",
        "fig, ax = plt.subplots(1, 1, figsize = (10,7))\n",
        "# Plot boxplots from our computed statistics\n",
        "bp = ax.bxp([stats['A'], stats['B'], stats['C']], positions=range(3))\n",
        "\n",
        "# Colour the lines in the boxplot blue\n",
        "for element in bp.keys():\n",
        "    plt.setp(bp[element], color='C0')"
      ],
      "metadata": {
        "id": "J_mFHTGuhxaW"
      },
      "execution_count": null,
      "outputs": []
    },
    {
      "cell_type": "code",
      "source": [
        "Y_pred"
      ],
      "metadata": {
        "id": "nOUc-UkHhxaX"
      },
      "execution_count": null,
      "outputs": []
    },
    {
      "cell_type": "code",
      "source": [
        "# calculate MAE\n",
        "error = mae(Y_test, Y_pred)\n",
        "\n",
        "# display\n",
        "print(\"Mean absolute error : \" + str(error))\n",
        "print(f\"Decimal Representation: {error:.20f}\")"
      ],
      "metadata": {
        "id": "NC23MebFhxaY"
      },
      "execution_count": null,
      "outputs": []
    },
    {
      "cell_type": "code",
      "source": [
        "# Mean Absolute Percentage Error\n",
        "error = mean_absolute_percentage_error(Y_test, Y_pred)\n",
        "print(error)\n",
        "\n",
        "print(f\" {error:.5f}\")"
      ],
      "metadata": {
        "id": "OkW-K18lhxaY"
      },
      "execution_count": null,
      "outputs": []
    },
    {
      "cell_type": "code",
      "source": [
        "# Relative Absolute Error\n",
        "# (|y1-y2|)/(|y1_mean-y1|)\n",
        "def relative_absolute_error(y_true, y_pred):\n",
        "  y1=y_true.to_numpy()\n",
        "  y2=y_pred.to_numpy()\n",
        "  num = np.sum(np.absolute(np.array(y1) - np.array(y2)))\n",
        "  deno = np.sum(np.absolute(y2-np.mean(y1)))\n",
        "  return (num/deno)\n",
        "relative_absolute_error(Y_test, Y_pred)"
      ],
      "metadata": {
        "id": "8p2ck8cGhxaZ"
      },
      "execution_count": null,
      "outputs": []
    },
    {
      "cell_type": "code",
      "source": [
        "# Root Relative Squared Error\n",
        "# (|y1-y2|^2)/(|y1_mean-y1|^2)\n",
        "def rrse(y_true, y_pred):\n",
        "  y1=y_true.to_numpy()\n",
        "  y2=y_pred.to_numpy()\n",
        "  num = np.sum(np.square(np.absolute(np.array(y1) - np.array(y2))))\n",
        "  deno = np.sum(np.square(np.absolute(y2-np.mean(y1))))\n",
        "  return (num/deno)\n",
        "rrse(Y_test, Y_pred)"
      ],
      "metadata": {
        "id": "z1N53UuMhxaZ"
      },
      "execution_count": null,
      "outputs": []
    },
    {
      "cell_type": "code",
      "source": [],
      "metadata": {
        "id": "DlKKcrXvh0A3"
      },
      "execution_count": null,
      "outputs": []
    },
    {
      "cell_type": "markdown",
      "source": [
        "## Medium Throughput"
      ],
      "metadata": {
        "id": "TmZIN8gOh0N7"
      }
    },
    {
      "cell_type": "code",
      "source": [
        "df = frame_medium_test[col_names_scaled]\n",
        "df_test_scaled = pd.DataFrame(min_max_scaler.fit_transform(df))\n",
        "X_test_scaled = df_test_scaled.iloc[:,:-1]\n",
        "X_test_scaled.head()"
      ],
      "metadata": {
        "id": "UE76kq1Eh0N8"
      },
      "execution_count": null,
      "outputs": []
    },
    {
      "cell_type": "code",
      "source": [
        "Y_test = frame_medium_test.iloc[:,-1:]\n",
        "Y_test.reset_index(drop=True,inplace=True)\n",
        "X_pred_scaled = best_model.predict(X_test_scaled)\n",
        "df_test_scaled[15]=X_pred_scaled\n",
        "#Inverse Transforming the Predicted Values\n",
        "df_test = pd.DataFrame(min_max_scaler.inverse_transform(df_test_scaled))\n",
        "Y_pred = df_test.iloc[:,-1:]"
      ],
      "metadata": {
        "id": "Sk9FT1Nzh0N-"
      },
      "execution_count": null,
      "outputs": []
    },
    {
      "cell_type": "code",
      "source": [
        "fig, axes = plt.subplots(1, 1, sharex=True, sharey=True,figsize=(10,5))\n",
        "ax3 = axes\n",
        "ax3.plot(Y_test, label='Y_test')\n",
        "ax3.plot(Y_pred, label='Y_pred')\n",
        "ax3.legend(loc='best')\n",
        "ax3.set_title('LSTM')\n",
        "ax3.set_xlabel('Data Points')\n",
        "ax3.set_ylabel('Values')\n",
        "plt.show()"
      ],
      "metadata": {
        "id": "adKed2Ozh0OA"
      },
      "execution_count": null,
      "outputs": []
    },
    {
      "cell_type": "code",
      "source": [
        "plt.figure(figsize=(10,10))\n",
        "plt.scatter(Y_test['DL_bitrate'], Y_pred[15], c='crimson')\n",
        "plt.yscale('log')\n",
        "plt.xscale('log')\n",
        "\n",
        "p1 = max(max(Y_pred[15]), max(Y_test['DL_bitrate']))\n",
        "p2 = min(min(Y_pred[15]), min(Y_test['DL_bitrate']))\n",
        "plt.plot([p1, p2], [p1, p2], 'b-')\n",
        "plt.xlabel('True Values', fontsize=15)\n",
        "plt.ylabel('Predictions', fontsize=15)\n",
        "plt.axis('equal')\n",
        "plt.show()"
      ],
      "metadata": {
        "id": "8OR-jVPEh0OB"
      },
      "execution_count": null,
      "outputs": []
    },
    {
      "cell_type": "code",
      "source": [
        "import matplotlib.cbook as cbook\n",
        "a=Y_test['DL_bitrate'].subtract(Y_pred[15])\n",
        "stats = {}\n",
        "# Compute the boxplot stats (as in the default matplotlib implementation)\n",
        "stats['A'] = cbook.boxplot_stats(a, labels='A')[0]\n",
        "stats['B'] = cbook.boxplot_stats(a, labels='B')[0]\n",
        "stats['C'] = cbook.boxplot_stats(a, labels='C')[0]\n",
        "\n",
        "# For box A compute the 1st and 99th percentiles\n",
        "stats['A']['q1'], stats['A']['q3'] = np.percentile(a, [5, 95])\n",
        "# For box B compute the 10th and 90th percentiles\n",
        "stats['B']['q1'], stats['B']['q3'] = np.percentile(a, [10, 90])\n",
        "# For box C compute the 25th and 75th percentiles (matplotlib default)\n",
        "stats['C']['q1'], stats['C']['q3'] = np.percentile(a, [25, 75])\n",
        "\n",
        "#fig = plt.figure(figsize =(10, 7))\n",
        "fig, ax = plt.subplots(1, 1, figsize = (10,7))\n",
        "# Plot boxplots from our computed statistics\n",
        "bp = ax.bxp([stats['A'], stats['B'], stats['C']], positions=range(3))\n",
        "\n",
        "# Colour the lines in the boxplot blue\n",
        "for element in bp.keys():\n",
        "    plt.setp(bp[element], color='C0')"
      ],
      "metadata": {
        "id": "0ZG4LWewh0OB"
      },
      "execution_count": null,
      "outputs": []
    },
    {
      "cell_type": "code",
      "source": [
        "Y_pred"
      ],
      "metadata": {
        "id": "-BT31ggYh0OC"
      },
      "execution_count": null,
      "outputs": []
    },
    {
      "cell_type": "code",
      "source": [
        "# calculate MAE\n",
        "error = mae(Y_test, Y_pred)\n",
        "\n",
        "# display\n",
        "print(\"Mean absolute error : \" + str(error))\n",
        "print(f\"Decimal Representation: {error:.20f}\")"
      ],
      "metadata": {
        "id": "8RlL1_z3h0OD"
      },
      "execution_count": null,
      "outputs": []
    },
    {
      "cell_type": "code",
      "source": [
        "# Mean Absolute Percentage Error\n",
        "error = mean_absolute_percentage_error(Y_test, Y_pred)\n",
        "print(error)\n",
        "\n",
        "print(f\" {error:.5f}\")"
      ],
      "metadata": {
        "id": "pLLJzo8Xh0OE"
      },
      "execution_count": null,
      "outputs": []
    },
    {
      "cell_type": "code",
      "source": [
        "# Relative Absolute Error\n",
        "# (|y1-y2|)/(|y1_mean-y1|)\n",
        "def relative_absolute_error(y_true, y_pred):\n",
        "  y1=y_true.to_numpy()\n",
        "  y2=y_pred.to_numpy()\n",
        "  num = np.sum(np.absolute(np.array(y1) - np.array(y2)))\n",
        "  deno = np.sum(np.absolute(y2-np.mean(y1)))\n",
        "  return (num/deno)\n",
        "relative_absolute_error(Y_test, Y_pred)"
      ],
      "metadata": {
        "id": "TzHcvTfph0OF"
      },
      "execution_count": null,
      "outputs": []
    },
    {
      "cell_type": "code",
      "source": [
        "# Root Relative Squared Error\n",
        "# (|y1-y2|^2)/(|y1_mean-y1|^2)\n",
        "def rrse(y_true, y_pred):\n",
        "  y1=y_true.to_numpy()\n",
        "  y2=y_pred.to_numpy()\n",
        "  num = np.sum(np.square(np.absolute(np.array(y1) - np.array(y2))))\n",
        "  deno = np.sum(np.square(np.absolute(y2-np.mean(y1))))\n",
        "  return (num/deno)\n",
        "rrse(Y_test, Y_pred)"
      ],
      "metadata": {
        "id": "dmIjqexEh0OF"
      },
      "execution_count": null,
      "outputs": []
    },
    {
      "cell_type": "code",
      "source": [],
      "metadata": {
        "id": "hGMREYWih0vw"
      },
      "execution_count": null,
      "outputs": []
    },
    {
      "cell_type": "markdown",
      "source": [
        "## High Throughput"
      ],
      "metadata": {
        "id": "Dg2IsDvFh02G"
      }
    },
    {
      "cell_type": "code",
      "source": [
        "df = frame_high_test[col_names_scaled]\n",
        "df_test_scaled = pd.DataFrame(min_max_scaler.fit_transform(df))\n",
        "X_test_scaled = df_test_scaled.iloc[:,:-1]\n",
        "X_test_scaled.head()"
      ],
      "metadata": {
        "id": "Q6RPGyxwh02G"
      },
      "execution_count": null,
      "outputs": []
    },
    {
      "cell_type": "code",
      "source": [
        "Y_test = frame_high_test.iloc[:,-1:]\n",
        "Y_test.reset_index(drop=True,inplace=True)\n",
        "X_pred_scaled = best_model.predict(X_test_scaled)\n",
        "df_test_scaled[15]=X_pred_scaled\n",
        "#Inverse Transforming the Predicted Values\n",
        "df_test = pd.DataFrame(min_max_scaler.inverse_transform(df_test_scaled))\n",
        "Y_pred = df_test.iloc[:,-1:]"
      ],
      "metadata": {
        "id": "zi1C3vkJh02H"
      },
      "execution_count": null,
      "outputs": []
    },
    {
      "cell_type": "code",
      "source": [
        "fig, axes = plt.subplots(1, 1, sharex=True, sharey=True,figsize=(10,5))\n",
        "ax3 = axes\n",
        "ax3.plot(Y_test, label='Y_test')\n",
        "ax3.plot(Y_pred, label='Y_pred')\n",
        "ax3.legend(loc='best')\n",
        "ax3.set_title('LSTM')\n",
        "ax3.set_xlabel('Data Points')\n",
        "ax3.set_ylabel('Values')\n",
        "plt.show()"
      ],
      "metadata": {
        "id": "D54mpbSah02H"
      },
      "execution_count": null,
      "outputs": []
    },
    {
      "cell_type": "code",
      "source": [
        "plt.figure(figsize=(10,10))\n",
        "plt.scatter(Y_test['DL_bitrate'], Y_pred[15], c='crimson')\n",
        "plt.yscale('log')\n",
        "plt.xscale('log')\n",
        "\n",
        "p1 = max(max(Y_pred[15]), max(Y_test['DL_bitrate']))\n",
        "p2 = min(min(Y_pred[15]), min(Y_test['DL_bitrate']))\n",
        "plt.plot([p1, p2], [p1, p2], 'b-')\n",
        "plt.xlabel('True Values', fontsize=15)\n",
        "plt.ylabel('Predictions', fontsize=15)\n",
        "plt.axis('equal')\n",
        "plt.show()"
      ],
      "metadata": {
        "id": "dh69LzK3h02I"
      },
      "execution_count": null,
      "outputs": []
    },
    {
      "cell_type": "code",
      "source": [
        "import matplotlib.cbook as cbook\n",
        "a=Y_test['DL_bitrate'].subtract(Y_pred[15])\n",
        "stats = {}\n",
        "# Compute the boxplot stats (as in the default matplotlib implementation)\n",
        "stats['A'] = cbook.boxplot_stats(a, labels='A')[0]\n",
        "stats['B'] = cbook.boxplot_stats(a, labels='B')[0]\n",
        "stats['C'] = cbook.boxplot_stats(a, labels='C')[0]\n",
        "\n",
        "# For box A compute the 1st and 99th percentiles\n",
        "stats['A']['q1'], stats['A']['q3'] = np.percentile(a, [5, 95])\n",
        "# For box B compute the 10th and 90th percentiles\n",
        "stats['B']['q1'], stats['B']['q3'] = np.percentile(a, [10, 90])\n",
        "# For box C compute the 25th and 75th percentiles (matplotlib default)\n",
        "stats['C']['q1'], stats['C']['q3'] = np.percentile(a, [25, 75])\n",
        "\n",
        "#fig = plt.figure(figsize =(10, 7))\n",
        "fig, ax = plt.subplots(1, 1, figsize = (10,7))\n",
        "# Plot boxplots from our computed statistics\n",
        "bp = ax.bxp([stats['A'], stats['B'], stats['C']], positions=range(3))\n",
        "\n",
        "# Colour the lines in the boxplot blue\n",
        "for element in bp.keys():\n",
        "    plt.setp(bp[element], color='C0')"
      ],
      "metadata": {
        "id": "7XNGZp3zh02I"
      },
      "execution_count": null,
      "outputs": []
    },
    {
      "cell_type": "code",
      "source": [
        "Y_pred"
      ],
      "metadata": {
        "id": "9HfoDK9nh02J"
      },
      "execution_count": null,
      "outputs": []
    },
    {
      "cell_type": "code",
      "source": [
        "# calculate MAE\n",
        "error = mae(Y_test, Y_pred)\n",
        "\n",
        "# display\n",
        "print(\"Mean absolute error : \" + str(error))\n",
        "print(f\"Decimal Representation: {error:.20f}\")"
      ],
      "metadata": {
        "id": "eSIRwa4xh02J"
      },
      "execution_count": null,
      "outputs": []
    },
    {
      "cell_type": "code",
      "source": [
        "# Mean Absolute Percentage Error\n",
        "error = mean_absolute_percentage_error(Y_test, Y_pred)\n",
        "print(error)\n",
        "\n",
        "print(f\" {error:.5f}\")"
      ],
      "metadata": {
        "id": "mRRnE5Syh02K"
      },
      "execution_count": null,
      "outputs": []
    },
    {
      "cell_type": "code",
      "source": [
        "# Relative Absolute Error\n",
        "# (|y1-y2|)/(|y1_mean-y1|)\n",
        "def relative_absolute_error(y_true, y_pred):\n",
        "  y1=y_true.to_numpy()\n",
        "  y2=y_pred.to_numpy()\n",
        "  num = np.sum(np.absolute(np.array(y1) - np.array(y2)))\n",
        "  deno = np.sum(np.absolute(y2-np.mean(y1)))\n",
        "  return (num/deno)\n",
        "relative_absolute_error(Y_test, Y_pred)"
      ],
      "metadata": {
        "id": "xj-NkFUEh02K"
      },
      "execution_count": null,
      "outputs": []
    },
    {
      "cell_type": "code",
      "source": [
        "# Root Relative Squared Error\n",
        "# (|y1-y2|^2)/(|y1_mean-y1|^2)\n",
        "def rrse(y_true, y_pred):\n",
        "  y1=y_true.to_numpy()\n",
        "  y2=y_pred.to_numpy()\n",
        "  num = np.sum(np.square(np.absolute(np.array(y1) - np.array(y2))))\n",
        "  deno = np.sum(np.square(np.absolute(y2-np.mean(y1))))\n",
        "  return (num/deno)\n",
        "rrse(Y_test, Y_pred)"
      ],
      "metadata": {
        "id": "JIHAOGB1h02L"
      },
      "execution_count": null,
      "outputs": []
    }
  ]
}