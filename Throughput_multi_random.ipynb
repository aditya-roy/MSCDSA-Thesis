{
  "nbformat": 4,
  "nbformat_minor": 0,
  "metadata": {
    "colab": {
      "provenance": [],
      "collapsed_sections": []
    },
    "kernelspec": {
      "name": "python3",
      "display_name": "Python 3"
    },
    "language_info": {
      "name": "python"
    },
    "accelerator": "GPU",
    "gpuClass": "standard"
  },
  "cells": [
    {
      "cell_type": "code",
      "execution_count": null,
      "metadata": {
        "colab": {
          "base_uri": "https://localhost:8080/"
        },
        "id": "frUabhGvRWQ2",
        "outputId": "3b8209cc-424b-4cef-a615-079da7d79aee"
      },
      "outputs": [
        {
          "output_type": "stream",
          "name": "stdout",
          "text": [
            "Mounted at /content/gdrive\n"
          ]
        }
      ],
      "source": [
        "from google.colab import drive\n",
        "drive.mount('/content/gdrive')"
      ]
    },
    {
      "cell_type": "code",
      "source": [
        "! pip install keras-tuner"
      ],
      "metadata": {
        "id": "tYYdyg_ZF7Hz"
      },
      "execution_count": null,
      "outputs": []
    },
    {
      "cell_type": "code",
      "source": [
        "from sklearn.model_selection import train_test_split\n",
        "from keras import optimizers\n",
        "from keras.models import Sequential, Model\n",
        "from keras.layers import Dense, LSTM, Dropout\n",
        "from sklearn.metrics import mean_squared_error\n",
        "from keras.callbacks import EarlyStopping\n",
        "import matplotlib.pyplot as plt\n",
        "import numpy as np\n",
        "import pandas as pd\n",
        "import glob\n",
        "from sklearn.preprocessing import MinMaxScaler\n",
        "import matplotlib.cbook as cbook\n",
        "import tensorflow as tf\n",
        "import kerastuner as kt\n",
        "from tensorflow.keras.losses import MeanAbsoluteError\n",
        "import keras\n",
        "from sklearn.metrics import mean_absolute_error as mae\n",
        "from sklearn.metrics import mean_absolute_percentage_error\n",
        "from sklearn.experimental import enable_iterative_imputer\n",
        "from sklearn.impute import IterativeImputer"
      ],
      "metadata": {
        "id": "NSUYj8h7hUC2",
        "colab": {
          "base_uri": "https://localhost:8080/"
        },
        "outputId": "c53b3ab8-8aef-4435-c461-a7c1f8457f67"
      },
      "execution_count": null,
      "outputs": [
        {
          "output_type": "stream",
          "name": "stderr",
          "text": [
            "/usr/local/lib/python3.7/dist-packages/ipykernel_launcher.py:14: DeprecationWarning: `import kerastuner` is deprecated, please use `import keras_tuner`.\n",
            "  \n"
          ]
        }
      ]
    },
    {
      "cell_type": "code",
      "source": [
        "path = r'/content/gdrive/MyDrive/bus' # use your path\n",
        "all_files = glob.glob(path + \"/*.csv\")\n",
        "all_files.sort()"
      ],
      "metadata": {
        "id": "g7RCXLoFA6rj"
      },
      "execution_count": null,
      "outputs": []
    },
    {
      "cell_type": "code",
      "source": [
        "li_train = []\n",
        "for filename in all_files:\n",
        "    df = pd.read_csv(filename, index_col=None, header=0)\n",
        "    li_train.append(df)\n",
        "frame = pd.concat(li_train, axis=0, ignore_index=True)\n",
        "frame.head()"
      ],
      "metadata": {
        "colab": {
          "base_uri": "https://localhost:8080/",
          "height": 236
        },
        "id": "DVk7FbuHB0n6",
        "outputId": "aaa50890-9549-44d8-a0b7-ee642fbaa5fa"
      },
      "execution_count": null,
      "outputs": [
        {
          "output_type": "execute_result",
          "data": {
            "text/plain": [
              "  CQI-0 CQI-1 CQI-2 CQI-3 CQI-4  DL_bitrate-0  DL_bitrate-1  DL_bitrate-2  \\\n",
              "0     7     7    10     7     7             0             0           310   \n",
              "1     7     7     7    10     7             0             0             0   \n",
              "2     7     7     7     7    10             0             0             0   \n",
              "3     9     7     7     7     7          1757             0             0   \n",
              "4     9     9     7     7     7          4216          1757             0   \n",
              "\n",
              "   DL_bitrate-3  DL_bitrate-4  ... SNR-1 SNR-2 SNR-3 SNR-4 UL_bitrate-0  \\\n",
              "0             3             3  ...   7.0   7.0  10.0  10.0            0   \n",
              "1           310             3  ...   8.0   7.0   7.0  10.0            0   \n",
              "2             0           310  ...   8.0   8.0   7.0   7.0            0   \n",
              "3             0             0  ...  10.0   8.0   8.0   7.0           68   \n",
              "4             0             0  ...  10.0  10.0   8.0   8.0          151   \n",
              "\n",
              "  UL_bitrate-1 UL_bitrate-2 UL_bitrate-3 UL_bitrate-4 DL_bitrate  \n",
              "0            0           14            7            7       1769  \n",
              "1            0            0           14            7       2272  \n",
              "2            0            0            0           14       2549  \n",
              "3            0            0            0            0       2674  \n",
              "4           68            0            0            0       2393  \n",
              "\n",
              "[5 rows x 46 columns]"
            ],
            "text/html": [
              "\n",
              "  <div id=\"df-866149f0-92bd-432c-a8e2-0f2c7bf2eb78\">\n",
              "    <div class=\"colab-df-container\">\n",
              "      <div>\n",
              "<style scoped>\n",
              "    .dataframe tbody tr th:only-of-type {\n",
              "        vertical-align: middle;\n",
              "    }\n",
              "\n",
              "    .dataframe tbody tr th {\n",
              "        vertical-align: top;\n",
              "    }\n",
              "\n",
              "    .dataframe thead th {\n",
              "        text-align: right;\n",
              "    }\n",
              "</style>\n",
              "<table border=\"1\" class=\"dataframe\">\n",
              "  <thead>\n",
              "    <tr style=\"text-align: right;\">\n",
              "      <th></th>\n",
              "      <th>CQI-0</th>\n",
              "      <th>CQI-1</th>\n",
              "      <th>CQI-2</th>\n",
              "      <th>CQI-3</th>\n",
              "      <th>CQI-4</th>\n",
              "      <th>DL_bitrate-0</th>\n",
              "      <th>DL_bitrate-1</th>\n",
              "      <th>DL_bitrate-2</th>\n",
              "      <th>DL_bitrate-3</th>\n",
              "      <th>DL_bitrate-4</th>\n",
              "      <th>...</th>\n",
              "      <th>SNR-1</th>\n",
              "      <th>SNR-2</th>\n",
              "      <th>SNR-3</th>\n",
              "      <th>SNR-4</th>\n",
              "      <th>UL_bitrate-0</th>\n",
              "      <th>UL_bitrate-1</th>\n",
              "      <th>UL_bitrate-2</th>\n",
              "      <th>UL_bitrate-3</th>\n",
              "      <th>UL_bitrate-4</th>\n",
              "      <th>DL_bitrate</th>\n",
              "    </tr>\n",
              "  </thead>\n",
              "  <tbody>\n",
              "    <tr>\n",
              "      <th>0</th>\n",
              "      <td>7</td>\n",
              "      <td>7</td>\n",
              "      <td>10</td>\n",
              "      <td>7</td>\n",
              "      <td>7</td>\n",
              "      <td>0</td>\n",
              "      <td>0</td>\n",
              "      <td>310</td>\n",
              "      <td>3</td>\n",
              "      <td>3</td>\n",
              "      <td>...</td>\n",
              "      <td>7.0</td>\n",
              "      <td>7.0</td>\n",
              "      <td>10.0</td>\n",
              "      <td>10.0</td>\n",
              "      <td>0</td>\n",
              "      <td>0</td>\n",
              "      <td>14</td>\n",
              "      <td>7</td>\n",
              "      <td>7</td>\n",
              "      <td>1769</td>\n",
              "    </tr>\n",
              "    <tr>\n",
              "      <th>1</th>\n",
              "      <td>7</td>\n",
              "      <td>7</td>\n",
              "      <td>7</td>\n",
              "      <td>10</td>\n",
              "      <td>7</td>\n",
              "      <td>0</td>\n",
              "      <td>0</td>\n",
              "      <td>0</td>\n",
              "      <td>310</td>\n",
              "      <td>3</td>\n",
              "      <td>...</td>\n",
              "      <td>8.0</td>\n",
              "      <td>7.0</td>\n",
              "      <td>7.0</td>\n",
              "      <td>10.0</td>\n",
              "      <td>0</td>\n",
              "      <td>0</td>\n",
              "      <td>0</td>\n",
              "      <td>14</td>\n",
              "      <td>7</td>\n",
              "      <td>2272</td>\n",
              "    </tr>\n",
              "    <tr>\n",
              "      <th>2</th>\n",
              "      <td>7</td>\n",
              "      <td>7</td>\n",
              "      <td>7</td>\n",
              "      <td>7</td>\n",
              "      <td>10</td>\n",
              "      <td>0</td>\n",
              "      <td>0</td>\n",
              "      <td>0</td>\n",
              "      <td>0</td>\n",
              "      <td>310</td>\n",
              "      <td>...</td>\n",
              "      <td>8.0</td>\n",
              "      <td>8.0</td>\n",
              "      <td>7.0</td>\n",
              "      <td>7.0</td>\n",
              "      <td>0</td>\n",
              "      <td>0</td>\n",
              "      <td>0</td>\n",
              "      <td>0</td>\n",
              "      <td>14</td>\n",
              "      <td>2549</td>\n",
              "    </tr>\n",
              "    <tr>\n",
              "      <th>3</th>\n",
              "      <td>9</td>\n",
              "      <td>7</td>\n",
              "      <td>7</td>\n",
              "      <td>7</td>\n",
              "      <td>7</td>\n",
              "      <td>1757</td>\n",
              "      <td>0</td>\n",
              "      <td>0</td>\n",
              "      <td>0</td>\n",
              "      <td>0</td>\n",
              "      <td>...</td>\n",
              "      <td>10.0</td>\n",
              "      <td>8.0</td>\n",
              "      <td>8.0</td>\n",
              "      <td>7.0</td>\n",
              "      <td>68</td>\n",
              "      <td>0</td>\n",
              "      <td>0</td>\n",
              "      <td>0</td>\n",
              "      <td>0</td>\n",
              "      <td>2674</td>\n",
              "    </tr>\n",
              "    <tr>\n",
              "      <th>4</th>\n",
              "      <td>9</td>\n",
              "      <td>9</td>\n",
              "      <td>7</td>\n",
              "      <td>7</td>\n",
              "      <td>7</td>\n",
              "      <td>4216</td>\n",
              "      <td>1757</td>\n",
              "      <td>0</td>\n",
              "      <td>0</td>\n",
              "      <td>0</td>\n",
              "      <td>...</td>\n",
              "      <td>10.0</td>\n",
              "      <td>10.0</td>\n",
              "      <td>8.0</td>\n",
              "      <td>8.0</td>\n",
              "      <td>151</td>\n",
              "      <td>68</td>\n",
              "      <td>0</td>\n",
              "      <td>0</td>\n",
              "      <td>0</td>\n",
              "      <td>2393</td>\n",
              "    </tr>\n",
              "  </tbody>\n",
              "</table>\n",
              "<p>5 rows × 46 columns</p>\n",
              "</div>\n",
              "      <button class=\"colab-df-convert\" onclick=\"convertToInteractive('df-866149f0-92bd-432c-a8e2-0f2c7bf2eb78')\"\n",
              "              title=\"Convert this dataframe to an interactive table.\"\n",
              "              style=\"display:none;\">\n",
              "        \n",
              "  <svg xmlns=\"http://www.w3.org/2000/svg\" height=\"24px\"viewBox=\"0 0 24 24\"\n",
              "       width=\"24px\">\n",
              "    <path d=\"M0 0h24v24H0V0z\" fill=\"none\"/>\n",
              "    <path d=\"M18.56 5.44l.94 2.06.94-2.06 2.06-.94-2.06-.94-.94-2.06-.94 2.06-2.06.94zm-11 1L8.5 8.5l.94-2.06 2.06-.94-2.06-.94L8.5 2.5l-.94 2.06-2.06.94zm10 10l.94 2.06.94-2.06 2.06-.94-2.06-.94-.94-2.06-.94 2.06-2.06.94z\"/><path d=\"M17.41 7.96l-1.37-1.37c-.4-.4-.92-.59-1.43-.59-.52 0-1.04.2-1.43.59L10.3 9.45l-7.72 7.72c-.78.78-.78 2.05 0 2.83L4 21.41c.39.39.9.59 1.41.59.51 0 1.02-.2 1.41-.59l7.78-7.78 2.81-2.81c.8-.78.8-2.07 0-2.86zM5.41 20L4 18.59l7.72-7.72 1.47 1.35L5.41 20z\"/>\n",
              "  </svg>\n",
              "      </button>\n",
              "      \n",
              "  <style>\n",
              "    .colab-df-container {\n",
              "      display:flex;\n",
              "      flex-wrap:wrap;\n",
              "      gap: 12px;\n",
              "    }\n",
              "\n",
              "    .colab-df-convert {\n",
              "      background-color: #E8F0FE;\n",
              "      border: none;\n",
              "      border-radius: 50%;\n",
              "      cursor: pointer;\n",
              "      display: none;\n",
              "      fill: #1967D2;\n",
              "      height: 32px;\n",
              "      padding: 0 0 0 0;\n",
              "      width: 32px;\n",
              "    }\n",
              "\n",
              "    .colab-df-convert:hover {\n",
              "      background-color: #E2EBFA;\n",
              "      box-shadow: 0px 1px 2px rgba(60, 64, 67, 0.3), 0px 1px 3px 1px rgba(60, 64, 67, 0.15);\n",
              "      fill: #174EA6;\n",
              "    }\n",
              "\n",
              "    [theme=dark] .colab-df-convert {\n",
              "      background-color: #3B4455;\n",
              "      fill: #D2E3FC;\n",
              "    }\n",
              "\n",
              "    [theme=dark] .colab-df-convert:hover {\n",
              "      background-color: #434B5C;\n",
              "      box-shadow: 0px 1px 3px 1px rgba(0, 0, 0, 0.15);\n",
              "      filter: drop-shadow(0px 1px 2px rgba(0, 0, 0, 0.3));\n",
              "      fill: #FFFFFF;\n",
              "    }\n",
              "  </style>\n",
              "\n",
              "      <script>\n",
              "        const buttonEl =\n",
              "          document.querySelector('#df-866149f0-92bd-432c-a8e2-0f2c7bf2eb78 button.colab-df-convert');\n",
              "        buttonEl.style.display =\n",
              "          google.colab.kernel.accessAllowed ? 'block' : 'none';\n",
              "\n",
              "        async function convertToInteractive(key) {\n",
              "          const element = document.querySelector('#df-866149f0-92bd-432c-a8e2-0f2c7bf2eb78');\n",
              "          const dataTable =\n",
              "            await google.colab.kernel.invokeFunction('convertToInteractive',\n",
              "                                                     [key], {});\n",
              "          if (!dataTable) return;\n",
              "\n",
              "          const docLinkHtml = 'Like what you see? Visit the ' +\n",
              "            '<a target=\"_blank\" href=https://colab.research.google.com/notebooks/data_table.ipynb>data table notebook</a>'\n",
              "            + ' to learn more about interactive tables.';\n",
              "          element.innerHTML = '';\n",
              "          dataTable['output_type'] = 'display_data';\n",
              "          await google.colab.output.renderOutput(dataTable, element);\n",
              "          const docLink = document.createElement('div');\n",
              "          docLink.innerHTML = docLinkHtml;\n",
              "          element.appendChild(docLink);\n",
              "        }\n",
              "      </script>\n",
              "    </div>\n",
              "  </div>\n",
              "  "
            ]
          },
          "metadata": {},
          "execution_count": 5
        }
      ]
    },
    {
      "cell_type": "code",
      "source": [
        "frame.shape"
      ],
      "metadata": {
        "colab": {
          "base_uri": "https://localhost:8080/"
        },
        "id": "1syFhh7RguLu",
        "outputId": "0805127a-01ab-411c-ce84-6260920ddda2"
      },
      "execution_count": null,
      "outputs": [
        {
          "output_type": "execute_result",
          "data": {
            "text/plain": [
              "(10639, 46)"
            ]
          },
          "metadata": {},
          "execution_count": 6
        }
      ]
    },
    {
      "cell_type": "markdown",
      "source": [
        "# Dealing with Nan Values"
      ],
      "metadata": {
        "id": "yOB3e8wkIS8O"
      }
    },
    {
      "cell_type": "markdown",
      "source": [
        "## Train Dataframe"
      ],
      "metadata": {
        "id": "owWxYkltI9e1"
      }
    },
    {
      "cell_type": "code",
      "source": [
        "frame.replace('-', np.NaN, inplace = True)\n",
        "frame.isna().sum().sum()"
      ],
      "metadata": {
        "colab": {
          "base_uri": "https://localhost:8080/"
        },
        "id": "eHprUmCCING_",
        "outputId": "4f386465-87cb-4acf-bf69-7e007f94e00c"
      },
      "execution_count": null,
      "outputs": [
        {
          "output_type": "execute_result",
          "data": {
            "text/plain": [
              "100772"
            ]
          },
          "metadata": {},
          "execution_count": 7
        }
      ]
    },
    {
      "cell_type": "code",
      "source": [
        "imputer = IterativeImputer(imputation_order='ascending',max_iter=10,random_state=42,n_nearest_features=None)\n",
        "imputed_dataset = imputer.fit_transform(frame)\n",
        "frame = pd.DataFrame(imputed_dataset,columns = frame.columns)\n",
        "frame.isna().sum().sum()"
      ],
      "metadata": {
        "id": "ysfQg2IBIiJe",
        "colab": {
          "base_uri": "https://localhost:8080/"
        },
        "outputId": "7982482b-aebd-425f-df96-19443d3b17c6"
      },
      "execution_count": null,
      "outputs": [
        {
          "output_type": "execute_result",
          "data": {
            "text/plain": [
              "0"
            ]
          },
          "metadata": {},
          "execution_count": 8
        }
      ]
    },
    {
      "cell_type": "code",
      "source": [
        "frame.describe()"
      ],
      "metadata": {
        "colab": {
          "base_uri": "https://localhost:8080/",
          "height": 394
        },
        "id": "WNjkHHBwrZhv",
        "outputId": "8cfd70ce-6800-4b43-a034-42136ad9595d"
      },
      "execution_count": null,
      "outputs": [
        {
          "output_type": "execute_result",
          "data": {
            "text/plain": [
              "              CQI-0         CQI-1         CQI-2         CQI-3         CQI-4  \\\n",
              "count  10639.000000  10639.000000  10639.000000  10639.000000  10639.000000   \n",
              "mean       8.231843      8.135143      8.112044      8.099473      8.125009   \n",
              "std        2.435170      2.433365      2.433544      2.433938      2.432950   \n",
              "min        1.000000      1.000000      1.000000      1.000000      1.000000   \n",
              "25%        7.000000      7.000000      7.000000      7.000000      7.000000   \n",
              "50%        8.300539      8.000000      8.000000      7.991939      8.000000   \n",
              "75%        9.000000      9.000000      9.000000      9.000000      9.000000   \n",
              "max       15.000000     15.000000     15.000000     15.000000     15.000000   \n",
              "\n",
              "       DL_bitrate-0  DL_bitrate-1  DL_bitrate-2  DL_bitrate-3  DL_bitrate-4  \\\n",
              "count  10639.000000  10639.000000  10639.000000  10639.000000  10639.000000   \n",
              "mean    9984.639722   9997.879782  10013.591785  10029.786258  10047.591315   \n",
              "std    11372.751571  11397.918230  11422.152569  11448.840285  11484.281792   \n",
              "min        0.000000      0.000000      0.000000      0.000000      0.000000   \n",
              "25%     2124.000000   2124.000000   2124.000000   2124.000000   2124.000000   \n",
              "50%     5972.000000   5972.000000   5972.000000   5983.000000   5994.000000   \n",
              "75%    13946.000000  13951.500000  13980.000000  14002.000000  14018.500000   \n",
              "max    87872.000000  87872.000000  87872.000000  87872.000000  87872.000000   \n",
              "\n",
              "       ...         SNR-1         SNR-2         SNR-3         SNR-4  \\\n",
              "count  ...  10639.000000  10639.000000  10639.000000  10639.000000   \n",
              "mean   ...      5.161243      5.042818      5.007267      5.019343   \n",
              "std    ...      6.734321      6.708077      6.700007      6.703113   \n",
              "min    ...    -15.000000    -15.000000    -15.000000    -15.000000   \n",
              "25%    ...      1.000000      1.000000      1.000000      1.000000   \n",
              "50%    ...      6.590308      6.132278      6.009539      6.000000   \n",
              "75%    ...      7.000000      7.000000      7.000000      7.000000   \n",
              "max    ...     32.000000     32.000000     32.000000     32.000000   \n",
              "\n",
              "       UL_bitrate-0  UL_bitrate-1  UL_bitrate-2  UL_bitrate-3  UL_bitrate-4  \\\n",
              "count  10639.000000  10639.000000  10639.000000  10639.000000  10639.000000   \n",
              "mean     183.025472    183.237710    183.467807    183.705047    183.950841   \n",
              "std      193.709473    194.036344    194.336885    194.660012    195.046340   \n",
              "min        0.000000      0.000000      0.000000      0.000000      0.000000   \n",
              "25%       48.000000     48.000000     48.000000     48.000000     48.000000   \n",
              "50%      122.000000    122.000000    122.000000    123.000000    123.000000   \n",
              "75%      256.000000    256.000000    256.000000    256.000000    257.000000   \n",
              "max     2179.000000   2179.000000   2179.000000   2179.000000   2179.000000   \n",
              "\n",
              "         DL_bitrate  \n",
              "count  10639.000000  \n",
              "mean    9953.147758  \n",
              "std    10744.687079  \n",
              "min        0.000000  \n",
              "25%     2357.000000  \n",
              "50%     6347.000000  \n",
              "75%    13998.500000  \n",
              "max    75533.000000  \n",
              "\n",
              "[8 rows x 46 columns]"
            ],
            "text/html": [
              "\n",
              "  <div id=\"df-23ddd4f0-dd17-4c12-9b08-c7636a14a30e\">\n",
              "    <div class=\"colab-df-container\">\n",
              "      <div>\n",
              "<style scoped>\n",
              "    .dataframe tbody tr th:only-of-type {\n",
              "        vertical-align: middle;\n",
              "    }\n",
              "\n",
              "    .dataframe tbody tr th {\n",
              "        vertical-align: top;\n",
              "    }\n",
              "\n",
              "    .dataframe thead th {\n",
              "        text-align: right;\n",
              "    }\n",
              "</style>\n",
              "<table border=\"1\" class=\"dataframe\">\n",
              "  <thead>\n",
              "    <tr style=\"text-align: right;\">\n",
              "      <th></th>\n",
              "      <th>CQI-0</th>\n",
              "      <th>CQI-1</th>\n",
              "      <th>CQI-2</th>\n",
              "      <th>CQI-3</th>\n",
              "      <th>CQI-4</th>\n",
              "      <th>DL_bitrate-0</th>\n",
              "      <th>DL_bitrate-1</th>\n",
              "      <th>DL_bitrate-2</th>\n",
              "      <th>DL_bitrate-3</th>\n",
              "      <th>DL_bitrate-4</th>\n",
              "      <th>...</th>\n",
              "      <th>SNR-1</th>\n",
              "      <th>SNR-2</th>\n",
              "      <th>SNR-3</th>\n",
              "      <th>SNR-4</th>\n",
              "      <th>UL_bitrate-0</th>\n",
              "      <th>UL_bitrate-1</th>\n",
              "      <th>UL_bitrate-2</th>\n",
              "      <th>UL_bitrate-3</th>\n",
              "      <th>UL_bitrate-4</th>\n",
              "      <th>DL_bitrate</th>\n",
              "    </tr>\n",
              "  </thead>\n",
              "  <tbody>\n",
              "    <tr>\n",
              "      <th>count</th>\n",
              "      <td>10639.000000</td>\n",
              "      <td>10639.000000</td>\n",
              "      <td>10639.000000</td>\n",
              "      <td>10639.000000</td>\n",
              "      <td>10639.000000</td>\n",
              "      <td>10639.000000</td>\n",
              "      <td>10639.000000</td>\n",
              "      <td>10639.000000</td>\n",
              "      <td>10639.000000</td>\n",
              "      <td>10639.000000</td>\n",
              "      <td>...</td>\n",
              "      <td>10639.000000</td>\n",
              "      <td>10639.000000</td>\n",
              "      <td>10639.000000</td>\n",
              "      <td>10639.000000</td>\n",
              "      <td>10639.000000</td>\n",
              "      <td>10639.000000</td>\n",
              "      <td>10639.000000</td>\n",
              "      <td>10639.000000</td>\n",
              "      <td>10639.000000</td>\n",
              "      <td>10639.000000</td>\n",
              "    </tr>\n",
              "    <tr>\n",
              "      <th>mean</th>\n",
              "      <td>8.231843</td>\n",
              "      <td>8.135143</td>\n",
              "      <td>8.112044</td>\n",
              "      <td>8.099473</td>\n",
              "      <td>8.125009</td>\n",
              "      <td>9984.639722</td>\n",
              "      <td>9997.879782</td>\n",
              "      <td>10013.591785</td>\n",
              "      <td>10029.786258</td>\n",
              "      <td>10047.591315</td>\n",
              "      <td>...</td>\n",
              "      <td>5.161243</td>\n",
              "      <td>5.042818</td>\n",
              "      <td>5.007267</td>\n",
              "      <td>5.019343</td>\n",
              "      <td>183.025472</td>\n",
              "      <td>183.237710</td>\n",
              "      <td>183.467807</td>\n",
              "      <td>183.705047</td>\n",
              "      <td>183.950841</td>\n",
              "      <td>9953.147758</td>\n",
              "    </tr>\n",
              "    <tr>\n",
              "      <th>std</th>\n",
              "      <td>2.435170</td>\n",
              "      <td>2.433365</td>\n",
              "      <td>2.433544</td>\n",
              "      <td>2.433938</td>\n",
              "      <td>2.432950</td>\n",
              "      <td>11372.751571</td>\n",
              "      <td>11397.918230</td>\n",
              "      <td>11422.152569</td>\n",
              "      <td>11448.840285</td>\n",
              "      <td>11484.281792</td>\n",
              "      <td>...</td>\n",
              "      <td>6.734321</td>\n",
              "      <td>6.708077</td>\n",
              "      <td>6.700007</td>\n",
              "      <td>6.703113</td>\n",
              "      <td>193.709473</td>\n",
              "      <td>194.036344</td>\n",
              "      <td>194.336885</td>\n",
              "      <td>194.660012</td>\n",
              "      <td>195.046340</td>\n",
              "      <td>10744.687079</td>\n",
              "    </tr>\n",
              "    <tr>\n",
              "      <th>min</th>\n",
              "      <td>1.000000</td>\n",
              "      <td>1.000000</td>\n",
              "      <td>1.000000</td>\n",
              "      <td>1.000000</td>\n",
              "      <td>1.000000</td>\n",
              "      <td>0.000000</td>\n",
              "      <td>0.000000</td>\n",
              "      <td>0.000000</td>\n",
              "      <td>0.000000</td>\n",
              "      <td>0.000000</td>\n",
              "      <td>...</td>\n",
              "      <td>-15.000000</td>\n",
              "      <td>-15.000000</td>\n",
              "      <td>-15.000000</td>\n",
              "      <td>-15.000000</td>\n",
              "      <td>0.000000</td>\n",
              "      <td>0.000000</td>\n",
              "      <td>0.000000</td>\n",
              "      <td>0.000000</td>\n",
              "      <td>0.000000</td>\n",
              "      <td>0.000000</td>\n",
              "    </tr>\n",
              "    <tr>\n",
              "      <th>25%</th>\n",
              "      <td>7.000000</td>\n",
              "      <td>7.000000</td>\n",
              "      <td>7.000000</td>\n",
              "      <td>7.000000</td>\n",
              "      <td>7.000000</td>\n",
              "      <td>2124.000000</td>\n",
              "      <td>2124.000000</td>\n",
              "      <td>2124.000000</td>\n",
              "      <td>2124.000000</td>\n",
              "      <td>2124.000000</td>\n",
              "      <td>...</td>\n",
              "      <td>1.000000</td>\n",
              "      <td>1.000000</td>\n",
              "      <td>1.000000</td>\n",
              "      <td>1.000000</td>\n",
              "      <td>48.000000</td>\n",
              "      <td>48.000000</td>\n",
              "      <td>48.000000</td>\n",
              "      <td>48.000000</td>\n",
              "      <td>48.000000</td>\n",
              "      <td>2357.000000</td>\n",
              "    </tr>\n",
              "    <tr>\n",
              "      <th>50%</th>\n",
              "      <td>8.300539</td>\n",
              "      <td>8.000000</td>\n",
              "      <td>8.000000</td>\n",
              "      <td>7.991939</td>\n",
              "      <td>8.000000</td>\n",
              "      <td>5972.000000</td>\n",
              "      <td>5972.000000</td>\n",
              "      <td>5972.000000</td>\n",
              "      <td>5983.000000</td>\n",
              "      <td>5994.000000</td>\n",
              "      <td>...</td>\n",
              "      <td>6.590308</td>\n",
              "      <td>6.132278</td>\n",
              "      <td>6.009539</td>\n",
              "      <td>6.000000</td>\n",
              "      <td>122.000000</td>\n",
              "      <td>122.000000</td>\n",
              "      <td>122.000000</td>\n",
              "      <td>123.000000</td>\n",
              "      <td>123.000000</td>\n",
              "      <td>6347.000000</td>\n",
              "    </tr>\n",
              "    <tr>\n",
              "      <th>75%</th>\n",
              "      <td>9.000000</td>\n",
              "      <td>9.000000</td>\n",
              "      <td>9.000000</td>\n",
              "      <td>9.000000</td>\n",
              "      <td>9.000000</td>\n",
              "      <td>13946.000000</td>\n",
              "      <td>13951.500000</td>\n",
              "      <td>13980.000000</td>\n",
              "      <td>14002.000000</td>\n",
              "      <td>14018.500000</td>\n",
              "      <td>...</td>\n",
              "      <td>7.000000</td>\n",
              "      <td>7.000000</td>\n",
              "      <td>7.000000</td>\n",
              "      <td>7.000000</td>\n",
              "      <td>256.000000</td>\n",
              "      <td>256.000000</td>\n",
              "      <td>256.000000</td>\n",
              "      <td>256.000000</td>\n",
              "      <td>257.000000</td>\n",
              "      <td>13998.500000</td>\n",
              "    </tr>\n",
              "    <tr>\n",
              "      <th>max</th>\n",
              "      <td>15.000000</td>\n",
              "      <td>15.000000</td>\n",
              "      <td>15.000000</td>\n",
              "      <td>15.000000</td>\n",
              "      <td>15.000000</td>\n",
              "      <td>87872.000000</td>\n",
              "      <td>87872.000000</td>\n",
              "      <td>87872.000000</td>\n",
              "      <td>87872.000000</td>\n",
              "      <td>87872.000000</td>\n",
              "      <td>...</td>\n",
              "      <td>32.000000</td>\n",
              "      <td>32.000000</td>\n",
              "      <td>32.000000</td>\n",
              "      <td>32.000000</td>\n",
              "      <td>2179.000000</td>\n",
              "      <td>2179.000000</td>\n",
              "      <td>2179.000000</td>\n",
              "      <td>2179.000000</td>\n",
              "      <td>2179.000000</td>\n",
              "      <td>75533.000000</td>\n",
              "    </tr>\n",
              "  </tbody>\n",
              "</table>\n",
              "<p>8 rows × 46 columns</p>\n",
              "</div>\n",
              "      <button class=\"colab-df-convert\" onclick=\"convertToInteractive('df-23ddd4f0-dd17-4c12-9b08-c7636a14a30e')\"\n",
              "              title=\"Convert this dataframe to an interactive table.\"\n",
              "              style=\"display:none;\">\n",
              "        \n",
              "  <svg xmlns=\"http://www.w3.org/2000/svg\" height=\"24px\"viewBox=\"0 0 24 24\"\n",
              "       width=\"24px\">\n",
              "    <path d=\"M0 0h24v24H0V0z\" fill=\"none\"/>\n",
              "    <path d=\"M18.56 5.44l.94 2.06.94-2.06 2.06-.94-2.06-.94-.94-2.06-.94 2.06-2.06.94zm-11 1L8.5 8.5l.94-2.06 2.06-.94-2.06-.94L8.5 2.5l-.94 2.06-2.06.94zm10 10l.94 2.06.94-2.06 2.06-.94-2.06-.94-.94-2.06-.94 2.06-2.06.94z\"/><path d=\"M17.41 7.96l-1.37-1.37c-.4-.4-.92-.59-1.43-.59-.52 0-1.04.2-1.43.59L10.3 9.45l-7.72 7.72c-.78.78-.78 2.05 0 2.83L4 21.41c.39.39.9.59 1.41.59.51 0 1.02-.2 1.41-.59l7.78-7.78 2.81-2.81c.8-.78.8-2.07 0-2.86zM5.41 20L4 18.59l7.72-7.72 1.47 1.35L5.41 20z\"/>\n",
              "  </svg>\n",
              "      </button>\n",
              "      \n",
              "  <style>\n",
              "    .colab-df-container {\n",
              "      display:flex;\n",
              "      flex-wrap:wrap;\n",
              "      gap: 12px;\n",
              "    }\n",
              "\n",
              "    .colab-df-convert {\n",
              "      background-color: #E8F0FE;\n",
              "      border: none;\n",
              "      border-radius: 50%;\n",
              "      cursor: pointer;\n",
              "      display: none;\n",
              "      fill: #1967D2;\n",
              "      height: 32px;\n",
              "      padding: 0 0 0 0;\n",
              "      width: 32px;\n",
              "    }\n",
              "\n",
              "    .colab-df-convert:hover {\n",
              "      background-color: #E2EBFA;\n",
              "      box-shadow: 0px 1px 2px rgba(60, 64, 67, 0.3), 0px 1px 3px 1px rgba(60, 64, 67, 0.15);\n",
              "      fill: #174EA6;\n",
              "    }\n",
              "\n",
              "    [theme=dark] .colab-df-convert {\n",
              "      background-color: #3B4455;\n",
              "      fill: #D2E3FC;\n",
              "    }\n",
              "\n",
              "    [theme=dark] .colab-df-convert:hover {\n",
              "      background-color: #434B5C;\n",
              "      box-shadow: 0px 1px 3px 1px rgba(0, 0, 0, 0.15);\n",
              "      filter: drop-shadow(0px 1px 2px rgba(0, 0, 0, 0.3));\n",
              "      fill: #FFFFFF;\n",
              "    }\n",
              "  </style>\n",
              "\n",
              "      <script>\n",
              "        const buttonEl =\n",
              "          document.querySelector('#df-23ddd4f0-dd17-4c12-9b08-c7636a14a30e button.colab-df-convert');\n",
              "        buttonEl.style.display =\n",
              "          google.colab.kernel.accessAllowed ? 'block' : 'none';\n",
              "\n",
              "        async function convertToInteractive(key) {\n",
              "          const element = document.querySelector('#df-23ddd4f0-dd17-4c12-9b08-c7636a14a30e');\n",
              "          const dataTable =\n",
              "            await google.colab.kernel.invokeFunction('convertToInteractive',\n",
              "                                                     [key], {});\n",
              "          if (!dataTable) return;\n",
              "\n",
              "          const docLinkHtml = 'Like what you see? Visit the ' +\n",
              "            '<a target=\"_blank\" href=https://colab.research.google.com/notebooks/data_table.ipynb>data table notebook</a>'\n",
              "            + ' to learn more about interactive tables.';\n",
              "          element.innerHTML = '';\n",
              "          dataTable['output_type'] = 'display_data';\n",
              "          await google.colab.output.renderOutput(dataTable, element);\n",
              "          const docLink = document.createElement('div');\n",
              "          docLink.innerHTML = docLinkHtml;\n",
              "          element.appendChild(docLink);\n",
              "        }\n",
              "      </script>\n",
              "    </div>\n",
              "  </div>\n",
              "  "
            ]
          },
          "metadata": {},
          "execution_count": 9
        }
      ]
    },
    {
      "cell_type": "code",
      "source": [
        "col_names_scaled =['CQI-0', 'CQI-1', 'CQI-2', 'CQI-3', 'CQI-4', 'DL_bitrate-0',\n",
        "       'DL_bitrate-1', 'DL_bitrate-2', 'DL_bitrate-3', 'DL_bitrate-4', 'SNR-0', 'SNR-1', 'SNR-2', 'SNR-3', 'SNR-4', 'DL_bitrate']"
      ],
      "metadata": {
        "id": "MEJJiASZpgQe"
      },
      "execution_count": null,
      "outputs": []
    },
    {
      "cell_type": "code",
      "source": [
        "frame_train = frame.sample(frac = 0.7, random_state=0)\n",
        "frame_test = frame.drop(frame_train.index)"
      ],
      "metadata": {
        "id": "IA6wbWK0vHjk"
      },
      "execution_count": null,
      "outputs": []
    },
    {
      "cell_type": "code",
      "source": [],
      "metadata": {
        "id": "j-EHCGzjvHhG"
      },
      "execution_count": null,
      "outputs": []
    },
    {
      "cell_type": "markdown",
      "source": [
        "# With Scaling"
      ],
      "metadata": {
        "id": "7Y4Xk2jDiuAs"
      }
    },
    {
      "cell_type": "markdown",
      "source": [
        "## MinMax Scaler"
      ],
      "metadata": {
        "id": "FElO8dKKqnC0"
      }
    },
    {
      "cell_type": "code",
      "source": [
        "from sklearn.preprocessing import MinMaxScaler\n",
        "df = frame_train[col_names_scaled]\n",
        "min_max_scaler = MinMaxScaler()\n",
        "# transform data\n",
        "df_min_max_scaled = pd.DataFrame(min_max_scaler.fit_transform(df))"
      ],
      "metadata": {
        "id": "GEt0S9SHqo_3"
      },
      "execution_count": null,
      "outputs": []
    },
    {
      "cell_type": "code",
      "source": [
        "X_train_min_max_scaler, X_valid_min_max_scaler, Y_train_min_max_scaler, Y_valid_min_max_scaler = train_test_split(df_min_max_scaled.iloc[:,:-1], df_min_max_scaled.iloc[:,-1:], test_size=0.3, random_state=0)\n",
        "print('Train set shape', X_train_min_max_scaler.shape)\n",
        "print('Validation set shape', X_valid_min_max_scaler.shape)\n",
        "X_train_min_max_scaler.head()"
      ],
      "metadata": {
        "colab": {
          "base_uri": "https://localhost:8080/",
          "height": 242
        },
        "id": "2v0TooZU0c5L",
        "outputId": "ab6b20c7-e655-4daf-e9f3-ac2c5199552d"
      },
      "execution_count": null,
      "outputs": [
        {
          "output_type": "stream",
          "name": "stdout",
          "text": [
            "Train set shape (5212, 15)\n",
            "Validation set shape (2235, 15)\n"
          ]
        },
        {
          "output_type": "execute_result",
          "data": {
            "text/plain": [
              "            0         1         2         3         4         5         6   \\\n",
              "2014  0.500000  0.428571  0.428571  0.285714  0.357143  0.000182  0.000046   \n",
              "3568  0.571429  0.500000  0.500000  0.500000  0.500000  0.391114  0.187215   \n",
              "2551  0.642857  0.714286  0.642857  0.714286  0.714286  0.138349  0.144324   \n",
              "7071  0.714286  0.714286  0.714286  0.428571  0.428571  0.022908  0.009798   \n",
              "575   0.540104  0.508288  0.496822  0.494919  0.506911  0.087309  0.080822   \n",
              "\n",
              "            7         8         9         10        11        12        13  \\\n",
              "2014  0.000023  0.002572  0.003016  0.319149  0.319149  0.382979  0.382979   \n",
              "3568  0.294258  0.316153  0.248054  0.425532  0.425532  0.425532  0.425532   \n",
              "2551  0.135037  0.182003  0.136687  0.702128  0.680851  0.680851  0.723404   \n",
              "7071  0.013736  0.013611  0.005462  0.531915  0.468085  0.468085  0.510638   \n",
              "575   0.058415  0.045179  0.056764  0.492692  0.458019  0.451172  0.449399   \n",
              "\n",
              "            14  \n",
              "2014  0.340426  \n",
              "3568  0.425532  \n",
              "2551  0.723404  \n",
              "7071  0.510638  \n",
              "575   0.451609  "
            ],
            "text/html": [
              "\n",
              "  <div id=\"df-71734665-f76d-4fc6-9792-824f7683e0a6\">\n",
              "    <div class=\"colab-df-container\">\n",
              "      <div>\n",
              "<style scoped>\n",
              "    .dataframe tbody tr th:only-of-type {\n",
              "        vertical-align: middle;\n",
              "    }\n",
              "\n",
              "    .dataframe tbody tr th {\n",
              "        vertical-align: top;\n",
              "    }\n",
              "\n",
              "    .dataframe thead th {\n",
              "        text-align: right;\n",
              "    }\n",
              "</style>\n",
              "<table border=\"1\" class=\"dataframe\">\n",
              "  <thead>\n",
              "    <tr style=\"text-align: right;\">\n",
              "      <th></th>\n",
              "      <th>0</th>\n",
              "      <th>1</th>\n",
              "      <th>2</th>\n",
              "      <th>3</th>\n",
              "      <th>4</th>\n",
              "      <th>5</th>\n",
              "      <th>6</th>\n",
              "      <th>7</th>\n",
              "      <th>8</th>\n",
              "      <th>9</th>\n",
              "      <th>10</th>\n",
              "      <th>11</th>\n",
              "      <th>12</th>\n",
              "      <th>13</th>\n",
              "      <th>14</th>\n",
              "    </tr>\n",
              "  </thead>\n",
              "  <tbody>\n",
              "    <tr>\n",
              "      <th>2014</th>\n",
              "      <td>0.500000</td>\n",
              "      <td>0.428571</td>\n",
              "      <td>0.428571</td>\n",
              "      <td>0.285714</td>\n",
              "      <td>0.357143</td>\n",
              "      <td>0.000182</td>\n",
              "      <td>0.000046</td>\n",
              "      <td>0.000023</td>\n",
              "      <td>0.002572</td>\n",
              "      <td>0.003016</td>\n",
              "      <td>0.319149</td>\n",
              "      <td>0.319149</td>\n",
              "      <td>0.382979</td>\n",
              "      <td>0.382979</td>\n",
              "      <td>0.340426</td>\n",
              "    </tr>\n",
              "    <tr>\n",
              "      <th>3568</th>\n",
              "      <td>0.571429</td>\n",
              "      <td>0.500000</td>\n",
              "      <td>0.500000</td>\n",
              "      <td>0.500000</td>\n",
              "      <td>0.500000</td>\n",
              "      <td>0.391114</td>\n",
              "      <td>0.187215</td>\n",
              "      <td>0.294258</td>\n",
              "      <td>0.316153</td>\n",
              "      <td>0.248054</td>\n",
              "      <td>0.425532</td>\n",
              "      <td>0.425532</td>\n",
              "      <td>0.425532</td>\n",
              "      <td>0.425532</td>\n",
              "      <td>0.425532</td>\n",
              "    </tr>\n",
              "    <tr>\n",
              "      <th>2551</th>\n",
              "      <td>0.642857</td>\n",
              "      <td>0.714286</td>\n",
              "      <td>0.642857</td>\n",
              "      <td>0.714286</td>\n",
              "      <td>0.714286</td>\n",
              "      <td>0.138349</td>\n",
              "      <td>0.144324</td>\n",
              "      <td>0.135037</td>\n",
              "      <td>0.182003</td>\n",
              "      <td>0.136687</td>\n",
              "      <td>0.702128</td>\n",
              "      <td>0.680851</td>\n",
              "      <td>0.680851</td>\n",
              "      <td>0.723404</td>\n",
              "      <td>0.723404</td>\n",
              "    </tr>\n",
              "    <tr>\n",
              "      <th>7071</th>\n",
              "      <td>0.714286</td>\n",
              "      <td>0.714286</td>\n",
              "      <td>0.714286</td>\n",
              "      <td>0.428571</td>\n",
              "      <td>0.428571</td>\n",
              "      <td>0.022908</td>\n",
              "      <td>0.009798</td>\n",
              "      <td>0.013736</td>\n",
              "      <td>0.013611</td>\n",
              "      <td>0.005462</td>\n",
              "      <td>0.531915</td>\n",
              "      <td>0.468085</td>\n",
              "      <td>0.468085</td>\n",
              "      <td>0.510638</td>\n",
              "      <td>0.510638</td>\n",
              "    </tr>\n",
              "    <tr>\n",
              "      <th>575</th>\n",
              "      <td>0.540104</td>\n",
              "      <td>0.508288</td>\n",
              "      <td>0.496822</td>\n",
              "      <td>0.494919</td>\n",
              "      <td>0.506911</td>\n",
              "      <td>0.087309</td>\n",
              "      <td>0.080822</td>\n",
              "      <td>0.058415</td>\n",
              "      <td>0.045179</td>\n",
              "      <td>0.056764</td>\n",
              "      <td>0.492692</td>\n",
              "      <td>0.458019</td>\n",
              "      <td>0.451172</td>\n",
              "      <td>0.449399</td>\n",
              "      <td>0.451609</td>\n",
              "    </tr>\n",
              "  </tbody>\n",
              "</table>\n",
              "</div>\n",
              "      <button class=\"colab-df-convert\" onclick=\"convertToInteractive('df-71734665-f76d-4fc6-9792-824f7683e0a6')\"\n",
              "              title=\"Convert this dataframe to an interactive table.\"\n",
              "              style=\"display:none;\">\n",
              "        \n",
              "  <svg xmlns=\"http://www.w3.org/2000/svg\" height=\"24px\"viewBox=\"0 0 24 24\"\n",
              "       width=\"24px\">\n",
              "    <path d=\"M0 0h24v24H0V0z\" fill=\"none\"/>\n",
              "    <path d=\"M18.56 5.44l.94 2.06.94-2.06 2.06-.94-2.06-.94-.94-2.06-.94 2.06-2.06.94zm-11 1L8.5 8.5l.94-2.06 2.06-.94-2.06-.94L8.5 2.5l-.94 2.06-2.06.94zm10 10l.94 2.06.94-2.06 2.06-.94-2.06-.94-.94-2.06-.94 2.06-2.06.94z\"/><path d=\"M17.41 7.96l-1.37-1.37c-.4-.4-.92-.59-1.43-.59-.52 0-1.04.2-1.43.59L10.3 9.45l-7.72 7.72c-.78.78-.78 2.05 0 2.83L4 21.41c.39.39.9.59 1.41.59.51 0 1.02-.2 1.41-.59l7.78-7.78 2.81-2.81c.8-.78.8-2.07 0-2.86zM5.41 20L4 18.59l7.72-7.72 1.47 1.35L5.41 20z\"/>\n",
              "  </svg>\n",
              "      </button>\n",
              "      \n",
              "  <style>\n",
              "    .colab-df-container {\n",
              "      display:flex;\n",
              "      flex-wrap:wrap;\n",
              "      gap: 12px;\n",
              "    }\n",
              "\n",
              "    .colab-df-convert {\n",
              "      background-color: #E8F0FE;\n",
              "      border: none;\n",
              "      border-radius: 50%;\n",
              "      cursor: pointer;\n",
              "      display: none;\n",
              "      fill: #1967D2;\n",
              "      height: 32px;\n",
              "      padding: 0 0 0 0;\n",
              "      width: 32px;\n",
              "    }\n",
              "\n",
              "    .colab-df-convert:hover {\n",
              "      background-color: #E2EBFA;\n",
              "      box-shadow: 0px 1px 2px rgba(60, 64, 67, 0.3), 0px 1px 3px 1px rgba(60, 64, 67, 0.15);\n",
              "      fill: #174EA6;\n",
              "    }\n",
              "\n",
              "    [theme=dark] .colab-df-convert {\n",
              "      background-color: #3B4455;\n",
              "      fill: #D2E3FC;\n",
              "    }\n",
              "\n",
              "    [theme=dark] .colab-df-convert:hover {\n",
              "      background-color: #434B5C;\n",
              "      box-shadow: 0px 1px 3px 1px rgba(0, 0, 0, 0.15);\n",
              "      filter: drop-shadow(0px 1px 2px rgba(0, 0, 0, 0.3));\n",
              "      fill: #FFFFFF;\n",
              "    }\n",
              "  </style>\n",
              "\n",
              "      <script>\n",
              "        const buttonEl =\n",
              "          document.querySelector('#df-71734665-f76d-4fc6-9792-824f7683e0a6 button.colab-df-convert');\n",
              "        buttonEl.style.display =\n",
              "          google.colab.kernel.accessAllowed ? 'block' : 'none';\n",
              "\n",
              "        async function convertToInteractive(key) {\n",
              "          const element = document.querySelector('#df-71734665-f76d-4fc6-9792-824f7683e0a6');\n",
              "          const dataTable =\n",
              "            await google.colab.kernel.invokeFunction('convertToInteractive',\n",
              "                                                     [key], {});\n",
              "          if (!dataTable) return;\n",
              "\n",
              "          const docLinkHtml = 'Like what you see? Visit the ' +\n",
              "            '<a target=\"_blank\" href=https://colab.research.google.com/notebooks/data_table.ipynb>data table notebook</a>'\n",
              "            + ' to learn more about interactive tables.';\n",
              "          element.innerHTML = '';\n",
              "          dataTable['output_type'] = 'display_data';\n",
              "          await google.colab.output.renderOutput(dataTable, element);\n",
              "          const docLink = document.createElement('div');\n",
              "          docLink.innerHTML = docLinkHtml;\n",
              "          element.appendChild(docLink);\n",
              "        }\n",
              "      </script>\n",
              "    </div>\n",
              "  </div>\n",
              "  "
            ]
          },
          "metadata": {},
          "execution_count": 13
        }
      ]
    },
    {
      "cell_type": "code",
      "source": [
        "X_train_min_max_series = X_train_min_max_scaler.values.reshape((X_train_min_max_scaler.shape[0], X_train_min_max_scaler.shape[1], 1))\n",
        "X_valid_min_max_series = X_valid_min_max_scaler.values.reshape((X_valid_min_max_scaler.shape[0], X_valid_min_max_scaler.shape[1], 1))\n",
        "print('Train set shape', X_train_min_max_series.shape)\n",
        "print('Validation set shape', X_valid_min_max_series.shape)"
      ],
      "metadata": {
        "colab": {
          "base_uri": "https://localhost:8080/"
        },
        "id": "dLqc8ZQ10cHN",
        "outputId": "7231eccb-b583-4b50-c97d-11e32c2ffed9"
      },
      "execution_count": null,
      "outputs": [
        {
          "output_type": "stream",
          "name": "stdout",
          "text": [
            "Train set shape (5212, 15, 1)\n",
            "Validation set shape (2235, 15, 1)\n"
          ]
        }
      ]
    },
    {
      "cell_type": "markdown",
      "source": [
        "# Hyper Parameter Tuning using Keras Auto Tuner"
      ],
      "metadata": {
        "id": "tMmGMwHsCS9l"
      }
    },
    {
      "cell_type": "code",
      "source": [
        "mae = MeanAbsoluteError()\n",
        "model_high = keras.Sequential()\n",
        "model_high.add(keras.layers.Flatten(input_shape=(X_train_min_max_series.shape[1], X_train_min_max_series.shape[2])))\n",
        "model_high.add(Dense(units=352, activation='relu'))\n",
        "model_high.add(Dropout(rate=0))\n",
        "model_high.add(tf.keras.layers.Dense(units=352, activation='relu'))\n",
        "model_high.add(Dropout(rate=0))\n",
        "model_high.add(tf.keras.layers.Dense(units=32, activation='relu'))\n",
        "model_high.add(Dropout(rate=0))\n",
        "model_high.add(Dense(1, kernel_initializer='normal', activation='linear'))\n",
        "model_high.compile(optimizer=tf.keras.optimizers.Adam(learning_rate=0.0001),loss=mae,metrics=[mae])\n",
        "model_high.summary()"
      ],
      "metadata": {
        "id": "OnoIwZ7fuUE6",
        "colab": {
          "base_uri": "https://localhost:8080/"
        },
        "outputId": "63fe051e-40a4-4ad4-da6a-4e485ee47a0e"
      },
      "execution_count": null,
      "outputs": [
        {
          "output_type": "stream",
          "name": "stdout",
          "text": [
            "Model: \"sequential_1\"\n",
            "_________________________________________________________________\n",
            " Layer (type)                Output Shape              Param #   \n",
            "=================================================================\n",
            " flatten_1 (Flatten)         (None, 15)                0         \n",
            "                                                                 \n",
            " dense_4 (Dense)             (None, 352)               5632      \n",
            "                                                                 \n",
            " dropout_3 (Dropout)         (None, 352)               0         \n",
            "                                                                 \n",
            " dense_5 (Dense)             (None, 352)               124256    \n",
            "                                                                 \n",
            " dropout_4 (Dropout)         (None, 352)               0         \n",
            "                                                                 \n",
            " dense_6 (Dense)             (None, 32)                11296     \n",
            "                                                                 \n",
            " dropout_5 (Dropout)         (None, 32)                0         \n",
            "                                                                 \n",
            " dense_7 (Dense)             (None, 1)                 33        \n",
            "                                                                 \n",
            "=================================================================\n",
            "Total params: 141,217\n",
            "Trainable params: 141,217\n",
            "Non-trainable params: 0\n",
            "_________________________________________________________________\n"
          ]
        }
      ]
    },
    {
      "cell_type": "code",
      "source": [
        "monitor = EarlyStopping(monitor='val_loss', min_delta=1e-3, patience=30, \n",
        "        verbose=1, mode='auto', restore_best_weights=True)\n",
        "history=model_high.fit(X_train_min_max_series, Y_train_min_max_scaler, validation_data=(X_valid_min_max_series, Y_valid_min_max_scaler),\n",
        "        callbacks=[monitor],verbose=1,epochs=500)"
      ],
      "metadata": {
        "id": "-PKWOGp_FQBU",
        "colab": {
          "base_uri": "https://localhost:8080/"
        },
        "outputId": "d65f861d-a7a6-4aba-91af-ff51cd894b20"
      },
      "execution_count": null,
      "outputs": [
        {
          "output_type": "stream",
          "name": "stdout",
          "text": [
            "Epoch 1/500\n",
            "163/163 [==============================] - 2s 5ms/step - loss: 0.0666 - mean_absolute_error: 0.0665 - val_loss: 0.0397 - val_mean_absolute_error: 0.0397\n",
            "Epoch 2/500\n",
            "163/163 [==============================] - 1s 3ms/step - loss: 0.0392 - mean_absolute_error: 0.0392 - val_loss: 0.0383 - val_mean_absolute_error: 0.0383\n",
            "Epoch 3/500\n",
            "163/163 [==============================] - 1s 4ms/step - loss: 0.0379 - mean_absolute_error: 0.0379 - val_loss: 0.0377 - val_mean_absolute_error: 0.0377\n",
            "Epoch 4/500\n",
            "163/163 [==============================] - 1s 3ms/step - loss: 0.0375 - mean_absolute_error: 0.0375 - val_loss: 0.0390 - val_mean_absolute_error: 0.0390\n",
            "Epoch 5/500\n",
            "163/163 [==============================] - 1s 4ms/step - loss: 0.0373 - mean_absolute_error: 0.0373 - val_loss: 0.0375 - val_mean_absolute_error: 0.0375\n",
            "Epoch 6/500\n",
            "163/163 [==============================] - 1s 4ms/step - loss: 0.0367 - mean_absolute_error: 0.0367 - val_loss: 0.0375 - val_mean_absolute_error: 0.0375\n",
            "Epoch 7/500\n",
            "163/163 [==============================] - 1s 3ms/step - loss: 0.0369 - mean_absolute_error: 0.0369 - val_loss: 0.0387 - val_mean_absolute_error: 0.0387\n",
            "Epoch 8/500\n",
            "163/163 [==============================] - 1s 4ms/step - loss: 0.0366 - mean_absolute_error: 0.0366 - val_loss: 0.0375 - val_mean_absolute_error: 0.0375\n",
            "Epoch 9/500\n",
            "163/163 [==============================] - 1s 3ms/step - loss: 0.0366 - mean_absolute_error: 0.0366 - val_loss: 0.0389 - val_mean_absolute_error: 0.0389\n",
            "Epoch 10/500\n",
            "163/163 [==============================] - 1s 4ms/step - loss: 0.0364 - mean_absolute_error: 0.0364 - val_loss: 0.0373 - val_mean_absolute_error: 0.0373\n",
            "Epoch 11/500\n",
            "163/163 [==============================] - 1s 4ms/step - loss: 0.0365 - mean_absolute_error: 0.0365 - val_loss: 0.0382 - val_mean_absolute_error: 0.0382\n",
            "Epoch 12/500\n",
            "163/163 [==============================] - 1s 4ms/step - loss: 0.0365 - mean_absolute_error: 0.0365 - val_loss: 0.0376 - val_mean_absolute_error: 0.0376\n",
            "Epoch 13/500\n",
            "163/163 [==============================] - 1s 4ms/step - loss: 0.0363 - mean_absolute_error: 0.0363 - val_loss: 0.0388 - val_mean_absolute_error: 0.0387\n",
            "Epoch 14/500\n",
            "163/163 [==============================] - 1s 5ms/step - loss: 0.0361 - mean_absolute_error: 0.0360 - val_loss: 0.0373 - val_mean_absolute_error: 0.0373\n",
            "Epoch 15/500\n",
            "163/163 [==============================] - 1s 4ms/step - loss: 0.0362 - mean_absolute_error: 0.0362 - val_loss: 0.0373 - val_mean_absolute_error: 0.0373\n",
            "Epoch 16/500\n",
            "163/163 [==============================] - 1s 4ms/step - loss: 0.0361 - mean_absolute_error: 0.0361 - val_loss: 0.0378 - val_mean_absolute_error: 0.0378\n",
            "Epoch 17/500\n",
            "163/163 [==============================] - 1s 4ms/step - loss: 0.0362 - mean_absolute_error: 0.0362 - val_loss: 0.0375 - val_mean_absolute_error: 0.0375\n",
            "Epoch 18/500\n",
            "163/163 [==============================] - 1s 4ms/step - loss: 0.0362 - mean_absolute_error: 0.0363 - val_loss: 0.0374 - val_mean_absolute_error: 0.0374\n",
            "Epoch 19/500\n",
            "163/163 [==============================] - 1s 4ms/step - loss: 0.0360 - mean_absolute_error: 0.0360 - val_loss: 0.0375 - val_mean_absolute_error: 0.0374\n",
            "Epoch 20/500\n",
            "163/163 [==============================] - 1s 4ms/step - loss: 0.0359 - mean_absolute_error: 0.0359 - val_loss: 0.0374 - val_mean_absolute_error: 0.0373\n",
            "Epoch 21/500\n",
            "163/163 [==============================] - 1s 4ms/step - loss: 0.0362 - mean_absolute_error: 0.0362 - val_loss: 0.0400 - val_mean_absolute_error: 0.0400\n",
            "Epoch 22/500\n",
            "163/163 [==============================] - 1s 4ms/step - loss: 0.0359 - mean_absolute_error: 0.0359 - val_loss: 0.0375 - val_mean_absolute_error: 0.0375\n",
            "Epoch 23/500\n",
            "163/163 [==============================] - 1s 4ms/step - loss: 0.0361 - mean_absolute_error: 0.0361 - val_loss: 0.0380 - val_mean_absolute_error: 0.0380\n",
            "Epoch 24/500\n",
            "163/163 [==============================] - 1s 4ms/step - loss: 0.0359 - mean_absolute_error: 0.0359 - val_loss: 0.0378 - val_mean_absolute_error: 0.0378\n",
            "Epoch 25/500\n",
            "163/163 [==============================] - 1s 4ms/step - loss: 0.0358 - mean_absolute_error: 0.0358 - val_loss: 0.0375 - val_mean_absolute_error: 0.0375\n",
            "Epoch 26/500\n",
            "163/163 [==============================] - 1s 4ms/step - loss: 0.0358 - mean_absolute_error: 0.0358 - val_loss: 0.0376 - val_mean_absolute_error: 0.0376\n",
            "Epoch 27/500\n",
            "163/163 [==============================] - 1s 4ms/step - loss: 0.0359 - mean_absolute_error: 0.0359 - val_loss: 0.0390 - val_mean_absolute_error: 0.0390\n",
            "Epoch 28/500\n",
            "163/163 [==============================] - 1s 4ms/step - loss: 0.0358 - mean_absolute_error: 0.0358 - val_loss: 0.0386 - val_mean_absolute_error: 0.0386\n",
            "Epoch 29/500\n",
            "163/163 [==============================] - 1s 3ms/step - loss: 0.0361 - mean_absolute_error: 0.0361 - val_loss: 0.0381 - val_mean_absolute_error: 0.0380\n",
            "Epoch 30/500\n",
            "163/163 [==============================] - 1s 4ms/step - loss: 0.0357 - mean_absolute_error: 0.0357 - val_loss: 0.0379 - val_mean_absolute_error: 0.0378\n",
            "Epoch 31/500\n",
            "163/163 [==============================] - 1s 3ms/step - loss: 0.0354 - mean_absolute_error: 0.0354 - val_loss: 0.0376 - val_mean_absolute_error: 0.0375\n",
            "Epoch 32/500\n",
            "153/163 [===========================>..] - ETA: 0s - loss: 0.0353 - mean_absolute_error: 0.0353Restoring model weights from the end of the best epoch: 2.\n",
            "163/163 [==============================] - 1s 4ms/step - loss: 0.0354 - mean_absolute_error: 0.0354 - val_loss: 0.0390 - val_mean_absolute_error: 0.0390\n",
            "Epoch 32: early stopping\n"
          ]
        }
      ]
    },
    {
      "cell_type": "code",
      "source": [
        "kt_train_pred_min_max_scaled = model_high.predict(X_train_min_max_scaler)\n",
        "kt_valid_pred_min_max_scaled = model_high.predict(X_valid_min_max_scaler)\n",
        "print('Train rmse:', np.sqrt(mean_squared_error(Y_train_min_max_scaler, kt_train_pred_min_max_scaled)))\n",
        "print('Validation rmse:', np.sqrt(mean_squared_error(Y_valid_min_max_scaler, kt_valid_pred_min_max_scaled)))"
      ],
      "metadata": {
        "id": "SbjYnKdYFPzS",
        "colab": {
          "base_uri": "https://localhost:8080/"
        },
        "outputId": "a656f8bc-fde6-4462-f0fe-460e58c0a073"
      },
      "execution_count": null,
      "outputs": [
        {
          "output_type": "stream",
          "name": "stdout",
          "text": [
            "Train rmse: 0.06474934203909355\n",
            "Validation rmse: 0.06519796046152654\n"
          ]
        }
      ]
    },
    {
      "cell_type": "code",
      "source": [
        "df = frame_test[col_names_scaled]\n",
        "df_test_scaled = pd.DataFrame(min_max_scaler.fit_transform(df))\n",
        "X_test_scaled = df_test_scaled.iloc[:,:-1]\n",
        "X_test_scaled.head()"
      ],
      "metadata": {
        "colab": {
          "base_uri": "https://localhost:8080/"
        },
        "id": "nDQL84YXFXyy",
        "outputId": "be9c4c2a-728e-4cdb-d7e0-d0046fa80ad6"
      },
      "execution_count": null,
      "outputs": [
        {
          "output_type": "stream",
          "name": "stdout",
          "text": [
            "Trial 254 Complete [00h 00m 43s]\n",
            "val_mean_absolute_error: 0.03796384111046791\n",
            "\n",
            "Best val_mean_absolute_error So Far: 0.03741270676255226\n",
            "Total elapsed time: 00h 35m 16s\n"
          ]
        }
      ]
    },
    {
      "cell_type": "code",
      "source": [
        "Y_test = frame_test.iloc[:,-1:]\n",
        "Y_test.reset_index(drop=True,inplace=True)\n",
        "X_pred_scaled = model_high.predict(X_test_scaled)\n",
        "df_test_scaled[15]=X_pred_scaled\n",
        "#Inverse Transforming the Predicted Values\n",
        "df_test = pd.DataFrame(min_max_scaler.inverse_transform(df_test_scaled))\n",
        "Y_pred = df_test.iloc[:,-1:]"
      ],
      "metadata": {
        "id": "HDq3V2eZN7US"
      },
      "execution_count": null,
      "outputs": []
    },
    {
      "cell_type": "code",
      "source": [
        "Y_test = frame_test.iloc[:,-1:]\n",
        "Y_test.reset_index(drop=True,inplace=True)\n",
        "X_pred_scaled = model_high.predict(X_test_scaled)\n",
        "df_test_scaled[15]=X_pred_scaled\n",
        "#Inverse Transforming the Predicted Values\n",
        "df_test = pd.DataFrame(min_max_scaler.inverse_transform(df_test_scaled))\n",
        "Y_pred = df_test.iloc[:,-1:]"
      ],
      "metadata": {
        "id": "WHNhLHYcOATH"
      },
      "execution_count": null,
      "outputs": []
    },
    {
      "cell_type": "code",
      "source": [
        "kt_train_pred_min_max_scaled = best_model.predict(X_train_min_max_scaler)\n",
        "kt_valid_pred_min_max_scaled = best_model.predict(X_valid_min_max_scaler)\n",
        "print('Train rmse:', np.sqrt(mean_squared_error(Y_train_min_max_scaler, kt_train_pred_min_max_scaled)))\n",
        "print('Validation rmse:', np.sqrt(mean_squared_error(Y_valid_min_max_scaler, kt_valid_pred_min_max_scaled)))"
      ],
      "metadata": {
        "colab": {
          "base_uri": "https://localhost:8080/"
        },
        "id": "EPG_9isG2iRf",
        "outputId": "c1639816-ddf2-4eb3-fa0c-f820c271576a"
      },
      "execution_count": null,
      "outputs": [
        {
          "output_type": "stream",
          "name": "stdout",
          "text": [
            "Train rmse: 0.0614242777727887\n",
            "Validation rmse: 0.06296823193110176\n"
          ]
        }
      ]
    },
    {
      "cell_type": "code",
      "source": [
        "df = frame_test[col_names_scaled]\n",
        "df_test_scaled = pd.DataFrame(min_max_scaler.fit_transform(df))\n",
        "X_test_scaled = df_test_scaled.iloc[:,:-1]\n",
        "X_test_scaled.head()"
      ],
      "metadata": {
        "id": "q2SJ6AdB21Dv",
        "colab": {
          "base_uri": "https://localhost:8080/",
          "height": 206
        },
        "outputId": "befd9fbd-bbac-4a2d-f75b-27822e641dc6"
      },
      "execution_count": null,
      "outputs": [
        {
          "output_type": "execute_result",
          "data": {
            "text/plain": [
              "         0         1         2         3         4         5         6   \\\n",
              "0  0.428571  0.428571  0.642857  0.428571  0.428571  0.000000  0.000000   \n",
              "1  0.428571  0.428571  0.428571  0.428571  0.642857  0.000000  0.000000   \n",
              "2  0.571429  0.428571  0.428571  0.428571  0.428571  0.022240  0.000000   \n",
              "3  0.571429  0.571429  0.571429  0.428571  0.428571  0.036378  0.048473   \n",
              "4  0.428571  0.571429  0.428571  0.428571  0.500000  0.021088  0.032273   \n",
              "\n",
              "         7         8         9         10        11        12        13  \\\n",
              "0  0.003680  0.000034  0.000038  0.489362  0.468085  0.468085  0.531915   \n",
              "1  0.000000  0.000000  0.003898  0.531915  0.489362  0.489362  0.468085   \n",
              "2  0.000000  0.000000  0.000000  0.531915  0.531915  0.489362  0.489362   \n",
              "3  0.020858  0.000000  0.000000  0.531915  0.531915  0.531915  0.531915   \n",
              "4  0.028277  0.015935  0.031637  0.489362  0.510638  0.510638  0.574468   \n",
              "\n",
              "         14  \n",
              "0  0.531915  \n",
              "1  0.468085  \n",
              "2  0.468085  \n",
              "3  0.489362  \n",
              "4  0.531915  "
            ],
            "text/html": [
              "\n",
              "  <div id=\"df-f48689c0-6d1a-4d2f-9320-7653eee10704\">\n",
              "    <div class=\"colab-df-container\">\n",
              "      <div>\n",
              "<style scoped>\n",
              "    .dataframe tbody tr th:only-of-type {\n",
              "        vertical-align: middle;\n",
              "    }\n",
              "\n",
              "    .dataframe tbody tr th {\n",
              "        vertical-align: top;\n",
              "    }\n",
              "\n",
              "    .dataframe thead th {\n",
              "        text-align: right;\n",
              "    }\n",
              "</style>\n",
              "<table border=\"1\" class=\"dataframe\">\n",
              "  <thead>\n",
              "    <tr style=\"text-align: right;\">\n",
              "      <th></th>\n",
              "      <th>0</th>\n",
              "      <th>1</th>\n",
              "      <th>2</th>\n",
              "      <th>3</th>\n",
              "      <th>4</th>\n",
              "      <th>5</th>\n",
              "      <th>6</th>\n",
              "      <th>7</th>\n",
              "      <th>8</th>\n",
              "      <th>9</th>\n",
              "      <th>10</th>\n",
              "      <th>11</th>\n",
              "      <th>12</th>\n",
              "      <th>13</th>\n",
              "      <th>14</th>\n",
              "    </tr>\n",
              "  </thead>\n",
              "  <tbody>\n",
              "    <tr>\n",
              "      <th>0</th>\n",
              "      <td>0.428571</td>\n",
              "      <td>0.428571</td>\n",
              "      <td>0.642857</td>\n",
              "      <td>0.428571</td>\n",
              "      <td>0.428571</td>\n",
              "      <td>0.000000</td>\n",
              "      <td>0.000000</td>\n",
              "      <td>0.003680</td>\n",
              "      <td>0.000034</td>\n",
              "      <td>0.000038</td>\n",
              "      <td>0.489362</td>\n",
              "      <td>0.468085</td>\n",
              "      <td>0.468085</td>\n",
              "      <td>0.531915</td>\n",
              "      <td>0.531915</td>\n",
              "    </tr>\n",
              "    <tr>\n",
              "      <th>1</th>\n",
              "      <td>0.428571</td>\n",
              "      <td>0.428571</td>\n",
              "      <td>0.428571</td>\n",
              "      <td>0.428571</td>\n",
              "      <td>0.642857</td>\n",
              "      <td>0.000000</td>\n",
              "      <td>0.000000</td>\n",
              "      <td>0.000000</td>\n",
              "      <td>0.000000</td>\n",
              "      <td>0.003898</td>\n",
              "      <td>0.531915</td>\n",
              "      <td>0.489362</td>\n",
              "      <td>0.489362</td>\n",
              "      <td>0.468085</td>\n",
              "      <td>0.468085</td>\n",
              "    </tr>\n",
              "    <tr>\n",
              "      <th>2</th>\n",
              "      <td>0.571429</td>\n",
              "      <td>0.428571</td>\n",
              "      <td>0.428571</td>\n",
              "      <td>0.428571</td>\n",
              "      <td>0.428571</td>\n",
              "      <td>0.022240</td>\n",
              "      <td>0.000000</td>\n",
              "      <td>0.000000</td>\n",
              "      <td>0.000000</td>\n",
              "      <td>0.000000</td>\n",
              "      <td>0.531915</td>\n",
              "      <td>0.531915</td>\n",
              "      <td>0.489362</td>\n",
              "      <td>0.489362</td>\n",
              "      <td>0.468085</td>\n",
              "    </tr>\n",
              "    <tr>\n",
              "      <th>3</th>\n",
              "      <td>0.571429</td>\n",
              "      <td>0.571429</td>\n",
              "      <td>0.571429</td>\n",
              "      <td>0.428571</td>\n",
              "      <td>0.428571</td>\n",
              "      <td>0.036378</td>\n",
              "      <td>0.048473</td>\n",
              "      <td>0.020858</td>\n",
              "      <td>0.000000</td>\n",
              "      <td>0.000000</td>\n",
              "      <td>0.531915</td>\n",
              "      <td>0.531915</td>\n",
              "      <td>0.531915</td>\n",
              "      <td>0.531915</td>\n",
              "      <td>0.489362</td>\n",
              "    </tr>\n",
              "    <tr>\n",
              "      <th>4</th>\n",
              "      <td>0.428571</td>\n",
              "      <td>0.571429</td>\n",
              "      <td>0.428571</td>\n",
              "      <td>0.428571</td>\n",
              "      <td>0.500000</td>\n",
              "      <td>0.021088</td>\n",
              "      <td>0.032273</td>\n",
              "      <td>0.028277</td>\n",
              "      <td>0.015935</td>\n",
              "      <td>0.031637</td>\n",
              "      <td>0.489362</td>\n",
              "      <td>0.510638</td>\n",
              "      <td>0.510638</td>\n",
              "      <td>0.574468</td>\n",
              "      <td>0.531915</td>\n",
              "    </tr>\n",
              "  </tbody>\n",
              "</table>\n",
              "</div>\n",
              "      <button class=\"colab-df-convert\" onclick=\"convertToInteractive('df-f48689c0-6d1a-4d2f-9320-7653eee10704')\"\n",
              "              title=\"Convert this dataframe to an interactive table.\"\n",
              "              style=\"display:none;\">\n",
              "        \n",
              "  <svg xmlns=\"http://www.w3.org/2000/svg\" height=\"24px\"viewBox=\"0 0 24 24\"\n",
              "       width=\"24px\">\n",
              "    <path d=\"M0 0h24v24H0V0z\" fill=\"none\"/>\n",
              "    <path d=\"M18.56 5.44l.94 2.06.94-2.06 2.06-.94-2.06-.94-.94-2.06-.94 2.06-2.06.94zm-11 1L8.5 8.5l.94-2.06 2.06-.94-2.06-.94L8.5 2.5l-.94 2.06-2.06.94zm10 10l.94 2.06.94-2.06 2.06-.94-2.06-.94-.94-2.06-.94 2.06-2.06.94z\"/><path d=\"M17.41 7.96l-1.37-1.37c-.4-.4-.92-.59-1.43-.59-.52 0-1.04.2-1.43.59L10.3 9.45l-7.72 7.72c-.78.78-.78 2.05 0 2.83L4 21.41c.39.39.9.59 1.41.59.51 0 1.02-.2 1.41-.59l7.78-7.78 2.81-2.81c.8-.78.8-2.07 0-2.86zM5.41 20L4 18.59l7.72-7.72 1.47 1.35L5.41 20z\"/>\n",
              "  </svg>\n",
              "      </button>\n",
              "      \n",
              "  <style>\n",
              "    .colab-df-container {\n",
              "      display:flex;\n",
              "      flex-wrap:wrap;\n",
              "      gap: 12px;\n",
              "    }\n",
              "\n",
              "    .colab-df-convert {\n",
              "      background-color: #E8F0FE;\n",
              "      border: none;\n",
              "      border-radius: 50%;\n",
              "      cursor: pointer;\n",
              "      display: none;\n",
              "      fill: #1967D2;\n",
              "      height: 32px;\n",
              "      padding: 0 0 0 0;\n",
              "      width: 32px;\n",
              "    }\n",
              "\n",
              "    .colab-df-convert:hover {\n",
              "      background-color: #E2EBFA;\n",
              "      box-shadow: 0px 1px 2px rgba(60, 64, 67, 0.3), 0px 1px 3px 1px rgba(60, 64, 67, 0.15);\n",
              "      fill: #174EA6;\n",
              "    }\n",
              "\n",
              "    [theme=dark] .colab-df-convert {\n",
              "      background-color: #3B4455;\n",
              "      fill: #D2E3FC;\n",
              "    }\n",
              "\n",
              "    [theme=dark] .colab-df-convert:hover {\n",
              "      background-color: #434B5C;\n",
              "      box-shadow: 0px 1px 3px 1px rgba(0, 0, 0, 0.15);\n",
              "      filter: drop-shadow(0px 1px 2px rgba(0, 0, 0, 0.3));\n",
              "      fill: #FFFFFF;\n",
              "    }\n",
              "  </style>\n",
              "\n",
              "      <script>\n",
              "        const buttonEl =\n",
              "          document.querySelector('#df-f48689c0-6d1a-4d2f-9320-7653eee10704 button.colab-df-convert');\n",
              "        buttonEl.style.display =\n",
              "          google.colab.kernel.accessAllowed ? 'block' : 'none';\n",
              "\n",
              "        async function convertToInteractive(key) {\n",
              "          const element = document.querySelector('#df-f48689c0-6d1a-4d2f-9320-7653eee10704');\n",
              "          const dataTable =\n",
              "            await google.colab.kernel.invokeFunction('convertToInteractive',\n",
              "                                                     [key], {});\n",
              "          if (!dataTable) return;\n",
              "\n",
              "          const docLinkHtml = 'Like what you see? Visit the ' +\n",
              "            '<a target=\"_blank\" href=https://colab.research.google.com/notebooks/data_table.ipynb>data table notebook</a>'\n",
              "            + ' to learn more about interactive tables.';\n",
              "          element.innerHTML = '';\n",
              "          dataTable['output_type'] = 'display_data';\n",
              "          await google.colab.output.renderOutput(dataTable, element);\n",
              "          const docLink = document.createElement('div');\n",
              "          docLink.innerHTML = docLinkHtml;\n",
              "          element.appendChild(docLink);\n",
              "        }\n",
              "      </script>\n",
              "    </div>\n",
              "  </div>\n",
              "  "
            ]
          },
          "metadata": {},
          "execution_count": 22
        }
      ]
    },
    {
      "cell_type": "code",
      "source": [
        "Y_test = frame_test.iloc[:,-1:]\n",
        "Y_test.reset_index(drop=True,inplace=True)\n",
        "X_pred_scaled = best_model.predict(X_test_scaled)\n",
        "df_test_scaled[15]=X_pred_scaled\n",
        "#Inverse Transforming the Predicted Values\n",
        "df_test = pd.DataFrame(min_max_scaler.inverse_transform(df_test_scaled))\n",
        "Y_pred = df_test.iloc[:,-1:]"
      ],
      "metadata": {
        "id": "ZS8iqO1v3Hi7"
      },
      "execution_count": null,
      "outputs": []
    },
    {
      "cell_type": "code",
      "source": [
        "fig, axes = plt.subplots(1, 1, sharex=True, sharey=True,figsize=(15,5))\n",
        "ax3 = axes\n",
        "ax3.plot(Y_test, label='Y_test')\n",
        "ax3.plot(Y_pred, label='Y_pred')\n",
        "ax3.legend(loc='best')\n",
        "ax3.set_title('Line graph of True Vs Predicted Values')\n",
        "ax3.set_xlabel('Data Points')\n",
        "ax3.set_ylabel('Values')\n",
        "plt.show()"
      ],
      "metadata": {
        "colab": {
          "base_uri": "https://localhost:8080/",
          "height": 350
        },
        "id": "kqPNcK2920_a",
        "outputId": "b8682053-0689-470a-8caa-efc762e24cc3"
      },
      "execution_count": null,
      "outputs": [
        {
          "output_type": "display_data",
          "data": {
            "text/plain": [
              "<Figure size 1080x360 with 1 Axes>"
            ],
            "image/png": "[encoded data removed]"
          },
          "metadata": {
            "needs_background": "light"
          }
        }
      ]
    },
    {
      "cell_type": "code",
      "source": [
        "Y_test=Y_test['DL_bitrate']"
      ],
      "metadata": {
        "id": "ETzEs6-y44xt"
      },
      "execution_count": null,
      "outputs": []
    },
    {
      "cell_type": "code",
      "source": [
        "fig, axes = plt.subplots(1, 1, sharex=True, sharey=True,figsize=(15,5))\n",
        "ax3 = axes\n",
        "ax3.scatter(Y_test, Y_pred[15], c='crimson')\n",
        "p1 = max(max(Y_pred[15]), max(Y_test))\n",
        "p2 = min(min(Y_pred[15]), min(Y_test))\n",
        "ax3.plot([p1, p2], [p1, p2], 'b-')\n",
        "ax3.set(xlim=(0, None),ylim=(0, None), title='Scatter Plot of True Vs Predicted Values', xlabel='True Value', ylabel='Predicted Value')\n",
        "plt.show()"
      ],
      "metadata": {
        "colab": {
          "base_uri": "https://localhost:8080/",
          "height": 350
        },
        "id": "9TWXr3GE4z4_",
        "outputId": "c10773f8-1e9f-4c3b-b9c9-5930f5f2ddd0"
      },
      "execution_count": null,
      "outputs": [
        {
          "output_type": "display_data",
          "data": {
            "text/plain": [
              "<Figure size 1080x360 with 1 Axes>"
            ],
            "image/png": "[encoded data removed]"
          },
          "metadata": {
            "needs_background": "light"
          }
        }
      ]
    },
    {
      "cell_type": "code",
      "source": [
        "a=Y_test.subtract(Y_pred[15])\n",
        "stats = {}\n",
        "# Compute the boxplot stats (as in the default matplotlib implementation)\n",
        "stats['A'] = cbook.boxplot_stats(a, labels='A')[0]\n",
        "stats['B'] = cbook.boxplot_stats(a, labels='B')[0]\n",
        "stats['C'] = cbook.boxplot_stats(a, labels='C')[0]\n",
        "\n",
        "# For box A compute the 1st and 99th percentiles\n",
        "stats['A']['q1'], stats['A']['q3'] = np.percentile(a, [5, 95])\n",
        "# For box B compute the 10th and 90th percentiles\n",
        "stats['B']['q1'], stats['B']['q3'] = np.percentile(a, [10, 90])\n",
        "# For box C compute the 25th and 75th percentiles (matplotlib default)\n",
        "stats['C']['q1'], stats['C']['q3'] = np.percentile(a, [25, 75])\n",
        "\n",
        "#fig = plt.figure(figsize =(10, 7))\n",
        "fig, ax = plt.subplots(1, 1, figsize = (10,7))\n",
        "# Plot boxplots from our computed statistics\n",
        "bp = ax.bxp([stats['A'], stats['B'], stats['C']], positions=range(3))\n",
        "\n",
        "# Colour the lines in the boxplot blue\n",
        "for element in bp.keys():\n",
        "    plt.setp(bp[element], color='C0')"
      ],
      "metadata": {
        "id": "--buq-msM4VY",
        "colab": {
          "base_uri": "https://localhost:8080/",
          "height": 428
        },
        "outputId": "2e920788-2f15-481e-e190-c19590aca2d6"
      },
      "execution_count": null,
      "outputs": [
        {
          "output_type": "display_data",
          "data": {
            "text/plain": [
              "<Figure size 720x504 with 1 Axes>"
            ],
            "image/png": "[encoded data removed]"
          },
          "metadata": {
            "needs_background": "light"
          }
        }
      ]
    },
    {
      "cell_type": "code",
      "source": [
        "Y_pred=Y_pred[15]"
      ],
      "metadata": {
        "id": "DZxUeGRm4-Bu"
      },
      "execution_count": null,
      "outputs": []
    },
    {
      "cell_type": "code",
      "source": [
        "\n",
        "# calculate MAE\n",
        "error = mae(Y_test, Y_pred)\n",
        "  \n",
        "# display\n",
        "print(\"Mean absolute error : \" + str(error))"
      ],
      "metadata": {
        "colab": {
          "base_uri": "https://localhost:8080/"
        },
        "id": "mNHvv1l15AIC",
        "outputId": "8697b27e-58a1-44c4-e099-8b29a735ebae"
      },
      "execution_count": null,
      "outputs": [
        {
          "output_type": "stream",
          "name": "stdout",
          "text": [
            "Mean absolute error : tf.Tensor(2835.7109375, shape=(), dtype=float64)\n"
          ]
        }
      ]
    },
    {
      "cell_type": "code",
      "source": [
        "# Mean Absolute Percentage Error\n",
        "\n",
        "error = mean_absolute_percentage_error(Y_test, Y_pred)\n",
        "print(error)"
      ],
      "metadata": {
        "colab": {
          "base_uri": "https://localhost:8080/"
        },
        "id": "hyBkHrvu5Bfn",
        "outputId": "36231e42-e998-4790-846f-5edf23105bd4"
      },
      "execution_count": null,
      "outputs": [
        {
          "output_type": "stream",
          "name": "stdout",
          "text": [
            "1.173056124063751e+17\n"
          ]
        }
      ]
    },
    {
      "cell_type": "code",
      "source": [
        "# Relative Absolute Error\n",
        "# (|y1-y2|)/(|y1_mean-y1|)\n",
        "def relative_absolute_error(y_true, y_pred):\n",
        "  y1=y_true.to_numpy()\n",
        "  y2=y_pred.to_numpy()\n",
        "  num = np.sum(np.absolute(np.array(y1) - np.array(y2)))\n",
        "  deno = np.sum(np.absolute(y2-np.mean(y1)))\n",
        "  return (num/deno)\n",
        "relative_absolute_error(Y_test, Y_pred)"
      ],
      "metadata": {
        "colab": {
          "base_uri": "https://localhost:8080/"
        },
        "id": "ZvPqO-qv5DgA",
        "outputId": "83d142e8-c214-4a21-fddf-e3d58c289ddf"
      },
      "execution_count": null,
      "outputs": [
        {
          "output_type": "execute_result",
          "data": {
            "text/plain": [
              "0.3674931156817441"
            ]
          },
          "metadata": {},
          "execution_count": 33
        }
      ]
    },
    {
      "cell_type": "code",
      "source": [
        "# Root Relative Squared Error\n",
        "# (|y1-y2|^2)/(|y1_mean-y1|^2)\n",
        "def rrse(y_true, y_pred):\n",
        "  y1=y_true.to_numpy()\n",
        "  y2=y_pred.to_numpy()\n",
        "  num = np.sum(np.square(np.absolute(np.array(y1) - np.array(y2))))\n",
        "  deno = np.sum(np.square(np.absolute(y2-np.mean(y1))))\n",
        "  return (num/deno)\n",
        "rrse(Y_test, Y_pred)"
      ],
      "metadata": {
        "colab": {
          "base_uri": "https://localhost:8080/"
        },
        "id": "Du5oO4b85FQo",
        "outputId": "36629c0c-cc25-4c2e-c7e0-ddda0b3e11eb"
      },
      "execution_count": null,
      "outputs": [
        {
          "output_type": "execute_result",
          "data": {
            "text/plain": [
              "0.23386171549177626"
            ]
          },
          "metadata": {},
          "execution_count": 34
        }
      ]
    },
    {
      "cell_type": "code",
      "source": [],
      "metadata": {
        "id": "2Y4Er9V25HOo"
      },
      "execution_count": null,
      "outputs": []
    }
  ]
}