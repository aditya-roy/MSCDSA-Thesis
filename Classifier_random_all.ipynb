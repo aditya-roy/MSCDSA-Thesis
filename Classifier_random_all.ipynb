{
  "nbformat": 4,
  "nbformat_minor": 0,
  "metadata": {
    "colab": {
      "provenance": [],
      "collapsed_sections": [],
      "machine_shape": "hm"
    },
    "kernelspec": {
      "name": "python3",
      "display_name": "Python 3"
    },
    "language_info": {
      "name": "python"
    },
    "accelerator": "GPU",
    "gpuClass": "standard"
  },
  "cells": [
    {
      "cell_type": "code",
      "execution_count": null,
      "metadata": {
        "colab": {
          "base_uri": "https://localhost:8080/"
        },
        "id": "1kRkv2ZKuenm",
        "outputId": "6d87c21d-e9ff-4e62-9b2b-5625bdf42df1"
      },
      "outputs": [
        {
          "output_type": "stream",
          "name": "stdout",
          "text": [
            "Mounted at /content/gdrive\n"
          ]
        }
      ],
      "source": [
        "from google.colab import drive\n",
        "drive.mount('/content/gdrive')"
      ]
    },
    {
      "cell_type": "code",
      "source": [
        "from sklearn.model_selection import train_test_split\n",
        "from keras import optimizers\n",
        "from keras.models import Sequential, Model\n",
        "from keras.layers import Dense, LSTM, Dropout\n",
        "from sklearn.metrics import mean_squared_error\n",
        "from keras.callbacks import EarlyStopping\n",
        "import matplotlib.pyplot as plt\n",
        "import numpy as np\n",
        "import pandas as pd\n",
        "import glob\n",
        "from sklearn.preprocessing import MinMaxScaler\n",
        "import matplotlib.cbook as cbook\n",
        "import tensorflow as tf\n",
        "#import kerastuner as kt\n",
        "from tensorflow.keras.losses import MeanAbsoluteError\n",
        "import keras\n",
        "from sklearn.metrics import mean_absolute_error as mae\n",
        "from sklearn.metrics import mean_absolute_percentage_error\n",
        "from sklearn.experimental import enable_iterative_imputer\n",
        "from sklearn.impute import IterativeImputer"
      ],
      "metadata": {
        "id": "RqKECRXwugg3"
      },
      "execution_count": null,
      "outputs": []
    },
    {
      "cell_type": "code",
      "source": [
        "path = r'/content/gdrive/MyDrive/transformed' # use your path\n",
        "bus_all_files = glob.glob(path + \"/bus/*.csv\")\n",
        "car_all_files = glob.glob(path + \"/car/*.csv\")\n",
        "pedestrian_all_files = glob.glob(path + \"/pedestrian/*.csv\")\n",
        "static_all_files = glob.glob(path + \"/static/*.csv\")\n",
        "train_all_files = glob.glob(path + \"/train/*.csv\") \n",
        "all_files=[]\n",
        "bus_all_files.sort()\n",
        "all_files = all_files + bus_all_files + car_all_files + pedestrian_all_files + static_all_files + train_all_files\n"
      ],
      "metadata": {
        "id": "fcHtdWK2ugem"
      },
      "execution_count": null,
      "outputs": []
    },
    {
      "cell_type": "code",
      "source": [
        "li_train = []\n",
        "for filename in all_files:\n",
        "    df = pd.read_csv(filename, index_col=None, header=0)\n",
        "    li_train.append(df)\n",
        "frame = pd.concat(li_train, axis=0, ignore_index=True)\n",
        "frame.head()"
      ],
      "metadata": {
        "colab": {
          "base_uri": "https://localhost:8080/",
          "height": 299
        },
        "id": "bMHrausYugcH",
        "outputId": "7b49612c-c878-483a-b186-c8ce403a7736"
      },
      "execution_count": null,
      "outputs": [
        {
          "output_type": "execute_result",
          "data": {
            "text/plain": [
              "  CQI-0 CQI-1 CQI-2 CQI-3 CQI-4  DL_bitrate-0  DL_bitrate-1  DL_bitrate-2  \\\n",
              "0     7     7    10     7     7             0             0           310   \n",
              "1     7     7     7    10     7             0             0             0   \n",
              "2     7     7     7     7    10             0             0             0   \n",
              "3     9     7     7     7     7          1757             0             0   \n",
              "4     9     9     7     7     7          4216          1757             0   \n",
              "\n",
              "   DL_bitrate-3  DL_bitrate-4  ... SNR-1 SNR-2 SNR-3 SNR-4 UL_bitrate-0  \\\n",
              "0             3             3  ...   7.0   7.0  10.0  10.0            0   \n",
              "1           310             3  ...   8.0   7.0   7.0  10.0            0   \n",
              "2             0           310  ...   8.0   8.0   7.0   7.0            0   \n",
              "3             0             0  ...  10.0   8.0   8.0   7.0           68   \n",
              "4             0             0  ...  10.0  10.0   8.0   8.0          151   \n",
              "\n",
              "  UL_bitrate-1 UL_bitrate-2 UL_bitrate-3 UL_bitrate-4 DL_bitrate  \n",
              "0            0           14            7            7       1769  \n",
              "1            0            0           14            7       2272  \n",
              "2            0            0            0           14       2549  \n",
              "3            0            0            0            0       2674  \n",
              "4           68            0            0            0       2393  \n",
              "\n",
              "[5 rows x 46 columns]"
            ],
            "text/html": [
              "\n",
              "  <div id=\"df-65d5d339-5a47-4af7-80a2-ac854a89a237\">\n",
              "    <div class=\"colab-df-container\">\n",
              "      <div>\n",
              "<style scoped>\n",
              "    .dataframe tbody tr th:only-of-type {\n",
              "        vertical-align: middle;\n",
              "    }\n",
              "\n",
              "    .dataframe tbody tr th {\n",
              "        vertical-align: top;\n",
              "    }\n",
              "\n",
              "    .dataframe thead th {\n",
              "        text-align: right;\n",
              "    }\n",
              "</style>\n",
              "<table border=\"1\" class=\"dataframe\">\n",
              "  <thead>\n",
              "    <tr style=\"text-align: right;\">\n",
              "      <th></th>\n",
              "      <th>CQI-0</th>\n",
              "      <th>CQI-1</th>\n",
              "      <th>CQI-2</th>\n",
              "      <th>CQI-3</th>\n",
              "      <th>CQI-4</th>\n",
              "      <th>DL_bitrate-0</th>\n",
              "      <th>DL_bitrate-1</th>\n",
              "      <th>DL_bitrate-2</th>\n",
              "      <th>DL_bitrate-3</th>\n",
              "      <th>DL_bitrate-4</th>\n",
              "      <th>...</th>\n",
              "      <th>SNR-1</th>\n",
              "      <th>SNR-2</th>\n",
              "      <th>SNR-3</th>\n",
              "      <th>SNR-4</th>\n",
              "      <th>UL_bitrate-0</th>\n",
              "      <th>UL_bitrate-1</th>\n",
              "      <th>UL_bitrate-2</th>\n",
              "      <th>UL_bitrate-3</th>\n",
              "      <th>UL_bitrate-4</th>\n",
              "      <th>DL_bitrate</th>\n",
              "    </tr>\n",
              "  </thead>\n",
              "  <tbody>\n",
              "    <tr>\n",
              "      <th>0</th>\n",
              "      <td>7</td>\n",
              "      <td>7</td>\n",
              "      <td>10</td>\n",
              "      <td>7</td>\n",
              "      <td>7</td>\n",
              "      <td>0</td>\n",
              "      <td>0</td>\n",
              "      <td>310</td>\n",
              "      <td>3</td>\n",
              "      <td>3</td>\n",
              "      <td>...</td>\n",
              "      <td>7.0</td>\n",
              "      <td>7.0</td>\n",
              "      <td>10.0</td>\n",
              "      <td>10.0</td>\n",
              "      <td>0</td>\n",
              "      <td>0</td>\n",
              "      <td>14</td>\n",
              "      <td>7</td>\n",
              "      <td>7</td>\n",
              "      <td>1769</td>\n",
              "    </tr>\n",
              "    <tr>\n",
              "      <th>1</th>\n",
              "      <td>7</td>\n",
              "      <td>7</td>\n",
              "      <td>7</td>\n",
              "      <td>10</td>\n",
              "      <td>7</td>\n",
              "      <td>0</td>\n",
              "      <td>0</td>\n",
              "      <td>0</td>\n",
              "      <td>310</td>\n",
              "      <td>3</td>\n",
              "      <td>...</td>\n",
              "      <td>8.0</td>\n",
              "      <td>7.0</td>\n",
              "      <td>7.0</td>\n",
              "      <td>10.0</td>\n",
              "      <td>0</td>\n",
              "      <td>0</td>\n",
              "      <td>0</td>\n",
              "      <td>14</td>\n",
              "      <td>7</td>\n",
              "      <td>2272</td>\n",
              "    </tr>\n",
              "    <tr>\n",
              "      <th>2</th>\n",
              "      <td>7</td>\n",
              "      <td>7</td>\n",
              "      <td>7</td>\n",
              "      <td>7</td>\n",
              "      <td>10</td>\n",
              "      <td>0</td>\n",
              "      <td>0</td>\n",
              "      <td>0</td>\n",
              "      <td>0</td>\n",
              "      <td>310</td>\n",
              "      <td>...</td>\n",
              "      <td>8.0</td>\n",
              "      <td>8.0</td>\n",
              "      <td>7.0</td>\n",
              "      <td>7.0</td>\n",
              "      <td>0</td>\n",
              "      <td>0</td>\n",
              "      <td>0</td>\n",
              "      <td>0</td>\n",
              "      <td>14</td>\n",
              "      <td>2549</td>\n",
              "    </tr>\n",
              "    <tr>\n",
              "      <th>3</th>\n",
              "      <td>9</td>\n",
              "      <td>7</td>\n",
              "      <td>7</td>\n",
              "      <td>7</td>\n",
              "      <td>7</td>\n",
              "      <td>1757</td>\n",
              "      <td>0</td>\n",
              "      <td>0</td>\n",
              "      <td>0</td>\n",
              "      <td>0</td>\n",
              "      <td>...</td>\n",
              "      <td>10.0</td>\n",
              "      <td>8.0</td>\n",
              "      <td>8.0</td>\n",
              "      <td>7.0</td>\n",
              "      <td>68</td>\n",
              "      <td>0</td>\n",
              "      <td>0</td>\n",
              "      <td>0</td>\n",
              "      <td>0</td>\n",
              "      <td>2674</td>\n",
              "    </tr>\n",
              "    <tr>\n",
              "      <th>4</th>\n",
              "      <td>9</td>\n",
              "      <td>9</td>\n",
              "      <td>7</td>\n",
              "      <td>7</td>\n",
              "      <td>7</td>\n",
              "      <td>4216</td>\n",
              "      <td>1757</td>\n",
              "      <td>0</td>\n",
              "      <td>0</td>\n",
              "      <td>0</td>\n",
              "      <td>...</td>\n",
              "      <td>10.0</td>\n",
              "      <td>10.0</td>\n",
              "      <td>8.0</td>\n",
              "      <td>8.0</td>\n",
              "      <td>151</td>\n",
              "      <td>68</td>\n",
              "      <td>0</td>\n",
              "      <td>0</td>\n",
              "      <td>0</td>\n",
              "      <td>2393</td>\n",
              "    </tr>\n",
              "  </tbody>\n",
              "</table>\n",
              "<p>5 rows × 46 columns</p>\n",
              "</div>\n",
              "      <button class=\"colab-df-convert\" onclick=\"convertToInteractive('df-65d5d339-5a47-4af7-80a2-ac854a89a237')\"\n",
              "              title=\"Convert this dataframe to an interactive table.\"\n",
              "              style=\"display:none;\">\n",
              "        \n",
              "  <svg xmlns=\"http://www.w3.org/2000/svg\" height=\"24px\"viewBox=\"0 0 24 24\"\n",
              "       width=\"24px\">\n",
              "    <path d=\"M0 0h24v24H0V0z\" fill=\"none\"/>\n",
              "    <path d=\"M18.56 5.44l.94 2.06.94-2.06 2.06-.94-2.06-.94-.94-2.06-.94 2.06-2.06.94zm-11 1L8.5 8.5l.94-2.06 2.06-.94-2.06-.94L8.5 2.5l-.94 2.06-2.06.94zm10 10l.94 2.06.94-2.06 2.06-.94-2.06-.94-.94-2.06-.94 2.06-2.06.94z\"/><path d=\"M17.41 7.96l-1.37-1.37c-.4-.4-.92-.59-1.43-.59-.52 0-1.04.2-1.43.59L10.3 9.45l-7.72 7.72c-.78.78-.78 2.05 0 2.83L4 21.41c.39.39.9.59 1.41.59.51 0 1.02-.2 1.41-.59l7.78-7.78 2.81-2.81c.8-.78.8-2.07 0-2.86zM5.41 20L4 18.59l7.72-7.72 1.47 1.35L5.41 20z\"/>\n",
              "  </svg>\n",
              "      </button>\n",
              "      \n",
              "  <style>\n",
              "    .colab-df-container {\n",
              "      display:flex;\n",
              "      flex-wrap:wrap;\n",
              "      gap: 12px;\n",
              "    }\n",
              "\n",
              "    .colab-df-convert {\n",
              "      background-color: #E8F0FE;\n",
              "      border: none;\n",
              "      border-radius: 50%;\n",
              "      cursor: pointer;\n",
              "      display: none;\n",
              "      fill: #1967D2;\n",
              "      height: 32px;\n",
              "      padding: 0 0 0 0;\n",
              "      width: 32px;\n",
              "    }\n",
              "\n",
              "    .colab-df-convert:hover {\n",
              "      background-color: #E2EBFA;\n",
              "      box-shadow: 0px 1px 2px rgba(60, 64, 67, 0.3), 0px 1px 3px 1px rgba(60, 64, 67, 0.15);\n",
              "      fill: #174EA6;\n",
              "    }\n",
              "\n",
              "    [theme=dark] .colab-df-convert {\n",
              "      background-color: #3B4455;\n",
              "      fill: #D2E3FC;\n",
              "    }\n",
              "\n",
              "    [theme=dark] .colab-df-convert:hover {\n",
              "      background-color: #434B5C;\n",
              "      box-shadow: 0px 1px 3px 1px rgba(0, 0, 0, 0.15);\n",
              "      filter: drop-shadow(0px 1px 2px rgba(0, 0, 0, 0.3));\n",
              "      fill: #FFFFFF;\n",
              "    }\n",
              "  </style>\n",
              "\n",
              "      <script>\n",
              "        const buttonEl =\n",
              "          document.querySelector('#df-65d5d339-5a47-4af7-80a2-ac854a89a237 button.colab-df-convert');\n",
              "        buttonEl.style.display =\n",
              "          google.colab.kernel.accessAllowed ? 'block' : 'none';\n",
              "\n",
              "        async function convertToInteractive(key) {\n",
              "          const element = document.querySelector('#df-65d5d339-5a47-4af7-80a2-ac854a89a237');\n",
              "          const dataTable =\n",
              "            await google.colab.kernel.invokeFunction('convertToInteractive',\n",
              "                                                     [key], {});\n",
              "          if (!dataTable) return;\n",
              "\n",
              "          const docLinkHtml = 'Like what you see? Visit the ' +\n",
              "            '<a target=\"_blank\" href=https://colab.research.google.com/notebooks/data_table.ipynb>data table notebook</a>'\n",
              "            + ' to learn more about interactive tables.';\n",
              "          element.innerHTML = '';\n",
              "          dataTable['output_type'] = 'display_data';\n",
              "          await google.colab.output.renderOutput(dataTable, element);\n",
              "          const docLink = document.createElement('div');\n",
              "          docLink.innerHTML = docLinkHtml;\n",
              "          element.appendChild(docLink);\n",
              "        }\n",
              "      </script>\n",
              "    </div>\n",
              "  </div>\n",
              "  "
            ]
          },
          "metadata": {},
          "execution_count": 4
        }
      ]
    },
    {
      "cell_type": "code",
      "source": [
        "frame.shape"
      ],
      "metadata": {
        "colab": {
          "base_uri": "https://localhost:8080/"
        },
        "id": "0hluaaI4ugZn",
        "outputId": "e446e776-d03c-4d95-b015-8d6adc7e0d6d"
      },
      "execution_count": null,
      "outputs": [
        {
          "output_type": "execute_result",
          "data": {
            "text/plain": [
              "(173308, 46)"
            ]
          },
          "metadata": {},
          "execution_count": 5
        }
      ]
    },
    {
      "cell_type": "markdown",
      "source": [
        "# Dealing with Nan Values"
      ],
      "metadata": {
        "id": "yOB3e8wkIS8O"
      }
    },
    {
      "cell_type": "code",
      "source": [
        "frame.replace('-', np.NaN, inplace = True)\n",
        "frame.isna().sum().sum()"
      ],
      "metadata": {
        "colab": {
          "base_uri": "https://localhost:8080/"
        },
        "id": "ByD8ORlNugW_",
        "outputId": "5a8da319-3b8c-4658-e0c6-fbb9644685cf"
      },
      "execution_count": null,
      "outputs": [
        {
          "output_type": "execute_result",
          "data": {
            "text/plain": [
              "1412508"
            ]
          },
          "metadata": {},
          "execution_count": 6
        }
      ]
    },
    {
      "cell_type": "code",
      "source": [
        "imputer = IterativeImputer(imputation_order='ascending',max_iter=10,random_state=42,n_nearest_features=None)\n",
        "imputed_dataset = imputer.fit_transform(frame)\n",
        "frame = pd.DataFrame(imputed_dataset,columns = frame.columns)\n",
        "frame.isna().sum().sum()"
      ],
      "metadata": {
        "colab": {
          "base_uri": "https://localhost:8080/"
        },
        "id": "pFd12VSsu-C_",
        "outputId": "13259cf4-59f3-4eb0-e7e7-2c3c6504b4a1"
      },
      "execution_count": null,
      "outputs": [
        {
          "output_type": "execute_result",
          "data": {
            "text/plain": [
              "0"
            ]
          },
          "metadata": {},
          "execution_count": 7
        }
      ]
    },
    {
      "cell_type": "code",
      "source": [
        "# LOW - below 1000\n",
        "# MEDIUM - between 1000 and 4000\n",
        "# HIGH - greater than 4000"
      ],
      "metadata": {
        "id": "7aeChI1JvFnf"
      },
      "execution_count": null,
      "outputs": []
    },
    {
      "cell_type": "code",
      "source": [
        "def categorise(row):  \n",
        "    if row['DL_bitrate'] <= 1000:\n",
        "        return 0\n",
        "    elif row['DL_bitrate'] > 1000 and row['DL_bitrate'] <= 4000:\n",
        "        return 1\n",
        "    elif row['DL_bitrate'] > 4000:\n",
        "        return 2\n",
        "    return"
      ],
      "metadata": {
        "id": "VrqMfQwBFd_a"
      },
      "execution_count": null,
      "outputs": []
    },
    {
      "cell_type": "code",
      "source": [
        "frame['Class'] = frame.apply(lambda row: categorise(row), axis=1)"
      ],
      "metadata": {
        "id": "q6QP9uHHB0x6"
      },
      "execution_count": null,
      "outputs": []
    },
    {
      "cell_type": "code",
      "source": [
        "frame_train = frame.sample(frac = 0.7, random_state=0)\n",
        "frame_test = frame.drop(frame_train.index)"
      ],
      "metadata": {
        "id": "y685mg3KPnzF"
      },
      "execution_count": null,
      "outputs": []
    },
    {
      "cell_type": "code",
      "source": [
        "frame_train['Class'].value_counts()"
      ],
      "metadata": {
        "colab": {
          "base_uri": "https://localhost:8080/"
        },
        "id": "0P3hcl9znJw6",
        "outputId": "3ac6794a-da9d-4a12-a2bc-00ae503e9d97"
      },
      "execution_count": null,
      "outputs": [
        {
          "output_type": "execute_result",
          "data": {
            "text/plain": [
              "2    69925\n",
              "1    28314\n",
              "0    23077\n",
              "Name: Class, dtype: int64"
            ]
          },
          "metadata": {},
          "execution_count": 12
        }
      ]
    },
    {
      "cell_type": "code",
      "source": [
        "frame_test['Class'].value_counts()"
      ],
      "metadata": {
        "colab": {
          "base_uri": "https://localhost:8080/"
        },
        "id": "2o_GXKmDB9eZ",
        "outputId": "3d87c57e-6759-4b58-c7f1-f298db780a6b"
      },
      "execution_count": null,
      "outputs": [
        {
          "output_type": "execute_result",
          "data": {
            "text/plain": [
              "2    30000\n",
              "1    12199\n",
              "0     9793\n",
              "Name: Class, dtype: int64"
            ]
          },
          "metadata": {},
          "execution_count": 13
        }
      ]
    },
    {
      "cell_type": "code",
      "source": [
        "col_names_scaled =['CQI-0', 'CQI-1', 'CQI-2', 'CQI-3', 'CQI-4', 'DL_bitrate-0',\n",
        "       'DL_bitrate-1', 'DL_bitrate-2', 'DL_bitrate-3', 'DL_bitrate-4', 'SNR-0', 'SNR-1', 'SNR-2', 'SNR-3', 'SNR-4','DL_bitrate']"
      ],
      "metadata": {
        "id": "eUAzOiKFvgF2"
      },
      "execution_count": null,
      "outputs": []
    },
    {
      "cell_type": "markdown",
      "source": [
        "### With Scaling"
      ],
      "metadata": {
        "id": "7Y4Xk2jDiuAs"
      }
    },
    {
      "cell_type": "markdown",
      "source": [
        "#### MinMax Scaler"
      ],
      "metadata": {
        "id": "FElO8dKKqnC0"
      }
    },
    {
      "cell_type": "code",
      "source": [
        "df = frame_train[col_names_scaled]"
      ],
      "metadata": {
        "id": "QYY6PVE42ppb"
      },
      "execution_count": null,
      "outputs": []
    },
    {
      "cell_type": "code",
      "source": [
        "df = frame_train[col_names_scaled]\n",
        "min_max_scaler = MinMaxScaler()\n",
        "# transform data\n",
        "X = pd.DataFrame(min_max_scaler.fit_transform(df))\n",
        "X = X.iloc[: , :-1]"
      ],
      "metadata": {
        "id": "VgzFuRJHvf_v"
      },
      "execution_count": null,
      "outputs": []
    },
    {
      "cell_type": "code",
      "source": [
        "Y=frame_train['Class']"
      ],
      "metadata": {
        "id": "yO3OIiSOX6eG"
      },
      "execution_count": null,
      "outputs": []
    },
    {
      "cell_type": "code",
      "source": [
        "'''from xgboost.sklearn import XGBClassifier\n",
        "from sklearn.model_selection import GridSearchCV\n",
        "base_learners = [5, 10, 50, 100, 200,  500, 1000]\n",
        "depth = [2, 3, 4, 5, 6, 7, 8, 9, 10, 12, 14]\n",
        "#gamma = [0, 0.1,0.2,0.4,0.8,1.6,3.2,6.4,25.6,102.4]\n",
        "learning_rate = [0.01, 0.03, 0.06, 0.1]\n",
        "weights = [1, 10, 25, 50, 99]\n",
        "param_grid = {'n_estimators': base_learners,'max_depth': depth,  'learning_rate': learning_rate, 'scale_pos_weight': weights}\n",
        "XGB = XGBClassifier()\n",
        "model = GridSearchCV(XGB, param_grid, scoring = 'accuracy', cv=5 , n_jobs = -1,pre_dispatch=2)\n",
        "model.fit(X, Y)\n",
        "print(\"Model with best parameters :\\n\",model.best_estimator_)'''"
      ],
      "metadata": {
        "colab": {
          "base_uri": "https://localhost:8080/",
          "height": 87
        },
        "id": "0leWcQZhCLck",
        "outputId": "248c7c0c-b30c-41a5-f41a-905918e28a96"
      },
      "execution_count": null,
      "outputs": [
        {
          "output_type": "execute_result",
          "data": {
            "text/plain": [
              "'from xgboost.sklearn import XGBClassifier\\nfrom sklearn.model_selection import GridSearchCV\\nbase_learners = [5, 10, 50, 100, 200,  500, 1000]\\ndepth = [2, 3, 4, 5, 6, 7, 8, 9, 10, 12, 14]\\n#gamma = [0, 0.1,0.2,0.4,0.8,1.6,3.2,6.4,25.6,102.4]\\nlearning_rate = [0.01, 0.03, 0.06, 0.1]\\nweights = [1, 10, 25, 50, 99]\\nparam_grid = {\\'n_estimators\\': base_learners,\\'max_depth\\': depth,  \\'learning_rate\\': learning_rate, \\'scale_pos_weight\\': weights}\\nXGB = XGBClassifier()\\nmodel = GridSearchCV(XGB, param_grid, scoring = \\'accuracy\\', cv=5 , n_jobs = -1,pre_dispatch=2)\\nmodel.fit(X, Y)\\nprint(\"Model with best parameters :\\n\",model.best_estimator_)'"
            ],
            "application/vnd.google.colaboratory.intrinsic+json": {
              "type": "string"
            }
          },
          "metadata": {},
          "execution_count": 18
        }
      ]
    },
    {
      "cell_type": "code",
      "source": [
        "from xgboost.sklearn import XGBClassifier\n",
        "model = XGBClassifier(max_depth=5, n_estimators=10,learning_rate=0.01, objective='multi:softmax',class_weight='balanced')\n",
        "model.fit(X, Y)"
      ],
      "metadata": {
        "colab": {
          "base_uri": "https://localhost:8080/"
        },
        "id": "a8lZe9NHCLaa",
        "outputId": "9e978161-98aa-4ac4-f124-982b96abc2de"
      },
      "execution_count": null,
      "outputs": [
        {
          "output_type": "execute_result",
          "data": {
            "text/plain": [
              "XGBClassifier(class_weight='balanced', learning_rate=0.01, max_depth=5,\n",
              "              n_estimators=10, objective='multi:softprob')"
            ]
          },
          "metadata": {},
          "execution_count": 19
        }
      ]
    },
    {
      "cell_type": "code",
      "source": [
        "df_test = frame_test[col_names_scaled]\n",
        "scaler = MinMaxScaler()\n",
        "# transform data\n",
        "X_test = pd.DataFrame(scaler.fit_transform(df_test))\n",
        "X_test = X_test.iloc[: , :-1]\n",
        "y_test = frame_test['Class']"
      ],
      "metadata": {
        "id": "BHQKhxeYfyNh"
      },
      "execution_count": null,
      "outputs": []
    },
    {
      "cell_type": "code",
      "source": [
        "y_pred = model.predict(X_test)"
      ],
      "metadata": {
        "id": "7I5SRDMsQnO6"
      },
      "execution_count": null,
      "outputs": []
    },
    {
      "cell_type": "code",
      "source": [
        "from sklearn.metrics import accuracy_score\n",
        "accuracy = accuracy_score(y_test, y_pred) \n",
        "\n",
        "print(\"Accuracy: %.2f%%\" % (accuracy * 100.0))"
      ],
      "metadata": {
        "colab": {
          "base_uri": "https://localhost:8080/"
        },
        "id": "fCTFfbmpCLX_",
        "outputId": "33d5d0e0-277c-4703-e8e4-535d6294a650"
      },
      "execution_count": null,
      "outputs": [
        {
          "output_type": "stream",
          "name": "stdout",
          "text": [
            "Accuracy: 86.75%\n"
          ]
        }
      ]
    },
    {
      "cell_type": "code",
      "source": [
        "y_pred"
      ],
      "metadata": {
        "colab": {
          "base_uri": "https://localhost:8080/"
        },
        "id": "iL5ZZmgeCLVo",
        "outputId": "675a720d-5875-4f3c-c8f7-c0cfeefa1c6f"
      },
      "execution_count": null,
      "outputs": [
        {
          "output_type": "execute_result",
          "data": {
            "text/plain": [
              "array([0, 1, 1, ..., 2, 2, 2])"
            ]
          },
          "metadata": {},
          "execution_count": 23
        }
      ]
    },
    {
      "cell_type": "code",
      "source": [
        "from sklearn.metrics import confusion_matrix\n",
        "cm = confusion_matrix(y_test, y_pred)"
      ],
      "metadata": {
        "id": "CH2fr2kAMtCv"
      },
      "execution_count": null,
      "outputs": []
    },
    {
      "cell_type": "code",
      "source": [
        "print (cm)"
      ],
      "metadata": {
        "colab": {
          "base_uri": "https://localhost:8080/"
        },
        "id": "pCLTQ-4zNIB9",
        "outputId": "3dbbd2ea-a5f6-4a23-e417-1c3cab55a327"
      },
      "execution_count": null,
      "outputs": [
        {
          "output_type": "stream",
          "name": "stdout",
          "text": [
            "[[ 8067  1629    97]\n",
            " [  859  8830  2510]\n",
            " [  146  1648 28206]]\n"
          ]
        }
      ]
    },
    {
      "cell_type": "code",
      "source": [
        "cm_df = pd.DataFrame(cm,\n",
        "                     index = ['Low','Medium','High'], \n",
        "                     columns = ['Low','Medium','High'])"
      ],
      "metadata": {
        "id": "38GZzMWvNOCY"
      },
      "execution_count": null,
      "outputs": []
    },
    {
      "cell_type": "code",
      "source": [
        "#Plotting the confusion matrix\n",
        "import seaborn as sns\n",
        "plt.figure(figsize=(10,10))\n",
        "sns.heatmap(cm_df, annot=True,fmt='.6g')\n",
        "plt.title('Confusion Matrix')\n",
        "plt.ylabel('Actal Values')\n",
        "plt.xlabel('Predicted Values')\n",
        "plt.show()"
      ],
      "metadata": {
        "colab": {
          "base_uri": "https://localhost:8080/",
          "height": 621
        },
        "id": "w_InkKBjNUqw",
        "outputId": "e4c7e1c7-4702-4250-9137-19ef25833ca9"
      },
      "execution_count": null,
      "outputs": [
        {
          "output_type": "display_data",
          "data": {
            "text/plain": [
              "<Figure size 720x720 with 2 Axes>"
            ],
            "image/png": "[encoded data removed]"
          },
          "metadata": {
            "needs_background": "light"
          }
        }
      ]
    },
    {
      "cell_type": "code",
      "source": [
        "#LOGISTIC REGRESSION\n",
        "\n",
        "from sklearn.linear_model import LogisticRegression\n",
        "logreg=LogisticRegression(multi_class='multinomial', C= 1000, penalty= 'l2', max_iter=100)\n",
        "logreg.fit(X,Y)"
      ],
      "metadata": {
        "colab": {
          "base_uri": "https://localhost:8080/"
        },
        "id": "nwN_u8LHTlWj",
        "outputId": "f081be7a-b64c-4278-da45-de998a23d563"
      },
      "execution_count": null,
      "outputs": [
        {
          "output_type": "stream",
          "name": "stderr",
          "text": [
            "/usr/local/lib/python3.7/dist-packages/sklearn/linear_model/_logistic.py:818: ConvergenceWarning: lbfgs failed to converge (status=1):\n",
            "STOP: TOTAL NO. of ITERATIONS REACHED LIMIT.\n",
            "\n",
            "Increase the number of iterations (max_iter) or scale the data as shown in:\n",
            "    https://scikit-learn.org/stable/modules/preprocessing.html\n",
            "Please also refer to the documentation for alternative solver options:\n",
            "    https://scikit-learn.org/stable/modules/linear_model.html#logistic-regression\n",
            "  extra_warning_msg=_LOGISTIC_SOLVER_CONVERGENCE_MSG,\n"
          ]
        },
        {
          "output_type": "execute_result",
          "data": {
            "text/plain": [
              "LogisticRegression(C=1000, multi_class='multinomial')"
            ]
          },
          "metadata": {},
          "execution_count": 28
        }
      ]
    },
    {
      "cell_type": "code",
      "source": [
        "df_test = frame_test[col_names_scaled]\n",
        "scaler = MinMaxScaler()\n",
        "# transform data\n",
        "X_test = pd.DataFrame(scaler.fit_transform(df_test))\n",
        "X_test = X_test.iloc[: , :-1]\n",
        "y_test = frame_test['Class']"
      ],
      "metadata": {
        "id": "9eihMD5KUNKP"
      },
      "execution_count": null,
      "outputs": []
    },
    {
      "cell_type": "code",
      "source": [
        "y_pred = logreg.predict(X_test)"
      ],
      "metadata": {
        "id": "2RKiMljINN_9"
      },
      "execution_count": null,
      "outputs": []
    },
    {
      "cell_type": "code",
      "source": [
        "from sklearn.metrics import accuracy_score\n",
        "accuracy = accuracy_score(y_test, y_pred) \n",
        "\n",
        "print(\"Accuracy: %.2f%%\" % (accuracy * 100.0))"
      ],
      "metadata": {
        "colab": {
          "base_uri": "https://localhost:8080/"
        },
        "id": "jd-pNyxkNN9Z",
        "outputId": "6e3dd077-e2a7-4b9c-ca8c-1fd42e6bc9dc"
      },
      "execution_count": null,
      "outputs": [
        {
          "output_type": "stream",
          "name": "stdout",
          "text": [
            "Accuracy: 86.35%\n"
          ]
        }
      ]
    },
    {
      "cell_type": "code",
      "source": [
        "from sklearn.metrics import confusion_matrix\n",
        "cm = confusion_matrix(y_test, y_pred)"
      ],
      "metadata": {
        "id": "Hn0YII-rUEKY"
      },
      "execution_count": null,
      "outputs": []
    },
    {
      "cell_type": "code",
      "source": [
        "cm_df = pd.DataFrame(cm,\n",
        "                     index = ['Low','Medium','High'], \n",
        "                     columns = ['Low','Medium','High'])"
      ],
      "metadata": {
        "id": "9KG_CQT0UJ_R"
      },
      "execution_count": null,
      "outputs": []
    },
    {
      "cell_type": "code",
      "source": [
        "#Plotting the confusion matrix\n",
        "import seaborn as sns\n",
        "plt.figure(figsize=(10,10))\n",
        "sns.heatmap(cm_df, annot=True,fmt='.6g')\n",
        "plt.title('Confusion Matrix')\n",
        "plt.ylabel('Actal Values')\n",
        "plt.xlabel('Predicted Values')\n",
        "plt.show()"
      ],
      "metadata": {
        "colab": {
          "base_uri": "https://localhost:8080/",
          "height": 621
        },
        "id": "XMSJw30aUQfp",
        "outputId": "f3d9d1fb-341e-4840-f5bf-ad416c1c7dce"
      },
      "execution_count": null,
      "outputs": [
        {
          "output_type": "display_data",
          "data": {
            "text/plain": [
              "<Figure size 720x720 with 2 Axes>"
            ],
            "image/png": "[encoded data removed]"
          },
          "metadata": {
            "needs_background": "light"
          }
        }
      ]
    },
    {
      "cell_type": "markdown",
      "source": [
        "# Model splitting"
      ],
      "metadata": {
        "id": "N3P3MDVN6l95"
      }
    },
    {
      "cell_type": "code",
      "source": [
        "frame_low = frame[frame['DL_bitrate']<=1000]\n",
        "frame_medium = frame[(frame['DL_bitrate']>1000) & (frame['DL_bitrate']<=4000)]\n",
        "frame_high = frame[frame['DL_bitrate']>4000]"
      ],
      "metadata": {
        "id": "NGKm61HA6nK7"
      },
      "execution_count": null,
      "outputs": []
    },
    {
      "cell_type": "markdown",
      "source": [
        "# low Throughput Model"
      ],
      "metadata": {
        "id": "4D4vOXr0zJ8b"
      }
    },
    {
      "cell_type": "code",
      "source": [
        "frame_low_train = frame_low.sample(frac = 0.7, random_state=0)\n",
        "frame_low_test = frame_low.drop(frame_low_train.index)"
      ],
      "metadata": {
        "id": "srqe40NA61MT"
      },
      "execution_count": null,
      "outputs": []
    },
    {
      "cell_type": "code",
      "source": [
        "print(frame_low_train.shape)\n",
        "print(frame_low_test.shape)"
      ],
      "metadata": {
        "colab": {
          "base_uri": "https://localhost:8080/"
        },
        "id": "k2blPjVm614Z",
        "outputId": "63afad72-eaac-4cf4-92d6-7871c4fc28d8"
      },
      "execution_count": null,
      "outputs": [
        {
          "output_type": "stream",
          "name": "stdout",
          "text": [
            "(23009, 47)\n",
            "(9861, 47)\n"
          ]
        }
      ]
    },
    {
      "cell_type": "code",
      "source": [
        "df = frame_low_train[col_names_scaled]\n",
        "min_max_scaler = MinMaxScaler()\n",
        "# transform data\n",
        "df_min_max_scaled = pd.DataFrame(min_max_scaler.fit_transform(df))"
      ],
      "metadata": {
        "id": "ytidRIs363_E"
      },
      "execution_count": null,
      "outputs": []
    },
    {
      "cell_type": "code",
      "source": [
        "X_train_min_max_scaler, X_valid_min_max_scaler, Y_train_min_max_scaler, Y_valid_min_max_scaler = train_test_split(df_min_max_scaled.iloc[:,:-1], df_min_max_scaled.iloc[:,-1:], test_size=0.3, random_state=0)\n",
        "print('Train set shape', X_train_min_max_scaler.shape)\n",
        "print('Validation set shape', X_valid_min_max_scaler.shape)\n",
        "X_train_min_max_scaler.head()"
      ],
      "metadata": {
        "colab": {
          "base_uri": "https://localhost:8080/",
          "height": 241
        },
        "id": "0kf6l1UQz6Ux",
        "outputId": "02bd7ec3-cd2d-4dcd-9a96-dc7287c57b91"
      },
      "execution_count": null,
      "outputs": [
        {
          "output_type": "stream",
          "name": "stdout",
          "text": [
            "Train set shape (16106, 15)\n",
            "Validation set shape (6903, 15)\n"
          ]
        },
        {
          "output_type": "execute_result",
          "data": {
            "text/plain": [
              "             0         1         2         3         4         5         6   \\\n",
              "22002  0.491432  0.437705  0.442980  0.438178  0.442533  0.000000  0.000000   \n",
              "21956  0.488265  0.500000  0.357143  0.285714  0.788959  0.003696  0.023653   \n",
              "5127   0.478625  0.406706  0.416329  0.412836  0.422115  0.000000  0.000000   \n",
              "1603   0.498366  0.435873  0.437126  0.436176  0.449646  0.003435  0.000990   \n",
              "20609  0.516664  0.443311  0.431140  0.427660  0.440492  0.001516  0.000000   \n",
              "\n",
              "             7         8         9         10        11        12        13  \\\n",
              "22002  0.000000  0.000000  0.000000  0.619884  0.601355  0.598982  0.585723   \n",
              "21956  0.020637  0.033074  0.041750  0.555556  0.555556  0.612903  0.603175   \n",
              "5127   0.000000  0.000000  0.000000  0.637583  0.608517  0.606705  0.600740   \n",
              "1603   0.000743  0.002124  0.002982  0.620180  0.597784  0.595607  0.592285   \n",
              "20609  0.000000  0.000000  0.000000  0.634076  0.589284  0.590824  0.584548   \n",
              "\n",
              "             14  \n",
              "22002  0.583443  \n",
              "21956  0.580868  \n",
              "5127   0.601133  \n",
              "1603   0.589331  \n",
              "20609  0.579941  "
            ],
            "text/html": [
              "\n",
              "  <div id=\"df-970021cc-393d-4298-83fa-9912b9588166\">\n",
              "    <div class=\"colab-df-container\">\n",
              "      <div>\n",
              "<style scoped>\n",
              "    .dataframe tbody tr th:only-of-type {\n",
              "        vertical-align: middle;\n",
              "    }\n",
              "\n",
              "    .dataframe tbody tr th {\n",
              "        vertical-align: top;\n",
              "    }\n",
              "\n",
              "    .dataframe thead th {\n",
              "        text-align: right;\n",
              "    }\n",
              "</style>\n",
              "<table border=\"1\" class=\"dataframe\">\n",
              "  <thead>\n",
              "    <tr style=\"text-align: right;\">\n",
              "      <th></th>\n",
              "      <th>0</th>\n",
              "      <th>1</th>\n",
              "      <th>2</th>\n",
              "      <th>3</th>\n",
              "      <th>4</th>\n",
              "      <th>5</th>\n",
              "      <th>6</th>\n",
              "      <th>7</th>\n",
              "      <th>8</th>\n",
              "      <th>9</th>\n",
              "      <th>10</th>\n",
              "      <th>11</th>\n",
              "      <th>12</th>\n",
              "      <th>13</th>\n",
              "      <th>14</th>\n",
              "    </tr>\n",
              "  </thead>\n",
              "  <tbody>\n",
              "    <tr>\n",
              "      <th>22002</th>\n",
              "      <td>0.491432</td>\n",
              "      <td>0.437705</td>\n",
              "      <td>0.442980</td>\n",
              "      <td>0.438178</td>\n",
              "      <td>0.442533</td>\n",
              "      <td>0.000000</td>\n",
              "      <td>0.000000</td>\n",
              "      <td>0.000000</td>\n",
              "      <td>0.000000</td>\n",
              "      <td>0.000000</td>\n",
              "      <td>0.619884</td>\n",
              "      <td>0.601355</td>\n",
              "      <td>0.598982</td>\n",
              "      <td>0.585723</td>\n",
              "      <td>0.583443</td>\n",
              "    </tr>\n",
              "    <tr>\n",
              "      <th>21956</th>\n",
              "      <td>0.488265</td>\n",
              "      <td>0.500000</td>\n",
              "      <td>0.357143</td>\n",
              "      <td>0.285714</td>\n",
              "      <td>0.788959</td>\n",
              "      <td>0.003696</td>\n",
              "      <td>0.023653</td>\n",
              "      <td>0.020637</td>\n",
              "      <td>0.033074</td>\n",
              "      <td>0.041750</td>\n",
              "      <td>0.555556</td>\n",
              "      <td>0.555556</td>\n",
              "      <td>0.612903</td>\n",
              "      <td>0.603175</td>\n",
              "      <td>0.580868</td>\n",
              "    </tr>\n",
              "    <tr>\n",
              "      <th>5127</th>\n",
              "      <td>0.478625</td>\n",
              "      <td>0.406706</td>\n",
              "      <td>0.416329</td>\n",
              "      <td>0.412836</td>\n",
              "      <td>0.422115</td>\n",
              "      <td>0.000000</td>\n",
              "      <td>0.000000</td>\n",
              "      <td>0.000000</td>\n",
              "      <td>0.000000</td>\n",
              "      <td>0.000000</td>\n",
              "      <td>0.637583</td>\n",
              "      <td>0.608517</td>\n",
              "      <td>0.606705</td>\n",
              "      <td>0.600740</td>\n",
              "      <td>0.601133</td>\n",
              "    </tr>\n",
              "    <tr>\n",
              "      <th>1603</th>\n",
              "      <td>0.498366</td>\n",
              "      <td>0.435873</td>\n",
              "      <td>0.437126</td>\n",
              "      <td>0.436176</td>\n",
              "      <td>0.449646</td>\n",
              "      <td>0.003435</td>\n",
              "      <td>0.000990</td>\n",
              "      <td>0.000743</td>\n",
              "      <td>0.002124</td>\n",
              "      <td>0.002982</td>\n",
              "      <td>0.620180</td>\n",
              "      <td>0.597784</td>\n",
              "      <td>0.595607</td>\n",
              "      <td>0.592285</td>\n",
              "      <td>0.589331</td>\n",
              "    </tr>\n",
              "    <tr>\n",
              "      <th>20609</th>\n",
              "      <td>0.516664</td>\n",
              "      <td>0.443311</td>\n",
              "      <td>0.431140</td>\n",
              "      <td>0.427660</td>\n",
              "      <td>0.440492</td>\n",
              "      <td>0.001516</td>\n",
              "      <td>0.000000</td>\n",
              "      <td>0.000000</td>\n",
              "      <td>0.000000</td>\n",
              "      <td>0.000000</td>\n",
              "      <td>0.634076</td>\n",
              "      <td>0.589284</td>\n",
              "      <td>0.590824</td>\n",
              "      <td>0.584548</td>\n",
              "      <td>0.579941</td>\n",
              "    </tr>\n",
              "  </tbody>\n",
              "</table>\n",
              "</div>\n",
              "      <button class=\"colab-df-convert\" onclick=\"convertToInteractive('df-970021cc-393d-4298-83fa-9912b9588166')\"\n",
              "              title=\"Convert this dataframe to an interactive table.\"\n",
              "              style=\"display:none;\">\n",
              "        \n",
              "  <svg xmlns=\"http://www.w3.org/2000/svg\" height=\"24px\"viewBox=\"0 0 24 24\"\n",
              "       width=\"24px\">\n",
              "    <path d=\"M0 0h24v24H0V0z\" fill=\"none\"/>\n",
              "    <path d=\"M18.56 5.44l.94 2.06.94-2.06 2.06-.94-2.06-.94-.94-2.06-.94 2.06-2.06.94zm-11 1L8.5 8.5l.94-2.06 2.06-.94-2.06-.94L8.5 2.5l-.94 2.06-2.06.94zm10 10l.94 2.06.94-2.06 2.06-.94-2.06-.94-.94-2.06-.94 2.06-2.06.94z\"/><path d=\"M17.41 7.96l-1.37-1.37c-.4-.4-.92-.59-1.43-.59-.52 0-1.04.2-1.43.59L10.3 9.45l-7.72 7.72c-.78.78-.78 2.05 0 2.83L4 21.41c.39.39.9.59 1.41.59.51 0 1.02-.2 1.41-.59l7.78-7.78 2.81-2.81c.8-.78.8-2.07 0-2.86zM5.41 20L4 18.59l7.72-7.72 1.47 1.35L5.41 20z\"/>\n",
              "  </svg>\n",
              "      </button>\n",
              "      \n",
              "  <style>\n",
              "    .colab-df-container {\n",
              "      display:flex;\n",
              "      flex-wrap:wrap;\n",
              "      gap: 12px;\n",
              "    }\n",
              "\n",
              "    .colab-df-convert {\n",
              "      background-color: #E8F0FE;\n",
              "      border: none;\n",
              "      border-radius: 50%;\n",
              "      cursor: pointer;\n",
              "      display: none;\n",
              "      fill: #1967D2;\n",
              "      height: 32px;\n",
              "      padding: 0 0 0 0;\n",
              "      width: 32px;\n",
              "    }\n",
              "\n",
              "    .colab-df-convert:hover {\n",
              "      background-color: #E2EBFA;\n",
              "      box-shadow: 0px 1px 2px rgba(60, 64, 67, 0.3), 0px 1px 3px 1px rgba(60, 64, 67, 0.15);\n",
              "      fill: #174EA6;\n",
              "    }\n",
              "\n",
              "    [theme=dark] .colab-df-convert {\n",
              "      background-color: #3B4455;\n",
              "      fill: #D2E3FC;\n",
              "    }\n",
              "\n",
              "    [theme=dark] .colab-df-convert:hover {\n",
              "      background-color: #434B5C;\n",
              "      box-shadow: 0px 1px 3px 1px rgba(0, 0, 0, 0.15);\n",
              "      filter: drop-shadow(0px 1px 2px rgba(0, 0, 0, 0.3));\n",
              "      fill: #FFFFFF;\n",
              "    }\n",
              "  </style>\n",
              "\n",
              "      <script>\n",
              "        const buttonEl =\n",
              "          document.querySelector('#df-970021cc-393d-4298-83fa-9912b9588166 button.colab-df-convert');\n",
              "        buttonEl.style.display =\n",
              "          google.colab.kernel.accessAllowed ? 'block' : 'none';\n",
              "\n",
              "        async function convertToInteractive(key) {\n",
              "          const element = document.querySelector('#df-970021cc-393d-4298-83fa-9912b9588166');\n",
              "          const dataTable =\n",
              "            await google.colab.kernel.invokeFunction('convertToInteractive',\n",
              "                                                     [key], {});\n",
              "          if (!dataTable) return;\n",
              "\n",
              "          const docLinkHtml = 'Like what you see? Visit the ' +\n",
              "            '<a target=\"_blank\" href=https://colab.research.google.com/notebooks/data_table.ipynb>data table notebook</a>'\n",
              "            + ' to learn more about interactive tables.';\n",
              "          element.innerHTML = '';\n",
              "          dataTable['output_type'] = 'display_data';\n",
              "          await google.colab.output.renderOutput(dataTable, element);\n",
              "          const docLink = document.createElement('div');\n",
              "          docLink.innerHTML = docLinkHtml;\n",
              "          element.appendChild(docLink);\n",
              "        }\n",
              "      </script>\n",
              "    </div>\n",
              "  </div>\n",
              "  "
            ]
          },
          "metadata": {},
          "execution_count": 39
        }
      ]
    },
    {
      "cell_type": "code",
      "source": [
        "X_train_min_max_series = X_train_min_max_scaler.values.reshape((X_train_min_max_scaler.shape[0], X_train_min_max_scaler.shape[1], 1))\n",
        "X_valid_min_max_series = X_valid_min_max_scaler.values.reshape((X_valid_min_max_scaler.shape[0], X_valid_min_max_scaler.shape[1], 1))\n",
        "print('Train set shape', X_train_min_max_series.shape)\n",
        "print('Validation set shape', X_valid_min_max_series.shape)"
      ],
      "metadata": {
        "colab": {
          "base_uri": "https://localhost:8080/"
        },
        "id": "xDOblFiEz6SA",
        "outputId": "5d9bed79-af06-4e2c-f8a8-9e03139820e7"
      },
      "execution_count": null,
      "outputs": [
        {
          "output_type": "stream",
          "name": "stdout",
          "text": [
            "Train set shape (16106, 15, 1)\n",
            "Validation set shape (6903, 15, 1)\n"
          ]
        }
      ]
    },
    {
      "cell_type": "code",
      "source": [
        "mae = MeanAbsoluteError()\n",
        "model_low = keras.Sequential()\n",
        "model_low.add(keras.layers.Flatten(input_shape=(X_train_min_max_series.shape[1], X_train_min_max_series.shape[2])))\n",
        "model_low.add(Dense(units=480, activation='relu'))\n",
        "model_low.add(Dropout(rate=0))\n",
        "model_low.add(tf.keras.layers.Dense(units=224, activation='relu'))\n",
        "model_low.add(Dropout(rate=0))\n",
        "model_low.add(tf.keras.layers.Dense(units=128, activation='relu'))\n",
        "model_low.add(Dropout(rate=0))\n",
        "model_low.add(Dense(1, kernel_initializer='normal', activation='linear'))\n",
        "model_low.compile(optimizer=tf.keras.optimizers.Adam(learning_rate=0.0001),loss=mae,metrics=[mae])\n",
        "model_low.summary()"
      ],
      "metadata": {
        "colab": {
          "base_uri": "https://localhost:8080/"
        },
        "id": "GeYfhyu6zL5c",
        "outputId": "c0bb810f-a06e-4492-d685-2f7c0be6b56b"
      },
      "execution_count": null,
      "outputs": [
        {
          "output_type": "stream",
          "name": "stdout",
          "text": [
            "Model: \"sequential\"\n",
            "_________________________________________________________________\n",
            " Layer (type)                Output Shape              Param #   \n",
            "=================================================================\n",
            " flatten (Flatten)           (None, 15)                0         \n",
            "                                                                 \n",
            " dense (Dense)               (None, 480)               7680      \n",
            "                                                                 \n",
            " dropout (Dropout)           (None, 480)               0         \n",
            "                                                                 \n",
            " dense_1 (Dense)             (None, 224)               107744    \n",
            "                                                                 \n",
            " dropout_1 (Dropout)         (None, 224)               0         \n",
            "                                                                 \n",
            " dense_2 (Dense)             (None, 128)               28800     \n",
            "                                                                 \n",
            " dropout_2 (Dropout)         (None, 128)               0         \n",
            "                                                                 \n",
            " dense_3 (Dense)             (None, 1)                 129       \n",
            "                                                                 \n",
            "=================================================================\n",
            "Total params: 144,353\n",
            "Trainable params: 144,353\n",
            "Non-trainable params: 0\n",
            "_________________________________________________________________\n"
          ]
        }
      ]
    },
    {
      "cell_type": "code",
      "source": [
        "monitor = EarlyStopping(monitor='val_loss', min_delta=1e-3, patience=30, \n",
        "        verbose=1, mode='auto', restore_best_weights=True)\n",
        "history=model_low.fit(X_train_min_max_series, Y_train_min_max_scaler, validation_data=(X_valid_min_max_series, Y_valid_min_max_scaler),\n",
        "        callbacks=[monitor],verbose=1,epochs=500)"
      ],
      "metadata": {
        "colab": {
          "base_uri": "https://localhost:8080/"
        },
        "id": "ut_rujSdy_wa",
        "outputId": "6d2dbdef-bed8-4f81-98b2-c153b543f6ba"
      },
      "execution_count": null,
      "outputs": [
        {
          "output_type": "stream",
          "name": "stdout",
          "text": [
            "Epoch 1/500\n",
            "504/504 [==============================] - 5s 4ms/step - loss: 0.2140 - mean_absolute_error: 0.2139 - val_loss: 0.1375 - val_mean_absolute_error: 0.1376\n",
            "Epoch 2/500\n",
            "504/504 [==============================] - 2s 4ms/step - loss: 0.1241 - mean_absolute_error: 0.1242 - val_loss: 0.1088 - val_mean_absolute_error: 0.1089\n",
            "Epoch 3/500\n",
            "504/504 [==============================] - 2s 4ms/step - loss: 0.1090 - mean_absolute_error: 0.1090 - val_loss: 0.1012 - val_mean_absolute_error: 0.1012\n",
            "Epoch 4/500\n",
            "504/504 [==============================] - 2s 4ms/step - loss: 0.1056 - mean_absolute_error: 0.1055 - val_loss: 0.1044 - val_mean_absolute_error: 0.1044\n",
            "Epoch 5/500\n",
            "504/504 [==============================] - 2s 4ms/step - loss: 0.1036 - mean_absolute_error: 0.1035 - val_loss: 0.1000 - val_mean_absolute_error: 0.1000\n",
            "Epoch 6/500\n",
            "504/504 [==============================] - 2s 4ms/step - loss: 0.1024 - mean_absolute_error: 0.1024 - val_loss: 0.0968 - val_mean_absolute_error: 0.0968\n",
            "Epoch 7/500\n",
            "504/504 [==============================] - 2s 4ms/step - loss: 0.1010 - mean_absolute_error: 0.1009 - val_loss: 0.0956 - val_mean_absolute_error: 0.0956\n",
            "Epoch 8/500\n",
            "504/504 [==============================] - 2s 4ms/step - loss: 0.1002 - mean_absolute_error: 0.1002 - val_loss: 0.0948 - val_mean_absolute_error: 0.0948\n",
            "Epoch 9/500\n",
            "504/504 [==============================] - 2s 4ms/step - loss: 0.0994 - mean_absolute_error: 0.0994 - val_loss: 0.0949 - val_mean_absolute_error: 0.0950\n",
            "Epoch 10/500\n",
            "504/504 [==============================] - 2s 4ms/step - loss: 0.0987 - mean_absolute_error: 0.0986 - val_loss: 0.0974 - val_mean_absolute_error: 0.0975\n",
            "Epoch 11/500\n",
            "504/504 [==============================] - 2s 4ms/step - loss: 0.0992 - mean_absolute_error: 0.0992 - val_loss: 0.0997 - val_mean_absolute_error: 0.0997\n",
            "Epoch 12/500\n",
            "504/504 [==============================] - 2s 4ms/step - loss: 0.0985 - mean_absolute_error: 0.0985 - val_loss: 0.1033 - val_mean_absolute_error: 0.1034\n",
            "Epoch 13/500\n",
            "504/504 [==============================] - 2s 4ms/step - loss: 0.0994 - mean_absolute_error: 0.0994 - val_loss: 0.0943 - val_mean_absolute_error: 0.0943\n",
            "Epoch 14/500\n",
            "504/504 [==============================] - 2s 4ms/step - loss: 0.0982 - mean_absolute_error: 0.0982 - val_loss: 0.0962 - val_mean_absolute_error: 0.0962\n",
            "Epoch 15/500\n",
            "504/504 [==============================] - 2s 4ms/step - loss: 0.0978 - mean_absolute_error: 0.0978 - val_loss: 0.0944 - val_mean_absolute_error: 0.0944\n",
            "Epoch 16/500\n",
            "504/504 [==============================] - 2s 4ms/step - loss: 0.0978 - mean_absolute_error: 0.0977 - val_loss: 0.0943 - val_mean_absolute_error: 0.0943\n",
            "Epoch 17/500\n",
            "504/504 [==============================] - 2s 4ms/step - loss: 0.0968 - mean_absolute_error: 0.0968 - val_loss: 0.0991 - val_mean_absolute_error: 0.0991\n",
            "Epoch 18/500\n",
            "504/504 [==============================] - 2s 4ms/step - loss: 0.0972 - mean_absolute_error: 0.0971 - val_loss: 0.0956 - val_mean_absolute_error: 0.0956\n",
            "Epoch 19/500\n",
            "504/504 [==============================] - 2s 4ms/step - loss: 0.0967 - mean_absolute_error: 0.0967 - val_loss: 0.0938 - val_mean_absolute_error: 0.0939\n",
            "Epoch 20/500\n",
            "504/504 [==============================] - 2s 4ms/step - loss: 0.0964 - mean_absolute_error: 0.0965 - val_loss: 0.0932 - val_mean_absolute_error: 0.0932\n",
            "Epoch 21/500\n",
            "504/504 [==============================] - 2s 4ms/step - loss: 0.0962 - mean_absolute_error: 0.0963 - val_loss: 0.0941 - val_mean_absolute_error: 0.0942\n",
            "Epoch 22/500\n",
            "504/504 [==============================] - 2s 4ms/step - loss: 0.0964 - mean_absolute_error: 0.0963 - val_loss: 0.0934 - val_mean_absolute_error: 0.0934\n",
            "Epoch 23/500\n",
            "504/504 [==============================] - 2s 4ms/step - loss: 0.0961 - mean_absolute_error: 0.0962 - val_loss: 0.0948 - val_mean_absolute_error: 0.0948\n",
            "Epoch 24/500\n",
            "504/504 [==============================] - 2s 4ms/step - loss: 0.0957 - mean_absolute_error: 0.0956 - val_loss: 0.0926 - val_mean_absolute_error: 0.0926\n",
            "Epoch 25/500\n",
            "504/504 [==============================] - 2s 4ms/step - loss: 0.0957 - mean_absolute_error: 0.0956 - val_loss: 0.0935 - val_mean_absolute_error: 0.0936\n",
            "Epoch 26/500\n",
            "504/504 [==============================] - 2s 4ms/step - loss: 0.0956 - mean_absolute_error: 0.0956 - val_loss: 0.0929 - val_mean_absolute_error: 0.0930\n",
            "Epoch 27/500\n",
            "504/504 [==============================] - 2s 4ms/step - loss: 0.0954 - mean_absolute_error: 0.0953 - val_loss: 0.0919 - val_mean_absolute_error: 0.0919\n",
            "Epoch 28/500\n",
            "504/504 [==============================] - 2s 4ms/step - loss: 0.0956 - mean_absolute_error: 0.0957 - val_loss: 0.0942 - val_mean_absolute_error: 0.0942\n",
            "Epoch 29/500\n",
            "504/504 [==============================] - 2s 4ms/step - loss: 0.0957 - mean_absolute_error: 0.0957 - val_loss: 0.0978 - val_mean_absolute_error: 0.0978\n",
            "Epoch 30/500\n",
            "504/504 [==============================] - 2s 4ms/step - loss: 0.0951 - mean_absolute_error: 0.0951 - val_loss: 0.0932 - val_mean_absolute_error: 0.0932\n",
            "Epoch 31/500\n",
            "504/504 [==============================] - 2s 4ms/step - loss: 0.0950 - mean_absolute_error: 0.0950 - val_loss: 0.0933 - val_mean_absolute_error: 0.0933\n",
            "Epoch 32/500\n",
            "504/504 [==============================] - 2s 4ms/step - loss: 0.0952 - mean_absolute_error: 0.0951 - val_loss: 0.0928 - val_mean_absolute_error: 0.0928\n",
            "Epoch 33/500\n",
            "504/504 [==============================] - 2s 4ms/step - loss: 0.0944 - mean_absolute_error: 0.0942 - val_loss: 0.0927 - val_mean_absolute_error: 0.0928\n",
            "Epoch 34/500\n",
            "504/504 [==============================] - 2s 4ms/step - loss: 0.0945 - mean_absolute_error: 0.0945 - val_loss: 0.0939 - val_mean_absolute_error: 0.0939\n",
            "Epoch 35/500\n",
            "504/504 [==============================] - 2s 4ms/step - loss: 0.0947 - mean_absolute_error: 0.0947 - val_loss: 0.0986 - val_mean_absolute_error: 0.0987\n",
            "Epoch 36/500\n",
            "504/504 [==============================] - 2s 4ms/step - loss: 0.0948 - mean_absolute_error: 0.0948 - val_loss: 0.0917 - val_mean_absolute_error: 0.0917\n",
            "Epoch 37/500\n",
            "504/504 [==============================] - 2s 4ms/step - loss: 0.0940 - mean_absolute_error: 0.0941 - val_loss: 0.0921 - val_mean_absolute_error: 0.0921\n",
            "Epoch 38/500\n",
            "504/504 [==============================] - 2s 4ms/step - loss: 0.0940 - mean_absolute_error: 0.0939 - val_loss: 0.0941 - val_mean_absolute_error: 0.0942\n",
            "Epoch 39/500\n",
            "504/504 [==============================] - 2s 4ms/step - loss: 0.0939 - mean_absolute_error: 0.0939 - val_loss: 0.0926 - val_mean_absolute_error: 0.0926\n",
            "Epoch 40/500\n",
            "504/504 [==============================] - 2s 4ms/step - loss: 0.0944 - mean_absolute_error: 0.0944 - val_loss: 0.0911 - val_mean_absolute_error: 0.0911\n",
            "Epoch 41/500\n",
            "504/504 [==============================] - 2s 4ms/step - loss: 0.0937 - mean_absolute_error: 0.0936 - val_loss: 0.0926 - val_mean_absolute_error: 0.0926\n",
            "Epoch 42/500\n",
            "504/504 [==============================] - 2s 4ms/step - loss: 0.0938 - mean_absolute_error: 0.0939 - val_loss: 0.0921 - val_mean_absolute_error: 0.0921\n",
            "Epoch 43/500\n",
            "504/504 [==============================] - 2s 4ms/step - loss: 0.0938 - mean_absolute_error: 0.0938 - val_loss: 0.0922 - val_mean_absolute_error: 0.0922\n",
            "Epoch 44/500\n",
            "504/504 [==============================] - 2s 4ms/step - loss: 0.0936 - mean_absolute_error: 0.0935 - val_loss: 0.0928 - val_mean_absolute_error: 0.0929\n",
            "Epoch 45/500\n",
            "504/504 [==============================] - 2s 4ms/step - loss: 0.0936 - mean_absolute_error: 0.0936 - val_loss: 0.0919 - val_mean_absolute_error: 0.0920\n",
            "Epoch 46/500\n",
            "504/504 [==============================] - 2s 4ms/step - loss: 0.0935 - mean_absolute_error: 0.0935 - val_loss: 0.0917 - val_mean_absolute_error: 0.0917\n",
            "Epoch 47/500\n",
            "504/504 [==============================] - 2s 4ms/step - loss: 0.0933 - mean_absolute_error: 0.0933 - val_loss: 0.0913 - val_mean_absolute_error: 0.0913\n",
            "Epoch 48/500\n",
            "504/504 [==============================] - 2s 4ms/step - loss: 0.0931 - mean_absolute_error: 0.0931 - val_loss: 0.0918 - val_mean_absolute_error: 0.0918\n",
            "Epoch 49/500\n",
            "504/504 [==============================] - 2s 4ms/step - loss: 0.0933 - mean_absolute_error: 0.0933 - val_loss: 0.0912 - val_mean_absolute_error: 0.0913\n",
            "Epoch 50/500\n",
            "504/504 [==============================] - 2s 4ms/step - loss: 0.0926 - mean_absolute_error: 0.0926 - val_loss: 0.0931 - val_mean_absolute_error: 0.0931\n",
            "Epoch 51/500\n",
            "504/504 [==============================] - 2s 4ms/step - loss: 0.0928 - mean_absolute_error: 0.0928 - val_loss: 0.0927 - val_mean_absolute_error: 0.0927\n",
            "Epoch 52/500\n",
            "504/504 [==============================] - 2s 4ms/step - loss: 0.0925 - mean_absolute_error: 0.0925 - val_loss: 0.0911 - val_mean_absolute_error: 0.0911\n",
            "Epoch 53/500\n",
            "504/504 [==============================] - 2s 4ms/step - loss: 0.0927 - mean_absolute_error: 0.0927 - val_loss: 0.0921 - val_mean_absolute_error: 0.0921\n",
            "Epoch 54/500\n",
            "504/504 [==============================] - 2s 4ms/step - loss: 0.0925 - mean_absolute_error: 0.0925 - val_loss: 0.0957 - val_mean_absolute_error: 0.0957\n",
            "Epoch 55/500\n",
            "504/504 [==============================] - 2s 4ms/step - loss: 0.0924 - mean_absolute_error: 0.0924 - val_loss: 0.0911 - val_mean_absolute_error: 0.0911\n",
            "Epoch 56/500\n",
            "504/504 [==============================] - 2s 4ms/step - loss: 0.0922 - mean_absolute_error: 0.0922 - val_loss: 0.0926 - val_mean_absolute_error: 0.0926\n",
            "Epoch 57/500\n",
            "501/504 [============================>.] - ETA: 0s - loss: 0.0923 - mean_absolute_error: 0.0923Restoring model weights from the end of the best epoch: 27.\n",
            "504/504 [==============================] - 2s 4ms/step - loss: 0.0923 - mean_absolute_error: 0.0923 - val_loss: 0.0918 - val_mean_absolute_error: 0.0918\n",
            "Epoch 57: early stopping\n"
          ]
        }
      ]
    },
    {
      "cell_type": "code",
      "source": [
        "kt_train_pred_min_max_scaled = model_low.predict(X_train_min_max_scaler)\n",
        "kt_valid_pred_min_max_scaled = model_low.predict(X_valid_min_max_scaler)\n",
        "print('Train rmse:', np.sqrt(mean_squared_error(Y_train_min_max_scaler, kt_train_pred_min_max_scaled)))\n",
        "print('Validation rmse:', np.sqrt(mean_squared_error(Y_valid_min_max_scaler, kt_valid_pred_min_max_scaled)))"
      ],
      "metadata": {
        "colab": {
          "base_uri": "https://localhost:8080/"
        },
        "id": "P1jKiUcy7D1P",
        "outputId": "e965578e-1c56-45af-972e-8daf44082f17"
      },
      "execution_count": null,
      "outputs": [
        {
          "output_type": "stream",
          "name": "stdout",
          "text": [
            "Train rmse: 0.1747006208340091\n",
            "Validation rmse: 0.1695430901534881\n"
          ]
        }
      ]
    },
    {
      "cell_type": "code",
      "source": [
        "df = frame_low_test[col_names_scaled]\n",
        "df_test_scaled = pd.DataFrame(min_max_scaler.fit_transform(df))\n",
        "X_test_scaled = df_test_scaled.iloc[:,:-1]\n",
        "X_test_scaled.head()"
      ],
      "metadata": {
        "colab": {
          "base_uri": "https://localhost:8080/",
          "height": 206
        },
        "id": "wOyCP9be7Z_o",
        "outputId": "9b289236-33a5-4868-8894-3a510019071f"
      },
      "execution_count": null,
      "outputs": [
        {
          "output_type": "execute_result",
          "data": {
            "text/plain": [
              "         0         1         2         3         4         5         6   \\\n",
              "0  0.357143  0.428571  0.428571  0.500000  0.357143  0.014106  0.003666   \n",
              "1  0.357143  0.357143  0.428571  0.428571  0.500000  0.010619  0.015586   \n",
              "2  0.357143  0.357143  0.357143  0.357143  0.428571  0.013468  0.000172   \n",
              "3  0.428571  0.428571  0.357143  0.357143  0.500000  0.009825  0.009806   \n",
              "4  0.428571  0.428571  0.428571  0.428571  0.357143  0.009343  0.006830   \n",
              "\n",
              "         7         8         9         10        11        12        13  \\\n",
              "0  0.002099  0.017551  0.009842  0.476190  0.507937  0.523810  0.507937   \n",
              "1  0.003666  0.001985  0.016543  0.476190  0.476190  0.507937  0.523810   \n",
              "2  0.011733  0.014737  0.003267  0.492063  0.492063  0.476190  0.476190   \n",
              "3  0.006470  0.008442  0.001871  0.476190  0.476190  0.492063  0.492063   \n",
              "4  0.010856  0.009272  0.005765  0.460317  0.460317  0.476190  0.476190   \n",
              "\n",
              "         14  \n",
              "0  0.507937  \n",
              "1  0.507937  \n",
              "2  0.507937  \n",
              "3  0.492063  \n",
              "4  0.492063  "
            ],
            "text/html": [
              "\n",
              "  <div id=\"df-e5cb3bc5-1552-428c-b9d7-91c8209ea6e5\">\n",
              "    <div class=\"colab-df-container\">\n",
              "      <div>\n",
              "<style scoped>\n",
              "    .dataframe tbody tr th:only-of-type {\n",
              "        vertical-align: middle;\n",
              "    }\n",
              "\n",
              "    .dataframe tbody tr th {\n",
              "        vertical-align: top;\n",
              "    }\n",
              "\n",
              "    .dataframe thead th {\n",
              "        text-align: right;\n",
              "    }\n",
              "</style>\n",
              "<table border=\"1\" class=\"dataframe\">\n",
              "  <thead>\n",
              "    <tr style=\"text-align: right;\">\n",
              "      <th></th>\n",
              "      <th>0</th>\n",
              "      <th>1</th>\n",
              "      <th>2</th>\n",
              "      <th>3</th>\n",
              "      <th>4</th>\n",
              "      <th>5</th>\n",
              "      <th>6</th>\n",
              "      <th>7</th>\n",
              "      <th>8</th>\n",
              "      <th>9</th>\n",
              "      <th>10</th>\n",
              "      <th>11</th>\n",
              "      <th>12</th>\n",
              "      <th>13</th>\n",
              "      <th>14</th>\n",
              "    </tr>\n",
              "  </thead>\n",
              "  <tbody>\n",
              "    <tr>\n",
              "      <th>0</th>\n",
              "      <td>0.357143</td>\n",
              "      <td>0.428571</td>\n",
              "      <td>0.428571</td>\n",
              "      <td>0.500000</td>\n",
              "      <td>0.357143</td>\n",
              "      <td>0.014106</td>\n",
              "      <td>0.003666</td>\n",
              "      <td>0.002099</td>\n",
              "      <td>0.017551</td>\n",
              "      <td>0.009842</td>\n",
              "      <td>0.476190</td>\n",
              "      <td>0.507937</td>\n",
              "      <td>0.523810</td>\n",
              "      <td>0.507937</td>\n",
              "      <td>0.507937</td>\n",
              "    </tr>\n",
              "    <tr>\n",
              "      <th>1</th>\n",
              "      <td>0.357143</td>\n",
              "      <td>0.357143</td>\n",
              "      <td>0.428571</td>\n",
              "      <td>0.428571</td>\n",
              "      <td>0.500000</td>\n",
              "      <td>0.010619</td>\n",
              "      <td>0.015586</td>\n",
              "      <td>0.003666</td>\n",
              "      <td>0.001985</td>\n",
              "      <td>0.016543</td>\n",
              "      <td>0.476190</td>\n",
              "      <td>0.476190</td>\n",
              "      <td>0.507937</td>\n",
              "      <td>0.523810</td>\n",
              "      <td>0.507937</td>\n",
              "    </tr>\n",
              "    <tr>\n",
              "      <th>2</th>\n",
              "      <td>0.357143</td>\n",
              "      <td>0.357143</td>\n",
              "      <td>0.357143</td>\n",
              "      <td>0.357143</td>\n",
              "      <td>0.428571</td>\n",
              "      <td>0.013468</td>\n",
              "      <td>0.000172</td>\n",
              "      <td>0.011733</td>\n",
              "      <td>0.014737</td>\n",
              "      <td>0.003267</td>\n",
              "      <td>0.492063</td>\n",
              "      <td>0.492063</td>\n",
              "      <td>0.476190</td>\n",
              "      <td>0.476190</td>\n",
              "      <td>0.507937</td>\n",
              "    </tr>\n",
              "    <tr>\n",
              "      <th>3</th>\n",
              "      <td>0.428571</td>\n",
              "      <td>0.428571</td>\n",
              "      <td>0.357143</td>\n",
              "      <td>0.357143</td>\n",
              "      <td>0.500000</td>\n",
              "      <td>0.009825</td>\n",
              "      <td>0.009806</td>\n",
              "      <td>0.006470</td>\n",
              "      <td>0.008442</td>\n",
              "      <td>0.001871</td>\n",
              "      <td>0.476190</td>\n",
              "      <td>0.476190</td>\n",
              "      <td>0.492063</td>\n",
              "      <td>0.492063</td>\n",
              "      <td>0.492063</td>\n",
              "    </tr>\n",
              "    <tr>\n",
              "      <th>4</th>\n",
              "      <td>0.428571</td>\n",
              "      <td>0.428571</td>\n",
              "      <td>0.428571</td>\n",
              "      <td>0.428571</td>\n",
              "      <td>0.357143</td>\n",
              "      <td>0.009343</td>\n",
              "      <td>0.006830</td>\n",
              "      <td>0.010856</td>\n",
              "      <td>0.009272</td>\n",
              "      <td>0.005765</td>\n",
              "      <td>0.460317</td>\n",
              "      <td>0.460317</td>\n",
              "      <td>0.476190</td>\n",
              "      <td>0.476190</td>\n",
              "      <td>0.492063</td>\n",
              "    </tr>\n",
              "  </tbody>\n",
              "</table>\n",
              "</div>\n",
              "      <button class=\"colab-df-convert\" onclick=\"convertToInteractive('df-e5cb3bc5-1552-428c-b9d7-91c8209ea6e5')\"\n",
              "              title=\"Convert this dataframe to an interactive table.\"\n",
              "              style=\"display:none;\">\n",
              "        \n",
              "  <svg xmlns=\"http://www.w3.org/2000/svg\" height=\"24px\"viewBox=\"0 0 24 24\"\n",
              "       width=\"24px\">\n",
              "    <path d=\"M0 0h24v24H0V0z\" fill=\"none\"/>\n",
              "    <path d=\"M18.56 5.44l.94 2.06.94-2.06 2.06-.94-2.06-.94-.94-2.06-.94 2.06-2.06.94zm-11 1L8.5 8.5l.94-2.06 2.06-.94-2.06-.94L8.5 2.5l-.94 2.06-2.06.94zm10 10l.94 2.06.94-2.06 2.06-.94-2.06-.94-.94-2.06-.94 2.06-2.06.94z\"/><path d=\"M17.41 7.96l-1.37-1.37c-.4-.4-.92-.59-1.43-.59-.52 0-1.04.2-1.43.59L10.3 9.45l-7.72 7.72c-.78.78-.78 2.05 0 2.83L4 21.41c.39.39.9.59 1.41.59.51 0 1.02-.2 1.41-.59l7.78-7.78 2.81-2.81c.8-.78.8-2.07 0-2.86zM5.41 20L4 18.59l7.72-7.72 1.47 1.35L5.41 20z\"/>\n",
              "  </svg>\n",
              "      </button>\n",
              "      \n",
              "  <style>\n",
              "    .colab-df-container {\n",
              "      display:flex;\n",
              "      flex-wrap:wrap;\n",
              "      gap: 12px;\n",
              "    }\n",
              "\n",
              "    .colab-df-convert {\n",
              "      background-color: #E8F0FE;\n",
              "      border: none;\n",
              "      border-radius: 50%;\n",
              "      cursor: pointer;\n",
              "      display: none;\n",
              "      fill: #1967D2;\n",
              "      height: 32px;\n",
              "      padding: 0 0 0 0;\n",
              "      width: 32px;\n",
              "    }\n",
              "\n",
              "    .colab-df-convert:hover {\n",
              "      background-color: #E2EBFA;\n",
              "      box-shadow: 0px 1px 2px rgba(60, 64, 67, 0.3), 0px 1px 3px 1px rgba(60, 64, 67, 0.15);\n",
              "      fill: #174EA6;\n",
              "    }\n",
              "\n",
              "    [theme=dark] .colab-df-convert {\n",
              "      background-color: #3B4455;\n",
              "      fill: #D2E3FC;\n",
              "    }\n",
              "\n",
              "    [theme=dark] .colab-df-convert:hover {\n",
              "      background-color: #434B5C;\n",
              "      box-shadow: 0px 1px 3px 1px rgba(0, 0, 0, 0.15);\n",
              "      filter: drop-shadow(0px 1px 2px rgba(0, 0, 0, 0.3));\n",
              "      fill: #FFFFFF;\n",
              "    }\n",
              "  </style>\n",
              "\n",
              "      <script>\n",
              "        const buttonEl =\n",
              "          document.querySelector('#df-e5cb3bc5-1552-428c-b9d7-91c8209ea6e5 button.colab-df-convert');\n",
              "        buttonEl.style.display =\n",
              "          google.colab.kernel.accessAllowed ? 'block' : 'none';\n",
              "\n",
              "        async function convertToInteractive(key) {\n",
              "          const element = document.querySelector('#df-e5cb3bc5-1552-428c-b9d7-91c8209ea6e5');\n",
              "          const dataTable =\n",
              "            await google.colab.kernel.invokeFunction('convertToInteractive',\n",
              "                                                     [key], {});\n",
              "          if (!dataTable) return;\n",
              "\n",
              "          const docLinkHtml = 'Like what you see? Visit the ' +\n",
              "            '<a target=\"_blank\" href=https://colab.research.google.com/notebooks/data_table.ipynb>data table notebook</a>'\n",
              "            + ' to learn more about interactive tables.';\n",
              "          element.innerHTML = '';\n",
              "          dataTable['output_type'] = 'display_data';\n",
              "          await google.colab.output.renderOutput(dataTable, element);\n",
              "          const docLink = document.createElement('div');\n",
              "          docLink.innerHTML = docLinkHtml;\n",
              "          element.appendChild(docLink);\n",
              "        }\n",
              "      </script>\n",
              "    </div>\n",
              "  </div>\n",
              "  "
            ]
          },
          "metadata": {},
          "execution_count": 44
        }
      ]
    },
    {
      "cell_type": "code",
      "source": [
        "Y_test = frame_low_test['DL_bitrate']\n",
        "Y_test.reset_index(drop=True,inplace=True)\n",
        "X_pred_scaled = model_low.predict(X_test_scaled)\n",
        "df_test_scaled[15]=X_pred_scaled\n",
        "#Inverse Transforming the Predicted Values\n",
        "df_test = pd.DataFrame(min_max_scaler.inverse_transform(df_test_scaled))\n",
        "Y_pred = df_test.iloc[:,-1:]"
      ],
      "metadata": {
        "id": "9uoWNC227io5"
      },
      "execution_count": null,
      "outputs": []
    },
    {
      "cell_type": "code",
      "source": [
        "fig, axes = plt.subplots(1, 1, sharex=True, sharey=True,figsize=(15,5))\n",
        "ax3 = axes\n",
        "ax3.plot(Y_test, label='Y_test')\n",
        "ax3.plot(Y_pred, label='Y_pred')\n",
        "ax3.legend(loc='best')\n",
        "ax3.set_title('Line graph of True Vs Predicted Values')\n",
        "ax3.set_xlabel('Data Points')\n",
        "ax3.set_ylabel('Values')\n",
        "plt.show()"
      ],
      "metadata": {
        "colab": {
          "base_uri": "https://localhost:8080/",
          "height": 350
        },
        "id": "OlgoWT8r7img",
        "outputId": "93be7cdf-dc07-419b-d43b-e4fb2688c076"
      },
      "execution_count": null,
      "outputs": [
        {
          "output_type": "display_data",
          "data": {
            "text/plain": [
              "<Figure size 1080x360 with 1 Axes>"
            ],
            "image/png": "[encoded data removed]"
          },
          "metadata": {
            "needs_background": "light"
          }
        }
      ]
    },
    {
      "cell_type": "code",
      "source": [
        "fig, axes = plt.subplots(1, 1, sharex=True, sharey=True,figsize=(15,5))\n",
        "ax3 = axes\n",
        "ax3.scatter(Y_test, Y_pred[15], c='crimson')\n",
        "p1 = max(max(Y_pred[15]), max(Y_test))\n",
        "p2 = min(min(Y_pred[15]), min(Y_test))\n",
        "ax3.plot([p1, p2], [p1, p2], 'b-')\n",
        "ax3.set(xlim=(0, None),ylim=(0, None), title='Scatter Plot of True Vs Predicted Values', xlabel='True Value', ylabel='Predicted Value')\n",
        "plt.show()"
      ],
      "metadata": {
        "colab": {
          "base_uri": "https://localhost:8080/",
          "height": 350
        },
        "id": "OJ1hgvaC7mH4",
        "outputId": "7f197585-8dc0-431f-b4f3-c8560f3291cf"
      },
      "execution_count": null,
      "outputs": [
        {
          "output_type": "display_data",
          "data": {
            "text/plain": [
              "<Figure size 1080x360 with 1 Axes>"
            ],
            "image/png": "[encoded data removed]"
          },
          "metadata": {
            "needs_background": "light"
          }
        }
      ]
    },
    {
      "cell_type": "code",
      "source": [
        "from keras.models import load_model\n",
        "\n",
        "model_low.save('model_low.h5')  # creates a HDF5 file 'my_model.h5'\n",
        "#model = load_model('my_model.h5')"
      ],
      "metadata": {
        "id": "LP8rve5l7qU5"
      },
      "execution_count": null,
      "outputs": []
    },
    {
      "cell_type": "code",
      "source": [],
      "metadata": {
        "id": "H2XDBoQQ7ikb"
      },
      "execution_count": null,
      "outputs": []
    },
    {
      "cell_type": "markdown",
      "source": [
        "# Medium Throughput Model"
      ],
      "metadata": {
        "id": "7k5MFy-A9faB"
      }
    },
    {
      "cell_type": "code",
      "source": [
        "frame_medium_train = frame_medium.sample(frac = 0.7, random_state=0)\n",
        "frame_medium_test = frame_medium.drop(frame_medium_train.index)"
      ],
      "metadata": {
        "id": "CE5V0WoS9faC"
      },
      "execution_count": null,
      "outputs": []
    },
    {
      "cell_type": "code",
      "source": [
        "print(frame_medium_train.shape)\n",
        "print(frame_medium_test.shape)"
      ],
      "metadata": {
        "colab": {
          "base_uri": "https://localhost:8080/"
        },
        "id": "fGDOBppU9faC",
        "outputId": "f4868dfa-c1f8-4908-d008-3ec133d0b571"
      },
      "execution_count": null,
      "outputs": [
        {
          "output_type": "stream",
          "name": "stdout",
          "text": [
            "(28359, 47)\n",
            "(12154, 47)\n"
          ]
        }
      ]
    },
    {
      "cell_type": "code",
      "source": [
        "df = frame_medium_train[col_names_scaled]\n",
        "min_max_scaler = MinMaxScaler()\n",
        "# transform data\n",
        "df_min_max_scaled = pd.DataFrame(min_max_scaler.fit_transform(df))"
      ],
      "metadata": {
        "id": "jqv77LV69faD"
      },
      "execution_count": null,
      "outputs": []
    },
    {
      "cell_type": "code",
      "source": [
        "X_train_min_max_scaler, X_valid_min_max_scaler, Y_train_min_max_scaler, Y_valid_min_max_scaler = train_test_split(df_min_max_scaled.iloc[:,:-1], df_min_max_scaled.iloc[:,-1:], test_size=0.3, random_state=0)\n",
        "print('Train set shape', X_train_min_max_scaler.shape)\n",
        "print('Validation set shape', X_valid_min_max_scaler.shape)\n",
        "X_train_min_max_scaler.head()"
      ],
      "metadata": {
        "colab": {
          "base_uri": "https://localhost:8080/",
          "height": 241
        },
        "id": "JJe36A4H9faE",
        "outputId": "eab1bb1f-b53e-43a6-b944-b4ed7d27cf8e"
      },
      "execution_count": null,
      "outputs": [
        {
          "output_type": "stream",
          "name": "stdout",
          "text": [
            "Train set shape (19851, 15)\n",
            "Validation set shape (8508, 15)\n"
          ]
        },
        {
          "output_type": "execute_result",
          "data": {
            "text/plain": [
              "             0         1         2         3         4         5         6   \\\n",
              "24469  0.428571  0.428571  0.428571  0.428571  0.428571  0.023053  0.011989   \n",
              "26120  0.142857  0.357143  0.357143  0.357143  0.357143  0.015039  0.017626   \n",
              "19277  0.285714  0.285714  0.285714  0.285714  0.285714  0.015754  0.047073   \n",
              "4655   0.071429  0.142857  0.285714  0.428571  0.428571  0.027512  0.011274   \n",
              "25810  0.441583  0.438634  0.441880  0.441093  0.442956  0.040679  0.067034   \n",
              "\n",
              "             7         8         9         10        11        12        13  \\\n",
              "24469  0.021684  0.009670  0.023972  0.383333  0.389831  0.383333  0.423729   \n",
              "26120  0.012422  0.017567  0.000000  0.433333  0.457627  0.450000  0.457627   \n",
              "19277  0.048249  0.026403  0.028120  0.433333  0.440678  0.383333  0.389831   \n",
              "4655   0.001199  0.006443  0.041254  0.500000  0.508475  0.600000  0.610169   \n",
              "25810  0.062131  0.032975  0.037540  0.652666  0.636516  0.619372  0.630899   \n",
              "\n",
              "             14  \n",
              "24469  0.416667  \n",
              "26120  0.450000  \n",
              "19277  0.416667  \n",
              "4655   0.683333  \n",
              "25810  0.624160  "
            ],
            "text/html": [
              "\n",
              "  <div id=\"df-f654977b-6cf7-4ac3-a485-cd804d411ad4\">\n",
              "    <div class=\"colab-df-container\">\n",
              "      <div>\n",
              "<style scoped>\n",
              "    .dataframe tbody tr th:only-of-type {\n",
              "        vertical-align: middle;\n",
              "    }\n",
              "\n",
              "    .dataframe tbody tr th {\n",
              "        vertical-align: top;\n",
              "    }\n",
              "\n",
              "    .dataframe thead th {\n",
              "        text-align: right;\n",
              "    }\n",
              "</style>\n",
              "<table border=\"1\" class=\"dataframe\">\n",
              "  <thead>\n",
              "    <tr style=\"text-align: right;\">\n",
              "      <th></th>\n",
              "      <th>0</th>\n",
              "      <th>1</th>\n",
              "      <th>2</th>\n",
              "      <th>3</th>\n",
              "      <th>4</th>\n",
              "      <th>5</th>\n",
              "      <th>6</th>\n",
              "      <th>7</th>\n",
              "      <th>8</th>\n",
              "      <th>9</th>\n",
              "      <th>10</th>\n",
              "      <th>11</th>\n",
              "      <th>12</th>\n",
              "      <th>13</th>\n",
              "      <th>14</th>\n",
              "    </tr>\n",
              "  </thead>\n",
              "  <tbody>\n",
              "    <tr>\n",
              "      <th>24469</th>\n",
              "      <td>0.428571</td>\n",
              "      <td>0.428571</td>\n",
              "      <td>0.428571</td>\n",
              "      <td>0.428571</td>\n",
              "      <td>0.428571</td>\n",
              "      <td>0.023053</td>\n",
              "      <td>0.011989</td>\n",
              "      <td>0.021684</td>\n",
              "      <td>0.009670</td>\n",
              "      <td>0.023972</td>\n",
              "      <td>0.383333</td>\n",
              "      <td>0.389831</td>\n",
              "      <td>0.383333</td>\n",
              "      <td>0.423729</td>\n",
              "      <td>0.416667</td>\n",
              "    </tr>\n",
              "    <tr>\n",
              "      <th>26120</th>\n",
              "      <td>0.142857</td>\n",
              "      <td>0.357143</td>\n",
              "      <td>0.357143</td>\n",
              "      <td>0.357143</td>\n",
              "      <td>0.357143</td>\n",
              "      <td>0.015039</td>\n",
              "      <td>0.017626</td>\n",
              "      <td>0.012422</td>\n",
              "      <td>0.017567</td>\n",
              "      <td>0.000000</td>\n",
              "      <td>0.433333</td>\n",
              "      <td>0.457627</td>\n",
              "      <td>0.450000</td>\n",
              "      <td>0.457627</td>\n",
              "      <td>0.450000</td>\n",
              "    </tr>\n",
              "    <tr>\n",
              "      <th>19277</th>\n",
              "      <td>0.285714</td>\n",
              "      <td>0.285714</td>\n",
              "      <td>0.285714</td>\n",
              "      <td>0.285714</td>\n",
              "      <td>0.285714</td>\n",
              "      <td>0.015754</td>\n",
              "      <td>0.047073</td>\n",
              "      <td>0.048249</td>\n",
              "      <td>0.026403</td>\n",
              "      <td>0.028120</td>\n",
              "      <td>0.433333</td>\n",
              "      <td>0.440678</td>\n",
              "      <td>0.383333</td>\n",
              "      <td>0.389831</td>\n",
              "      <td>0.416667</td>\n",
              "    </tr>\n",
              "    <tr>\n",
              "      <th>4655</th>\n",
              "      <td>0.071429</td>\n",
              "      <td>0.142857</td>\n",
              "      <td>0.285714</td>\n",
              "      <td>0.428571</td>\n",
              "      <td>0.428571</td>\n",
              "      <td>0.027512</td>\n",
              "      <td>0.011274</td>\n",
              "      <td>0.001199</td>\n",
              "      <td>0.006443</td>\n",
              "      <td>0.041254</td>\n",
              "      <td>0.500000</td>\n",
              "      <td>0.508475</td>\n",
              "      <td>0.600000</td>\n",
              "      <td>0.610169</td>\n",
              "      <td>0.683333</td>\n",
              "    </tr>\n",
              "    <tr>\n",
              "      <th>25810</th>\n",
              "      <td>0.441583</td>\n",
              "      <td>0.438634</td>\n",
              "      <td>0.441880</td>\n",
              "      <td>0.441093</td>\n",
              "      <td>0.442956</td>\n",
              "      <td>0.040679</td>\n",
              "      <td>0.067034</td>\n",
              "      <td>0.062131</td>\n",
              "      <td>0.032975</td>\n",
              "      <td>0.037540</td>\n",
              "      <td>0.652666</td>\n",
              "      <td>0.636516</td>\n",
              "      <td>0.619372</td>\n",
              "      <td>0.630899</td>\n",
              "      <td>0.624160</td>\n",
              "    </tr>\n",
              "  </tbody>\n",
              "</table>\n",
              "</div>\n",
              "      <button class=\"colab-df-convert\" onclick=\"convertToInteractive('df-f654977b-6cf7-4ac3-a485-cd804d411ad4')\"\n",
              "              title=\"Convert this dataframe to an interactive table.\"\n",
              "              style=\"display:none;\">\n",
              "        \n",
              "  <svg xmlns=\"http://www.w3.org/2000/svg\" height=\"24px\"viewBox=\"0 0 24 24\"\n",
              "       width=\"24px\">\n",
              "    <path d=\"M0 0h24v24H0V0z\" fill=\"none\"/>\n",
              "    <path d=\"M18.56 5.44l.94 2.06.94-2.06 2.06-.94-2.06-.94-.94-2.06-.94 2.06-2.06.94zm-11 1L8.5 8.5l.94-2.06 2.06-.94-2.06-.94L8.5 2.5l-.94 2.06-2.06.94zm10 10l.94 2.06.94-2.06 2.06-.94-2.06-.94-.94-2.06-.94 2.06-2.06.94z\"/><path d=\"M17.41 7.96l-1.37-1.37c-.4-.4-.92-.59-1.43-.59-.52 0-1.04.2-1.43.59L10.3 9.45l-7.72 7.72c-.78.78-.78 2.05 0 2.83L4 21.41c.39.39.9.59 1.41.59.51 0 1.02-.2 1.41-.59l7.78-7.78 2.81-2.81c.8-.78.8-2.07 0-2.86zM5.41 20L4 18.59l7.72-7.72 1.47 1.35L5.41 20z\"/>\n",
              "  </svg>\n",
              "      </button>\n",
              "      \n",
              "  <style>\n",
              "    .colab-df-container {\n",
              "      display:flex;\n",
              "      flex-wrap:wrap;\n",
              "      gap: 12px;\n",
              "    }\n",
              "\n",
              "    .colab-df-convert {\n",
              "      background-color: #E8F0FE;\n",
              "      border: none;\n",
              "      border-radius: 50%;\n",
              "      cursor: pointer;\n",
              "      display: none;\n",
              "      fill: #1967D2;\n",
              "      height: 32px;\n",
              "      padding: 0 0 0 0;\n",
              "      width: 32px;\n",
              "    }\n",
              "\n",
              "    .colab-df-convert:hover {\n",
              "      background-color: #E2EBFA;\n",
              "      box-shadow: 0px 1px 2px rgba(60, 64, 67, 0.3), 0px 1px 3px 1px rgba(60, 64, 67, 0.15);\n",
              "      fill: #174EA6;\n",
              "    }\n",
              "\n",
              "    [theme=dark] .colab-df-convert {\n",
              "      background-color: #3B4455;\n",
              "      fill: #D2E3FC;\n",
              "    }\n",
              "\n",
              "    [theme=dark] .colab-df-convert:hover {\n",
              "      background-color: #434B5C;\n",
              "      box-shadow: 0px 1px 3px 1px rgba(0, 0, 0, 0.15);\n",
              "      filter: drop-shadow(0px 1px 2px rgba(0, 0, 0, 0.3));\n",
              "      fill: #FFFFFF;\n",
              "    }\n",
              "  </style>\n",
              "\n",
              "      <script>\n",
              "        const buttonEl =\n",
              "          document.querySelector('#df-f654977b-6cf7-4ac3-a485-cd804d411ad4 button.colab-df-convert');\n",
              "        buttonEl.style.display =\n",
              "          google.colab.kernel.accessAllowed ? 'block' : 'none';\n",
              "\n",
              "        async function convertToInteractive(key) {\n",
              "          const element = document.querySelector('#df-f654977b-6cf7-4ac3-a485-cd804d411ad4');\n",
              "          const dataTable =\n",
              "            await google.colab.kernel.invokeFunction('convertToInteractive',\n",
              "                                                     [key], {});\n",
              "          if (!dataTable) return;\n",
              "\n",
              "          const docLinkHtml = 'Like what you see? Visit the ' +\n",
              "            '<a target=\"_blank\" href=https://colab.research.google.com/notebooks/data_table.ipynb>data table notebook</a>'\n",
              "            + ' to learn more about interactive tables.';\n",
              "          element.innerHTML = '';\n",
              "          dataTable['output_type'] = 'display_data';\n",
              "          await google.colab.output.renderOutput(dataTable, element);\n",
              "          const docLink = document.createElement('div');\n",
              "          docLink.innerHTML = docLinkHtml;\n",
              "          element.appendChild(docLink);\n",
              "        }\n",
              "      </script>\n",
              "    </div>\n",
              "  </div>\n",
              "  "
            ]
          },
          "metadata": {},
          "execution_count": 52
        }
      ]
    },
    {
      "cell_type": "code",
      "source": [
        "X_train_min_max_series = X_train_min_max_scaler.values.reshape((X_train_min_max_scaler.shape[0], X_train_min_max_scaler.shape[1], 1))\n",
        "X_valid_min_max_series = X_valid_min_max_scaler.values.reshape((X_valid_min_max_scaler.shape[0], X_valid_min_max_scaler.shape[1], 1))\n",
        "print('Train set shape', X_train_min_max_series.shape)\n",
        "print('Validation set shape', X_valid_min_max_series.shape)"
      ],
      "metadata": {
        "colab": {
          "base_uri": "https://localhost:8080/"
        },
        "id": "JHokA2D19faF",
        "outputId": "a8c5793e-f26e-4a40-dab6-76150dae9e06"
      },
      "execution_count": null,
      "outputs": [
        {
          "output_type": "stream",
          "name": "stdout",
          "text": [
            "Train set shape (19851, 15, 1)\n",
            "Validation set shape (8508, 15, 1)\n"
          ]
        }
      ]
    },
    {
      "cell_type": "code",
      "source": [
        "mae = MeanAbsoluteError()\n",
        "model_medium = keras.Sequential()\n",
        "model_medium.add(keras.layers.Flatten(input_shape=(X_train_min_max_series.shape[1], X_train_min_max_series.shape[2])))\n",
        "model_medium.add(Dense(units=320, activation='relu'))\n",
        "model_medium.add(Dropout(rate=0))\n",
        "model_medium.add(tf.keras.layers.Dense(units=256, activation='relu'))\n",
        "model_medium.add(Dropout(rate=0))\n",
        "model_medium.add(tf.keras.layers.Dense(units=64, activation='relu'))\n",
        "model_medium.add(Dropout(rate=0))\n",
        "model_medium.add(Dense(1, kernel_initializer='normal', activation='linear'))\n",
        "model_medium.compile(optimizer=tf.keras.optimizers.Adam(learning_rate=0.0001),loss=mae,metrics=[mae])\n",
        "model_medium.summary()"
      ],
      "metadata": {
        "colab": {
          "base_uri": "https://localhost:8080/"
        },
        "id": "P4QJUflW9faF",
        "outputId": "02b6f2c8-f465-404b-973f-bdebd192fdc5"
      },
      "execution_count": null,
      "outputs": [
        {
          "output_type": "stream",
          "name": "stdout",
          "text": [
            "Model: \"sequential_1\"\n",
            "_________________________________________________________________\n",
            " Layer (type)                Output Shape              Param #   \n",
            "=================================================================\n",
            " flatten_1 (Flatten)         (None, 15)                0         \n",
            "                                                                 \n",
            " dense_4 (Dense)             (None, 320)               5120      \n",
            "                                                                 \n",
            " dropout_3 (Dropout)         (None, 320)               0         \n",
            "                                                                 \n",
            " dense_5 (Dense)             (None, 256)               82176     \n",
            "                                                                 \n",
            " dropout_4 (Dropout)         (None, 256)               0         \n",
            "                                                                 \n",
            " dense_6 (Dense)             (None, 64)                16448     \n",
            "                                                                 \n",
            " dropout_5 (Dropout)         (None, 64)                0         \n",
            "                                                                 \n",
            " dense_7 (Dense)             (None, 1)                 65        \n",
            "                                                                 \n",
            "=================================================================\n",
            "Total params: 103,809\n",
            "Trainable params: 103,809\n",
            "Non-trainable params: 0\n",
            "_________________________________________________________________\n"
          ]
        }
      ]
    },
    {
      "cell_type": "code",
      "source": [
        "monitor = EarlyStopping(monitor='val_loss', min_delta=1e-3, patience=30, \n",
        "        verbose=1, mode='auto', restore_best_weights=True)\n",
        "history=model_medium.fit(X_train_min_max_series, Y_train_min_max_scaler, validation_data=(X_valid_min_max_series, Y_valid_min_max_scaler),\n",
        "        callbacks=[monitor],verbose=1,epochs=500)"
      ],
      "metadata": {
        "colab": {
          "base_uri": "https://localhost:8080/"
        },
        "id": "KUkIgcMF9faG",
        "outputId": "9c69931c-a49b-44b1-f7da-2ce465fb8b58"
      },
      "execution_count": null,
      "outputs": [
        {
          "output_type": "stream",
          "name": "stdout",
          "text": [
            "Epoch 1/500\n",
            "621/621 [==============================] - 3s 4ms/step - loss: 0.2458 - mean_absolute_error: 0.2458 - val_loss: 0.2135 - val_mean_absolute_error: 0.2135\n",
            "Epoch 2/500\n",
            "621/621 [==============================] - 2s 4ms/step - loss: 0.1997 - mean_absolute_error: 0.1997 - val_loss: 0.1888 - val_mean_absolute_error: 0.1888\n",
            "Epoch 3/500\n",
            "621/621 [==============================] - 2s 4ms/step - loss: 0.1892 - mean_absolute_error: 0.1892 - val_loss: 0.1849 - val_mean_absolute_error: 0.1849\n",
            "Epoch 4/500\n",
            "621/621 [==============================] - 2s 4ms/step - loss: 0.1881 - mean_absolute_error: 0.1881 - val_loss: 0.1844 - val_mean_absolute_error: 0.1844\n",
            "Epoch 5/500\n",
            "621/621 [==============================] - 2s 4ms/step - loss: 0.1873 - mean_absolute_error: 0.1873 - val_loss: 0.1856 - val_mean_absolute_error: 0.1856\n",
            "Epoch 6/500\n",
            "621/621 [==============================] - 2s 4ms/step - loss: 0.1869 - mean_absolute_error: 0.1869 - val_loss: 0.1852 - val_mean_absolute_error: 0.1852\n",
            "Epoch 7/500\n",
            "621/621 [==============================] - 2s 4ms/step - loss: 0.1862 - mean_absolute_error: 0.1863 - val_loss: 0.1886 - val_mean_absolute_error: 0.1886\n",
            "Epoch 8/500\n",
            "621/621 [==============================] - 2s 4ms/step - loss: 0.1854 - mean_absolute_error: 0.1854 - val_loss: 0.1827 - val_mean_absolute_error: 0.1827\n",
            "Epoch 9/500\n",
            "621/621 [==============================] - 2s 4ms/step - loss: 0.1860 - mean_absolute_error: 0.1860 - val_loss: 0.1842 - val_mean_absolute_error: 0.1842\n",
            "Epoch 10/500\n",
            "621/621 [==============================] - 2s 4ms/step - loss: 0.1852 - mean_absolute_error: 0.1851 - val_loss: 0.1828 - val_mean_absolute_error: 0.1828\n",
            "Epoch 11/500\n",
            "621/621 [==============================] - 2s 4ms/step - loss: 0.1849 - mean_absolute_error: 0.1849 - val_loss: 0.1840 - val_mean_absolute_error: 0.1840\n",
            "Epoch 12/500\n",
            "621/621 [==============================] - 2s 4ms/step - loss: 0.1849 - mean_absolute_error: 0.1849 - val_loss: 0.1837 - val_mean_absolute_error: 0.1837\n",
            "Epoch 13/500\n",
            "621/621 [==============================] - 2s 4ms/step - loss: 0.1845 - mean_absolute_error: 0.1846 - val_loss: 0.1825 - val_mean_absolute_error: 0.1825\n",
            "Epoch 14/500\n",
            "621/621 [==============================] - 2s 4ms/step - loss: 0.1842 - mean_absolute_error: 0.1842 - val_loss: 0.1829 - val_mean_absolute_error: 0.1829\n",
            "Epoch 15/500\n",
            "621/621 [==============================] - 2s 4ms/step - loss: 0.1840 - mean_absolute_error: 0.1840 - val_loss: 0.1826 - val_mean_absolute_error: 0.1826\n",
            "Epoch 16/500\n",
            "621/621 [==============================] - 2s 4ms/step - loss: 0.1842 - mean_absolute_error: 0.1843 - val_loss: 0.1821 - val_mean_absolute_error: 0.1821\n",
            "Epoch 17/500\n",
            "621/621 [==============================] - 2s 4ms/step - loss: 0.1835 - mean_absolute_error: 0.1835 - val_loss: 0.1813 - val_mean_absolute_error: 0.1813\n",
            "Epoch 18/500\n",
            "621/621 [==============================] - 2s 4ms/step - loss: 0.1831 - mean_absolute_error: 0.1831 - val_loss: 0.1817 - val_mean_absolute_error: 0.1817\n",
            "Epoch 19/500\n",
            "621/621 [==============================] - 2s 4ms/step - loss: 0.1833 - mean_absolute_error: 0.1833 - val_loss: 0.1814 - val_mean_absolute_error: 0.1814\n",
            "Epoch 20/500\n",
            "621/621 [==============================] - 2s 4ms/step - loss: 0.1830 - mean_absolute_error: 0.1830 - val_loss: 0.1822 - val_mean_absolute_error: 0.1822\n",
            "Epoch 21/500\n",
            "621/621 [==============================] - 2s 4ms/step - loss: 0.1831 - mean_absolute_error: 0.1832 - val_loss: 0.1839 - val_mean_absolute_error: 0.1838\n",
            "Epoch 22/500\n",
            "621/621 [==============================] - 2s 4ms/step - loss: 0.1833 - mean_absolute_error: 0.1833 - val_loss: 0.1819 - val_mean_absolute_error: 0.1819\n",
            "Epoch 23/500\n",
            "621/621 [==============================] - 2s 4ms/step - loss: 0.1828 - mean_absolute_error: 0.1829 - val_loss: 0.1815 - val_mean_absolute_error: 0.1814\n",
            "Epoch 24/500\n",
            "621/621 [==============================] - 2s 4ms/step - loss: 0.1824 - mean_absolute_error: 0.1825 - val_loss: 0.1813 - val_mean_absolute_error: 0.1813\n",
            "Epoch 25/500\n",
            "621/621 [==============================] - 2s 4ms/step - loss: 0.1824 - mean_absolute_error: 0.1823 - val_loss: 0.1820 - val_mean_absolute_error: 0.1820\n",
            "Epoch 26/500\n",
            "621/621 [==============================] - 2s 4ms/step - loss: 0.1822 - mean_absolute_error: 0.1823 - val_loss: 0.1809 - val_mean_absolute_error: 0.1809\n",
            "Epoch 27/500\n",
            "621/621 [==============================] - 2s 4ms/step - loss: 0.1824 - mean_absolute_error: 0.1823 - val_loss: 0.1843 - val_mean_absolute_error: 0.1843\n",
            "Epoch 28/500\n",
            "621/621 [==============================] - 2s 4ms/step - loss: 0.1823 - mean_absolute_error: 0.1823 - val_loss: 0.1814 - val_mean_absolute_error: 0.1813\n",
            "Epoch 29/500\n",
            "621/621 [==============================] - 2s 4ms/step - loss: 0.1818 - mean_absolute_error: 0.1818 - val_loss: 0.1835 - val_mean_absolute_error: 0.1835\n",
            "Epoch 30/500\n",
            "621/621 [==============================] - 3s 4ms/step - loss: 0.1819 - mean_absolute_error: 0.1820 - val_loss: 0.1841 - val_mean_absolute_error: 0.1841\n",
            "Epoch 31/500\n",
            "621/621 [==============================] - 2s 4ms/step - loss: 0.1817 - mean_absolute_error: 0.1816 - val_loss: 0.1849 - val_mean_absolute_error: 0.1849\n",
            "Epoch 32/500\n",
            "621/621 [==============================] - 2s 4ms/step - loss: 0.1815 - mean_absolute_error: 0.1815 - val_loss: 0.1810 - val_mean_absolute_error: 0.1810\n",
            "Epoch 33/500\n",
            "621/621 [==============================] - 2s 4ms/step - loss: 0.1819 - mean_absolute_error: 0.1819 - val_loss: 0.1814 - val_mean_absolute_error: 0.1814\n",
            "Epoch 34/500\n",
            "621/621 [==============================] - 2s 4ms/step - loss: 0.1819 - mean_absolute_error: 0.1819 - val_loss: 0.1831 - val_mean_absolute_error: 0.1831\n",
            "Epoch 35/500\n",
            "621/621 [==============================] - 2s 4ms/step - loss: 0.1812 - mean_absolute_error: 0.1811 - val_loss: 0.1841 - val_mean_absolute_error: 0.1841\n",
            "Epoch 36/500\n",
            "621/621 [==============================] - 2s 4ms/step - loss: 0.1815 - mean_absolute_error: 0.1815 - val_loss: 0.1823 - val_mean_absolute_error: 0.1822\n",
            "Epoch 37/500\n",
            "621/621 [==============================] - 2s 4ms/step - loss: 0.1812 - mean_absolute_error: 0.1813 - val_loss: 0.1807 - val_mean_absolute_error: 0.1807\n",
            "Epoch 38/500\n",
            "621/621 [==============================] - 2s 4ms/step - loss: 0.1811 - mean_absolute_error: 0.1811 - val_loss: 0.1819 - val_mean_absolute_error: 0.1819\n",
            "Epoch 39/500\n",
            "621/621 [==============================] - 2s 4ms/step - loss: 0.1809 - mean_absolute_error: 0.1809 - val_loss: 0.1814 - val_mean_absolute_error: 0.1814\n",
            "Epoch 40/500\n",
            "621/621 [==============================] - 2s 4ms/step - loss: 0.1809 - mean_absolute_error: 0.1809 - val_loss: 0.1809 - val_mean_absolute_error: 0.1809\n",
            "Epoch 41/500\n",
            "621/621 [==============================] - 2s 4ms/step - loss: 0.1813 - mean_absolute_error: 0.1813 - val_loss: 0.1814 - val_mean_absolute_error: 0.1814\n",
            "Epoch 42/500\n",
            "621/621 [==============================] - 2s 4ms/step - loss: 0.1806 - mean_absolute_error: 0.1806 - val_loss: 0.1807 - val_mean_absolute_error: 0.1807\n",
            "Epoch 43/500\n",
            "621/621 [==============================] - 2s 4ms/step - loss: 0.1808 - mean_absolute_error: 0.1809 - val_loss: 0.1806 - val_mean_absolute_error: 0.1806\n",
            "Epoch 44/500\n",
            "621/621 [==============================] - 2s 4ms/step - loss: 0.1805 - mean_absolute_error: 0.1806 - val_loss: 0.1805 - val_mean_absolute_error: 0.1805\n",
            "Epoch 45/500\n",
            "621/621 [==============================] - 2s 4ms/step - loss: 0.1802 - mean_absolute_error: 0.1801 - val_loss: 0.1809 - val_mean_absolute_error: 0.1809\n",
            "Epoch 46/500\n",
            "621/621 [==============================] - 2s 4ms/step - loss: 0.1807 - mean_absolute_error: 0.1806 - val_loss: 0.1808 - val_mean_absolute_error: 0.1808\n",
            "Epoch 47/500\n",
            "616/621 [============================>.] - ETA: 0s - loss: 0.1804 - mean_absolute_error: 0.1804Restoring model weights from the end of the best epoch: 17.\n",
            "621/621 [==============================] - 2s 4ms/step - loss: 0.1804 - mean_absolute_error: 0.1804 - val_loss: 0.1817 - val_mean_absolute_error: 0.1817\n",
            "Epoch 47: early stopping\n"
          ]
        }
      ]
    },
    {
      "cell_type": "code",
      "source": [
        "kt_train_pred_min_max_scaled = model_medium.predict(X_train_min_max_scaler)\n",
        "kt_valid_pred_min_max_scaled = model_medium.predict(X_valid_min_max_scaler)\n",
        "print('Train rmse:', np.sqrt(mean_squared_error(Y_train_min_max_scaler, kt_train_pred_min_max_scaled)))\n",
        "print('Validation rmse:', np.sqrt(mean_squared_error(Y_valid_min_max_scaler, kt_valid_pred_min_max_scaled)))"
      ],
      "metadata": {
        "colab": {
          "base_uri": "https://localhost:8080/"
        },
        "outputId": "21a8dd98-d1dc-4a60-c346-a30a17728e6f",
        "id": "2o10cZFG9faH"
      },
      "execution_count": null,
      "outputs": [
        {
          "output_type": "stream",
          "name": "stdout",
          "text": [
            "Train rmse: 0.23415345414319866\n",
            "Validation rmse: 0.23292934918706884\n"
          ]
        }
      ]
    },
    {
      "cell_type": "code",
      "source": [
        "df = frame_medium_test[col_names_scaled]\n",
        "df_test_scaled = pd.DataFrame(min_max_scaler.fit_transform(df))\n",
        "X_test_scaled = df_test_scaled.iloc[:,:-1]\n",
        "X_test_scaled.head()"
      ],
      "metadata": {
        "colab": {
          "base_uri": "https://localhost:8080/",
          "height": 206
        },
        "outputId": "adf20270-63b3-49d8-fb27-e559a1c8b214",
        "id": "WVIp8iuu9faH"
      },
      "execution_count": null,
      "outputs": [
        {
          "output_type": "execute_result",
          "data": {
            "text/plain": [
              "         0         1         2         3         4         5         6   \\\n",
              "0  0.571429  0.571429  0.571429  0.428571  0.428571  0.069228  0.101554   \n",
              "1  0.428571  0.571429  0.428571  0.428571  0.500000  0.040130  0.067614   \n",
              "2  0.428571  0.428571  0.571429  0.428571  0.428571  0.026665  0.040130   \n",
              "3  0.428571  0.428571  0.428571  0.428571  0.571429  0.052246  0.092111   \n",
              "4  0.571429  0.428571  0.428571  0.428571  0.428571  0.069228  0.052246   \n",
              "\n",
              "         7         8         9         10        11        12        13  \\\n",
              "0  0.035975  0.000000  0.000000  0.645491  0.615154  0.615547  0.605350   \n",
              "1  0.048771  0.030007  0.026884  0.606102  0.595912  0.595313  0.646892   \n",
              "2  0.057473  0.051571  0.014810  0.606102  0.576670  0.595313  0.584579   \n",
              "3  0.022666  0.036069  0.029993  0.606102  0.576670  0.575078  0.563808   \n",
              "4  0.078296  0.023967  0.017802  0.625797  0.576670  0.575078  0.563808   \n",
              "\n",
              "         14  \n",
              "0  0.534485  \n",
              "1  0.575278  \n",
              "2  0.616070  \n",
              "3  0.554881  \n",
              "4  0.534485  "
            ],
            "text/html": [
              "\n",
              "  <div id=\"df-683d723e-659a-449a-9c86-1fbe7a612f4c\">\n",
              "    <div class=\"colab-df-container\">\n",
              "      <div>\n",
              "<style scoped>\n",
              "    .dataframe tbody tr th:only-of-type {\n",
              "        vertical-align: middle;\n",
              "    }\n",
              "\n",
              "    .dataframe tbody tr th {\n",
              "        vertical-align: top;\n",
              "    }\n",
              "\n",
              "    .dataframe thead th {\n",
              "        text-align: right;\n",
              "    }\n",
              "</style>\n",
              "<table border=\"1\" class=\"dataframe\">\n",
              "  <thead>\n",
              "    <tr style=\"text-align: right;\">\n",
              "      <th></th>\n",
              "      <th>0</th>\n",
              "      <th>1</th>\n",
              "      <th>2</th>\n",
              "      <th>3</th>\n",
              "      <th>4</th>\n",
              "      <th>5</th>\n",
              "      <th>6</th>\n",
              "      <th>7</th>\n",
              "      <th>8</th>\n",
              "      <th>9</th>\n",
              "      <th>10</th>\n",
              "      <th>11</th>\n",
              "      <th>12</th>\n",
              "      <th>13</th>\n",
              "      <th>14</th>\n",
              "    </tr>\n",
              "  </thead>\n",
              "  <tbody>\n",
              "    <tr>\n",
              "      <th>0</th>\n",
              "      <td>0.571429</td>\n",
              "      <td>0.571429</td>\n",
              "      <td>0.571429</td>\n",
              "      <td>0.428571</td>\n",
              "      <td>0.428571</td>\n",
              "      <td>0.069228</td>\n",
              "      <td>0.101554</td>\n",
              "      <td>0.035975</td>\n",
              "      <td>0.000000</td>\n",
              "      <td>0.000000</td>\n",
              "      <td>0.645491</td>\n",
              "      <td>0.615154</td>\n",
              "      <td>0.615547</td>\n",
              "      <td>0.605350</td>\n",
              "      <td>0.534485</td>\n",
              "    </tr>\n",
              "    <tr>\n",
              "      <th>1</th>\n",
              "      <td>0.428571</td>\n",
              "      <td>0.571429</td>\n",
              "      <td>0.428571</td>\n",
              "      <td>0.428571</td>\n",
              "      <td>0.500000</td>\n",
              "      <td>0.040130</td>\n",
              "      <td>0.067614</td>\n",
              "      <td>0.048771</td>\n",
              "      <td>0.030007</td>\n",
              "      <td>0.026884</td>\n",
              "      <td>0.606102</td>\n",
              "      <td>0.595912</td>\n",
              "      <td>0.595313</td>\n",
              "      <td>0.646892</td>\n",
              "      <td>0.575278</td>\n",
              "    </tr>\n",
              "    <tr>\n",
              "      <th>2</th>\n",
              "      <td>0.428571</td>\n",
              "      <td>0.428571</td>\n",
              "      <td>0.571429</td>\n",
              "      <td>0.428571</td>\n",
              "      <td>0.428571</td>\n",
              "      <td>0.026665</td>\n",
              "      <td>0.040130</td>\n",
              "      <td>0.057473</td>\n",
              "      <td>0.051571</td>\n",
              "      <td>0.014810</td>\n",
              "      <td>0.606102</td>\n",
              "      <td>0.576670</td>\n",
              "      <td>0.595313</td>\n",
              "      <td>0.584579</td>\n",
              "      <td>0.616070</td>\n",
              "    </tr>\n",
              "    <tr>\n",
              "      <th>3</th>\n",
              "      <td>0.428571</td>\n",
              "      <td>0.428571</td>\n",
              "      <td>0.428571</td>\n",
              "      <td>0.428571</td>\n",
              "      <td>0.571429</td>\n",
              "      <td>0.052246</td>\n",
              "      <td>0.092111</td>\n",
              "      <td>0.022666</td>\n",
              "      <td>0.036069</td>\n",
              "      <td>0.029993</td>\n",
              "      <td>0.606102</td>\n",
              "      <td>0.576670</td>\n",
              "      <td>0.575078</td>\n",
              "      <td>0.563808</td>\n",
              "      <td>0.554881</td>\n",
              "    </tr>\n",
              "    <tr>\n",
              "      <th>4</th>\n",
              "      <td>0.571429</td>\n",
              "      <td>0.428571</td>\n",
              "      <td>0.428571</td>\n",
              "      <td>0.428571</td>\n",
              "      <td>0.428571</td>\n",
              "      <td>0.069228</td>\n",
              "      <td>0.052246</td>\n",
              "      <td>0.078296</td>\n",
              "      <td>0.023967</td>\n",
              "      <td>0.017802</td>\n",
              "      <td>0.625797</td>\n",
              "      <td>0.576670</td>\n",
              "      <td>0.575078</td>\n",
              "      <td>0.563808</td>\n",
              "      <td>0.534485</td>\n",
              "    </tr>\n",
              "  </tbody>\n",
              "</table>\n",
              "</div>\n",
              "      <button class=\"colab-df-convert\" onclick=\"convertToInteractive('df-683d723e-659a-449a-9c86-1fbe7a612f4c')\"\n",
              "              title=\"Convert this dataframe to an interactive table.\"\n",
              "              style=\"display:none;\">\n",
              "        \n",
              "  <svg xmlns=\"http://www.w3.org/2000/svg\" height=\"24px\"viewBox=\"0 0 24 24\"\n",
              "       width=\"24px\">\n",
              "    <path d=\"M0 0h24v24H0V0z\" fill=\"none\"/>\n",
              "    <path d=\"M18.56 5.44l.94 2.06.94-2.06 2.06-.94-2.06-.94-.94-2.06-.94 2.06-2.06.94zm-11 1L8.5 8.5l.94-2.06 2.06-.94-2.06-.94L8.5 2.5l-.94 2.06-2.06.94zm10 10l.94 2.06.94-2.06 2.06-.94-2.06-.94-.94-2.06-.94 2.06-2.06.94z\"/><path d=\"M17.41 7.96l-1.37-1.37c-.4-.4-.92-.59-1.43-.59-.52 0-1.04.2-1.43.59L10.3 9.45l-7.72 7.72c-.78.78-.78 2.05 0 2.83L4 21.41c.39.39.9.59 1.41.59.51 0 1.02-.2 1.41-.59l7.78-7.78 2.81-2.81c.8-.78.8-2.07 0-2.86zM5.41 20L4 18.59l7.72-7.72 1.47 1.35L5.41 20z\"/>\n",
              "  </svg>\n",
              "      </button>\n",
              "      \n",
              "  <style>\n",
              "    .colab-df-container {\n",
              "      display:flex;\n",
              "      flex-wrap:wrap;\n",
              "      gap: 12px;\n",
              "    }\n",
              "\n",
              "    .colab-df-convert {\n",
              "      background-color: #E8F0FE;\n",
              "      border: none;\n",
              "      border-radius: 50%;\n",
              "      cursor: pointer;\n",
              "      display: none;\n",
              "      fill: #1967D2;\n",
              "      height: 32px;\n",
              "      padding: 0 0 0 0;\n",
              "      width: 32px;\n",
              "    }\n",
              "\n",
              "    .colab-df-convert:hover {\n",
              "      background-color: #E2EBFA;\n",
              "      box-shadow: 0px 1px 2px rgba(60, 64, 67, 0.3), 0px 1px 3px 1px rgba(60, 64, 67, 0.15);\n",
              "      fill: #174EA6;\n",
              "    }\n",
              "\n",
              "    [theme=dark] .colab-df-convert {\n",
              "      background-color: #3B4455;\n",
              "      fill: #D2E3FC;\n",
              "    }\n",
              "\n",
              "    [theme=dark] .colab-df-convert:hover {\n",
              "      background-color: #434B5C;\n",
              "      box-shadow: 0px 1px 3px 1px rgba(0, 0, 0, 0.15);\n",
              "      filter: drop-shadow(0px 1px 2px rgba(0, 0, 0, 0.3));\n",
              "      fill: #FFFFFF;\n",
              "    }\n",
              "  </style>\n",
              "\n",
              "      <script>\n",
              "        const buttonEl =\n",
              "          document.querySelector('#df-683d723e-659a-449a-9c86-1fbe7a612f4c button.colab-df-convert');\n",
              "        buttonEl.style.display =\n",
              "          google.colab.kernel.accessAllowed ? 'block' : 'none';\n",
              "\n",
              "        async function convertToInteractive(key) {\n",
              "          const element = document.querySelector('#df-683d723e-659a-449a-9c86-1fbe7a612f4c');\n",
              "          const dataTable =\n",
              "            await google.colab.kernel.invokeFunction('convertToInteractive',\n",
              "                                                     [key], {});\n",
              "          if (!dataTable) return;\n",
              "\n",
              "          const docLinkHtml = 'Like what you see? Visit the ' +\n",
              "            '<a target=\"_blank\" href=https://colab.research.google.com/notebooks/data_table.ipynb>data table notebook</a>'\n",
              "            + ' to learn more about interactive tables.';\n",
              "          element.innerHTML = '';\n",
              "          dataTable['output_type'] = 'display_data';\n",
              "          await google.colab.output.renderOutput(dataTable, element);\n",
              "          const docLink = document.createElement('div');\n",
              "          docLink.innerHTML = docLinkHtml;\n",
              "          element.appendChild(docLink);\n",
              "        }\n",
              "      </script>\n",
              "    </div>\n",
              "  </div>\n",
              "  "
            ]
          },
          "metadata": {},
          "execution_count": 57
        }
      ]
    },
    {
      "cell_type": "code",
      "source": [
        "Y_test = frame_medium_test['DL_bitrate']\n",
        "Y_test.reset_index(drop=True,inplace=True)\n",
        "X_pred_scaled = model_medium.predict(X_test_scaled)\n",
        "df_test_scaled[15]=X_pred_scaled\n",
        "#Inverse Transforming the Predicted Values\n",
        "df_test = pd.DataFrame(min_max_scaler.inverse_transform(df_test_scaled))\n",
        "Y_pred = df_test.iloc[:,-1:]"
      ],
      "metadata": {
        "id": "7EiXCmxO9faI"
      },
      "execution_count": null,
      "outputs": []
    },
    {
      "cell_type": "code",
      "source": [
        "fig, axes = plt.subplots(1, 1, sharex=True, sharey=True,figsize=(15,5))\n",
        "ax3 = axes\n",
        "ax3.plot(Y_test, label='Y_test')\n",
        "ax3.plot(Y_pred, label='Y_pred')\n",
        "ax3.legend(loc='best')\n",
        "ax3.set_title('Line graph of True Vs Predicted Values')\n",
        "ax3.set_xlabel('Data Points')\n",
        "ax3.set_ylabel('Values')\n",
        "plt.show()"
      ],
      "metadata": {
        "colab": {
          "base_uri": "https://localhost:8080/",
          "height": 350
        },
        "outputId": "47d53927-88aa-4311-c567-2072ca1edc58",
        "id": "ws-pijlx9faI"
      },
      "execution_count": null,
      "outputs": [
        {
          "output_type": "display_data",
          "data": {
            "text/plain": [
              "<Figure size 1080x360 with 1 Axes>"
            ],
            "image/png": "[encoded data removed]"
          },
          "metadata": {
            "needs_background": "light"
          }
        }
      ]
    },
    {
      "cell_type": "code",
      "source": [
        "fig, axes = plt.subplots(1, 1, sharex=True, sharey=True,figsize=(15,5))\n",
        "ax3 = axes\n",
        "ax3.scatter(Y_test, Y_pred[15], c='crimson')\n",
        "p1 = max(max(Y_pred[15]), max(Y_test))\n",
        "p2 = min(min(Y_pred[15]), min(Y_test))\n",
        "ax3.plot([p1, p2], [p1, p2], 'b-')\n",
        "ax3.set(xlim=(1000, None),ylim=(1000, None), title='Scatter Plot of True Vs Predicted Values', xlabel='True Value', ylabel='Predicted Value')\n",
        "plt.show()"
      ],
      "metadata": {
        "colab": {
          "base_uri": "https://localhost:8080/",
          "height": 350
        },
        "outputId": "59c73efa-ed18-40de-cc72-92622f45380c",
        "id": "hmJc_dt59faJ"
      },
      "execution_count": null,
      "outputs": [
        {
          "output_type": "display_data",
          "data": {
            "text/plain": [
              "<Figure size 1080x360 with 1 Axes>"
            ],
            "image/png": "[encoded data removed]"
          },
          "metadata": {
            "needs_background": "light"
          }
        }
      ]
    },
    {
      "cell_type": "code",
      "source": [
        "from keras.models import load_model\n",
        "\n",
        "model_medium.save('model_medium.h5')  # creates a HDF5 file 'my_model.h5'\n",
        "#model = load_model('my_model.h5')"
      ],
      "metadata": {
        "id": "QiIgvisW9faJ"
      },
      "execution_count": null,
      "outputs": []
    },
    {
      "cell_type": "code",
      "source": [],
      "metadata": {
        "id": "sZiFI0Gz9faJ"
      },
      "execution_count": null,
      "outputs": []
    },
    {
      "cell_type": "markdown",
      "source": [
        "# High Throughput Model"
      ],
      "metadata": {
        "id": "5ozAJWUS9ftB"
      }
    },
    {
      "cell_type": "code",
      "source": [
        "frame_high_train = frame_high.sample(frac = 0.7, random_state=0)\n",
        "frame_high_test = frame_high.drop(frame_high_train.index)"
      ],
      "metadata": {
        "id": "GBsPtPSk9ftC"
      },
      "execution_count": null,
      "outputs": []
    },
    {
      "cell_type": "code",
      "source": [
        "print(frame_high_train.shape)\n",
        "print(frame_high_test.shape)"
      ],
      "metadata": {
        "colab": {
          "base_uri": "https://localhost:8080/"
        },
        "id": "GdbV0jVF9ftC",
        "outputId": "e2e1f0bf-e09b-4aa4-f08c-4a0a01409ebb"
      },
      "execution_count": null,
      "outputs": [
        {
          "output_type": "stream",
          "name": "stdout",
          "text": [
            "(69948, 47)\n",
            "(29977, 47)\n"
          ]
        }
      ]
    },
    {
      "cell_type": "code",
      "source": [
        "df = frame_high_train[col_names_scaled]\n",
        "min_max_scaler = MinMaxScaler()\n",
        "# transform data\n",
        "df_min_max_scaled = pd.DataFrame(min_max_scaler.fit_transform(df))"
      ],
      "metadata": {
        "id": "dbRQj2Wy9ftC"
      },
      "execution_count": null,
      "outputs": []
    },
    {
      "cell_type": "code",
      "source": [
        "X_train_min_max_scaler, X_valid_min_max_scaler, Y_train_min_max_scaler, Y_valid_min_max_scaler = train_test_split(df_min_max_scaled.iloc[:,:-1], df_min_max_scaled.iloc[:,-1:], test_size=0.3, random_state=0)\n",
        "print('Train set shape', X_train_min_max_scaler.shape)\n",
        "print('Validation set shape', X_valid_min_max_scaler.shape)\n",
        "X_train_min_max_scaler.head()"
      ],
      "metadata": {
        "colab": {
          "base_uri": "https://localhost:8080/",
          "height": 241
        },
        "id": "BhNAQRo_9ftD",
        "outputId": "2cfd411a-afd0-40c5-bbdb-371ea69173aa"
      },
      "execution_count": null,
      "outputs": [
        {
          "output_type": "stream",
          "name": "stdout",
          "text": [
            "Train set shape (48963, 15)\n",
            "Validation set shape (20985, 15)\n"
          ]
        },
        {
          "output_type": "execute_result",
          "data": {
            "text/plain": [
              "             0         1         2         3         4         5         6   \\\n",
              "22497  0.785714  0.642857  0.642857  0.642857  0.642857  0.257807  0.243157   \n",
              "62818  0.714286  0.642857  0.714286  0.571429  0.642857  0.179802  0.195600   \n",
              "33446  0.928571  0.785714  1.000000  1.000000  0.642857  0.490928  0.467356   \n",
              "43763  0.642857  0.642857  0.642857  0.642857  0.642857  0.021448  0.021975   \n",
              "60154  0.464193  0.452135  0.457127  0.450656  0.442259  0.057241  0.061081   \n",
              "\n",
              "             7         8         9         10        11        12        13  \\\n",
              "22497  0.267362  0.240879  0.259084  0.644940  0.604167  0.520833  0.520833   \n",
              "62818  0.224791  0.204912  0.262291  0.644940  0.604167  0.604167  0.604167   \n",
              "33446  0.498718  0.486232  0.402649  0.831814  0.812500  0.770833  0.770833   \n",
              "43763  0.021129  0.032639  0.022756  0.532816  0.479167  0.479167  0.479167   \n",
              "60154  0.070331  0.070716  0.074626  0.579834  0.502002  0.475187  0.483266   \n",
              "\n",
              "             14  \n",
              "22497  0.562500  \n",
              "62818  0.562500  \n",
              "33446  0.645833  \n",
              "43763  0.479167  \n",
              "60154  0.468724  "
            ],
            "text/html": [
              "\n",
              "  <div id=\"df-9ec050a6-1187-4847-8e5e-7b5cf5ac1162\">\n",
              "    <div class=\"colab-df-container\">\n",
              "      <div>\n",
              "<style scoped>\n",
              "    .dataframe tbody tr th:only-of-type {\n",
              "        vertical-align: middle;\n",
              "    }\n",
              "\n",
              "    .dataframe tbody tr th {\n",
              "        vertical-align: top;\n",
              "    }\n",
              "\n",
              "    .dataframe thead th {\n",
              "        text-align: right;\n",
              "    }\n",
              "</style>\n",
              "<table border=\"1\" class=\"dataframe\">\n",
              "  <thead>\n",
              "    <tr style=\"text-align: right;\">\n",
              "      <th></th>\n",
              "      <th>0</th>\n",
              "      <th>1</th>\n",
              "      <th>2</th>\n",
              "      <th>3</th>\n",
              "      <th>4</th>\n",
              "      <th>5</th>\n",
              "      <th>6</th>\n",
              "      <th>7</th>\n",
              "      <th>8</th>\n",
              "      <th>9</th>\n",
              "      <th>10</th>\n",
              "      <th>11</th>\n",
              "      <th>12</th>\n",
              "      <th>13</th>\n",
              "      <th>14</th>\n",
              "    </tr>\n",
              "  </thead>\n",
              "  <tbody>\n",
              "    <tr>\n",
              "      <th>22497</th>\n",
              "      <td>0.785714</td>\n",
              "      <td>0.642857</td>\n",
              "      <td>0.642857</td>\n",
              "      <td>0.642857</td>\n",
              "      <td>0.642857</td>\n",
              "      <td>0.257807</td>\n",
              "      <td>0.243157</td>\n",
              "      <td>0.267362</td>\n",
              "      <td>0.240879</td>\n",
              "      <td>0.259084</td>\n",
              "      <td>0.644940</td>\n",
              "      <td>0.604167</td>\n",
              "      <td>0.520833</td>\n",
              "      <td>0.520833</td>\n",
              "      <td>0.562500</td>\n",
              "    </tr>\n",
              "    <tr>\n",
              "      <th>62818</th>\n",
              "      <td>0.714286</td>\n",
              "      <td>0.642857</td>\n",
              "      <td>0.714286</td>\n",
              "      <td>0.571429</td>\n",
              "      <td>0.642857</td>\n",
              "      <td>0.179802</td>\n",
              "      <td>0.195600</td>\n",
              "      <td>0.224791</td>\n",
              "      <td>0.204912</td>\n",
              "      <td>0.262291</td>\n",
              "      <td>0.644940</td>\n",
              "      <td>0.604167</td>\n",
              "      <td>0.604167</td>\n",
              "      <td>0.604167</td>\n",
              "      <td>0.562500</td>\n",
              "    </tr>\n",
              "    <tr>\n",
              "      <th>33446</th>\n",
              "      <td>0.928571</td>\n",
              "      <td>0.785714</td>\n",
              "      <td>1.000000</td>\n",
              "      <td>1.000000</td>\n",
              "      <td>0.642857</td>\n",
              "      <td>0.490928</td>\n",
              "      <td>0.467356</td>\n",
              "      <td>0.498718</td>\n",
              "      <td>0.486232</td>\n",
              "      <td>0.402649</td>\n",
              "      <td>0.831814</td>\n",
              "      <td>0.812500</td>\n",
              "      <td>0.770833</td>\n",
              "      <td>0.770833</td>\n",
              "      <td>0.645833</td>\n",
              "    </tr>\n",
              "    <tr>\n",
              "      <th>43763</th>\n",
              "      <td>0.642857</td>\n",
              "      <td>0.642857</td>\n",
              "      <td>0.642857</td>\n",
              "      <td>0.642857</td>\n",
              "      <td>0.642857</td>\n",
              "      <td>0.021448</td>\n",
              "      <td>0.021975</td>\n",
              "      <td>0.021129</td>\n",
              "      <td>0.032639</td>\n",
              "      <td>0.022756</td>\n",
              "      <td>0.532816</td>\n",
              "      <td>0.479167</td>\n",
              "      <td>0.479167</td>\n",
              "      <td>0.479167</td>\n",
              "      <td>0.479167</td>\n",
              "    </tr>\n",
              "    <tr>\n",
              "      <th>60154</th>\n",
              "      <td>0.464193</td>\n",
              "      <td>0.452135</td>\n",
              "      <td>0.457127</td>\n",
              "      <td>0.450656</td>\n",
              "      <td>0.442259</td>\n",
              "      <td>0.057241</td>\n",
              "      <td>0.061081</td>\n",
              "      <td>0.070331</td>\n",
              "      <td>0.070716</td>\n",
              "      <td>0.074626</td>\n",
              "      <td>0.579834</td>\n",
              "      <td>0.502002</td>\n",
              "      <td>0.475187</td>\n",
              "      <td>0.483266</td>\n",
              "      <td>0.468724</td>\n",
              "    </tr>\n",
              "  </tbody>\n",
              "</table>\n",
              "</div>\n",
              "      <button class=\"colab-df-convert\" onclick=\"convertToInteractive('df-9ec050a6-1187-4847-8e5e-7b5cf5ac1162')\"\n",
              "              title=\"Convert this dataframe to an interactive table.\"\n",
              "              style=\"display:none;\">\n",
              "        \n",
              "  <svg xmlns=\"http://www.w3.org/2000/svg\" height=\"24px\"viewBox=\"0 0 24 24\"\n",
              "       width=\"24px\">\n",
              "    <path d=\"M0 0h24v24H0V0z\" fill=\"none\"/>\n",
              "    <path d=\"M18.56 5.44l.94 2.06.94-2.06 2.06-.94-2.06-.94-.94-2.06-.94 2.06-2.06.94zm-11 1L8.5 8.5l.94-2.06 2.06-.94-2.06-.94L8.5 2.5l-.94 2.06-2.06.94zm10 10l.94 2.06.94-2.06 2.06-.94-2.06-.94-.94-2.06-.94 2.06-2.06.94z\"/><path d=\"M17.41 7.96l-1.37-1.37c-.4-.4-.92-.59-1.43-.59-.52 0-1.04.2-1.43.59L10.3 9.45l-7.72 7.72c-.78.78-.78 2.05 0 2.83L4 21.41c.39.39.9.59 1.41.59.51 0 1.02-.2 1.41-.59l7.78-7.78 2.81-2.81c.8-.78.8-2.07 0-2.86zM5.41 20L4 18.59l7.72-7.72 1.47 1.35L5.41 20z\"/>\n",
              "  </svg>\n",
              "      </button>\n",
              "      \n",
              "  <style>\n",
              "    .colab-df-container {\n",
              "      display:flex;\n",
              "      flex-wrap:wrap;\n",
              "      gap: 12px;\n",
              "    }\n",
              "\n",
              "    .colab-df-convert {\n",
              "      background-color: #E8F0FE;\n",
              "      border: none;\n",
              "      border-radius: 50%;\n",
              "      cursor: pointer;\n",
              "      display: none;\n",
              "      fill: #1967D2;\n",
              "      height: 32px;\n",
              "      padding: 0 0 0 0;\n",
              "      width: 32px;\n",
              "    }\n",
              "\n",
              "    .colab-df-convert:hover {\n",
              "      background-color: #E2EBFA;\n",
              "      box-shadow: 0px 1px 2px rgba(60, 64, 67, 0.3), 0px 1px 3px 1px rgba(60, 64, 67, 0.15);\n",
              "      fill: #174EA6;\n",
              "    }\n",
              "\n",
              "    [theme=dark] .colab-df-convert {\n",
              "      background-color: #3B4455;\n",
              "      fill: #D2E3FC;\n",
              "    }\n",
              "\n",
              "    [theme=dark] .colab-df-convert:hover {\n",
              "      background-color: #434B5C;\n",
              "      box-shadow: 0px 1px 3px 1px rgba(0, 0, 0, 0.15);\n",
              "      filter: drop-shadow(0px 1px 2px rgba(0, 0, 0, 0.3));\n",
              "      fill: #FFFFFF;\n",
              "    }\n",
              "  </style>\n",
              "\n",
              "      <script>\n",
              "        const buttonEl =\n",
              "          document.querySelector('#df-9ec050a6-1187-4847-8e5e-7b5cf5ac1162 button.colab-df-convert');\n",
              "        buttonEl.style.display =\n",
              "          google.colab.kernel.accessAllowed ? 'block' : 'none';\n",
              "\n",
              "        async function convertToInteractive(key) {\n",
              "          const element = document.querySelector('#df-9ec050a6-1187-4847-8e5e-7b5cf5ac1162');\n",
              "          const dataTable =\n",
              "            await google.colab.kernel.invokeFunction('convertToInteractive',\n",
              "                                                     [key], {});\n",
              "          if (!dataTable) return;\n",
              "\n",
              "          const docLinkHtml = 'Like what you see? Visit the ' +\n",
              "            '<a target=\"_blank\" href=https://colab.research.google.com/notebooks/data_table.ipynb>data table notebook</a>'\n",
              "            + ' to learn more about interactive tables.';\n",
              "          element.innerHTML = '';\n",
              "          dataTable['output_type'] = 'display_data';\n",
              "          await google.colab.output.renderOutput(dataTable, element);\n",
              "          const docLink = document.createElement('div');\n",
              "          docLink.innerHTML = docLinkHtml;\n",
              "          element.appendChild(docLink);\n",
              "        }\n",
              "      </script>\n",
              "    </div>\n",
              "  </div>\n",
              "  "
            ]
          },
          "metadata": {},
          "execution_count": 65
        }
      ]
    },
    {
      "cell_type": "code",
      "source": [
        "X_train_min_max_series = X_train_min_max_scaler.values.reshape((X_train_min_max_scaler.shape[0], X_train_min_max_scaler.shape[1], 1))\n",
        "X_valid_min_max_series = X_valid_min_max_scaler.values.reshape((X_valid_min_max_scaler.shape[0], X_valid_min_max_scaler.shape[1], 1))\n",
        "print('Train set shape', X_train_min_max_series.shape)\n",
        "print('Validation set shape', X_valid_min_max_series.shape)"
      ],
      "metadata": {
        "colab": {
          "base_uri": "https://localhost:8080/"
        },
        "id": "J1TnQ5Ry9ftD",
        "outputId": "defb9e07-bf71-4078-d44a-31d1efdf8f79"
      },
      "execution_count": null,
      "outputs": [
        {
          "output_type": "stream",
          "name": "stdout",
          "text": [
            "Train set shape (48963, 15, 1)\n",
            "Validation set shape (20985, 15, 1)\n"
          ]
        }
      ]
    },
    {
      "cell_type": "code",
      "source": [
        "mae = MeanAbsoluteError()\n",
        "model_high = keras.Sequential()\n",
        "model_high.add(keras.layers.Flatten(input_shape=(X_train_min_max_series.shape[1], X_train_min_max_series.shape[2])))\n",
        "model_high.add(Dense(units=352, activation='relu'))\n",
        "model_high.add(Dropout(rate=0))\n",
        "model_high.add(tf.keras.layers.Dense(units=352, activation='relu'))\n",
        "model_high.add(Dropout(rate=0))\n",
        "model_high.add(tf.keras.layers.Dense(units=160, activation='relu'))\n",
        "model_high.add(Dropout(rate=0))\n",
        "model_high.add(Dense(1, kernel_initializer='normal', activation='linear'))\n",
        "model_high.compile(optimizer=tf.keras.optimizers.Adam(learning_rate=0.0001),loss=mae,metrics=[mae])\n",
        "model_high.summary()"
      ],
      "metadata": {
        "colab": {
          "base_uri": "https://localhost:8080/"
        },
        "id": "c1fJAlt09ftD",
        "outputId": "8232678d-506e-47a7-a082-d18ed97e314d"
      },
      "execution_count": null,
      "outputs": [
        {
          "output_type": "stream",
          "name": "stdout",
          "text": [
            "Model: \"sequential_2\"\n",
            "_________________________________________________________________\n",
            " Layer (type)                Output Shape              Param #   \n",
            "=================================================================\n",
            " flatten_2 (Flatten)         (None, 15)                0         \n",
            "                                                                 \n",
            " dense_8 (Dense)             (None, 352)               5632      \n",
            "                                                                 \n",
            " dropout_6 (Dropout)         (None, 352)               0         \n",
            "                                                                 \n",
            " dense_9 (Dense)             (None, 352)               124256    \n",
            "                                                                 \n",
            " dropout_7 (Dropout)         (None, 352)               0         \n",
            "                                                                 \n",
            " dense_10 (Dense)            (None, 160)               56480     \n",
            "                                                                 \n",
            " dropout_8 (Dropout)         (None, 160)               0         \n",
            "                                                                 \n",
            " dense_11 (Dense)            (None, 1)                 161       \n",
            "                                                                 \n",
            "=================================================================\n",
            "Total params: 186,529\n",
            "Trainable params: 186,529\n",
            "Non-trainable params: 0\n",
            "_________________________________________________________________\n"
          ]
        }
      ]
    },
    {
      "cell_type": "code",
      "source": [
        "monitor = EarlyStopping(monitor='val_loss', min_delta=1e-3, patience=30, \n",
        "        verbose=1, mode='auto', restore_best_weights=True)\n",
        "history=model_high.fit(X_train_min_max_series, Y_train_min_max_scaler, validation_data=(X_valid_min_max_series, Y_valid_min_max_scaler),\n",
        "        callbacks=[monitor],verbose=1,epochs=500)"
      ],
      "metadata": {
        "colab": {
          "base_uri": "https://localhost:8080/"
        },
        "id": "PEtQYDsN9ftE",
        "outputId": "0a33c037-4198-4e90-ae20-421f0db585d5"
      },
      "execution_count": null,
      "outputs": [
        {
          "output_type": "stream",
          "name": "stdout",
          "text": [
            "Epoch 1/500\n",
            "1531/1531 [==============================] - 7s 4ms/step - loss: 0.0271 - mean_absolute_error: 0.0271 - val_loss: 0.0253 - val_mean_absolute_error: 0.0253\n",
            "Epoch 2/500\n",
            "1531/1531 [==============================] - 6s 4ms/step - loss: 0.0251 - mean_absolute_error: 0.0251 - val_loss: 0.0249 - val_mean_absolute_error: 0.0249\n",
            "Epoch 3/500\n",
            "1531/1531 [==============================] - 6s 4ms/step - loss: 0.0250 - mean_absolute_error: 0.0250 - val_loss: 0.0248 - val_mean_absolute_error: 0.0248\n",
            "Epoch 4/500\n",
            "1531/1531 [==============================] - 6s 4ms/step - loss: 0.0248 - mean_absolute_error: 0.0248 - val_loss: 0.0251 - val_mean_absolute_error: 0.0251\n",
            "Epoch 5/500\n",
            "1531/1531 [==============================] - 6s 4ms/step - loss: 0.0247 - mean_absolute_error: 0.0247 - val_loss: 0.0263 - val_mean_absolute_error: 0.0263\n",
            "Epoch 6/500\n",
            "1531/1531 [==============================] - 6s 4ms/step - loss: 0.0247 - mean_absolute_error: 0.0247 - val_loss: 0.0251 - val_mean_absolute_error: 0.0251\n",
            "Epoch 7/500\n",
            "1531/1531 [==============================] - 6s 4ms/step - loss: 0.0247 - mean_absolute_error: 0.0248 - val_loss: 0.0246 - val_mean_absolute_error: 0.0246\n",
            "Epoch 8/500\n",
            "1531/1531 [==============================] - 6s 4ms/step - loss: 0.0246 - mean_absolute_error: 0.0246 - val_loss: 0.0250 - val_mean_absolute_error: 0.0250\n",
            "Epoch 9/500\n",
            "1531/1531 [==============================] - 6s 4ms/step - loss: 0.0246 - mean_absolute_error: 0.0246 - val_loss: 0.0245 - val_mean_absolute_error: 0.0245\n",
            "Epoch 10/500\n",
            "1531/1531 [==============================] - 6s 4ms/step - loss: 0.0245 - mean_absolute_error: 0.0246 - val_loss: 0.0245 - val_mean_absolute_error: 0.0245\n",
            "Epoch 11/500\n",
            "1531/1531 [==============================] - 6s 4ms/step - loss: 0.0245 - mean_absolute_error: 0.0245 - val_loss: 0.0248 - val_mean_absolute_error: 0.0248\n",
            "Epoch 12/500\n",
            "1531/1531 [==============================] - 6s 4ms/step - loss: 0.0245 - mean_absolute_error: 0.0245 - val_loss: 0.0247 - val_mean_absolute_error: 0.0247\n",
            "Epoch 13/500\n",
            "1531/1531 [==============================] - 6s 4ms/step - loss: 0.0245 - mean_absolute_error: 0.0245 - val_loss: 0.0252 - val_mean_absolute_error: 0.0252\n",
            "Epoch 14/500\n",
            "1531/1531 [==============================] - 6s 4ms/step - loss: 0.0244 - mean_absolute_error: 0.0244 - val_loss: 0.0245 - val_mean_absolute_error: 0.0245\n",
            "Epoch 15/500\n",
            "1531/1531 [==============================] - 6s 4ms/step - loss: 0.0244 - mean_absolute_error: 0.0244 - val_loss: 0.0244 - val_mean_absolute_error: 0.0244\n",
            "Epoch 16/500\n",
            "1531/1531 [==============================] - 6s 4ms/step - loss: 0.0244 - mean_absolute_error: 0.0244 - val_loss: 0.0249 - val_mean_absolute_error: 0.0249\n",
            "Epoch 17/500\n",
            "1531/1531 [==============================] - 6s 4ms/step - loss: 0.0243 - mean_absolute_error: 0.0243 - val_loss: 0.0247 - val_mean_absolute_error: 0.0247\n",
            "Epoch 18/500\n",
            "1531/1531 [==============================] - 6s 4ms/step - loss: 0.0243 - mean_absolute_error: 0.0243 - val_loss: 0.0249 - val_mean_absolute_error: 0.0249\n",
            "Epoch 19/500\n",
            "1531/1531 [==============================] - 6s 4ms/step - loss: 0.0243 - mean_absolute_error: 0.0243 - val_loss: 0.0245 - val_mean_absolute_error: 0.0245\n",
            "Epoch 20/500\n",
            "1531/1531 [==============================] - 6s 4ms/step - loss: 0.0242 - mean_absolute_error: 0.0242 - val_loss: 0.0245 - val_mean_absolute_error: 0.0245\n",
            "Epoch 21/500\n",
            "1531/1531 [==============================] - 6s 4ms/step - loss: 0.0242 - mean_absolute_error: 0.0242 - val_loss: 0.0248 - val_mean_absolute_error: 0.0248\n",
            "Epoch 22/500\n",
            "1531/1531 [==============================] - 6s 4ms/step - loss: 0.0242 - mean_absolute_error: 0.0242 - val_loss: 0.0248 - val_mean_absolute_error: 0.0248\n",
            "Epoch 23/500\n",
            "1531/1531 [==============================] - 6s 4ms/step - loss: 0.0242 - mean_absolute_error: 0.0241 - val_loss: 0.0245 - val_mean_absolute_error: 0.0245\n",
            "Epoch 24/500\n",
            "1531/1531 [==============================] - 6s 4ms/step - loss: 0.0241 - mean_absolute_error: 0.0241 - val_loss: 0.0247 - val_mean_absolute_error: 0.0247\n",
            "Epoch 25/500\n",
            "1531/1531 [==============================] - 6s 4ms/step - loss: 0.0241 - mean_absolute_error: 0.0241 - val_loss: 0.0243 - val_mean_absolute_error: 0.0243\n",
            "Epoch 26/500\n",
            "1531/1531 [==============================] - 6s 4ms/step - loss: 0.0241 - mean_absolute_error: 0.0241 - val_loss: 0.0244 - val_mean_absolute_error: 0.0244\n",
            "Epoch 27/500\n",
            "1531/1531 [==============================] - 6s 4ms/step - loss: 0.0240 - mean_absolute_error: 0.0240 - val_loss: 0.0245 - val_mean_absolute_error: 0.0245\n",
            "Epoch 28/500\n",
            "1531/1531 [==============================] - 6s 4ms/step - loss: 0.0240 - mean_absolute_error: 0.0240 - val_loss: 0.0254 - val_mean_absolute_error: 0.0254\n",
            "Epoch 29/500\n",
            "1531/1531 [==============================] - 6s 4ms/step - loss: 0.0240 - mean_absolute_error: 0.0240 - val_loss: 0.0245 - val_mean_absolute_error: 0.0245\n",
            "Epoch 30/500\n",
            "1531/1531 [==============================] - 6s 4ms/step - loss: 0.0239 - mean_absolute_error: 0.0239 - val_loss: 0.0245 - val_mean_absolute_error: 0.0245\n",
            "Epoch 31/500\n",
            "1529/1531 [============================>.] - ETA: 0s - loss: 0.0239 - mean_absolute_error: 0.0239Restoring model weights from the end of the best epoch: 1.\n",
            "1531/1531 [==============================] - 6s 4ms/step - loss: 0.0239 - mean_absolute_error: 0.0239 - val_loss: 0.0244 - val_mean_absolute_error: 0.0244\n",
            "Epoch 31: early stopping\n"
          ]
        }
      ]
    },
    {
      "cell_type": "code",
      "source": [
        "kt_train_pred_min_max_scaled = model_high.predict(X_train_min_max_scaler)\n",
        "kt_valid_pred_min_max_scaled = model_high.predict(X_valid_min_max_scaler)\n",
        "print('Train rmse:', np.sqrt(mean_squared_error(Y_train_min_max_scaler, kt_train_pred_min_max_scaled)))\n",
        "print('Validation rmse:', np.sqrt(mean_squared_error(Y_valid_min_max_scaler, kt_valid_pred_min_max_scaled)))"
      ],
      "metadata": {
        "colab": {
          "base_uri": "https://localhost:8080/"
        },
        "outputId": "070b31e8-88c5-4adc-f455-1d129b9392da",
        "id": "a710fjGI9ftF"
      },
      "execution_count": null,
      "outputs": [
        {
          "output_type": "stream",
          "name": "stdout",
          "text": [
            "Train rmse: 0.03913360033036528\n",
            "Validation rmse: 0.03941507858829627\n"
          ]
        }
      ]
    },
    {
      "cell_type": "code",
      "source": [
        "df = frame_high_test[col_names_scaled]\n",
        "df_test_scaled = pd.DataFrame(min_max_scaler.fit_transform(df))\n",
        "X_test_scaled = df_test_scaled.iloc[:,:-1]\n",
        "X_test_scaled.head()"
      ],
      "metadata": {
        "colab": {
          "base_uri": "https://localhost:8080/",
          "height": 206
        },
        "outputId": "ff6fcbdc-23a3-435d-c3e7-9bae3f89b061",
        "id": "F8cfSOuO9ftF"
      },
      "execution_count": null,
      "outputs": [
        {
          "output_type": "execute_result",
          "data": {
            "text/plain": [
              "         0         1         2         3         4         5         6   \\\n",
              "0  0.571429  0.571429  0.571429  0.571429  0.571429  0.022171  0.009448   \n",
              "1  0.500000  0.500000  0.500000  0.500000  0.500000  0.044279  0.041035   \n",
              "2  0.500000  0.500000  0.500000  0.500000  0.500000  0.066514  0.058277   \n",
              "3  0.571429  0.571429  0.500000  0.500000  0.500000  0.033159  0.049446   \n",
              "4  0.357143  0.357143  0.357143  0.071429  0.357143  0.012860  0.000000   \n",
              "\n",
              "         7         8         9         10        11        12        13  \\\n",
              "0  0.009502  0.008066  0.006653  0.416667  0.416667  0.416667  0.375000   \n",
              "1  0.030830  0.032894  0.037812  0.437500  0.458333  0.437500  0.458333   \n",
              "2  0.044019  0.047245  0.038459  0.437500  0.437500  0.437500  0.437500   \n",
              "3  0.072005  0.070969  0.054619  0.479167  0.437500  0.437500  0.437500   \n",
              "4  0.010080  0.007721  0.001485  0.208333  0.208333  0.104167  0.104167   \n",
              "\n",
              "         14  \n",
              "0  0.375000  \n",
              "1  0.416667  \n",
              "2  0.458333  \n",
              "3  0.437500  \n",
              "4  0.229167  "
            ],
            "text/html": [
              "\n",
              "  <div id=\"df-b6b3704a-763f-45f9-bcf6-8971fd5877a3\">\n",
              "    <div class=\"colab-df-container\">\n",
              "      <div>\n",
              "<style scoped>\n",
              "    .dataframe tbody tr th:only-of-type {\n",
              "        vertical-align: middle;\n",
              "    }\n",
              "\n",
              "    .dataframe tbody tr th {\n",
              "        vertical-align: top;\n",
              "    }\n",
              "\n",
              "    .dataframe thead th {\n",
              "        text-align: right;\n",
              "    }\n",
              "</style>\n",
              "<table border=\"1\" class=\"dataframe\">\n",
              "  <thead>\n",
              "    <tr style=\"text-align: right;\">\n",
              "      <th></th>\n",
              "      <th>0</th>\n",
              "      <th>1</th>\n",
              "      <th>2</th>\n",
              "      <th>3</th>\n",
              "      <th>4</th>\n",
              "      <th>5</th>\n",
              "      <th>6</th>\n",
              "      <th>7</th>\n",
              "      <th>8</th>\n",
              "      <th>9</th>\n",
              "      <th>10</th>\n",
              "      <th>11</th>\n",
              "      <th>12</th>\n",
              "      <th>13</th>\n",
              "      <th>14</th>\n",
              "    </tr>\n",
              "  </thead>\n",
              "  <tbody>\n",
              "    <tr>\n",
              "      <th>0</th>\n",
              "      <td>0.571429</td>\n",
              "      <td>0.571429</td>\n",
              "      <td>0.571429</td>\n",
              "      <td>0.571429</td>\n",
              "      <td>0.571429</td>\n",
              "      <td>0.022171</td>\n",
              "      <td>0.009448</td>\n",
              "      <td>0.009502</td>\n",
              "      <td>0.008066</td>\n",
              "      <td>0.006653</td>\n",
              "      <td>0.416667</td>\n",
              "      <td>0.416667</td>\n",
              "      <td>0.416667</td>\n",
              "      <td>0.375000</td>\n",
              "      <td>0.375000</td>\n",
              "    </tr>\n",
              "    <tr>\n",
              "      <th>1</th>\n",
              "      <td>0.500000</td>\n",
              "      <td>0.500000</td>\n",
              "      <td>0.500000</td>\n",
              "      <td>0.500000</td>\n",
              "      <td>0.500000</td>\n",
              "      <td>0.044279</td>\n",
              "      <td>0.041035</td>\n",
              "      <td>0.030830</td>\n",
              "      <td>0.032894</td>\n",
              "      <td>0.037812</td>\n",
              "      <td>0.437500</td>\n",
              "      <td>0.458333</td>\n",
              "      <td>0.437500</td>\n",
              "      <td>0.458333</td>\n",
              "      <td>0.416667</td>\n",
              "    </tr>\n",
              "    <tr>\n",
              "      <th>2</th>\n",
              "      <td>0.500000</td>\n",
              "      <td>0.500000</td>\n",
              "      <td>0.500000</td>\n",
              "      <td>0.500000</td>\n",
              "      <td>0.500000</td>\n",
              "      <td>0.066514</td>\n",
              "      <td>0.058277</td>\n",
              "      <td>0.044019</td>\n",
              "      <td>0.047245</td>\n",
              "      <td>0.038459</td>\n",
              "      <td>0.437500</td>\n",
              "      <td>0.437500</td>\n",
              "      <td>0.437500</td>\n",
              "      <td>0.437500</td>\n",
              "      <td>0.458333</td>\n",
              "    </tr>\n",
              "    <tr>\n",
              "      <th>3</th>\n",
              "      <td>0.571429</td>\n",
              "      <td>0.571429</td>\n",
              "      <td>0.500000</td>\n",
              "      <td>0.500000</td>\n",
              "      <td>0.500000</td>\n",
              "      <td>0.033159</td>\n",
              "      <td>0.049446</td>\n",
              "      <td>0.072005</td>\n",
              "      <td>0.070969</td>\n",
              "      <td>0.054619</td>\n",
              "      <td>0.479167</td>\n",
              "      <td>0.437500</td>\n",
              "      <td>0.437500</td>\n",
              "      <td>0.437500</td>\n",
              "      <td>0.437500</td>\n",
              "    </tr>\n",
              "    <tr>\n",
              "      <th>4</th>\n",
              "      <td>0.357143</td>\n",
              "      <td>0.357143</td>\n",
              "      <td>0.357143</td>\n",
              "      <td>0.071429</td>\n",
              "      <td>0.357143</td>\n",
              "      <td>0.012860</td>\n",
              "      <td>0.000000</td>\n",
              "      <td>0.010080</td>\n",
              "      <td>0.007721</td>\n",
              "      <td>0.001485</td>\n",
              "      <td>0.208333</td>\n",
              "      <td>0.208333</td>\n",
              "      <td>0.104167</td>\n",
              "      <td>0.104167</td>\n",
              "      <td>0.229167</td>\n",
              "    </tr>\n",
              "  </tbody>\n",
              "</table>\n",
              "</div>\n",
              "      <button class=\"colab-df-convert\" onclick=\"convertToInteractive('df-b6b3704a-763f-45f9-bcf6-8971fd5877a3')\"\n",
              "              title=\"Convert this dataframe to an interactive table.\"\n",
              "              style=\"display:none;\">\n",
              "        \n",
              "  <svg xmlns=\"http://www.w3.org/2000/svg\" height=\"24px\"viewBox=\"0 0 24 24\"\n",
              "       width=\"24px\">\n",
              "    <path d=\"M0 0h24v24H0V0z\" fill=\"none\"/>\n",
              "    <path d=\"M18.56 5.44l.94 2.06.94-2.06 2.06-.94-2.06-.94-.94-2.06-.94 2.06-2.06.94zm-11 1L8.5 8.5l.94-2.06 2.06-.94-2.06-.94L8.5 2.5l-.94 2.06-2.06.94zm10 10l.94 2.06.94-2.06 2.06-.94-2.06-.94-.94-2.06-.94 2.06-2.06.94z\"/><path d=\"M17.41 7.96l-1.37-1.37c-.4-.4-.92-.59-1.43-.59-.52 0-1.04.2-1.43.59L10.3 9.45l-7.72 7.72c-.78.78-.78 2.05 0 2.83L4 21.41c.39.39.9.59 1.41.59.51 0 1.02-.2 1.41-.59l7.78-7.78 2.81-2.81c.8-.78.8-2.07 0-2.86zM5.41 20L4 18.59l7.72-7.72 1.47 1.35L5.41 20z\"/>\n",
              "  </svg>\n",
              "      </button>\n",
              "      \n",
              "  <style>\n",
              "    .colab-df-container {\n",
              "      display:flex;\n",
              "      flex-wrap:wrap;\n",
              "      gap: 12px;\n",
              "    }\n",
              "\n",
              "    .colab-df-convert {\n",
              "      background-color: #E8F0FE;\n",
              "      border: none;\n",
              "      border-radius: 50%;\n",
              "      cursor: pointer;\n",
              "      display: none;\n",
              "      fill: #1967D2;\n",
              "      height: 32px;\n",
              "      padding: 0 0 0 0;\n",
              "      width: 32px;\n",
              "    }\n",
              "\n",
              "    .colab-df-convert:hover {\n",
              "      background-color: #E2EBFA;\n",
              "      box-shadow: 0px 1px 2px rgba(60, 64, 67, 0.3), 0px 1px 3px 1px rgba(60, 64, 67, 0.15);\n",
              "      fill: #174EA6;\n",
              "    }\n",
              "\n",
              "    [theme=dark] .colab-df-convert {\n",
              "      background-color: #3B4455;\n",
              "      fill: #D2E3FC;\n",
              "    }\n",
              "\n",
              "    [theme=dark] .colab-df-convert:hover {\n",
              "      background-color: #434B5C;\n",
              "      box-shadow: 0px 1px 3px 1px rgba(0, 0, 0, 0.15);\n",
              "      filter: drop-shadow(0px 1px 2px rgba(0, 0, 0, 0.3));\n",
              "      fill: #FFFFFF;\n",
              "    }\n",
              "  </style>\n",
              "\n",
              "      <script>\n",
              "        const buttonEl =\n",
              "          document.querySelector('#df-b6b3704a-763f-45f9-bcf6-8971fd5877a3 button.colab-df-convert');\n",
              "        buttonEl.style.display =\n",
              "          google.colab.kernel.accessAllowed ? 'block' : 'none';\n",
              "\n",
              "        async function convertToInteractive(key) {\n",
              "          const element = document.querySelector('#df-b6b3704a-763f-45f9-bcf6-8971fd5877a3');\n",
              "          const dataTable =\n",
              "            await google.colab.kernel.invokeFunction('convertToInteractive',\n",
              "                                                     [key], {});\n",
              "          if (!dataTable) return;\n",
              "\n",
              "          const docLinkHtml = 'Like what you see? Visit the ' +\n",
              "            '<a target=\"_blank\" href=https://colab.research.google.com/notebooks/data_table.ipynb>data table notebook</a>'\n",
              "            + ' to learn more about interactive tables.';\n",
              "          element.innerHTML = '';\n",
              "          dataTable['output_type'] = 'display_data';\n",
              "          await google.colab.output.renderOutput(dataTable, element);\n",
              "          const docLink = document.createElement('div');\n",
              "          docLink.innerHTML = docLinkHtml;\n",
              "          element.appendChild(docLink);\n",
              "        }\n",
              "      </script>\n",
              "    </div>\n",
              "  </div>\n",
              "  "
            ]
          },
          "metadata": {},
          "execution_count": 70
        }
      ]
    },
    {
      "cell_type": "code",
      "source": [
        "Y_test = frame_high_test['DL_bitrate']\n",
        "Y_test.reset_index(drop=True,inplace=True)\n",
        "X_pred_scaled = model_high.predict(X_test_scaled)\n",
        "df_test_scaled[15]=X_pred_scaled\n",
        "#Inverse Transforming the Predicted Values\n",
        "df_test = pd.DataFrame(min_max_scaler.inverse_transform(df_test_scaled))\n",
        "Y_pred = df_test.iloc[:,-1:]"
      ],
      "metadata": {
        "id": "HkWeDRTE9ftG"
      },
      "execution_count": null,
      "outputs": []
    },
    {
      "cell_type": "code",
      "source": [
        "fig, axes = plt.subplots(1, 1, sharex=True, sharey=True,figsize=(15,5))\n",
        "ax3 = axes\n",
        "ax3.plot(Y_test, label='Y_test')\n",
        "ax3.plot(Y_pred, label='Y_pred')\n",
        "ax3.legend(loc='best')\n",
        "ax3.set_title('Line graph of True Vs Predicted Values')\n",
        "ax3.set_xlabel('Data Points')\n",
        "ax3.set_ylabel('Values')\n",
        "plt.show()"
      ],
      "metadata": {
        "colab": {
          "base_uri": "https://localhost:8080/",
          "height": 350
        },
        "outputId": "872eaabe-c772-4826-9cb6-43117fb5a34a",
        "id": "ApKJrTlR9ftG"
      },
      "execution_count": null,
      "outputs": [
        {
          "output_type": "display_data",
          "data": {
            "text/plain": [
              "<Figure size 1080x360 with 1 Axes>"
            ],
            "image/png": "[encoded data removed]"
          },
          "metadata": {
            "needs_background": "light"
          }
        }
      ]
    },
    {
      "cell_type": "code",
      "source": [
        "from keras.models import load_model\n",
        "\n",
        "model_high.save('model_high.h5')  # creates a HDF5 file 'my_model.h5'\n",
        "#model = load_model('my_model.h5')"
      ],
      "metadata": {
        "id": "ZgyFuQwLrFin"
      },
      "execution_count": null,
      "outputs": []
    },
    {
      "cell_type": "code",
      "source": [
        "fig, axes = plt.subplots(1, 1, sharex=True, sharey=True,figsize=(15,5))\n",
        "ax3 = axes\n",
        "ax3.scatter(Y_test, Y_pred[15], c='crimson')\n",
        "p1 = max(max(Y_pred[15]), max(Y_test))\n",
        "p2 = min(min(Y_pred[15]), min(Y_test))\n",
        "ax3.plot([p1, p2], [p1, p2], 'b-')\n",
        "ax3.set(xlim=(0, None),ylim=(0, None), title='Scatter Plot of True Vs Predicted Values', xlabel='True Value', ylabel='Predicted Value')\n",
        "plt.show()"
      ],
      "metadata": {
        "colab": {
          "base_uri": "https://localhost:8080/",
          "height": 350
        },
        "outputId": "63897c41-9f52-4169-f895-d1c22fdf40a9",
        "id": "adDymOIN9ftG"
      },
      "execution_count": null,
      "outputs": [
        {
          "output_type": "display_data",
          "data": {
            "text/plain": [
              "<Figure size 1080x360 with 1 Axes>"
            ],
            "image/png": "[encoded data removed]"
          },
          "metadata": {
            "needs_background": "light"
          }
        }
      ]
    },
    {
      "cell_type": "code",
      "source": [
        "category = model.predict(X_test)"
      ],
      "metadata": {
        "id": "nHhj0cmd9ftG"
      },
      "execution_count": null,
      "outputs": []
    },
    {
      "cell_type": "code",
      "source": [
        "'''from keras.models import load_model\n",
        "model_low = load_model('/content/model_low.h5')\n",
        "model_medium = load_model('/content/model_medium.h5')\n",
        "model_high = load_model('/content/model_high.h5')'''"
      ],
      "metadata": {
        "colab": {
          "base_uri": "https://localhost:8080/",
          "height": 52
        },
        "id": "kcTtzI_qtWeV",
        "outputId": "751b678e-0712-409d-bbed-099ca9e34b3f"
      },
      "execution_count": null,
      "outputs": [
        {
          "output_type": "execute_result",
          "data": {
            "text/plain": [
              "\"from keras.models import load_model\\nmodel_low = load_model('/content/model_low.h5')\\nmodel_medium = load_model('/content/model_medium.h5')\\nmodel_high = load_model('/content/model_high.h5')\""
            ],
            "application/vnd.google.colaboratory.intrinsic+json": {
              "type": "string"
            }
          },
          "metadata": {},
          "execution_count": 76
        }
      ]
    },
    {
      "cell_type": "code",
      "source": [
        "X_test[15]=category"
      ],
      "metadata": {
        "id": "s7rCJDtyDD0W"
      },
      "execution_count": null,
      "outputs": []
    },
    {
      "cell_type": "code",
      "source": [
        "X_test_low = X_test[(X_test[15] == 0)]\n",
        "X_test_medium = X_test[(X_test[15] == 1)]\n",
        "X_test_high = X_test[(X_test[15] == 2)]"
      ],
      "metadata": {
        "id": "_A5Lr31cAbQ2"
      },
      "execution_count": null,
      "outputs": []
    },
    {
      "cell_type": "code",
      "source": [
        "X_test_low.drop([15],axis=1,inplace=True)\n",
        "X_test_medium.drop([15],axis=1,inplace=True)\n",
        "X_test_high.drop([15],axis=1,inplace=True)"
      ],
      "metadata": {
        "colab": {
          "base_uri": "https://localhost:8080/"
        },
        "id": "IJtd4bhXBLFK",
        "outputId": "0cfaac66-9ee4-4099-f4a8-ec0f15e7c78b"
      },
      "execution_count": null,
      "outputs": [
        {
          "output_type": "stream",
          "name": "stderr",
          "text": [
            "/usr/local/lib/python3.7/dist-packages/pandas/core/frame.py:4913: SettingWithCopyWarning: \n",
            "A value is trying to be set on a copy of a slice from a DataFrame\n",
            "\n",
            "See the caveats in the documentation: https://pandas.pydata.org/pandas-docs/stable/user_guide/indexing.html#returning-a-view-versus-a-copy\n",
            "  errors=errors,\n"
          ]
        }
      ]
    },
    {
      "cell_type": "code",
      "source": [
        "X_test.drop([15],axis=1,inplace=True)"
      ],
      "metadata": {
        "id": "MOpg5gS0DrZI"
      },
      "execution_count": null,
      "outputs": []
    },
    {
      "cell_type": "code",
      "source": [
        "l=[]\n",
        "for idx, row in X_test.iterrows():\n",
        "    if(category[idx]==0):\n",
        "      l.append(model_low.predict(row.to_numpy().reshape(1,-1)).reshape(-1).tolist())\n",
        "    if(category[idx]==1):\n",
        "      l.append(model_medium.predict(row.to_numpy().reshape(1,-1)).reshape(-1).tolist())\n",
        "    if(category[idx]==2):\n",
        "      l.append(model_high.predict(row.to_numpy().reshape(1,-1)).reshape(-1).tolist())  "
      ],
      "metadata": {
        "id": "VKkqVJsuDgp_"
      },
      "execution_count": null,
      "outputs": []
    },
    {
      "cell_type": "markdown",
      "source": [],
      "metadata": {
        "id": "pjAVv23jvuU6"
      }
    },
    {
      "cell_type": "code",
      "source": [
        "from functools import reduce\n",
        "import operator\n",
        "out = reduce(operator.concat, l)"
      ],
      "metadata": {
        "id": "P-U5tSIQHtQo"
      },
      "execution_count": null,
      "outputs": []
    },
    {
      "cell_type": "code",
      "source": [
        "X_test[15]=out"
      ],
      "metadata": {
        "id": "_meXT9hbC2Og"
      },
      "execution_count": null,
      "outputs": []
    },
    {
      "cell_type": "code",
      "source": [
        "df_test = pd.DataFrame(min_max_scaler.inverse_transform(X_test))\n",
        "Y_pred = df_test.iloc[:,-1:]"
      ],
      "metadata": {
        "id": "PQn2WYKiAHi3"
      },
      "execution_count": null,
      "outputs": []
    },
    {
      "cell_type": "code",
      "source": [
        "Y_test = frame_test['DL_bitrate']\n",
        "Y_test.reset_index(drop=True,inplace=True)"
      ],
      "metadata": {
        "id": "IHKsV30qRcsW"
      },
      "execution_count": null,
      "outputs": []
    },
    {
      "cell_type": "code",
      "source": [
        "fig, axes = plt.subplots(1, 1, sharex=True, sharey=True,figsize=(15,5))\n",
        "ax3 = axes\n",
        "ax3.plot(Y_test, label='Y_test')\n",
        "ax3.plot(Y_pred, label='Y_pred')\n",
        "ax3.legend(loc='best')\n",
        "ax3.set_title('Line graph of True Vs Predicted Values')\n",
        "ax3.set_xlabel('Data Points')\n",
        "ax3.set_ylabel('Values')\n",
        "plt.show()"
      ],
      "metadata": {
        "colab": {
          "base_uri": "https://localhost:8080/",
          "height": 350
        },
        "id": "-8SpeFzCRFT0",
        "outputId": "ba24c300-c3f6-466f-86fd-adaaaff6d1f2"
      },
      "execution_count": null,
      "outputs": [
        {
          "output_type": "display_data",
          "data": {
            "text/plain": [
              "<Figure size 1080x360 with 1 Axes>"
            ],
            "image/png": "[encoded data removed]"
          },
          "metadata": {
            "needs_background": "light"
          }
        }
      ]
    },
    {
      "cell_type": "code",
      "source": [
        "fig, axes = plt.subplots(1, 1, sharex=True, sharey=True,figsize=(15,5))\n",
        "ax3 = axes\n",
        "ax3.scatter(Y_test, Y_pred[15], c='crimson')\n",
        "p1 = max(max(Y_pred[15]), max(Y_test))\n",
        "p2 = min(min(Y_pred[15]), min(Y_test))\n",
        "ax3.plot([p1, p2], [p1, p2], 'b-')\n",
        "ax3.set(xlim=(0, None),ylim=(0, None), title='Scatter Plot of True Vs Predicted Values', xlabel='True Value', ylabel='Predicted Value')\n",
        "plt.show()"
      ],
      "metadata": {
        "colab": {
          "base_uri": "https://localhost:8080/",
          "height": 350
        },
        "id": "_FAKjzXnR79B",
        "outputId": "6a43111e-43f4-489e-9805-34ea05fe1234"
      },
      "execution_count": null,
      "outputs": [
        {
          "output_type": "display_data",
          "data": {
            "text/plain": [
              "<Figure size 1080x360 with 1 Axes>"
            ],
            "image/png": "[encoded data removed]"
          },
          "metadata": {
            "needs_background": "light"
          }
        }
      ]
    },
    {
      "cell_type": "code",
      "source": [
        "Y_pred_series = Y_pred[15]"
      ],
      "metadata": {
        "id": "TR8FnDwc7b9X"
      },
      "execution_count": null,
      "outputs": []
    },
    {
      "cell_type": "code",
      "source": [
        "a=Y_test.subtract(Y_pred_series)\n",
        "stats = {}\n",
        "# Compute the boxplot stats (as in the default matplotlib implementation)\n",
        "stats['A'] = cbook.boxplot_stats(a, labels='A')[0]\n",
        "stats['B'] = cbook.boxplot_stats(a, labels='B')[0]\n",
        "stats['C'] = cbook.boxplot_stats(a, labels='C')[0]\n",
        "\n",
        "# For box A compute the 1st and 99th percentiles\n",
        "stats['A']['q1'], stats['A']['q3'] = np.percentile(a, [5, 95])\n",
        "# For box B compute the 10th and 90th percentiles\n",
        "stats['B']['q1'], stats['B']['q3'] = np.percentile(a, [10, 90])\n",
        "# For box C compute the 25th and 75th percentiles (matplotlib default)\n",
        "stats['C']['q1'], stats['C']['q3'] = np.percentile(a, [25, 75])\n",
        "\n",
        "#fig = plt.figure(figsize =(10, 7))\n",
        "fig, ax = plt.subplots(1, 1, figsize = (10,7))\n",
        "# Plot boxplots from our computed statistics\n",
        "bp = ax.bxp([stats['A'], stats['B'], stats['C']], positions=range(3))\n",
        "\n",
        "# Colour the lines in the boxplot blue\n",
        "for element in bp.keys():\n",
        "    plt.setp(bp[element], color='C0')"
      ],
      "metadata": {
        "colab": {
          "base_uri": "https://localhost:8080/",
          "height": 428
        },
        "id": "TrqCLY6MNqye",
        "outputId": "e4c7f7ca-0677-4756-e188-d16aca6599eb"
      },
      "execution_count": null,
      "outputs": [
        {
          "output_type": "display_data",
          "data": {
            "text/plain": [
              "<Figure size 720x504 with 1 Axes>"
            ],
            "image/png": "[encoded data removed]"
          },
          "metadata": {
            "needs_background": "light"
          }
        }
      ]
    },
    {
      "cell_type": "code",
      "source": [
        "Y_pred_series"
      ],
      "metadata": {
        "id": "pd-aOHHs7meQ"
      },
      "execution_count": null,
      "outputs": []
    },
    {
      "cell_type": "code",
      "source": [
        "Y_test"
      ],
      "metadata": {
        "id": "GI1lE7Vi7ec_"
      },
      "execution_count": null,
      "outputs": []
    },
    {
      "cell_type": "code",
      "source": [
        "# calculate MAE\n",
        "error = mae(Y_test, Y_pred_series)\n",
        "\n",
        "# display\n",
        "print(\"Mean absolute error : \" + str(error))\n",
        "print(f\"Decimal Representation: {error:.20f}\")"
      ],
      "metadata": {
        "id": "A8MhXbaVR76t"
      },
      "execution_count": null,
      "outputs": []
    },
    {
      "cell_type": "code",
      "source": [
        "# Relative Absolute Error\n",
        "# (|y1-y2|)/(|y1_mean-y1|)\n",
        "def relative_absolute_error(y_true, y_pred):\n",
        "  y1=y_true.to_numpy()\n",
        "  y2=y_pred.to_numpy()\n",
        "  num = np.sum(np.absolute(np.array(y1) - np.array(y2)))\n",
        "  deno = np.sum(np.absolute(y2-np.mean(y1)))\n",
        "  return (num/deno)\n",
        "relative_absolute_error(Y_test, Y_pred_series)"
      ],
      "metadata": {
        "id": "6RCWaLnJSJEm"
      },
      "execution_count": null,
      "outputs": []
    },
    {
      "cell_type": "code",
      "source": [
        "# Root Relative Squared Error\n",
        "# (|y1-y2|^2)/(|y1_mean-y1|^2)\n",
        "def rrse(y_true, y_pred):\n",
        "  y1=y_true.to_numpy()\n",
        "  y2=y_pred.to_numpy()\n",
        "  num = np.sum(np.square(np.absolute(np.array(y1) - np.array(y2))))\n",
        "  deno = np.sum(np.square(np.absolute(y2-np.mean(y1))))\n",
        "  return (num/deno)\n",
        "rrse(Y_test, Y_pred_series)"
      ],
      "metadata": {
        "id": "3MI4lIR17zgn"
      },
      "execution_count": null,
      "outputs": []
    },
    {
      "cell_type": "code",
      "source": [],
      "metadata": {
        "id": "KJldBXmmSPuu"
      },
      "execution_count": null,
      "outputs": []
    }
  ]
}